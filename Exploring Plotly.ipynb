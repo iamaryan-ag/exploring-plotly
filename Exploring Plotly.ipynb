{
 "cells": [
  {
   "cell_type": "markdown",
   "metadata": {},
   "source": [
    "## Plotly\n",
    "\n",
    "Plotly is a library that allows you to create interactive plots that you can use in dashboards or websites (you can save them as html files or static images).\n",
    "\n",
    "## Imports and Set-up"
   ]
  },
  {
   "cell_type": "code",
   "execution_count": 2,
   "metadata": {},
   "outputs": [],
   "source": [
    "import pandas as pd\n",
    "import numpy as np\n",
    "import matplotlib.pyplot as plt\n",
    "%matplotlib inline"
   ]
  },
  {
   "cell_type": "code",
   "execution_count": 3,
   "metadata": {},
   "outputs": [
    {
     "name": "stdout",
     "output_type": "stream",
     "text": [
      "5.9.0\n"
     ]
    }
   ],
   "source": [
    "from plotly import __version__\n",
    "from plotly.offline import download_plotlyjs, init_notebook_mode, plot, iplot\n",
    "\n",
    "print(__version__) # requires version >= 1.9.0"
   ]
  },
  {
   "cell_type": "code",
   "execution_count": 4,
   "metadata": {},
   "outputs": [],
   "source": [
    "import cufflinks as cf"
   ]
  },
  {
   "cell_type": "code",
   "execution_count": 5,
   "metadata": {},
   "outputs": [
    {
     "data": {
      "text/html": [
       "        <script type=\"text/javascript\">\n",
       "        window.PlotlyConfig = {MathJaxConfig: 'local'};\n",
       "        if (window.MathJax && window.MathJax.Hub && window.MathJax.Hub.Config) {window.MathJax.Hub.Config({SVG: {font: \"STIX-Web\"}});}\n",
       "        if (typeof require !== 'undefined') {\n",
       "        require.undef(\"plotly\");\n",
       "        requirejs.config({\n",
       "            paths: {\n",
       "                'plotly': ['https://cdn.plot.ly/plotly-2.12.1.min']\n",
       "            }\n",
       "        });\n",
       "        require(['plotly'], function(Plotly) {\n",
       "            window._Plotly = Plotly;\n",
       "        });\n",
       "        }\n",
       "        </script>\n",
       "        "
      ]
     },
     "metadata": {},
     "output_type": "display_data"
    }
   ],
   "source": [
    "# For Notebooks\n",
    "init_notebook_mode(connected=True)"
   ]
  },
  {
   "cell_type": "code",
   "execution_count": 6,
   "metadata": {},
   "outputs": [
    {
     "data": {
      "text/html": [
       "        <script type=\"text/javascript\">\n",
       "        window.PlotlyConfig = {MathJaxConfig: 'local'};\n",
       "        if (window.MathJax && window.MathJax.Hub && window.MathJax.Hub.Config) {window.MathJax.Hub.Config({SVG: {font: \"STIX-Web\"}});}\n",
       "        if (typeof require !== 'undefined') {\n",
       "        require.undef(\"plotly\");\n",
       "        requirejs.config({\n",
       "            paths: {\n",
       "                'plotly': ['https://cdn.plot.ly/plotly-2.12.1.min']\n",
       "            }\n",
       "        });\n",
       "        require(['plotly'], function(Plotly) {\n",
       "            window._Plotly = Plotly;\n",
       "        });\n",
       "        }\n",
       "        </script>\n",
       "        "
      ]
     },
     "metadata": {},
     "output_type": "display_data"
    }
   ],
   "source": [
    "# For offline use\n",
    "cf.go_offline()"
   ]
  },
  {
   "cell_type": "markdown",
   "metadata": {},
   "source": [
    "### Fake Data"
   ]
  },
  {
   "cell_type": "code",
   "execution_count": 7,
   "metadata": {},
   "outputs": [],
   "source": [
    "df = pd.DataFrame(np.random.randn(100,4),columns='A B C D'.split())"
   ]
  },
  {
   "cell_type": "code",
   "execution_count": 8,
   "metadata": {},
   "outputs": [
    {
     "data": {
      "text/html": [
       "<div>\n",
       "<style scoped>\n",
       "    .dataframe tbody tr th:only-of-type {\n",
       "        vertical-align: middle;\n",
       "    }\n",
       "\n",
       "    .dataframe tbody tr th {\n",
       "        vertical-align: top;\n",
       "    }\n",
       "\n",
       "    .dataframe thead th {\n",
       "        text-align: right;\n",
       "    }\n",
       "</style>\n",
       "<table border=\"1\" class=\"dataframe\">\n",
       "  <thead>\n",
       "    <tr style=\"text-align: right;\">\n",
       "      <th></th>\n",
       "      <th>A</th>\n",
       "      <th>B</th>\n",
       "      <th>C</th>\n",
       "      <th>D</th>\n",
       "    </tr>\n",
       "  </thead>\n",
       "  <tbody>\n",
       "    <tr>\n",
       "      <th>0</th>\n",
       "      <td>1.824313</td>\n",
       "      <td>0.583132</td>\n",
       "      <td>-1.693048</td>\n",
       "      <td>0.053640</td>\n",
       "    </tr>\n",
       "    <tr>\n",
       "      <th>1</th>\n",
       "      <td>0.196085</td>\n",
       "      <td>-0.133613</td>\n",
       "      <td>-1.382066</td>\n",
       "      <td>-1.641501</td>\n",
       "    </tr>\n",
       "    <tr>\n",
       "      <th>2</th>\n",
       "      <td>-0.605319</td>\n",
       "      <td>-0.041237</td>\n",
       "      <td>-0.261864</td>\n",
       "      <td>0.156045</td>\n",
       "    </tr>\n",
       "    <tr>\n",
       "      <th>3</th>\n",
       "      <td>0.891197</td>\n",
       "      <td>0.001468</td>\n",
       "      <td>-1.094303</td>\n",
       "      <td>1.064237</td>\n",
       "    </tr>\n",
       "    <tr>\n",
       "      <th>4</th>\n",
       "      <td>1.007086</td>\n",
       "      <td>1.438467</td>\n",
       "      <td>-0.153332</td>\n",
       "      <td>-0.502750</td>\n",
       "    </tr>\n",
       "  </tbody>\n",
       "</table>\n",
       "</div>"
      ],
      "text/plain": [
       "          A         B         C         D\n",
       "0  1.824313  0.583132 -1.693048  0.053640\n",
       "1  0.196085 -0.133613 -1.382066 -1.641501\n",
       "2 -0.605319 -0.041237 -0.261864  0.156045\n",
       "3  0.891197  0.001468 -1.094303  1.064237\n",
       "4  1.007086  1.438467 -0.153332 -0.502750"
      ]
     },
     "execution_count": 8,
     "metadata": {},
     "output_type": "execute_result"
    }
   ],
   "source": [
    "df.head()"
   ]
  },
  {
   "cell_type": "code",
   "execution_count": 9,
   "metadata": {},
   "outputs": [],
   "source": [
    "df2 = pd.DataFrame({'Category':['A','B','C'],'Values':[32,43,50]})"
   ]
  },
  {
   "cell_type": "code",
   "execution_count": 10,
   "metadata": {},
   "outputs": [
    {
     "data": {
      "text/html": [
       "<div>\n",
       "<style scoped>\n",
       "    .dataframe tbody tr th:only-of-type {\n",
       "        vertical-align: middle;\n",
       "    }\n",
       "\n",
       "    .dataframe tbody tr th {\n",
       "        vertical-align: top;\n",
       "    }\n",
       "\n",
       "    .dataframe thead th {\n",
       "        text-align: right;\n",
       "    }\n",
       "</style>\n",
       "<table border=\"1\" class=\"dataframe\">\n",
       "  <thead>\n",
       "    <tr style=\"text-align: right;\">\n",
       "      <th></th>\n",
       "      <th>Category</th>\n",
       "      <th>Values</th>\n",
       "    </tr>\n",
       "  </thead>\n",
       "  <tbody>\n",
       "    <tr>\n",
       "      <th>0</th>\n",
       "      <td>A</td>\n",
       "      <td>32</td>\n",
       "    </tr>\n",
       "    <tr>\n",
       "      <th>1</th>\n",
       "      <td>B</td>\n",
       "      <td>43</td>\n",
       "    </tr>\n",
       "    <tr>\n",
       "      <th>2</th>\n",
       "      <td>C</td>\n",
       "      <td>50</td>\n",
       "    </tr>\n",
       "  </tbody>\n",
       "</table>\n",
       "</div>"
      ],
      "text/plain": [
       "  Category  Values\n",
       "0        A      32\n",
       "1        B      43\n",
       "2        C      50"
      ]
     },
     "execution_count": 10,
     "metadata": {},
     "output_type": "execute_result"
    }
   ],
   "source": [
    "df2.head()"
   ]
  },
  {
   "cell_type": "markdown",
   "metadata": {},
   "source": [
    "## Using Cufflinks and iplot()\n",
    "\n",
    "* scatter\n",
    "* bar\n",
    "* box\n",
    "* spread\n",
    "* ratio\n",
    "* heatmap\n",
    "* surface\n",
    "* histogram\n",
    "* bubble"
   ]
  },
  {
   "cell_type": "markdown",
   "metadata": {},
   "source": [
    "## Scatter"
   ]
  },
  {
   "cell_type": "code",
   "execution_count": 11,
   "metadata": {},
   "outputs": [
    {
     "data": {
      "application/vnd.plotly.v1+json": {
       "config": {
        "linkText": "Export to plot.ly",
        "plotlyServerURL": "https://plot.ly",
        "showLink": true
       },
       "data": [
        {
         "line": {
          "color": "rgba(255, 153, 51, 1.0)",
          "dash": "solid",
          "shape": "linear",
          "width": 1.3
         },
         "marker": {
          "size": 10,
          "symbol": "circle"
         },
         "mode": "markers",
         "name": "B",
         "text": "",
         "type": "scatter",
         "x": [
          1.8243129259995166,
          0.19608475400175768,
          -0.6053188770897872,
          0.8911968956639813,
          1.0070855293069285,
          -0.8014471338364257,
          -0.9924125538103235,
          0.6589442869722124,
          -0.014050001002884725,
          0.07518373531629381,
          -0.36474810809089014,
          1.3213713674994056,
          -1.3390868001532397,
          2.0157661712051587,
          0.702026132198567,
          -0.980743213672751,
          -1.290183167745645,
          -0.034866885767344466,
          1.3244596009270821,
          0.46914853441326737,
          1.811113937836261,
          -0.31191244635793713,
          -0.44645210590499096,
          -0.47723670876074775,
          -0.7041383254890567,
          -1.0201756035449587,
          1.3557072710334452,
          -0.6307039403442191,
          -1.0790513559403063,
          1.5061983883651782,
          -1.1546177021329875,
          1.2553753887543317,
          0.15018352623167674,
          -0.5988057076920157,
          0.5380983515180622,
          0.9759791860363404,
          -0.7833975692914159,
          -0.9189649613532611,
          -0.0974760456801578,
          0.3429586783883424,
          -0.6191550076924058,
          -2.1039659473643173,
          0.8350223435673302,
          0.6318776376503721,
          0.06918376203837928,
          -0.9540441738215512,
          1.0623602869959006,
          -0.04214282767279125,
          1.0236001005414836,
          2.768834106807123,
          -0.34962680392505013,
          -1.9587267869592255,
          0.21487117500607636,
          -0.7195032292037042,
          0.20890306000942607,
          -0.6473154003389758,
          0.7544595643203549,
          0.4697360100064573,
          0.11029082781862608,
          -0.09295678672354084,
          -0.7844564187290143,
          1.22551840597947,
          0.1733457984754417,
          -1.5674530556863537,
          -0.12719427915234527,
          1.2969218378364398,
          -0.47955826843769805,
          -1.0917495191808468,
          0.22136705963048148,
          -0.9351966540884519,
          1.019493096539831,
          2.516073211595525,
          1.5376854720253375,
          -1.3831508907611931,
          -1.9191831893194957,
          0.44359556475430645,
          -0.8246593181297605,
          -0.2100864028503051,
          0.9547760587601132,
          -0.2653278159042679,
          0.8362410698154421,
          -1.206447309739462,
          1.3929084051796088,
          1.6164208225232148,
          0.33581060384052197,
          -1.2146714988178433,
          0.45484819640518204,
          1.1003564183064294,
          -0.0545126540500522,
          -1.6473224078317383,
          1.0928108115908042,
          -0.16389643281667396,
          -0.6544788103037372,
          -1.3716173109397398,
          0.3395650647243976,
          -1.147263981725478,
          1.2174640192307618,
          -0.21249306896884895,
          -1.096053716026816,
          2.3900037580866145
         ],
         "y": [
          0.583131544660661,
          -0.13361300439365476,
          -0.04123704831597834,
          0.0014680131745039354,
          1.438466824959959,
          0.5541476788726151,
          -1.1310893635390038,
          -0.5623452390437628,
          -0.670234518530269,
          0.545812634382133,
          -0.3624818654591015,
          0.1701678549417786,
          0.3581879479821975,
          -2.887380914691166,
          -0.13478783996064245,
          -0.8588668905175264,
          -0.8938984223234923,
          0.19181727804293225,
          -0.028983423455619165,
          -0.019052996185692665,
          -1.1602446579879755,
          0.08121421004235378,
          1.3352220481800035,
          0.35807277726483344,
          -0.9409924776717753,
          -1.8503080091673934,
          -0.6870106893491648,
          0.8314233325875332,
          0.02274811954883968,
          0.9194055377055831,
          -0.7740446909882256,
          -0.22978997934892423,
          0.17286979761015278,
          -1.8144485916502244,
          0.10019030223493725,
          0.6543032593357595,
          0.002882968517779104,
          -0.614448403963407,
          1.4894537976884068,
          -0.5184176501024136,
          0.8510492801098789,
          1.6907679823457193,
          -0.7252403229757054,
          -1.8548965808613855,
          -0.9279085762381253,
          -0.19262867996165262,
          0.26506477791439476,
          2.149363109679803,
          1.551901938062469,
          0.9498725527680408,
          -0.5798412074414184,
          -1.8392247543767455,
          -0.3001332641170957,
          -0.8038995410085215,
          -0.8356561490437464,
          0.7841323972572954,
          -0.30929122537950327,
          1.0137109697249589,
          1.3640708249499136,
          0.14797119237972522,
          -1.5140703332552574,
          -0.37335951646331544,
          0.06906016347182198,
          0.0071806358751329985,
          -0.3287712644324699,
          0.9244322653350652,
          -2.065891711445297,
          0.5545434773856838,
          -0.1155953279380719,
          1.2903641107677892,
          0.8844881302921291,
          -0.7085242639802346,
          -1.1299614703443237,
          -1.7164506836065332,
          0.31064937293329015,
          1.365766364043925,
          -0.7735412746528428,
          0.10817543607704204,
          0.4800268444616799,
          1.4983655949771244,
          0.5891832919635394,
          0.15306708133909158,
          1.1592892480331136,
          -0.14279951141742664,
          0.018543837761865134,
          -1.4673943968795782,
          -0.6694224768413874,
          -0.41465428943287297,
          -0.17348747003891735,
          1.1353060114559579,
          -0.33408295386952674,
          1.7553588384503196,
          -0.2110048275984787,
          0.42849832241419883,
          -1.429062493144599,
          0.9951538223316054,
          0.8098824701408762,
          0.3884108342548283,
          -0.1558889174937159,
          -0.11031426067805795
         ]
        }
       ],
       "layout": {
        "legend": {
         "bgcolor": "#F5F6F9",
         "font": {
          "color": "#4D5663"
         }
        },
        "paper_bgcolor": "#F5F6F9",
        "plot_bgcolor": "#F5F6F9",
        "template": {
         "data": {
          "bar": [
           {
            "error_x": {
             "color": "#2a3f5f"
            },
            "error_y": {
             "color": "#2a3f5f"
            },
            "marker": {
             "line": {
              "color": "#E5ECF6",
              "width": 0.5
             },
             "pattern": {
              "fillmode": "overlay",
              "size": 10,
              "solidity": 0.2
             }
            },
            "type": "bar"
           }
          ],
          "barpolar": [
           {
            "marker": {
             "line": {
              "color": "#E5ECF6",
              "width": 0.5
             },
             "pattern": {
              "fillmode": "overlay",
              "size": 10,
              "solidity": 0.2
             }
            },
            "type": "barpolar"
           }
          ],
          "carpet": [
           {
            "aaxis": {
             "endlinecolor": "#2a3f5f",
             "gridcolor": "white",
             "linecolor": "white",
             "minorgridcolor": "white",
             "startlinecolor": "#2a3f5f"
            },
            "baxis": {
             "endlinecolor": "#2a3f5f",
             "gridcolor": "white",
             "linecolor": "white",
             "minorgridcolor": "white",
             "startlinecolor": "#2a3f5f"
            },
            "type": "carpet"
           }
          ],
          "choropleth": [
           {
            "colorbar": {
             "outlinewidth": 0,
             "ticks": ""
            },
            "type": "choropleth"
           }
          ],
          "contour": [
           {
            "colorbar": {
             "outlinewidth": 0,
             "ticks": ""
            },
            "colorscale": [
             [
              0,
              "#0d0887"
             ],
             [
              0.1111111111111111,
              "#46039f"
             ],
             [
              0.2222222222222222,
              "#7201a8"
             ],
             [
              0.3333333333333333,
              "#9c179e"
             ],
             [
              0.4444444444444444,
              "#bd3786"
             ],
             [
              0.5555555555555556,
              "#d8576b"
             ],
             [
              0.6666666666666666,
              "#ed7953"
             ],
             [
              0.7777777777777778,
              "#fb9f3a"
             ],
             [
              0.8888888888888888,
              "#fdca26"
             ],
             [
              1,
              "#f0f921"
             ]
            ],
            "type": "contour"
           }
          ],
          "contourcarpet": [
           {
            "colorbar": {
             "outlinewidth": 0,
             "ticks": ""
            },
            "type": "contourcarpet"
           }
          ],
          "heatmap": [
           {
            "colorbar": {
             "outlinewidth": 0,
             "ticks": ""
            },
            "colorscale": [
             [
              0,
              "#0d0887"
             ],
             [
              0.1111111111111111,
              "#46039f"
             ],
             [
              0.2222222222222222,
              "#7201a8"
             ],
             [
              0.3333333333333333,
              "#9c179e"
             ],
             [
              0.4444444444444444,
              "#bd3786"
             ],
             [
              0.5555555555555556,
              "#d8576b"
             ],
             [
              0.6666666666666666,
              "#ed7953"
             ],
             [
              0.7777777777777778,
              "#fb9f3a"
             ],
             [
              0.8888888888888888,
              "#fdca26"
             ],
             [
              1,
              "#f0f921"
             ]
            ],
            "type": "heatmap"
           }
          ],
          "heatmapgl": [
           {
            "colorbar": {
             "outlinewidth": 0,
             "ticks": ""
            },
            "colorscale": [
             [
              0,
              "#0d0887"
             ],
             [
              0.1111111111111111,
              "#46039f"
             ],
             [
              0.2222222222222222,
              "#7201a8"
             ],
             [
              0.3333333333333333,
              "#9c179e"
             ],
             [
              0.4444444444444444,
              "#bd3786"
             ],
             [
              0.5555555555555556,
              "#d8576b"
             ],
             [
              0.6666666666666666,
              "#ed7953"
             ],
             [
              0.7777777777777778,
              "#fb9f3a"
             ],
             [
              0.8888888888888888,
              "#fdca26"
             ],
             [
              1,
              "#f0f921"
             ]
            ],
            "type": "heatmapgl"
           }
          ],
          "histogram": [
           {
            "marker": {
             "pattern": {
              "fillmode": "overlay",
              "size": 10,
              "solidity": 0.2
             }
            },
            "type": "histogram"
           }
          ],
          "histogram2d": [
           {
            "colorbar": {
             "outlinewidth": 0,
             "ticks": ""
            },
            "colorscale": [
             [
              0,
              "#0d0887"
             ],
             [
              0.1111111111111111,
              "#46039f"
             ],
             [
              0.2222222222222222,
              "#7201a8"
             ],
             [
              0.3333333333333333,
              "#9c179e"
             ],
             [
              0.4444444444444444,
              "#bd3786"
             ],
             [
              0.5555555555555556,
              "#d8576b"
             ],
             [
              0.6666666666666666,
              "#ed7953"
             ],
             [
              0.7777777777777778,
              "#fb9f3a"
             ],
             [
              0.8888888888888888,
              "#fdca26"
             ],
             [
              1,
              "#f0f921"
             ]
            ],
            "type": "histogram2d"
           }
          ],
          "histogram2dcontour": [
           {
            "colorbar": {
             "outlinewidth": 0,
             "ticks": ""
            },
            "colorscale": [
             [
              0,
              "#0d0887"
             ],
             [
              0.1111111111111111,
              "#46039f"
             ],
             [
              0.2222222222222222,
              "#7201a8"
             ],
             [
              0.3333333333333333,
              "#9c179e"
             ],
             [
              0.4444444444444444,
              "#bd3786"
             ],
             [
              0.5555555555555556,
              "#d8576b"
             ],
             [
              0.6666666666666666,
              "#ed7953"
             ],
             [
              0.7777777777777778,
              "#fb9f3a"
             ],
             [
              0.8888888888888888,
              "#fdca26"
             ],
             [
              1,
              "#f0f921"
             ]
            ],
            "type": "histogram2dcontour"
           }
          ],
          "mesh3d": [
           {
            "colorbar": {
             "outlinewidth": 0,
             "ticks": ""
            },
            "type": "mesh3d"
           }
          ],
          "parcoords": [
           {
            "line": {
             "colorbar": {
              "outlinewidth": 0,
              "ticks": ""
             }
            },
            "type": "parcoords"
           }
          ],
          "pie": [
           {
            "automargin": true,
            "type": "pie"
           }
          ],
          "scatter": [
           {
            "fillpattern": {
             "fillmode": "overlay",
             "size": 10,
             "solidity": 0.2
            },
            "type": "scatter"
           }
          ],
          "scatter3d": [
           {
            "line": {
             "colorbar": {
              "outlinewidth": 0,
              "ticks": ""
             }
            },
            "marker": {
             "colorbar": {
              "outlinewidth": 0,
              "ticks": ""
             }
            },
            "type": "scatter3d"
           }
          ],
          "scattercarpet": [
           {
            "marker": {
             "colorbar": {
              "outlinewidth": 0,
              "ticks": ""
             }
            },
            "type": "scattercarpet"
           }
          ],
          "scattergeo": [
           {
            "marker": {
             "colorbar": {
              "outlinewidth": 0,
              "ticks": ""
             }
            },
            "type": "scattergeo"
           }
          ],
          "scattergl": [
           {
            "marker": {
             "colorbar": {
              "outlinewidth": 0,
              "ticks": ""
             }
            },
            "type": "scattergl"
           }
          ],
          "scattermapbox": [
           {
            "marker": {
             "colorbar": {
              "outlinewidth": 0,
              "ticks": ""
             }
            },
            "type": "scattermapbox"
           }
          ],
          "scatterpolar": [
           {
            "marker": {
             "colorbar": {
              "outlinewidth": 0,
              "ticks": ""
             }
            },
            "type": "scatterpolar"
           }
          ],
          "scatterpolargl": [
           {
            "marker": {
             "colorbar": {
              "outlinewidth": 0,
              "ticks": ""
             }
            },
            "type": "scatterpolargl"
           }
          ],
          "scatterternary": [
           {
            "marker": {
             "colorbar": {
              "outlinewidth": 0,
              "ticks": ""
             }
            },
            "type": "scatterternary"
           }
          ],
          "surface": [
           {
            "colorbar": {
             "outlinewidth": 0,
             "ticks": ""
            },
            "colorscale": [
             [
              0,
              "#0d0887"
             ],
             [
              0.1111111111111111,
              "#46039f"
             ],
             [
              0.2222222222222222,
              "#7201a8"
             ],
             [
              0.3333333333333333,
              "#9c179e"
             ],
             [
              0.4444444444444444,
              "#bd3786"
             ],
             [
              0.5555555555555556,
              "#d8576b"
             ],
             [
              0.6666666666666666,
              "#ed7953"
             ],
             [
              0.7777777777777778,
              "#fb9f3a"
             ],
             [
              0.8888888888888888,
              "#fdca26"
             ],
             [
              1,
              "#f0f921"
             ]
            ],
            "type": "surface"
           }
          ],
          "table": [
           {
            "cells": {
             "fill": {
              "color": "#EBF0F8"
             },
             "line": {
              "color": "white"
             }
            },
            "header": {
             "fill": {
              "color": "#C8D4E3"
             },
             "line": {
              "color": "white"
             }
            },
            "type": "table"
           }
          ]
         },
         "layout": {
          "annotationdefaults": {
           "arrowcolor": "#2a3f5f",
           "arrowhead": 0,
           "arrowwidth": 1
          },
          "autotypenumbers": "strict",
          "coloraxis": {
           "colorbar": {
            "outlinewidth": 0,
            "ticks": ""
           }
          },
          "colorscale": {
           "diverging": [
            [
             0,
             "#8e0152"
            ],
            [
             0.1,
             "#c51b7d"
            ],
            [
             0.2,
             "#de77ae"
            ],
            [
             0.3,
             "#f1b6da"
            ],
            [
             0.4,
             "#fde0ef"
            ],
            [
             0.5,
             "#f7f7f7"
            ],
            [
             0.6,
             "#e6f5d0"
            ],
            [
             0.7,
             "#b8e186"
            ],
            [
             0.8,
             "#7fbc41"
            ],
            [
             0.9,
             "#4d9221"
            ],
            [
             1,
             "#276419"
            ]
           ],
           "sequential": [
            [
             0,
             "#0d0887"
            ],
            [
             0.1111111111111111,
             "#46039f"
            ],
            [
             0.2222222222222222,
             "#7201a8"
            ],
            [
             0.3333333333333333,
             "#9c179e"
            ],
            [
             0.4444444444444444,
             "#bd3786"
            ],
            [
             0.5555555555555556,
             "#d8576b"
            ],
            [
             0.6666666666666666,
             "#ed7953"
            ],
            [
             0.7777777777777778,
             "#fb9f3a"
            ],
            [
             0.8888888888888888,
             "#fdca26"
            ],
            [
             1,
             "#f0f921"
            ]
           ],
           "sequentialminus": [
            [
             0,
             "#0d0887"
            ],
            [
             0.1111111111111111,
             "#46039f"
            ],
            [
             0.2222222222222222,
             "#7201a8"
            ],
            [
             0.3333333333333333,
             "#9c179e"
            ],
            [
             0.4444444444444444,
             "#bd3786"
            ],
            [
             0.5555555555555556,
             "#d8576b"
            ],
            [
             0.6666666666666666,
             "#ed7953"
            ],
            [
             0.7777777777777778,
             "#fb9f3a"
            ],
            [
             0.8888888888888888,
             "#fdca26"
            ],
            [
             1,
             "#f0f921"
            ]
           ]
          },
          "colorway": [
           "#636efa",
           "#EF553B",
           "#00cc96",
           "#ab63fa",
           "#FFA15A",
           "#19d3f3",
           "#FF6692",
           "#B6E880",
           "#FF97FF",
           "#FECB52"
          ],
          "font": {
           "color": "#2a3f5f"
          },
          "geo": {
           "bgcolor": "white",
           "lakecolor": "white",
           "landcolor": "#E5ECF6",
           "showlakes": true,
           "showland": true,
           "subunitcolor": "white"
          },
          "hoverlabel": {
           "align": "left"
          },
          "hovermode": "closest",
          "mapbox": {
           "style": "light"
          },
          "paper_bgcolor": "white",
          "plot_bgcolor": "#E5ECF6",
          "polar": {
           "angularaxis": {
            "gridcolor": "white",
            "linecolor": "white",
            "ticks": ""
           },
           "bgcolor": "#E5ECF6",
           "radialaxis": {
            "gridcolor": "white",
            "linecolor": "white",
            "ticks": ""
           }
          },
          "scene": {
           "xaxis": {
            "backgroundcolor": "#E5ECF6",
            "gridcolor": "white",
            "gridwidth": 2,
            "linecolor": "white",
            "showbackground": true,
            "ticks": "",
            "zerolinecolor": "white"
           },
           "yaxis": {
            "backgroundcolor": "#E5ECF6",
            "gridcolor": "white",
            "gridwidth": 2,
            "linecolor": "white",
            "showbackground": true,
            "ticks": "",
            "zerolinecolor": "white"
           },
           "zaxis": {
            "backgroundcolor": "#E5ECF6",
            "gridcolor": "white",
            "gridwidth": 2,
            "linecolor": "white",
            "showbackground": true,
            "ticks": "",
            "zerolinecolor": "white"
           }
          },
          "shapedefaults": {
           "line": {
            "color": "#2a3f5f"
           }
          },
          "ternary": {
           "aaxis": {
            "gridcolor": "white",
            "linecolor": "white",
            "ticks": ""
           },
           "baxis": {
            "gridcolor": "white",
            "linecolor": "white",
            "ticks": ""
           },
           "bgcolor": "#E5ECF6",
           "caxis": {
            "gridcolor": "white",
            "linecolor": "white",
            "ticks": ""
           }
          },
          "title": {
           "x": 0.05
          },
          "xaxis": {
           "automargin": true,
           "gridcolor": "white",
           "linecolor": "white",
           "ticks": "",
           "title": {
            "standoff": 15
           },
           "zerolinecolor": "white",
           "zerolinewidth": 2
          },
          "yaxis": {
           "automargin": true,
           "gridcolor": "white",
           "linecolor": "white",
           "ticks": "",
           "title": {
            "standoff": 15
           },
           "zerolinecolor": "white",
           "zerolinewidth": 2
          }
         }
        },
        "title": {
         "font": {
          "color": "#4D5663"
         }
        },
        "xaxis": {
         "gridcolor": "#E1E5ED",
         "showgrid": true,
         "tickfont": {
          "color": "#4D5663"
         },
         "title": {
          "font": {
           "color": "#4D5663"
          },
          "text": ""
         },
         "zerolinecolor": "#E1E5ED"
        },
        "yaxis": {
         "gridcolor": "#E1E5ED",
         "showgrid": true,
         "tickfont": {
          "color": "#4D5663"
         },
         "title": {
          "font": {
           "color": "#4D5663"
          },
          "text": ""
         },
         "zerolinecolor": "#E1E5ED"
        }
       }
      },
      "text/html": [
       "<div>                            <div id=\"df5bd0aa-e3b0-4b97-9d78-611253b0a9fc\" class=\"plotly-graph-div\" style=\"height:525px; width:100%;\"></div>            <script type=\"text/javascript\">                require([\"plotly\"], function(Plotly) {                    window.PLOTLYENV=window.PLOTLYENV || {};\n",
       "                    window.PLOTLYENV.BASE_URL='https://plot.ly';                                    if (document.getElementById(\"df5bd0aa-e3b0-4b97-9d78-611253b0a9fc\")) {                    Plotly.newPlot(                        \"df5bd0aa-e3b0-4b97-9d78-611253b0a9fc\",                        [{\"line\":{\"color\":\"rgba(255, 153, 51, 1.0)\",\"dash\":\"solid\",\"shape\":\"linear\",\"width\":1.3},\"marker\":{\"size\":10,\"symbol\":\"circle\"},\"mode\":\"markers\",\"name\":\"B\",\"text\":\"\",\"x\":[1.8243129259995166,0.19608475400175768,-0.6053188770897872,0.8911968956639813,1.0070855293069285,-0.8014471338364257,-0.9924125538103235,0.6589442869722124,-0.014050001002884725,0.07518373531629381,-0.36474810809089014,1.3213713674994056,-1.3390868001532397,2.0157661712051587,0.702026132198567,-0.980743213672751,-1.290183167745645,-0.034866885767344466,1.3244596009270821,0.46914853441326737,1.811113937836261,-0.31191244635793713,-0.44645210590499096,-0.47723670876074775,-0.7041383254890567,-1.0201756035449587,1.3557072710334452,-0.6307039403442191,-1.0790513559403063,1.5061983883651782,-1.1546177021329875,1.2553753887543317,0.15018352623167674,-0.5988057076920157,0.5380983515180622,0.9759791860363404,-0.7833975692914159,-0.9189649613532611,-0.0974760456801578,0.3429586783883424,-0.6191550076924058,-2.1039659473643173,0.8350223435673302,0.6318776376503721,0.06918376203837928,-0.9540441738215512,1.0623602869959006,-0.04214282767279125,1.0236001005414836,2.768834106807123,-0.34962680392505013,-1.9587267869592255,0.21487117500607636,-0.7195032292037042,0.20890306000942607,-0.6473154003389758,0.7544595643203549,0.4697360100064573,0.11029082781862608,-0.09295678672354084,-0.7844564187290143,1.22551840597947,0.1733457984754417,-1.5674530556863537,-0.12719427915234527,1.2969218378364398,-0.47955826843769805,-1.0917495191808468,0.22136705963048148,-0.9351966540884519,1.019493096539831,2.516073211595525,1.5376854720253375,-1.3831508907611931,-1.9191831893194957,0.44359556475430645,-0.8246593181297605,-0.2100864028503051,0.9547760587601132,-0.2653278159042679,0.8362410698154421,-1.206447309739462,1.3929084051796088,1.6164208225232148,0.33581060384052197,-1.2146714988178433,0.45484819640518204,1.1003564183064294,-0.0545126540500522,-1.6473224078317383,1.0928108115908042,-0.16389643281667396,-0.6544788103037372,-1.3716173109397398,0.3395650647243976,-1.147263981725478,1.2174640192307618,-0.21249306896884895,-1.096053716026816,2.3900037580866145],\"y\":[0.583131544660661,-0.13361300439365476,-0.04123704831597834,0.0014680131745039354,1.438466824959959,0.5541476788726151,-1.1310893635390038,-0.5623452390437628,-0.670234518530269,0.545812634382133,-0.3624818654591015,0.1701678549417786,0.3581879479821975,-2.887380914691166,-0.13478783996064245,-0.8588668905175264,-0.8938984223234923,0.19181727804293225,-0.028983423455619165,-0.019052996185692665,-1.1602446579879755,0.08121421004235378,1.3352220481800035,0.35807277726483344,-0.9409924776717753,-1.8503080091673934,-0.6870106893491648,0.8314233325875332,0.02274811954883968,0.9194055377055831,-0.7740446909882256,-0.22978997934892423,0.17286979761015278,-1.8144485916502244,0.10019030223493725,0.6543032593357595,0.002882968517779104,-0.614448403963407,1.4894537976884068,-0.5184176501024136,0.8510492801098789,1.6907679823457193,-0.7252403229757054,-1.8548965808613855,-0.9279085762381253,-0.19262867996165262,0.26506477791439476,2.149363109679803,1.551901938062469,0.9498725527680408,-0.5798412074414184,-1.8392247543767455,-0.3001332641170957,-0.8038995410085215,-0.8356561490437464,0.7841323972572954,-0.30929122537950327,1.0137109697249589,1.3640708249499136,0.14797119237972522,-1.5140703332552574,-0.37335951646331544,0.06906016347182198,0.0071806358751329985,-0.3287712644324699,0.9244322653350652,-2.065891711445297,0.5545434773856838,-0.1155953279380719,1.2903641107677892,0.8844881302921291,-0.7085242639802346,-1.1299614703443237,-1.7164506836065332,0.31064937293329015,1.365766364043925,-0.7735412746528428,0.10817543607704204,0.4800268444616799,1.4983655949771244,0.5891832919635394,0.15306708133909158,1.1592892480331136,-0.14279951141742664,0.018543837761865134,-1.4673943968795782,-0.6694224768413874,-0.41465428943287297,-0.17348747003891735,1.1353060114559579,-0.33408295386952674,1.7553588384503196,-0.2110048275984787,0.42849832241419883,-1.429062493144599,0.9951538223316054,0.8098824701408762,0.3884108342548283,-0.1558889174937159,-0.11031426067805795],\"type\":\"scatter\"}],                        {\"legend\":{\"bgcolor\":\"#F5F6F9\",\"font\":{\"color\":\"#4D5663\"}},\"paper_bgcolor\":\"#F5F6F9\",\"plot_bgcolor\":\"#F5F6F9\",\"template\":{\"data\":{\"barpolar\":[{\"marker\":{\"line\":{\"color\":\"#E5ECF6\",\"width\":0.5},\"pattern\":{\"fillmode\":\"overlay\",\"size\":10,\"solidity\":0.2}},\"type\":\"barpolar\"}],\"bar\":[{\"error_x\":{\"color\":\"#2a3f5f\"},\"error_y\":{\"color\":\"#2a3f5f\"},\"marker\":{\"line\":{\"color\":\"#E5ECF6\",\"width\":0.5},\"pattern\":{\"fillmode\":\"overlay\",\"size\":10,\"solidity\":0.2}},\"type\":\"bar\"}],\"carpet\":[{\"aaxis\":{\"endlinecolor\":\"#2a3f5f\",\"gridcolor\":\"white\",\"linecolor\":\"white\",\"minorgridcolor\":\"white\",\"startlinecolor\":\"#2a3f5f\"},\"baxis\":{\"endlinecolor\":\"#2a3f5f\",\"gridcolor\":\"white\",\"linecolor\":\"white\",\"minorgridcolor\":\"white\",\"startlinecolor\":\"#2a3f5f\"},\"type\":\"carpet\"}],\"choropleth\":[{\"colorbar\":{\"outlinewidth\":0,\"ticks\":\"\"},\"type\":\"choropleth\"}],\"contourcarpet\":[{\"colorbar\":{\"outlinewidth\":0,\"ticks\":\"\"},\"type\":\"contourcarpet\"}],\"contour\":[{\"colorbar\":{\"outlinewidth\":0,\"ticks\":\"\"},\"colorscale\":[[0.0,\"#0d0887\"],[0.1111111111111111,\"#46039f\"],[0.2222222222222222,\"#7201a8\"],[0.3333333333333333,\"#9c179e\"],[0.4444444444444444,\"#bd3786\"],[0.5555555555555556,\"#d8576b\"],[0.6666666666666666,\"#ed7953\"],[0.7777777777777778,\"#fb9f3a\"],[0.8888888888888888,\"#fdca26\"],[1.0,\"#f0f921\"]],\"type\":\"contour\"}],\"heatmapgl\":[{\"colorbar\":{\"outlinewidth\":0,\"ticks\":\"\"},\"colorscale\":[[0.0,\"#0d0887\"],[0.1111111111111111,\"#46039f\"],[0.2222222222222222,\"#7201a8\"],[0.3333333333333333,\"#9c179e\"],[0.4444444444444444,\"#bd3786\"],[0.5555555555555556,\"#d8576b\"],[0.6666666666666666,\"#ed7953\"],[0.7777777777777778,\"#fb9f3a\"],[0.8888888888888888,\"#fdca26\"],[1.0,\"#f0f921\"]],\"type\":\"heatmapgl\"}],\"heatmap\":[{\"colorbar\":{\"outlinewidth\":0,\"ticks\":\"\"},\"colorscale\":[[0.0,\"#0d0887\"],[0.1111111111111111,\"#46039f\"],[0.2222222222222222,\"#7201a8\"],[0.3333333333333333,\"#9c179e\"],[0.4444444444444444,\"#bd3786\"],[0.5555555555555556,\"#d8576b\"],[0.6666666666666666,\"#ed7953\"],[0.7777777777777778,\"#fb9f3a\"],[0.8888888888888888,\"#fdca26\"],[1.0,\"#f0f921\"]],\"type\":\"heatmap\"}],\"histogram2dcontour\":[{\"colorbar\":{\"outlinewidth\":0,\"ticks\":\"\"},\"colorscale\":[[0.0,\"#0d0887\"],[0.1111111111111111,\"#46039f\"],[0.2222222222222222,\"#7201a8\"],[0.3333333333333333,\"#9c179e\"],[0.4444444444444444,\"#bd3786\"],[0.5555555555555556,\"#d8576b\"],[0.6666666666666666,\"#ed7953\"],[0.7777777777777778,\"#fb9f3a\"],[0.8888888888888888,\"#fdca26\"],[1.0,\"#f0f921\"]],\"type\":\"histogram2dcontour\"}],\"histogram2d\":[{\"colorbar\":{\"outlinewidth\":0,\"ticks\":\"\"},\"colorscale\":[[0.0,\"#0d0887\"],[0.1111111111111111,\"#46039f\"],[0.2222222222222222,\"#7201a8\"],[0.3333333333333333,\"#9c179e\"],[0.4444444444444444,\"#bd3786\"],[0.5555555555555556,\"#d8576b\"],[0.6666666666666666,\"#ed7953\"],[0.7777777777777778,\"#fb9f3a\"],[0.8888888888888888,\"#fdca26\"],[1.0,\"#f0f921\"]],\"type\":\"histogram2d\"}],\"histogram\":[{\"marker\":{\"pattern\":{\"fillmode\":\"overlay\",\"size\":10,\"solidity\":0.2}},\"type\":\"histogram\"}],\"mesh3d\":[{\"colorbar\":{\"outlinewidth\":0,\"ticks\":\"\"},\"type\":\"mesh3d\"}],\"parcoords\":[{\"line\":{\"colorbar\":{\"outlinewidth\":0,\"ticks\":\"\"}},\"type\":\"parcoords\"}],\"pie\":[{\"automargin\":true,\"type\":\"pie\"}],\"scatter3d\":[{\"line\":{\"colorbar\":{\"outlinewidth\":0,\"ticks\":\"\"}},\"marker\":{\"colorbar\":{\"outlinewidth\":0,\"ticks\":\"\"}},\"type\":\"scatter3d\"}],\"scattercarpet\":[{\"marker\":{\"colorbar\":{\"outlinewidth\":0,\"ticks\":\"\"}},\"type\":\"scattercarpet\"}],\"scattergeo\":[{\"marker\":{\"colorbar\":{\"outlinewidth\":0,\"ticks\":\"\"}},\"type\":\"scattergeo\"}],\"scattergl\":[{\"marker\":{\"colorbar\":{\"outlinewidth\":0,\"ticks\":\"\"}},\"type\":\"scattergl\"}],\"scattermapbox\":[{\"marker\":{\"colorbar\":{\"outlinewidth\":0,\"ticks\":\"\"}},\"type\":\"scattermapbox\"}],\"scatterpolargl\":[{\"marker\":{\"colorbar\":{\"outlinewidth\":0,\"ticks\":\"\"}},\"type\":\"scatterpolargl\"}],\"scatterpolar\":[{\"marker\":{\"colorbar\":{\"outlinewidth\":0,\"ticks\":\"\"}},\"type\":\"scatterpolar\"}],\"scatter\":[{\"fillpattern\":{\"fillmode\":\"overlay\",\"size\":10,\"solidity\":0.2},\"type\":\"scatter\"}],\"scatterternary\":[{\"marker\":{\"colorbar\":{\"outlinewidth\":0,\"ticks\":\"\"}},\"type\":\"scatterternary\"}],\"surface\":[{\"colorbar\":{\"outlinewidth\":0,\"ticks\":\"\"},\"colorscale\":[[0.0,\"#0d0887\"],[0.1111111111111111,\"#46039f\"],[0.2222222222222222,\"#7201a8\"],[0.3333333333333333,\"#9c179e\"],[0.4444444444444444,\"#bd3786\"],[0.5555555555555556,\"#d8576b\"],[0.6666666666666666,\"#ed7953\"],[0.7777777777777778,\"#fb9f3a\"],[0.8888888888888888,\"#fdca26\"],[1.0,\"#f0f921\"]],\"type\":\"surface\"}],\"table\":[{\"cells\":{\"fill\":{\"color\":\"#EBF0F8\"},\"line\":{\"color\":\"white\"}},\"header\":{\"fill\":{\"color\":\"#C8D4E3\"},\"line\":{\"color\":\"white\"}},\"type\":\"table\"}]},\"layout\":{\"annotationdefaults\":{\"arrowcolor\":\"#2a3f5f\",\"arrowhead\":0,\"arrowwidth\":1},\"autotypenumbers\":\"strict\",\"coloraxis\":{\"colorbar\":{\"outlinewidth\":0,\"ticks\":\"\"}},\"colorscale\":{\"diverging\":[[0,\"#8e0152\"],[0.1,\"#c51b7d\"],[0.2,\"#de77ae\"],[0.3,\"#f1b6da\"],[0.4,\"#fde0ef\"],[0.5,\"#f7f7f7\"],[0.6,\"#e6f5d0\"],[0.7,\"#b8e186\"],[0.8,\"#7fbc41\"],[0.9,\"#4d9221\"],[1,\"#276419\"]],\"sequential\":[[0.0,\"#0d0887\"],[0.1111111111111111,\"#46039f\"],[0.2222222222222222,\"#7201a8\"],[0.3333333333333333,\"#9c179e\"],[0.4444444444444444,\"#bd3786\"],[0.5555555555555556,\"#d8576b\"],[0.6666666666666666,\"#ed7953\"],[0.7777777777777778,\"#fb9f3a\"],[0.8888888888888888,\"#fdca26\"],[1.0,\"#f0f921\"]],\"sequentialminus\":[[0.0,\"#0d0887\"],[0.1111111111111111,\"#46039f\"],[0.2222222222222222,\"#7201a8\"],[0.3333333333333333,\"#9c179e\"],[0.4444444444444444,\"#bd3786\"],[0.5555555555555556,\"#d8576b\"],[0.6666666666666666,\"#ed7953\"],[0.7777777777777778,\"#fb9f3a\"],[0.8888888888888888,\"#fdca26\"],[1.0,\"#f0f921\"]]},\"colorway\":[\"#636efa\",\"#EF553B\",\"#00cc96\",\"#ab63fa\",\"#FFA15A\",\"#19d3f3\",\"#FF6692\",\"#B6E880\",\"#FF97FF\",\"#FECB52\"],\"font\":{\"color\":\"#2a3f5f\"},\"geo\":{\"bgcolor\":\"white\",\"lakecolor\":\"white\",\"landcolor\":\"#E5ECF6\",\"showlakes\":true,\"showland\":true,\"subunitcolor\":\"white\"},\"hoverlabel\":{\"align\":\"left\"},\"hovermode\":\"closest\",\"mapbox\":{\"style\":\"light\"},\"paper_bgcolor\":\"white\",\"plot_bgcolor\":\"#E5ECF6\",\"polar\":{\"angularaxis\":{\"gridcolor\":\"white\",\"linecolor\":\"white\",\"ticks\":\"\"},\"bgcolor\":\"#E5ECF6\",\"radialaxis\":{\"gridcolor\":\"white\",\"linecolor\":\"white\",\"ticks\":\"\"}},\"scene\":{\"xaxis\":{\"backgroundcolor\":\"#E5ECF6\",\"gridcolor\":\"white\",\"gridwidth\":2,\"linecolor\":\"white\",\"showbackground\":true,\"ticks\":\"\",\"zerolinecolor\":\"white\"},\"yaxis\":{\"backgroundcolor\":\"#E5ECF6\",\"gridcolor\":\"white\",\"gridwidth\":2,\"linecolor\":\"white\",\"showbackground\":true,\"ticks\":\"\",\"zerolinecolor\":\"white\"},\"zaxis\":{\"backgroundcolor\":\"#E5ECF6\",\"gridcolor\":\"white\",\"gridwidth\":2,\"linecolor\":\"white\",\"showbackground\":true,\"ticks\":\"\",\"zerolinecolor\":\"white\"}},\"shapedefaults\":{\"line\":{\"color\":\"#2a3f5f\"}},\"ternary\":{\"aaxis\":{\"gridcolor\":\"white\",\"linecolor\":\"white\",\"ticks\":\"\"},\"baxis\":{\"gridcolor\":\"white\",\"linecolor\":\"white\",\"ticks\":\"\"},\"bgcolor\":\"#E5ECF6\",\"caxis\":{\"gridcolor\":\"white\",\"linecolor\":\"white\",\"ticks\":\"\"}},\"title\":{\"x\":0.05},\"xaxis\":{\"automargin\":true,\"gridcolor\":\"white\",\"linecolor\":\"white\",\"ticks\":\"\",\"title\":{\"standoff\":15},\"zerolinecolor\":\"white\",\"zerolinewidth\":2},\"yaxis\":{\"automargin\":true,\"gridcolor\":\"white\",\"linecolor\":\"white\",\"ticks\":\"\",\"title\":{\"standoff\":15},\"zerolinecolor\":\"white\",\"zerolinewidth\":2}}},\"title\":{\"font\":{\"color\":\"#4D5663\"}},\"xaxis\":{\"gridcolor\":\"#E1E5ED\",\"showgrid\":true,\"tickfont\":{\"color\":\"#4D5663\"},\"title\":{\"font\":{\"color\":\"#4D5663\"},\"text\":\"\"},\"zerolinecolor\":\"#E1E5ED\"},\"yaxis\":{\"gridcolor\":\"#E1E5ED\",\"showgrid\":true,\"tickfont\":{\"color\":\"#4D5663\"},\"title\":{\"font\":{\"color\":\"#4D5663\"},\"text\":\"\"},\"zerolinecolor\":\"#E1E5ED\"}},                        {\"showLink\": true, \"linkText\": \"Export to plot.ly\", \"plotlyServerURL\": \"https://plot.ly\", \"responsive\": true}                    ).then(function(){\n",
       "                            \n",
       "var gd = document.getElementById('df5bd0aa-e3b0-4b97-9d78-611253b0a9fc');\n",
       "var x = new MutationObserver(function (mutations, observer) {{\n",
       "        var display = window.getComputedStyle(gd).display;\n",
       "        if (!display || display === 'none') {{\n",
       "            console.log([gd, 'removed!']);\n",
       "            Plotly.purge(gd);\n",
       "            observer.disconnect();\n",
       "        }}\n",
       "}});\n",
       "\n",
       "// Listen for the removal of the full notebook cells\n",
       "var notebookContainer = gd.closest('#notebook-container');\n",
       "if (notebookContainer) {{\n",
       "    x.observe(notebookContainer, {childList: true});\n",
       "}}\n",
       "\n",
       "// Listen for the clearing of the current output cell\n",
       "var outputEl = gd.closest('.output');\n",
       "if (outputEl) {{\n",
       "    x.observe(outputEl, {childList: true});\n",
       "}}\n",
       "\n",
       "                        })                };                });            </script>        </div>"
      ]
     },
     "metadata": {},
     "output_type": "display_data"
    }
   ],
   "source": [
    "df.iplot(kind='scatter',x='A',y='B',mode='markers',size=10)"
   ]
  },
  {
   "cell_type": "markdown",
   "metadata": {},
   "source": [
    "## Bar Plots"
   ]
  },
  {
   "cell_type": "code",
   "execution_count": 12,
   "metadata": {},
   "outputs": [
    {
     "data": {
      "application/vnd.plotly.v1+json": {
       "config": {
        "linkText": "Export to plot.ly",
        "plotlyServerURL": "https://plot.ly",
        "showLink": true
       },
       "data": [
        {
         "marker": {
          "color": "rgba(255, 153, 51, 0.6)",
          "line": {
           "color": "rgba(255, 153, 51, 1.0)",
           "width": 1
          }
         },
         "name": "Values",
         "orientation": "v",
         "text": "",
         "type": "bar",
         "x": [
          "A",
          "B",
          "C"
         ],
         "y": [
          32,
          43,
          50
         ]
        }
       ],
       "layout": {
        "legend": {
         "bgcolor": "#F5F6F9",
         "font": {
          "color": "#4D5663"
         }
        },
        "paper_bgcolor": "#F5F6F9",
        "plot_bgcolor": "#F5F6F9",
        "template": {
         "data": {
          "bar": [
           {
            "error_x": {
             "color": "#2a3f5f"
            },
            "error_y": {
             "color": "#2a3f5f"
            },
            "marker": {
             "line": {
              "color": "#E5ECF6",
              "width": 0.5
             },
             "pattern": {
              "fillmode": "overlay",
              "size": 10,
              "solidity": 0.2
             }
            },
            "type": "bar"
           }
          ],
          "barpolar": [
           {
            "marker": {
             "line": {
              "color": "#E5ECF6",
              "width": 0.5
             },
             "pattern": {
              "fillmode": "overlay",
              "size": 10,
              "solidity": 0.2
             }
            },
            "type": "barpolar"
           }
          ],
          "carpet": [
           {
            "aaxis": {
             "endlinecolor": "#2a3f5f",
             "gridcolor": "white",
             "linecolor": "white",
             "minorgridcolor": "white",
             "startlinecolor": "#2a3f5f"
            },
            "baxis": {
             "endlinecolor": "#2a3f5f",
             "gridcolor": "white",
             "linecolor": "white",
             "minorgridcolor": "white",
             "startlinecolor": "#2a3f5f"
            },
            "type": "carpet"
           }
          ],
          "choropleth": [
           {
            "colorbar": {
             "outlinewidth": 0,
             "ticks": ""
            },
            "type": "choropleth"
           }
          ],
          "contour": [
           {
            "colorbar": {
             "outlinewidth": 0,
             "ticks": ""
            },
            "colorscale": [
             [
              0,
              "#0d0887"
             ],
             [
              0.1111111111111111,
              "#46039f"
             ],
             [
              0.2222222222222222,
              "#7201a8"
             ],
             [
              0.3333333333333333,
              "#9c179e"
             ],
             [
              0.4444444444444444,
              "#bd3786"
             ],
             [
              0.5555555555555556,
              "#d8576b"
             ],
             [
              0.6666666666666666,
              "#ed7953"
             ],
             [
              0.7777777777777778,
              "#fb9f3a"
             ],
             [
              0.8888888888888888,
              "#fdca26"
             ],
             [
              1,
              "#f0f921"
             ]
            ],
            "type": "contour"
           }
          ],
          "contourcarpet": [
           {
            "colorbar": {
             "outlinewidth": 0,
             "ticks": ""
            },
            "type": "contourcarpet"
           }
          ],
          "heatmap": [
           {
            "colorbar": {
             "outlinewidth": 0,
             "ticks": ""
            },
            "colorscale": [
             [
              0,
              "#0d0887"
             ],
             [
              0.1111111111111111,
              "#46039f"
             ],
             [
              0.2222222222222222,
              "#7201a8"
             ],
             [
              0.3333333333333333,
              "#9c179e"
             ],
             [
              0.4444444444444444,
              "#bd3786"
             ],
             [
              0.5555555555555556,
              "#d8576b"
             ],
             [
              0.6666666666666666,
              "#ed7953"
             ],
             [
              0.7777777777777778,
              "#fb9f3a"
             ],
             [
              0.8888888888888888,
              "#fdca26"
             ],
             [
              1,
              "#f0f921"
             ]
            ],
            "type": "heatmap"
           }
          ],
          "heatmapgl": [
           {
            "colorbar": {
             "outlinewidth": 0,
             "ticks": ""
            },
            "colorscale": [
             [
              0,
              "#0d0887"
             ],
             [
              0.1111111111111111,
              "#46039f"
             ],
             [
              0.2222222222222222,
              "#7201a8"
             ],
             [
              0.3333333333333333,
              "#9c179e"
             ],
             [
              0.4444444444444444,
              "#bd3786"
             ],
             [
              0.5555555555555556,
              "#d8576b"
             ],
             [
              0.6666666666666666,
              "#ed7953"
             ],
             [
              0.7777777777777778,
              "#fb9f3a"
             ],
             [
              0.8888888888888888,
              "#fdca26"
             ],
             [
              1,
              "#f0f921"
             ]
            ],
            "type": "heatmapgl"
           }
          ],
          "histogram": [
           {
            "marker": {
             "pattern": {
              "fillmode": "overlay",
              "size": 10,
              "solidity": 0.2
             }
            },
            "type": "histogram"
           }
          ],
          "histogram2d": [
           {
            "colorbar": {
             "outlinewidth": 0,
             "ticks": ""
            },
            "colorscale": [
             [
              0,
              "#0d0887"
             ],
             [
              0.1111111111111111,
              "#46039f"
             ],
             [
              0.2222222222222222,
              "#7201a8"
             ],
             [
              0.3333333333333333,
              "#9c179e"
             ],
             [
              0.4444444444444444,
              "#bd3786"
             ],
             [
              0.5555555555555556,
              "#d8576b"
             ],
             [
              0.6666666666666666,
              "#ed7953"
             ],
             [
              0.7777777777777778,
              "#fb9f3a"
             ],
             [
              0.8888888888888888,
              "#fdca26"
             ],
             [
              1,
              "#f0f921"
             ]
            ],
            "type": "histogram2d"
           }
          ],
          "histogram2dcontour": [
           {
            "colorbar": {
             "outlinewidth": 0,
             "ticks": ""
            },
            "colorscale": [
             [
              0,
              "#0d0887"
             ],
             [
              0.1111111111111111,
              "#46039f"
             ],
             [
              0.2222222222222222,
              "#7201a8"
             ],
             [
              0.3333333333333333,
              "#9c179e"
             ],
             [
              0.4444444444444444,
              "#bd3786"
             ],
             [
              0.5555555555555556,
              "#d8576b"
             ],
             [
              0.6666666666666666,
              "#ed7953"
             ],
             [
              0.7777777777777778,
              "#fb9f3a"
             ],
             [
              0.8888888888888888,
              "#fdca26"
             ],
             [
              1,
              "#f0f921"
             ]
            ],
            "type": "histogram2dcontour"
           }
          ],
          "mesh3d": [
           {
            "colorbar": {
             "outlinewidth": 0,
             "ticks": ""
            },
            "type": "mesh3d"
           }
          ],
          "parcoords": [
           {
            "line": {
             "colorbar": {
              "outlinewidth": 0,
              "ticks": ""
             }
            },
            "type": "parcoords"
           }
          ],
          "pie": [
           {
            "automargin": true,
            "type": "pie"
           }
          ],
          "scatter": [
           {
            "fillpattern": {
             "fillmode": "overlay",
             "size": 10,
             "solidity": 0.2
            },
            "type": "scatter"
           }
          ],
          "scatter3d": [
           {
            "line": {
             "colorbar": {
              "outlinewidth": 0,
              "ticks": ""
             }
            },
            "marker": {
             "colorbar": {
              "outlinewidth": 0,
              "ticks": ""
             }
            },
            "type": "scatter3d"
           }
          ],
          "scattercarpet": [
           {
            "marker": {
             "colorbar": {
              "outlinewidth": 0,
              "ticks": ""
             }
            },
            "type": "scattercarpet"
           }
          ],
          "scattergeo": [
           {
            "marker": {
             "colorbar": {
              "outlinewidth": 0,
              "ticks": ""
             }
            },
            "type": "scattergeo"
           }
          ],
          "scattergl": [
           {
            "marker": {
             "colorbar": {
              "outlinewidth": 0,
              "ticks": ""
             }
            },
            "type": "scattergl"
           }
          ],
          "scattermapbox": [
           {
            "marker": {
             "colorbar": {
              "outlinewidth": 0,
              "ticks": ""
             }
            },
            "type": "scattermapbox"
           }
          ],
          "scatterpolar": [
           {
            "marker": {
             "colorbar": {
              "outlinewidth": 0,
              "ticks": ""
             }
            },
            "type": "scatterpolar"
           }
          ],
          "scatterpolargl": [
           {
            "marker": {
             "colorbar": {
              "outlinewidth": 0,
              "ticks": ""
             }
            },
            "type": "scatterpolargl"
           }
          ],
          "scatterternary": [
           {
            "marker": {
             "colorbar": {
              "outlinewidth": 0,
              "ticks": ""
             }
            },
            "type": "scatterternary"
           }
          ],
          "surface": [
           {
            "colorbar": {
             "outlinewidth": 0,
             "ticks": ""
            },
            "colorscale": [
             [
              0,
              "#0d0887"
             ],
             [
              0.1111111111111111,
              "#46039f"
             ],
             [
              0.2222222222222222,
              "#7201a8"
             ],
             [
              0.3333333333333333,
              "#9c179e"
             ],
             [
              0.4444444444444444,
              "#bd3786"
             ],
             [
              0.5555555555555556,
              "#d8576b"
             ],
             [
              0.6666666666666666,
              "#ed7953"
             ],
             [
              0.7777777777777778,
              "#fb9f3a"
             ],
             [
              0.8888888888888888,
              "#fdca26"
             ],
             [
              1,
              "#f0f921"
             ]
            ],
            "type": "surface"
           }
          ],
          "table": [
           {
            "cells": {
             "fill": {
              "color": "#EBF0F8"
             },
             "line": {
              "color": "white"
             }
            },
            "header": {
             "fill": {
              "color": "#C8D4E3"
             },
             "line": {
              "color": "white"
             }
            },
            "type": "table"
           }
          ]
         },
         "layout": {
          "annotationdefaults": {
           "arrowcolor": "#2a3f5f",
           "arrowhead": 0,
           "arrowwidth": 1
          },
          "autotypenumbers": "strict",
          "coloraxis": {
           "colorbar": {
            "outlinewidth": 0,
            "ticks": ""
           }
          },
          "colorscale": {
           "diverging": [
            [
             0,
             "#8e0152"
            ],
            [
             0.1,
             "#c51b7d"
            ],
            [
             0.2,
             "#de77ae"
            ],
            [
             0.3,
             "#f1b6da"
            ],
            [
             0.4,
             "#fde0ef"
            ],
            [
             0.5,
             "#f7f7f7"
            ],
            [
             0.6,
             "#e6f5d0"
            ],
            [
             0.7,
             "#b8e186"
            ],
            [
             0.8,
             "#7fbc41"
            ],
            [
             0.9,
             "#4d9221"
            ],
            [
             1,
             "#276419"
            ]
           ],
           "sequential": [
            [
             0,
             "#0d0887"
            ],
            [
             0.1111111111111111,
             "#46039f"
            ],
            [
             0.2222222222222222,
             "#7201a8"
            ],
            [
             0.3333333333333333,
             "#9c179e"
            ],
            [
             0.4444444444444444,
             "#bd3786"
            ],
            [
             0.5555555555555556,
             "#d8576b"
            ],
            [
             0.6666666666666666,
             "#ed7953"
            ],
            [
             0.7777777777777778,
             "#fb9f3a"
            ],
            [
             0.8888888888888888,
             "#fdca26"
            ],
            [
             1,
             "#f0f921"
            ]
           ],
           "sequentialminus": [
            [
             0,
             "#0d0887"
            ],
            [
             0.1111111111111111,
             "#46039f"
            ],
            [
             0.2222222222222222,
             "#7201a8"
            ],
            [
             0.3333333333333333,
             "#9c179e"
            ],
            [
             0.4444444444444444,
             "#bd3786"
            ],
            [
             0.5555555555555556,
             "#d8576b"
            ],
            [
             0.6666666666666666,
             "#ed7953"
            ],
            [
             0.7777777777777778,
             "#fb9f3a"
            ],
            [
             0.8888888888888888,
             "#fdca26"
            ],
            [
             1,
             "#f0f921"
            ]
           ]
          },
          "colorway": [
           "#636efa",
           "#EF553B",
           "#00cc96",
           "#ab63fa",
           "#FFA15A",
           "#19d3f3",
           "#FF6692",
           "#B6E880",
           "#FF97FF",
           "#FECB52"
          ],
          "font": {
           "color": "#2a3f5f"
          },
          "geo": {
           "bgcolor": "white",
           "lakecolor": "white",
           "landcolor": "#E5ECF6",
           "showlakes": true,
           "showland": true,
           "subunitcolor": "white"
          },
          "hoverlabel": {
           "align": "left"
          },
          "hovermode": "closest",
          "mapbox": {
           "style": "light"
          },
          "paper_bgcolor": "white",
          "plot_bgcolor": "#E5ECF6",
          "polar": {
           "angularaxis": {
            "gridcolor": "white",
            "linecolor": "white",
            "ticks": ""
           },
           "bgcolor": "#E5ECF6",
           "radialaxis": {
            "gridcolor": "white",
            "linecolor": "white",
            "ticks": ""
           }
          },
          "scene": {
           "xaxis": {
            "backgroundcolor": "#E5ECF6",
            "gridcolor": "white",
            "gridwidth": 2,
            "linecolor": "white",
            "showbackground": true,
            "ticks": "",
            "zerolinecolor": "white"
           },
           "yaxis": {
            "backgroundcolor": "#E5ECF6",
            "gridcolor": "white",
            "gridwidth": 2,
            "linecolor": "white",
            "showbackground": true,
            "ticks": "",
            "zerolinecolor": "white"
           },
           "zaxis": {
            "backgroundcolor": "#E5ECF6",
            "gridcolor": "white",
            "gridwidth": 2,
            "linecolor": "white",
            "showbackground": true,
            "ticks": "",
            "zerolinecolor": "white"
           }
          },
          "shapedefaults": {
           "line": {
            "color": "#2a3f5f"
           }
          },
          "ternary": {
           "aaxis": {
            "gridcolor": "white",
            "linecolor": "white",
            "ticks": ""
           },
           "baxis": {
            "gridcolor": "white",
            "linecolor": "white",
            "ticks": ""
           },
           "bgcolor": "#E5ECF6",
           "caxis": {
            "gridcolor": "white",
            "linecolor": "white",
            "ticks": ""
           }
          },
          "title": {
           "x": 0.05
          },
          "xaxis": {
           "automargin": true,
           "gridcolor": "white",
           "linecolor": "white",
           "ticks": "",
           "title": {
            "standoff": 15
           },
           "zerolinecolor": "white",
           "zerolinewidth": 2
          },
          "yaxis": {
           "automargin": true,
           "gridcolor": "white",
           "linecolor": "white",
           "ticks": "",
           "title": {
            "standoff": 15
           },
           "zerolinecolor": "white",
           "zerolinewidth": 2
          }
         }
        },
        "title": {
         "font": {
          "color": "#4D5663"
         }
        },
        "xaxis": {
         "gridcolor": "#E1E5ED",
         "showgrid": true,
         "tickfont": {
          "color": "#4D5663"
         },
         "title": {
          "font": {
           "color": "#4D5663"
          },
          "text": ""
         },
         "zerolinecolor": "#E1E5ED"
        },
        "yaxis": {
         "gridcolor": "#E1E5ED",
         "showgrid": true,
         "tickfont": {
          "color": "#4D5663"
         },
         "title": {
          "font": {
           "color": "#4D5663"
          },
          "text": ""
         },
         "zerolinecolor": "#E1E5ED"
        }
       }
      },
      "text/html": [
       "<div>                            <div id=\"c1ff3140-13d4-4079-b29b-1d21da1f9b7a\" class=\"plotly-graph-div\" style=\"height:525px; width:100%;\"></div>            <script type=\"text/javascript\">                require([\"plotly\"], function(Plotly) {                    window.PLOTLYENV=window.PLOTLYENV || {};\n",
       "                    window.PLOTLYENV.BASE_URL='https://plot.ly';                                    if (document.getElementById(\"c1ff3140-13d4-4079-b29b-1d21da1f9b7a\")) {                    Plotly.newPlot(                        \"c1ff3140-13d4-4079-b29b-1d21da1f9b7a\",                        [{\"marker\":{\"color\":\"rgba(255, 153, 51, 0.6)\",\"line\":{\"color\":\"rgba(255, 153, 51, 1.0)\",\"width\":1}},\"name\":\"Values\",\"orientation\":\"v\",\"text\":\"\",\"x\":[\"A\",\"B\",\"C\"],\"y\":[32,43,50],\"type\":\"bar\"}],                        {\"legend\":{\"bgcolor\":\"#F5F6F9\",\"font\":{\"color\":\"#4D5663\"}},\"paper_bgcolor\":\"#F5F6F9\",\"plot_bgcolor\":\"#F5F6F9\",\"template\":{\"data\":{\"barpolar\":[{\"marker\":{\"line\":{\"color\":\"#E5ECF6\",\"width\":0.5},\"pattern\":{\"fillmode\":\"overlay\",\"size\":10,\"solidity\":0.2}},\"type\":\"barpolar\"}],\"bar\":[{\"error_x\":{\"color\":\"#2a3f5f\"},\"error_y\":{\"color\":\"#2a3f5f\"},\"marker\":{\"line\":{\"color\":\"#E5ECF6\",\"width\":0.5},\"pattern\":{\"fillmode\":\"overlay\",\"size\":10,\"solidity\":0.2}},\"type\":\"bar\"}],\"carpet\":[{\"aaxis\":{\"endlinecolor\":\"#2a3f5f\",\"gridcolor\":\"white\",\"linecolor\":\"white\",\"minorgridcolor\":\"white\",\"startlinecolor\":\"#2a3f5f\"},\"baxis\":{\"endlinecolor\":\"#2a3f5f\",\"gridcolor\":\"white\",\"linecolor\":\"white\",\"minorgridcolor\":\"white\",\"startlinecolor\":\"#2a3f5f\"},\"type\":\"carpet\"}],\"choropleth\":[{\"colorbar\":{\"outlinewidth\":0,\"ticks\":\"\"},\"type\":\"choropleth\"}],\"contourcarpet\":[{\"colorbar\":{\"outlinewidth\":0,\"ticks\":\"\"},\"type\":\"contourcarpet\"}],\"contour\":[{\"colorbar\":{\"outlinewidth\":0,\"ticks\":\"\"},\"colorscale\":[[0.0,\"#0d0887\"],[0.1111111111111111,\"#46039f\"],[0.2222222222222222,\"#7201a8\"],[0.3333333333333333,\"#9c179e\"],[0.4444444444444444,\"#bd3786\"],[0.5555555555555556,\"#d8576b\"],[0.6666666666666666,\"#ed7953\"],[0.7777777777777778,\"#fb9f3a\"],[0.8888888888888888,\"#fdca26\"],[1.0,\"#f0f921\"]],\"type\":\"contour\"}],\"heatmapgl\":[{\"colorbar\":{\"outlinewidth\":0,\"ticks\":\"\"},\"colorscale\":[[0.0,\"#0d0887\"],[0.1111111111111111,\"#46039f\"],[0.2222222222222222,\"#7201a8\"],[0.3333333333333333,\"#9c179e\"],[0.4444444444444444,\"#bd3786\"],[0.5555555555555556,\"#d8576b\"],[0.6666666666666666,\"#ed7953\"],[0.7777777777777778,\"#fb9f3a\"],[0.8888888888888888,\"#fdca26\"],[1.0,\"#f0f921\"]],\"type\":\"heatmapgl\"}],\"heatmap\":[{\"colorbar\":{\"outlinewidth\":0,\"ticks\":\"\"},\"colorscale\":[[0.0,\"#0d0887\"],[0.1111111111111111,\"#46039f\"],[0.2222222222222222,\"#7201a8\"],[0.3333333333333333,\"#9c179e\"],[0.4444444444444444,\"#bd3786\"],[0.5555555555555556,\"#d8576b\"],[0.6666666666666666,\"#ed7953\"],[0.7777777777777778,\"#fb9f3a\"],[0.8888888888888888,\"#fdca26\"],[1.0,\"#f0f921\"]],\"type\":\"heatmap\"}],\"histogram2dcontour\":[{\"colorbar\":{\"outlinewidth\":0,\"ticks\":\"\"},\"colorscale\":[[0.0,\"#0d0887\"],[0.1111111111111111,\"#46039f\"],[0.2222222222222222,\"#7201a8\"],[0.3333333333333333,\"#9c179e\"],[0.4444444444444444,\"#bd3786\"],[0.5555555555555556,\"#d8576b\"],[0.6666666666666666,\"#ed7953\"],[0.7777777777777778,\"#fb9f3a\"],[0.8888888888888888,\"#fdca26\"],[1.0,\"#f0f921\"]],\"type\":\"histogram2dcontour\"}],\"histogram2d\":[{\"colorbar\":{\"outlinewidth\":0,\"ticks\":\"\"},\"colorscale\":[[0.0,\"#0d0887\"],[0.1111111111111111,\"#46039f\"],[0.2222222222222222,\"#7201a8\"],[0.3333333333333333,\"#9c179e\"],[0.4444444444444444,\"#bd3786\"],[0.5555555555555556,\"#d8576b\"],[0.6666666666666666,\"#ed7953\"],[0.7777777777777778,\"#fb9f3a\"],[0.8888888888888888,\"#fdca26\"],[1.0,\"#f0f921\"]],\"type\":\"histogram2d\"}],\"histogram\":[{\"marker\":{\"pattern\":{\"fillmode\":\"overlay\",\"size\":10,\"solidity\":0.2}},\"type\":\"histogram\"}],\"mesh3d\":[{\"colorbar\":{\"outlinewidth\":0,\"ticks\":\"\"},\"type\":\"mesh3d\"}],\"parcoords\":[{\"line\":{\"colorbar\":{\"outlinewidth\":0,\"ticks\":\"\"}},\"type\":\"parcoords\"}],\"pie\":[{\"automargin\":true,\"type\":\"pie\"}],\"scatter3d\":[{\"line\":{\"colorbar\":{\"outlinewidth\":0,\"ticks\":\"\"}},\"marker\":{\"colorbar\":{\"outlinewidth\":0,\"ticks\":\"\"}},\"type\":\"scatter3d\"}],\"scattercarpet\":[{\"marker\":{\"colorbar\":{\"outlinewidth\":0,\"ticks\":\"\"}},\"type\":\"scattercarpet\"}],\"scattergeo\":[{\"marker\":{\"colorbar\":{\"outlinewidth\":0,\"ticks\":\"\"}},\"type\":\"scattergeo\"}],\"scattergl\":[{\"marker\":{\"colorbar\":{\"outlinewidth\":0,\"ticks\":\"\"}},\"type\":\"scattergl\"}],\"scattermapbox\":[{\"marker\":{\"colorbar\":{\"outlinewidth\":0,\"ticks\":\"\"}},\"type\":\"scattermapbox\"}],\"scatterpolargl\":[{\"marker\":{\"colorbar\":{\"outlinewidth\":0,\"ticks\":\"\"}},\"type\":\"scatterpolargl\"}],\"scatterpolar\":[{\"marker\":{\"colorbar\":{\"outlinewidth\":0,\"ticks\":\"\"}},\"type\":\"scatterpolar\"}],\"scatter\":[{\"fillpattern\":{\"fillmode\":\"overlay\",\"size\":10,\"solidity\":0.2},\"type\":\"scatter\"}],\"scatterternary\":[{\"marker\":{\"colorbar\":{\"outlinewidth\":0,\"ticks\":\"\"}},\"type\":\"scatterternary\"}],\"surface\":[{\"colorbar\":{\"outlinewidth\":0,\"ticks\":\"\"},\"colorscale\":[[0.0,\"#0d0887\"],[0.1111111111111111,\"#46039f\"],[0.2222222222222222,\"#7201a8\"],[0.3333333333333333,\"#9c179e\"],[0.4444444444444444,\"#bd3786\"],[0.5555555555555556,\"#d8576b\"],[0.6666666666666666,\"#ed7953\"],[0.7777777777777778,\"#fb9f3a\"],[0.8888888888888888,\"#fdca26\"],[1.0,\"#f0f921\"]],\"type\":\"surface\"}],\"table\":[{\"cells\":{\"fill\":{\"color\":\"#EBF0F8\"},\"line\":{\"color\":\"white\"}},\"header\":{\"fill\":{\"color\":\"#C8D4E3\"},\"line\":{\"color\":\"white\"}},\"type\":\"table\"}]},\"layout\":{\"annotationdefaults\":{\"arrowcolor\":\"#2a3f5f\",\"arrowhead\":0,\"arrowwidth\":1},\"autotypenumbers\":\"strict\",\"coloraxis\":{\"colorbar\":{\"outlinewidth\":0,\"ticks\":\"\"}},\"colorscale\":{\"diverging\":[[0,\"#8e0152\"],[0.1,\"#c51b7d\"],[0.2,\"#de77ae\"],[0.3,\"#f1b6da\"],[0.4,\"#fde0ef\"],[0.5,\"#f7f7f7\"],[0.6,\"#e6f5d0\"],[0.7,\"#b8e186\"],[0.8,\"#7fbc41\"],[0.9,\"#4d9221\"],[1,\"#276419\"]],\"sequential\":[[0.0,\"#0d0887\"],[0.1111111111111111,\"#46039f\"],[0.2222222222222222,\"#7201a8\"],[0.3333333333333333,\"#9c179e\"],[0.4444444444444444,\"#bd3786\"],[0.5555555555555556,\"#d8576b\"],[0.6666666666666666,\"#ed7953\"],[0.7777777777777778,\"#fb9f3a\"],[0.8888888888888888,\"#fdca26\"],[1.0,\"#f0f921\"]],\"sequentialminus\":[[0.0,\"#0d0887\"],[0.1111111111111111,\"#46039f\"],[0.2222222222222222,\"#7201a8\"],[0.3333333333333333,\"#9c179e\"],[0.4444444444444444,\"#bd3786\"],[0.5555555555555556,\"#d8576b\"],[0.6666666666666666,\"#ed7953\"],[0.7777777777777778,\"#fb9f3a\"],[0.8888888888888888,\"#fdca26\"],[1.0,\"#f0f921\"]]},\"colorway\":[\"#636efa\",\"#EF553B\",\"#00cc96\",\"#ab63fa\",\"#FFA15A\",\"#19d3f3\",\"#FF6692\",\"#B6E880\",\"#FF97FF\",\"#FECB52\"],\"font\":{\"color\":\"#2a3f5f\"},\"geo\":{\"bgcolor\":\"white\",\"lakecolor\":\"white\",\"landcolor\":\"#E5ECF6\",\"showlakes\":true,\"showland\":true,\"subunitcolor\":\"white\"},\"hoverlabel\":{\"align\":\"left\"},\"hovermode\":\"closest\",\"mapbox\":{\"style\":\"light\"},\"paper_bgcolor\":\"white\",\"plot_bgcolor\":\"#E5ECF6\",\"polar\":{\"angularaxis\":{\"gridcolor\":\"white\",\"linecolor\":\"white\",\"ticks\":\"\"},\"bgcolor\":\"#E5ECF6\",\"radialaxis\":{\"gridcolor\":\"white\",\"linecolor\":\"white\",\"ticks\":\"\"}},\"scene\":{\"xaxis\":{\"backgroundcolor\":\"#E5ECF6\",\"gridcolor\":\"white\",\"gridwidth\":2,\"linecolor\":\"white\",\"showbackground\":true,\"ticks\":\"\",\"zerolinecolor\":\"white\"},\"yaxis\":{\"backgroundcolor\":\"#E5ECF6\",\"gridcolor\":\"white\",\"gridwidth\":2,\"linecolor\":\"white\",\"showbackground\":true,\"ticks\":\"\",\"zerolinecolor\":\"white\"},\"zaxis\":{\"backgroundcolor\":\"#E5ECF6\",\"gridcolor\":\"white\",\"gridwidth\":2,\"linecolor\":\"white\",\"showbackground\":true,\"ticks\":\"\",\"zerolinecolor\":\"white\"}},\"shapedefaults\":{\"line\":{\"color\":\"#2a3f5f\"}},\"ternary\":{\"aaxis\":{\"gridcolor\":\"white\",\"linecolor\":\"white\",\"ticks\":\"\"},\"baxis\":{\"gridcolor\":\"white\",\"linecolor\":\"white\",\"ticks\":\"\"},\"bgcolor\":\"#E5ECF6\",\"caxis\":{\"gridcolor\":\"white\",\"linecolor\":\"white\",\"ticks\":\"\"}},\"title\":{\"x\":0.05},\"xaxis\":{\"automargin\":true,\"gridcolor\":\"white\",\"linecolor\":\"white\",\"ticks\":\"\",\"title\":{\"standoff\":15},\"zerolinecolor\":\"white\",\"zerolinewidth\":2},\"yaxis\":{\"automargin\":true,\"gridcolor\":\"white\",\"linecolor\":\"white\",\"ticks\":\"\",\"title\":{\"standoff\":15},\"zerolinecolor\":\"white\",\"zerolinewidth\":2}}},\"title\":{\"font\":{\"color\":\"#4D5663\"}},\"xaxis\":{\"gridcolor\":\"#E1E5ED\",\"showgrid\":true,\"tickfont\":{\"color\":\"#4D5663\"},\"title\":{\"font\":{\"color\":\"#4D5663\"},\"text\":\"\"},\"zerolinecolor\":\"#E1E5ED\"},\"yaxis\":{\"gridcolor\":\"#E1E5ED\",\"showgrid\":true,\"tickfont\":{\"color\":\"#4D5663\"},\"title\":{\"font\":{\"color\":\"#4D5663\"},\"text\":\"\"},\"zerolinecolor\":\"#E1E5ED\"}},                        {\"showLink\": true, \"linkText\": \"Export to plot.ly\", \"plotlyServerURL\": \"https://plot.ly\", \"responsive\": true}                    ).then(function(){\n",
       "                            \n",
       "var gd = document.getElementById('c1ff3140-13d4-4079-b29b-1d21da1f9b7a');\n",
       "var x = new MutationObserver(function (mutations, observer) {{\n",
       "        var display = window.getComputedStyle(gd).display;\n",
       "        if (!display || display === 'none') {{\n",
       "            console.log([gd, 'removed!']);\n",
       "            Plotly.purge(gd);\n",
       "            observer.disconnect();\n",
       "        }}\n",
       "}});\n",
       "\n",
       "// Listen for the removal of the full notebook cells\n",
       "var notebookContainer = gd.closest('#notebook-container');\n",
       "if (notebookContainer) {{\n",
       "    x.observe(notebookContainer, {childList: true});\n",
       "}}\n",
       "\n",
       "// Listen for the clearing of the current output cell\n",
       "var outputEl = gd.closest('.output');\n",
       "if (outputEl) {{\n",
       "    x.observe(outputEl, {childList: true});\n",
       "}}\n",
       "\n",
       "                        })                };                });            </script>        </div>"
      ]
     },
     "metadata": {},
     "output_type": "display_data"
    }
   ],
   "source": [
    "df2.iplot(kind='bar',x='Category',y='Values')"
   ]
  },
  {
   "cell_type": "code",
   "execution_count": 14,
   "metadata": {},
   "outputs": [
    {
     "data": {
      "application/vnd.plotly.v1+json": {
       "config": {
        "linkText": "Export to plot.ly",
        "plotlyServerURL": "https://plot.ly",
        "showLink": true
       },
       "data": [
        {
         "marker": {
          "color": "rgba(255, 153, 51, 0.6)",
          "line": {
           "color": "rgba(255, 153, 51, 1.0)",
           "width": 1
          }
         },
         "name": "None",
         "orientation": "v",
         "text": "",
         "type": "bar",
         "x": [
          "A",
          "B",
          "C",
          "D"
         ],
         "y": [
          100,
          100,
          100,
          100
         ]
        }
       ],
       "layout": {
        "legend": {
         "bgcolor": "#F5F6F9",
         "font": {
          "color": "#4D5663"
         }
        },
        "paper_bgcolor": "#F5F6F9",
        "plot_bgcolor": "#F5F6F9",
        "template": {
         "data": {
          "bar": [
           {
            "error_x": {
             "color": "#2a3f5f"
            },
            "error_y": {
             "color": "#2a3f5f"
            },
            "marker": {
             "line": {
              "color": "#E5ECF6",
              "width": 0.5
             },
             "pattern": {
              "fillmode": "overlay",
              "size": 10,
              "solidity": 0.2
             }
            },
            "type": "bar"
           }
          ],
          "barpolar": [
           {
            "marker": {
             "line": {
              "color": "#E5ECF6",
              "width": 0.5
             },
             "pattern": {
              "fillmode": "overlay",
              "size": 10,
              "solidity": 0.2
             }
            },
            "type": "barpolar"
           }
          ],
          "carpet": [
           {
            "aaxis": {
             "endlinecolor": "#2a3f5f",
             "gridcolor": "white",
             "linecolor": "white",
             "minorgridcolor": "white",
             "startlinecolor": "#2a3f5f"
            },
            "baxis": {
             "endlinecolor": "#2a3f5f",
             "gridcolor": "white",
             "linecolor": "white",
             "minorgridcolor": "white",
             "startlinecolor": "#2a3f5f"
            },
            "type": "carpet"
           }
          ],
          "choropleth": [
           {
            "colorbar": {
             "outlinewidth": 0,
             "ticks": ""
            },
            "type": "choropleth"
           }
          ],
          "contour": [
           {
            "colorbar": {
             "outlinewidth": 0,
             "ticks": ""
            },
            "colorscale": [
             [
              0,
              "#0d0887"
             ],
             [
              0.1111111111111111,
              "#46039f"
             ],
             [
              0.2222222222222222,
              "#7201a8"
             ],
             [
              0.3333333333333333,
              "#9c179e"
             ],
             [
              0.4444444444444444,
              "#bd3786"
             ],
             [
              0.5555555555555556,
              "#d8576b"
             ],
             [
              0.6666666666666666,
              "#ed7953"
             ],
             [
              0.7777777777777778,
              "#fb9f3a"
             ],
             [
              0.8888888888888888,
              "#fdca26"
             ],
             [
              1,
              "#f0f921"
             ]
            ],
            "type": "contour"
           }
          ],
          "contourcarpet": [
           {
            "colorbar": {
             "outlinewidth": 0,
             "ticks": ""
            },
            "type": "contourcarpet"
           }
          ],
          "heatmap": [
           {
            "colorbar": {
             "outlinewidth": 0,
             "ticks": ""
            },
            "colorscale": [
             [
              0,
              "#0d0887"
             ],
             [
              0.1111111111111111,
              "#46039f"
             ],
             [
              0.2222222222222222,
              "#7201a8"
             ],
             [
              0.3333333333333333,
              "#9c179e"
             ],
             [
              0.4444444444444444,
              "#bd3786"
             ],
             [
              0.5555555555555556,
              "#d8576b"
             ],
             [
              0.6666666666666666,
              "#ed7953"
             ],
             [
              0.7777777777777778,
              "#fb9f3a"
             ],
             [
              0.8888888888888888,
              "#fdca26"
             ],
             [
              1,
              "#f0f921"
             ]
            ],
            "type": "heatmap"
           }
          ],
          "heatmapgl": [
           {
            "colorbar": {
             "outlinewidth": 0,
             "ticks": ""
            },
            "colorscale": [
             [
              0,
              "#0d0887"
             ],
             [
              0.1111111111111111,
              "#46039f"
             ],
             [
              0.2222222222222222,
              "#7201a8"
             ],
             [
              0.3333333333333333,
              "#9c179e"
             ],
             [
              0.4444444444444444,
              "#bd3786"
             ],
             [
              0.5555555555555556,
              "#d8576b"
             ],
             [
              0.6666666666666666,
              "#ed7953"
             ],
             [
              0.7777777777777778,
              "#fb9f3a"
             ],
             [
              0.8888888888888888,
              "#fdca26"
             ],
             [
              1,
              "#f0f921"
             ]
            ],
            "type": "heatmapgl"
           }
          ],
          "histogram": [
           {
            "marker": {
             "pattern": {
              "fillmode": "overlay",
              "size": 10,
              "solidity": 0.2
             }
            },
            "type": "histogram"
           }
          ],
          "histogram2d": [
           {
            "colorbar": {
             "outlinewidth": 0,
             "ticks": ""
            },
            "colorscale": [
             [
              0,
              "#0d0887"
             ],
             [
              0.1111111111111111,
              "#46039f"
             ],
             [
              0.2222222222222222,
              "#7201a8"
             ],
             [
              0.3333333333333333,
              "#9c179e"
             ],
             [
              0.4444444444444444,
              "#bd3786"
             ],
             [
              0.5555555555555556,
              "#d8576b"
             ],
             [
              0.6666666666666666,
              "#ed7953"
             ],
             [
              0.7777777777777778,
              "#fb9f3a"
             ],
             [
              0.8888888888888888,
              "#fdca26"
             ],
             [
              1,
              "#f0f921"
             ]
            ],
            "type": "histogram2d"
           }
          ],
          "histogram2dcontour": [
           {
            "colorbar": {
             "outlinewidth": 0,
             "ticks": ""
            },
            "colorscale": [
             [
              0,
              "#0d0887"
             ],
             [
              0.1111111111111111,
              "#46039f"
             ],
             [
              0.2222222222222222,
              "#7201a8"
             ],
             [
              0.3333333333333333,
              "#9c179e"
             ],
             [
              0.4444444444444444,
              "#bd3786"
             ],
             [
              0.5555555555555556,
              "#d8576b"
             ],
             [
              0.6666666666666666,
              "#ed7953"
             ],
             [
              0.7777777777777778,
              "#fb9f3a"
             ],
             [
              0.8888888888888888,
              "#fdca26"
             ],
             [
              1,
              "#f0f921"
             ]
            ],
            "type": "histogram2dcontour"
           }
          ],
          "mesh3d": [
           {
            "colorbar": {
             "outlinewidth": 0,
             "ticks": ""
            },
            "type": "mesh3d"
           }
          ],
          "parcoords": [
           {
            "line": {
             "colorbar": {
              "outlinewidth": 0,
              "ticks": ""
             }
            },
            "type": "parcoords"
           }
          ],
          "pie": [
           {
            "automargin": true,
            "type": "pie"
           }
          ],
          "scatter": [
           {
            "fillpattern": {
             "fillmode": "overlay",
             "size": 10,
             "solidity": 0.2
            },
            "type": "scatter"
           }
          ],
          "scatter3d": [
           {
            "line": {
             "colorbar": {
              "outlinewidth": 0,
              "ticks": ""
             }
            },
            "marker": {
             "colorbar": {
              "outlinewidth": 0,
              "ticks": ""
             }
            },
            "type": "scatter3d"
           }
          ],
          "scattercarpet": [
           {
            "marker": {
             "colorbar": {
              "outlinewidth": 0,
              "ticks": ""
             }
            },
            "type": "scattercarpet"
           }
          ],
          "scattergeo": [
           {
            "marker": {
             "colorbar": {
              "outlinewidth": 0,
              "ticks": ""
             }
            },
            "type": "scattergeo"
           }
          ],
          "scattergl": [
           {
            "marker": {
             "colorbar": {
              "outlinewidth": 0,
              "ticks": ""
             }
            },
            "type": "scattergl"
           }
          ],
          "scattermapbox": [
           {
            "marker": {
             "colorbar": {
              "outlinewidth": 0,
              "ticks": ""
             }
            },
            "type": "scattermapbox"
           }
          ],
          "scatterpolar": [
           {
            "marker": {
             "colorbar": {
              "outlinewidth": 0,
              "ticks": ""
             }
            },
            "type": "scatterpolar"
           }
          ],
          "scatterpolargl": [
           {
            "marker": {
             "colorbar": {
              "outlinewidth": 0,
              "ticks": ""
             }
            },
            "type": "scatterpolargl"
           }
          ],
          "scatterternary": [
           {
            "marker": {
             "colorbar": {
              "outlinewidth": 0,
              "ticks": ""
             }
            },
            "type": "scatterternary"
           }
          ],
          "surface": [
           {
            "colorbar": {
             "outlinewidth": 0,
             "ticks": ""
            },
            "colorscale": [
             [
              0,
              "#0d0887"
             ],
             [
              0.1111111111111111,
              "#46039f"
             ],
             [
              0.2222222222222222,
              "#7201a8"
             ],
             [
              0.3333333333333333,
              "#9c179e"
             ],
             [
              0.4444444444444444,
              "#bd3786"
             ],
             [
              0.5555555555555556,
              "#d8576b"
             ],
             [
              0.6666666666666666,
              "#ed7953"
             ],
             [
              0.7777777777777778,
              "#fb9f3a"
             ],
             [
              0.8888888888888888,
              "#fdca26"
             ],
             [
              1,
              "#f0f921"
             ]
            ],
            "type": "surface"
           }
          ],
          "table": [
           {
            "cells": {
             "fill": {
              "color": "#EBF0F8"
             },
             "line": {
              "color": "white"
             }
            },
            "header": {
             "fill": {
              "color": "#C8D4E3"
             },
             "line": {
              "color": "white"
             }
            },
            "type": "table"
           }
          ]
         },
         "layout": {
          "annotationdefaults": {
           "arrowcolor": "#2a3f5f",
           "arrowhead": 0,
           "arrowwidth": 1
          },
          "autotypenumbers": "strict",
          "coloraxis": {
           "colorbar": {
            "outlinewidth": 0,
            "ticks": ""
           }
          },
          "colorscale": {
           "diverging": [
            [
             0,
             "#8e0152"
            ],
            [
             0.1,
             "#c51b7d"
            ],
            [
             0.2,
             "#de77ae"
            ],
            [
             0.3,
             "#f1b6da"
            ],
            [
             0.4,
             "#fde0ef"
            ],
            [
             0.5,
             "#f7f7f7"
            ],
            [
             0.6,
             "#e6f5d0"
            ],
            [
             0.7,
             "#b8e186"
            ],
            [
             0.8,
             "#7fbc41"
            ],
            [
             0.9,
             "#4d9221"
            ],
            [
             1,
             "#276419"
            ]
           ],
           "sequential": [
            [
             0,
             "#0d0887"
            ],
            [
             0.1111111111111111,
             "#46039f"
            ],
            [
             0.2222222222222222,
             "#7201a8"
            ],
            [
             0.3333333333333333,
             "#9c179e"
            ],
            [
             0.4444444444444444,
             "#bd3786"
            ],
            [
             0.5555555555555556,
             "#d8576b"
            ],
            [
             0.6666666666666666,
             "#ed7953"
            ],
            [
             0.7777777777777778,
             "#fb9f3a"
            ],
            [
             0.8888888888888888,
             "#fdca26"
            ],
            [
             1,
             "#f0f921"
            ]
           ],
           "sequentialminus": [
            [
             0,
             "#0d0887"
            ],
            [
             0.1111111111111111,
             "#46039f"
            ],
            [
             0.2222222222222222,
             "#7201a8"
            ],
            [
             0.3333333333333333,
             "#9c179e"
            ],
            [
             0.4444444444444444,
             "#bd3786"
            ],
            [
             0.5555555555555556,
             "#d8576b"
            ],
            [
             0.6666666666666666,
             "#ed7953"
            ],
            [
             0.7777777777777778,
             "#fb9f3a"
            ],
            [
             0.8888888888888888,
             "#fdca26"
            ],
            [
             1,
             "#f0f921"
            ]
           ]
          },
          "colorway": [
           "#636efa",
           "#EF553B",
           "#00cc96",
           "#ab63fa",
           "#FFA15A",
           "#19d3f3",
           "#FF6692",
           "#B6E880",
           "#FF97FF",
           "#FECB52"
          ],
          "font": {
           "color": "#2a3f5f"
          },
          "geo": {
           "bgcolor": "white",
           "lakecolor": "white",
           "landcolor": "#E5ECF6",
           "showlakes": true,
           "showland": true,
           "subunitcolor": "white"
          },
          "hoverlabel": {
           "align": "left"
          },
          "hovermode": "closest",
          "mapbox": {
           "style": "light"
          },
          "paper_bgcolor": "white",
          "plot_bgcolor": "#E5ECF6",
          "polar": {
           "angularaxis": {
            "gridcolor": "white",
            "linecolor": "white",
            "ticks": ""
           },
           "bgcolor": "#E5ECF6",
           "radialaxis": {
            "gridcolor": "white",
            "linecolor": "white",
            "ticks": ""
           }
          },
          "scene": {
           "xaxis": {
            "backgroundcolor": "#E5ECF6",
            "gridcolor": "white",
            "gridwidth": 2,
            "linecolor": "white",
            "showbackground": true,
            "ticks": "",
            "zerolinecolor": "white"
           },
           "yaxis": {
            "backgroundcolor": "#E5ECF6",
            "gridcolor": "white",
            "gridwidth": 2,
            "linecolor": "white",
            "showbackground": true,
            "ticks": "",
            "zerolinecolor": "white"
           },
           "zaxis": {
            "backgroundcolor": "#E5ECF6",
            "gridcolor": "white",
            "gridwidth": 2,
            "linecolor": "white",
            "showbackground": true,
            "ticks": "",
            "zerolinecolor": "white"
           }
          },
          "shapedefaults": {
           "line": {
            "color": "#2a3f5f"
           }
          },
          "ternary": {
           "aaxis": {
            "gridcolor": "white",
            "linecolor": "white",
            "ticks": ""
           },
           "baxis": {
            "gridcolor": "white",
            "linecolor": "white",
            "ticks": ""
           },
           "bgcolor": "#E5ECF6",
           "caxis": {
            "gridcolor": "white",
            "linecolor": "white",
            "ticks": ""
           }
          },
          "title": {
           "x": 0.05
          },
          "xaxis": {
           "automargin": true,
           "gridcolor": "white",
           "linecolor": "white",
           "ticks": "",
           "title": {
            "standoff": 15
           },
           "zerolinecolor": "white",
           "zerolinewidth": 2
          },
          "yaxis": {
           "automargin": true,
           "gridcolor": "white",
           "linecolor": "white",
           "ticks": "",
           "title": {
            "standoff": 15
           },
           "zerolinecolor": "white",
           "zerolinewidth": 2
          }
         }
        },
        "title": {
         "font": {
          "color": "#4D5663"
         }
        },
        "xaxis": {
         "gridcolor": "#E1E5ED",
         "showgrid": true,
         "tickfont": {
          "color": "#4D5663"
         },
         "title": {
          "font": {
           "color": "#4D5663"
          },
          "text": ""
         },
         "zerolinecolor": "#E1E5ED"
        },
        "yaxis": {
         "gridcolor": "#E1E5ED",
         "showgrid": true,
         "tickfont": {
          "color": "#4D5663"
         },
         "title": {
          "font": {
           "color": "#4D5663"
          },
          "text": ""
         },
         "zerolinecolor": "#E1E5ED"
        }
       }
      },
      "text/html": [
       "<div>                            <div id=\"44db9c2b-bc6d-42fc-8f4f-cadff91179ea\" class=\"plotly-graph-div\" style=\"height:525px; width:100%;\"></div>            <script type=\"text/javascript\">                require([\"plotly\"], function(Plotly) {                    window.PLOTLYENV=window.PLOTLYENV || {};\n",
       "                    window.PLOTLYENV.BASE_URL='https://plot.ly';                                    if (document.getElementById(\"44db9c2b-bc6d-42fc-8f4f-cadff91179ea\")) {                    Plotly.newPlot(                        \"44db9c2b-bc6d-42fc-8f4f-cadff91179ea\",                        [{\"marker\":{\"color\":\"rgba(255, 153, 51, 0.6)\",\"line\":{\"color\":\"rgba(255, 153, 51, 1.0)\",\"width\":1}},\"name\":\"None\",\"orientation\":\"v\",\"text\":\"\",\"x\":[\"A\",\"B\",\"C\",\"D\"],\"y\":[100,100,100,100],\"type\":\"bar\"}],                        {\"legend\":{\"bgcolor\":\"#F5F6F9\",\"font\":{\"color\":\"#4D5663\"}},\"paper_bgcolor\":\"#F5F6F9\",\"plot_bgcolor\":\"#F5F6F9\",\"template\":{\"data\":{\"barpolar\":[{\"marker\":{\"line\":{\"color\":\"#E5ECF6\",\"width\":0.5},\"pattern\":{\"fillmode\":\"overlay\",\"size\":10,\"solidity\":0.2}},\"type\":\"barpolar\"}],\"bar\":[{\"error_x\":{\"color\":\"#2a3f5f\"},\"error_y\":{\"color\":\"#2a3f5f\"},\"marker\":{\"line\":{\"color\":\"#E5ECF6\",\"width\":0.5},\"pattern\":{\"fillmode\":\"overlay\",\"size\":10,\"solidity\":0.2}},\"type\":\"bar\"}],\"carpet\":[{\"aaxis\":{\"endlinecolor\":\"#2a3f5f\",\"gridcolor\":\"white\",\"linecolor\":\"white\",\"minorgridcolor\":\"white\",\"startlinecolor\":\"#2a3f5f\"},\"baxis\":{\"endlinecolor\":\"#2a3f5f\",\"gridcolor\":\"white\",\"linecolor\":\"white\",\"minorgridcolor\":\"white\",\"startlinecolor\":\"#2a3f5f\"},\"type\":\"carpet\"}],\"choropleth\":[{\"colorbar\":{\"outlinewidth\":0,\"ticks\":\"\"},\"type\":\"choropleth\"}],\"contourcarpet\":[{\"colorbar\":{\"outlinewidth\":0,\"ticks\":\"\"},\"type\":\"contourcarpet\"}],\"contour\":[{\"colorbar\":{\"outlinewidth\":0,\"ticks\":\"\"},\"colorscale\":[[0.0,\"#0d0887\"],[0.1111111111111111,\"#46039f\"],[0.2222222222222222,\"#7201a8\"],[0.3333333333333333,\"#9c179e\"],[0.4444444444444444,\"#bd3786\"],[0.5555555555555556,\"#d8576b\"],[0.6666666666666666,\"#ed7953\"],[0.7777777777777778,\"#fb9f3a\"],[0.8888888888888888,\"#fdca26\"],[1.0,\"#f0f921\"]],\"type\":\"contour\"}],\"heatmapgl\":[{\"colorbar\":{\"outlinewidth\":0,\"ticks\":\"\"},\"colorscale\":[[0.0,\"#0d0887\"],[0.1111111111111111,\"#46039f\"],[0.2222222222222222,\"#7201a8\"],[0.3333333333333333,\"#9c179e\"],[0.4444444444444444,\"#bd3786\"],[0.5555555555555556,\"#d8576b\"],[0.6666666666666666,\"#ed7953\"],[0.7777777777777778,\"#fb9f3a\"],[0.8888888888888888,\"#fdca26\"],[1.0,\"#f0f921\"]],\"type\":\"heatmapgl\"}],\"heatmap\":[{\"colorbar\":{\"outlinewidth\":0,\"ticks\":\"\"},\"colorscale\":[[0.0,\"#0d0887\"],[0.1111111111111111,\"#46039f\"],[0.2222222222222222,\"#7201a8\"],[0.3333333333333333,\"#9c179e\"],[0.4444444444444444,\"#bd3786\"],[0.5555555555555556,\"#d8576b\"],[0.6666666666666666,\"#ed7953\"],[0.7777777777777778,\"#fb9f3a\"],[0.8888888888888888,\"#fdca26\"],[1.0,\"#f0f921\"]],\"type\":\"heatmap\"}],\"histogram2dcontour\":[{\"colorbar\":{\"outlinewidth\":0,\"ticks\":\"\"},\"colorscale\":[[0.0,\"#0d0887\"],[0.1111111111111111,\"#46039f\"],[0.2222222222222222,\"#7201a8\"],[0.3333333333333333,\"#9c179e\"],[0.4444444444444444,\"#bd3786\"],[0.5555555555555556,\"#d8576b\"],[0.6666666666666666,\"#ed7953\"],[0.7777777777777778,\"#fb9f3a\"],[0.8888888888888888,\"#fdca26\"],[1.0,\"#f0f921\"]],\"type\":\"histogram2dcontour\"}],\"histogram2d\":[{\"colorbar\":{\"outlinewidth\":0,\"ticks\":\"\"},\"colorscale\":[[0.0,\"#0d0887\"],[0.1111111111111111,\"#46039f\"],[0.2222222222222222,\"#7201a8\"],[0.3333333333333333,\"#9c179e\"],[0.4444444444444444,\"#bd3786\"],[0.5555555555555556,\"#d8576b\"],[0.6666666666666666,\"#ed7953\"],[0.7777777777777778,\"#fb9f3a\"],[0.8888888888888888,\"#fdca26\"],[1.0,\"#f0f921\"]],\"type\":\"histogram2d\"}],\"histogram\":[{\"marker\":{\"pattern\":{\"fillmode\":\"overlay\",\"size\":10,\"solidity\":0.2}},\"type\":\"histogram\"}],\"mesh3d\":[{\"colorbar\":{\"outlinewidth\":0,\"ticks\":\"\"},\"type\":\"mesh3d\"}],\"parcoords\":[{\"line\":{\"colorbar\":{\"outlinewidth\":0,\"ticks\":\"\"}},\"type\":\"parcoords\"}],\"pie\":[{\"automargin\":true,\"type\":\"pie\"}],\"scatter3d\":[{\"line\":{\"colorbar\":{\"outlinewidth\":0,\"ticks\":\"\"}},\"marker\":{\"colorbar\":{\"outlinewidth\":0,\"ticks\":\"\"}},\"type\":\"scatter3d\"}],\"scattercarpet\":[{\"marker\":{\"colorbar\":{\"outlinewidth\":0,\"ticks\":\"\"}},\"type\":\"scattercarpet\"}],\"scattergeo\":[{\"marker\":{\"colorbar\":{\"outlinewidth\":0,\"ticks\":\"\"}},\"type\":\"scattergeo\"}],\"scattergl\":[{\"marker\":{\"colorbar\":{\"outlinewidth\":0,\"ticks\":\"\"}},\"type\":\"scattergl\"}],\"scattermapbox\":[{\"marker\":{\"colorbar\":{\"outlinewidth\":0,\"ticks\":\"\"}},\"type\":\"scattermapbox\"}],\"scatterpolargl\":[{\"marker\":{\"colorbar\":{\"outlinewidth\":0,\"ticks\":\"\"}},\"type\":\"scatterpolargl\"}],\"scatterpolar\":[{\"marker\":{\"colorbar\":{\"outlinewidth\":0,\"ticks\":\"\"}},\"type\":\"scatterpolar\"}],\"scatter\":[{\"fillpattern\":{\"fillmode\":\"overlay\",\"size\":10,\"solidity\":0.2},\"type\":\"scatter\"}],\"scatterternary\":[{\"marker\":{\"colorbar\":{\"outlinewidth\":0,\"ticks\":\"\"}},\"type\":\"scatterternary\"}],\"surface\":[{\"colorbar\":{\"outlinewidth\":0,\"ticks\":\"\"},\"colorscale\":[[0.0,\"#0d0887\"],[0.1111111111111111,\"#46039f\"],[0.2222222222222222,\"#7201a8\"],[0.3333333333333333,\"#9c179e\"],[0.4444444444444444,\"#bd3786\"],[0.5555555555555556,\"#d8576b\"],[0.6666666666666666,\"#ed7953\"],[0.7777777777777778,\"#fb9f3a\"],[0.8888888888888888,\"#fdca26\"],[1.0,\"#f0f921\"]],\"type\":\"surface\"}],\"table\":[{\"cells\":{\"fill\":{\"color\":\"#EBF0F8\"},\"line\":{\"color\":\"white\"}},\"header\":{\"fill\":{\"color\":\"#C8D4E3\"},\"line\":{\"color\":\"white\"}},\"type\":\"table\"}]},\"layout\":{\"annotationdefaults\":{\"arrowcolor\":\"#2a3f5f\",\"arrowhead\":0,\"arrowwidth\":1},\"autotypenumbers\":\"strict\",\"coloraxis\":{\"colorbar\":{\"outlinewidth\":0,\"ticks\":\"\"}},\"colorscale\":{\"diverging\":[[0,\"#8e0152\"],[0.1,\"#c51b7d\"],[0.2,\"#de77ae\"],[0.3,\"#f1b6da\"],[0.4,\"#fde0ef\"],[0.5,\"#f7f7f7\"],[0.6,\"#e6f5d0\"],[0.7,\"#b8e186\"],[0.8,\"#7fbc41\"],[0.9,\"#4d9221\"],[1,\"#276419\"]],\"sequential\":[[0.0,\"#0d0887\"],[0.1111111111111111,\"#46039f\"],[0.2222222222222222,\"#7201a8\"],[0.3333333333333333,\"#9c179e\"],[0.4444444444444444,\"#bd3786\"],[0.5555555555555556,\"#d8576b\"],[0.6666666666666666,\"#ed7953\"],[0.7777777777777778,\"#fb9f3a\"],[0.8888888888888888,\"#fdca26\"],[1.0,\"#f0f921\"]],\"sequentialminus\":[[0.0,\"#0d0887\"],[0.1111111111111111,\"#46039f\"],[0.2222222222222222,\"#7201a8\"],[0.3333333333333333,\"#9c179e\"],[0.4444444444444444,\"#bd3786\"],[0.5555555555555556,\"#d8576b\"],[0.6666666666666666,\"#ed7953\"],[0.7777777777777778,\"#fb9f3a\"],[0.8888888888888888,\"#fdca26\"],[1.0,\"#f0f921\"]]},\"colorway\":[\"#636efa\",\"#EF553B\",\"#00cc96\",\"#ab63fa\",\"#FFA15A\",\"#19d3f3\",\"#FF6692\",\"#B6E880\",\"#FF97FF\",\"#FECB52\"],\"font\":{\"color\":\"#2a3f5f\"},\"geo\":{\"bgcolor\":\"white\",\"lakecolor\":\"white\",\"landcolor\":\"#E5ECF6\",\"showlakes\":true,\"showland\":true,\"subunitcolor\":\"white\"},\"hoverlabel\":{\"align\":\"left\"},\"hovermode\":\"closest\",\"mapbox\":{\"style\":\"light\"},\"paper_bgcolor\":\"white\",\"plot_bgcolor\":\"#E5ECF6\",\"polar\":{\"angularaxis\":{\"gridcolor\":\"white\",\"linecolor\":\"white\",\"ticks\":\"\"},\"bgcolor\":\"#E5ECF6\",\"radialaxis\":{\"gridcolor\":\"white\",\"linecolor\":\"white\",\"ticks\":\"\"}},\"scene\":{\"xaxis\":{\"backgroundcolor\":\"#E5ECF6\",\"gridcolor\":\"white\",\"gridwidth\":2,\"linecolor\":\"white\",\"showbackground\":true,\"ticks\":\"\",\"zerolinecolor\":\"white\"},\"yaxis\":{\"backgroundcolor\":\"#E5ECF6\",\"gridcolor\":\"white\",\"gridwidth\":2,\"linecolor\":\"white\",\"showbackground\":true,\"ticks\":\"\",\"zerolinecolor\":\"white\"},\"zaxis\":{\"backgroundcolor\":\"#E5ECF6\",\"gridcolor\":\"white\",\"gridwidth\":2,\"linecolor\":\"white\",\"showbackground\":true,\"ticks\":\"\",\"zerolinecolor\":\"white\"}},\"shapedefaults\":{\"line\":{\"color\":\"#2a3f5f\"}},\"ternary\":{\"aaxis\":{\"gridcolor\":\"white\",\"linecolor\":\"white\",\"ticks\":\"\"},\"baxis\":{\"gridcolor\":\"white\",\"linecolor\":\"white\",\"ticks\":\"\"},\"bgcolor\":\"#E5ECF6\",\"caxis\":{\"gridcolor\":\"white\",\"linecolor\":\"white\",\"ticks\":\"\"}},\"title\":{\"x\":0.05},\"xaxis\":{\"automargin\":true,\"gridcolor\":\"white\",\"linecolor\":\"white\",\"ticks\":\"\",\"title\":{\"standoff\":15},\"zerolinecolor\":\"white\",\"zerolinewidth\":2},\"yaxis\":{\"automargin\":true,\"gridcolor\":\"white\",\"linecolor\":\"white\",\"ticks\":\"\",\"title\":{\"standoff\":15},\"zerolinecolor\":\"white\",\"zerolinewidth\":2}}},\"title\":{\"font\":{\"color\":\"#4D5663\"}},\"xaxis\":{\"gridcolor\":\"#E1E5ED\",\"showgrid\":true,\"tickfont\":{\"color\":\"#4D5663\"},\"title\":{\"font\":{\"color\":\"#4D5663\"},\"text\":\"\"},\"zerolinecolor\":\"#E1E5ED\"},\"yaxis\":{\"gridcolor\":\"#E1E5ED\",\"showgrid\":true,\"tickfont\":{\"color\":\"#4D5663\"},\"title\":{\"font\":{\"color\":\"#4D5663\"},\"text\":\"\"},\"zerolinecolor\":\"#E1E5ED\"}},                        {\"showLink\": true, \"linkText\": \"Export to plot.ly\", \"plotlyServerURL\": \"https://plot.ly\", \"responsive\": true}                    ).then(function(){\n",
       "                            \n",
       "var gd = document.getElementById('44db9c2b-bc6d-42fc-8f4f-cadff91179ea');\n",
       "var x = new MutationObserver(function (mutations, observer) {{\n",
       "        var display = window.getComputedStyle(gd).display;\n",
       "        if (!display || display === 'none') {{\n",
       "            console.log([gd, 'removed!']);\n",
       "            Plotly.purge(gd);\n",
       "            observer.disconnect();\n",
       "        }}\n",
       "}});\n",
       "\n",
       "// Listen for the removal of the full notebook cells\n",
       "var notebookContainer = gd.closest('#notebook-container');\n",
       "if (notebookContainer) {{\n",
       "    x.observe(notebookContainer, {childList: true});\n",
       "}}\n",
       "\n",
       "// Listen for the clearing of the current output cell\n",
       "var outputEl = gd.closest('.output');\n",
       "if (outputEl) {{\n",
       "    x.observe(outputEl, {childList: true});\n",
       "}}\n",
       "\n",
       "                        })                };                });            </script>        </div>"
      ]
     },
     "metadata": {},
     "output_type": "display_data"
    }
   ],
   "source": [
    "df.count().iplot(kind='bar')"
   ]
  },
  {
   "cell_type": "markdown",
   "metadata": {},
   "source": [
    "## Boxplots"
   ]
  },
  {
   "cell_type": "code",
   "execution_count": 15,
   "metadata": {},
   "outputs": [
    {
     "data": {
      "application/vnd.plotly.v1+json": {
       "config": {
        "linkText": "Export to plot.ly",
        "plotlyServerURL": "https://plot.ly",
        "showLink": true
       },
       "data": [
        {
         "boxpoints": false,
         "line": {
          "width": 1.3
         },
         "marker": {
          "color": "rgba(255, 153, 51, 1.0)"
         },
         "name": "A",
         "orientation": "v",
         "type": "box",
         "y": [
          1.8243129259995166,
          0.19608475400175768,
          -0.6053188770897872,
          0.8911968956639813,
          1.0070855293069285,
          -0.8014471338364257,
          -0.9924125538103235,
          0.6589442869722124,
          -0.014050001002884725,
          0.07518373531629381,
          -0.36474810809089014,
          1.3213713674994056,
          -1.3390868001532397,
          2.0157661712051587,
          0.702026132198567,
          -0.980743213672751,
          -1.290183167745645,
          -0.034866885767344466,
          1.3244596009270821,
          0.46914853441326737,
          1.811113937836261,
          -0.31191244635793713,
          -0.44645210590499096,
          -0.47723670876074775,
          -0.7041383254890567,
          -1.0201756035449587,
          1.3557072710334452,
          -0.6307039403442191,
          -1.0790513559403063,
          1.5061983883651782,
          -1.1546177021329875,
          1.2553753887543317,
          0.15018352623167674,
          -0.5988057076920157,
          0.5380983515180622,
          0.9759791860363404,
          -0.7833975692914159,
          -0.9189649613532611,
          -0.0974760456801578,
          0.3429586783883424,
          -0.6191550076924058,
          -2.1039659473643173,
          0.8350223435673302,
          0.6318776376503721,
          0.06918376203837928,
          -0.9540441738215512,
          1.0623602869959006,
          -0.04214282767279125,
          1.0236001005414836,
          2.768834106807123,
          -0.34962680392505013,
          -1.9587267869592255,
          0.21487117500607636,
          -0.7195032292037042,
          0.20890306000942607,
          -0.6473154003389758,
          0.7544595643203549,
          0.4697360100064573,
          0.11029082781862608,
          -0.09295678672354084,
          -0.7844564187290143,
          1.22551840597947,
          0.1733457984754417,
          -1.5674530556863537,
          -0.12719427915234527,
          1.2969218378364398,
          -0.47955826843769805,
          -1.0917495191808468,
          0.22136705963048148,
          -0.9351966540884519,
          1.019493096539831,
          2.516073211595525,
          1.5376854720253375,
          -1.3831508907611931,
          -1.9191831893194957,
          0.44359556475430645,
          -0.8246593181297605,
          -0.2100864028503051,
          0.9547760587601132,
          -0.2653278159042679,
          0.8362410698154421,
          -1.206447309739462,
          1.3929084051796088,
          1.6164208225232148,
          0.33581060384052197,
          -1.2146714988178433,
          0.45484819640518204,
          1.1003564183064294,
          -0.0545126540500522,
          -1.6473224078317383,
          1.0928108115908042,
          -0.16389643281667396,
          -0.6544788103037372,
          -1.3716173109397398,
          0.3395650647243976,
          -1.147263981725478,
          1.2174640192307618,
          -0.21249306896884895,
          -1.096053716026816,
          2.3900037580866145
         ]
        },
        {
         "boxpoints": false,
         "line": {
          "width": 1.3
         },
         "marker": {
          "color": "rgba(55, 128, 191, 1.0)"
         },
         "name": "B",
         "orientation": "v",
         "type": "box",
         "y": [
          0.583131544660661,
          -0.13361300439365476,
          -0.04123704831597834,
          0.0014680131745039354,
          1.438466824959959,
          0.5541476788726151,
          -1.1310893635390038,
          -0.5623452390437628,
          -0.670234518530269,
          0.545812634382133,
          -0.3624818654591015,
          0.1701678549417786,
          0.3581879479821975,
          -2.887380914691166,
          -0.13478783996064245,
          -0.8588668905175264,
          -0.8938984223234923,
          0.19181727804293225,
          -0.028983423455619165,
          -0.019052996185692665,
          -1.1602446579879755,
          0.08121421004235378,
          1.3352220481800035,
          0.35807277726483344,
          -0.9409924776717753,
          -1.8503080091673934,
          -0.6870106893491648,
          0.8314233325875332,
          0.02274811954883968,
          0.9194055377055831,
          -0.7740446909882256,
          -0.22978997934892423,
          0.17286979761015278,
          -1.8144485916502244,
          0.10019030223493725,
          0.6543032593357595,
          0.002882968517779104,
          -0.614448403963407,
          1.4894537976884068,
          -0.5184176501024136,
          0.8510492801098789,
          1.6907679823457193,
          -0.7252403229757054,
          -1.8548965808613855,
          -0.9279085762381253,
          -0.19262867996165262,
          0.26506477791439476,
          2.149363109679803,
          1.551901938062469,
          0.9498725527680408,
          -0.5798412074414184,
          -1.8392247543767455,
          -0.3001332641170957,
          -0.8038995410085215,
          -0.8356561490437464,
          0.7841323972572954,
          -0.30929122537950327,
          1.0137109697249589,
          1.3640708249499136,
          0.14797119237972522,
          -1.5140703332552574,
          -0.37335951646331544,
          0.06906016347182198,
          0.0071806358751329985,
          -0.3287712644324699,
          0.9244322653350652,
          -2.065891711445297,
          0.5545434773856838,
          -0.1155953279380719,
          1.2903641107677892,
          0.8844881302921291,
          -0.7085242639802346,
          -1.1299614703443237,
          -1.7164506836065332,
          0.31064937293329015,
          1.365766364043925,
          -0.7735412746528428,
          0.10817543607704204,
          0.4800268444616799,
          1.4983655949771244,
          0.5891832919635394,
          0.15306708133909158,
          1.1592892480331136,
          -0.14279951141742664,
          0.018543837761865134,
          -1.4673943968795782,
          -0.6694224768413874,
          -0.41465428943287297,
          -0.17348747003891735,
          1.1353060114559579,
          -0.33408295386952674,
          1.7553588384503196,
          -0.2110048275984787,
          0.42849832241419883,
          -1.429062493144599,
          0.9951538223316054,
          0.8098824701408762,
          0.3884108342548283,
          -0.1558889174937159,
          -0.11031426067805795
         ]
        },
        {
         "boxpoints": false,
         "line": {
          "width": 1.3
         },
         "marker": {
          "color": "rgba(50, 171, 96, 1.0)"
         },
         "name": "C",
         "orientation": "v",
         "type": "box",
         "y": [
          -1.693048144015689,
          -1.3820659539304376,
          -0.26186400911819513,
          -1.0943028842204392,
          -0.1533319254439035,
          -0.8289270580708209,
          -0.71611152238171,
          0.6544385185656098,
          0.3377575632481237,
          -0.03094272558223115,
          1.8010033601804232,
          -0.10727422285068922,
          0.566144777915916,
          -0.13710599455104144,
          -0.2449345581601094,
          -0.11600157203091759,
          -0.14629718409137737,
          -1.7329882960528853,
          1.2319909113435485,
          -0.13369819930571536,
          1.609863283277939,
          1.7449939659444273,
          0.8399343156048075,
          0.37731061895592993,
          -0.7282714727916014,
          0.8860341534062506,
          -1.253411398579617,
          0.11633332913520288,
          -0.632981440630921,
          -1.0692585180057435,
          0.1538169387080856,
          0.355039612407412,
          0.7509673565058888,
          -0.8982063906590393,
          -0.11783310183402967,
          -0.8798347290637953,
          0.3213739063860632,
          0.7818389362640916,
          -1.0938405254290327,
          -1.0980291355236236,
          -0.37168031024514525,
          0.5441216652049065,
          -0.14918498663229482,
          1.1914548974584076,
          -0.8774363463518473,
          1.6443018312374444,
          0.8759261916149548,
          0.5468738581037398,
          -1.3125834674129604,
          -0.2924070273968226,
          2.3520661756263728,
          1.9305197417893065,
          -0.7595991589728462,
          0.28241038892889364,
          1.2494497552930661,
          0.8735381398826013,
          -0.670934797445289,
          0.46858679660223523,
          -0.07647238236764087,
          0.45407368586428287,
          -1.92237084263108,
          -0.8681506658075451,
          0.6871096311729753,
          0.07549454003141241,
          1.13433043875947,
          1.670257948790717,
          -0.41713617912010337,
          0.601607936166473,
          0.29337914616140837,
          -1.6752928345799873,
          -0.03762707724466671,
          -0.26748171433033263,
          -2.0328761820275876,
          0.6239303517626071,
          -0.037989095688061185,
          0.11732456565129386,
          0.8229516489326429,
          1.1587071278694778,
          0.8166241399492339,
          0.5551856219587835,
          1.6541208711771906,
          -1.360612379808308,
          0.41000439813595485,
          -0.8135001608549873,
          -0.3374398086999169,
          0.9448560947900039,
          -0.8427325029537508,
          -0.977731272333857,
          1.0796168156279038,
          -0.17676871507325598,
          -0.9414533043378169,
          0.3333553678156752,
          -0.8212125542345594,
          -0.06698328081807278,
          0.990027435975039,
          -1.0842557843861187,
          -0.6558631811726069,
          0.29956295333194977,
          -0.6429554088690916,
          0.8000929639274643
         ]
        },
        {
         "boxpoints": false,
         "line": {
          "width": 1.3
         },
         "marker": {
          "color": "rgba(128, 0, 128, 1.0)"
         },
         "name": "D",
         "orientation": "v",
         "type": "box",
         "y": [
          0.05364048207260595,
          -1.6415014900014182,
          0.1560446938057477,
          1.0642370745611147,
          -0.5027503734044894,
          -0.16847600244086813,
          0.03769768649841975,
          0.4404443029957614,
          -1.6579050752815891,
          1.8601987778014237,
          -0.15265903655033689,
          0.37129316680948793,
          -0.08803610612264272,
          -0.012170020280144352,
          -0.031754703520787894,
          0.12040845468606767,
          0.6661817596237033,
          0.4351590541521421,
          0.3874501304536663,
          0.6506182333957212,
          -0.3543112673939216,
          0.07133346409774055,
          -0.4563271241235071,
          0.3067131713241251,
          -0.1825980303133153,
          0.5193130694959607,
          -1.793604809992783,
          -1.6337123268288474,
          -0.11194926057402858,
          -0.6206104376633367,
          0.42743206030208597,
          -1.4192078676325863,
          -0.952313115078617,
          0.28624040037662163,
          0.19143852583850562,
          0.11552415341179897,
          -0.7528536232121964,
          -0.6732879417286711,
          -0.8522197068472054,
          -0.7859007817991804,
          0.5963342736675762,
          1.6184674307529368,
          0.7014689277608404,
          1.283323978524507,
          0.7830464604043736,
          -0.6654174297433695,
          0.931850500204895,
          -0.35402395153670324,
          -0.602258800736354,
          0.7244485868398755,
          -0.6649938025189891,
          0.21018636499470508,
          -0.19685471819127484,
          -0.19916017586044676,
          2.1644487557138286,
          -0.6866260230014049,
          1.1163078640078368,
          -0.04046594753613875,
          -0.25670197406150547,
          1.1012493039101279,
          0.9509449169491229,
          -0.22197875278076207,
          -0.3034821972704745,
          -0.5463023263958524,
          -0.01885680378734175,
          -0.55143885727557,
          1.841061816977951,
          -1.8084991267664081,
          -0.39628794946808954,
          -0.782202772473188,
          -0.6545173575747144,
          0.49449191900543366,
          -0.8211223688970272,
          -0.33147197435657905,
          0.8529223538238252,
          -1.4402138964755826,
          0.3148874254607986,
          -0.2935572438480311,
          0.29863149749985335,
          0.07113287972824318,
          -0.5189069614956773,
          -0.12131866130997336,
          -0.7913412375343849,
          0.0380089568679243,
          0.30793067750781017,
          -0.39077610071231206,
          -0.812864552609696,
          -0.39397551873666986,
          0.165632610091109,
          0.8852436831944863,
          1.1550648442438702,
          -1.4633524427846236,
          -1.6009707857029245,
          -1.1434752903692167,
          -0.5733830053143328,
          0.9072694529724188,
          0.034483048803851675,
          0.9406194945585669,
          2.051609120582376,
          0.17819939883882124
         ]
        }
       ],
       "layout": {
        "legend": {
         "bgcolor": "#F5F6F9",
         "font": {
          "color": "#4D5663"
         }
        },
        "paper_bgcolor": "#F5F6F9",
        "plot_bgcolor": "#F5F6F9",
        "template": {
         "data": {
          "bar": [
           {
            "error_x": {
             "color": "#2a3f5f"
            },
            "error_y": {
             "color": "#2a3f5f"
            },
            "marker": {
             "line": {
              "color": "#E5ECF6",
              "width": 0.5
             },
             "pattern": {
              "fillmode": "overlay",
              "size": 10,
              "solidity": 0.2
             }
            },
            "type": "bar"
           }
          ],
          "barpolar": [
           {
            "marker": {
             "line": {
              "color": "#E5ECF6",
              "width": 0.5
             },
             "pattern": {
              "fillmode": "overlay",
              "size": 10,
              "solidity": 0.2
             }
            },
            "type": "barpolar"
           }
          ],
          "carpet": [
           {
            "aaxis": {
             "endlinecolor": "#2a3f5f",
             "gridcolor": "white",
             "linecolor": "white",
             "minorgridcolor": "white",
             "startlinecolor": "#2a3f5f"
            },
            "baxis": {
             "endlinecolor": "#2a3f5f",
             "gridcolor": "white",
             "linecolor": "white",
             "minorgridcolor": "white",
             "startlinecolor": "#2a3f5f"
            },
            "type": "carpet"
           }
          ],
          "choropleth": [
           {
            "colorbar": {
             "outlinewidth": 0,
             "ticks": ""
            },
            "type": "choropleth"
           }
          ],
          "contour": [
           {
            "colorbar": {
             "outlinewidth": 0,
             "ticks": ""
            },
            "colorscale": [
             [
              0,
              "#0d0887"
             ],
             [
              0.1111111111111111,
              "#46039f"
             ],
             [
              0.2222222222222222,
              "#7201a8"
             ],
             [
              0.3333333333333333,
              "#9c179e"
             ],
             [
              0.4444444444444444,
              "#bd3786"
             ],
             [
              0.5555555555555556,
              "#d8576b"
             ],
             [
              0.6666666666666666,
              "#ed7953"
             ],
             [
              0.7777777777777778,
              "#fb9f3a"
             ],
             [
              0.8888888888888888,
              "#fdca26"
             ],
             [
              1,
              "#f0f921"
             ]
            ],
            "type": "contour"
           }
          ],
          "contourcarpet": [
           {
            "colorbar": {
             "outlinewidth": 0,
             "ticks": ""
            },
            "type": "contourcarpet"
           }
          ],
          "heatmap": [
           {
            "colorbar": {
             "outlinewidth": 0,
             "ticks": ""
            },
            "colorscale": [
             [
              0,
              "#0d0887"
             ],
             [
              0.1111111111111111,
              "#46039f"
             ],
             [
              0.2222222222222222,
              "#7201a8"
             ],
             [
              0.3333333333333333,
              "#9c179e"
             ],
             [
              0.4444444444444444,
              "#bd3786"
             ],
             [
              0.5555555555555556,
              "#d8576b"
             ],
             [
              0.6666666666666666,
              "#ed7953"
             ],
             [
              0.7777777777777778,
              "#fb9f3a"
             ],
             [
              0.8888888888888888,
              "#fdca26"
             ],
             [
              1,
              "#f0f921"
             ]
            ],
            "type": "heatmap"
           }
          ],
          "heatmapgl": [
           {
            "colorbar": {
             "outlinewidth": 0,
             "ticks": ""
            },
            "colorscale": [
             [
              0,
              "#0d0887"
             ],
             [
              0.1111111111111111,
              "#46039f"
             ],
             [
              0.2222222222222222,
              "#7201a8"
             ],
             [
              0.3333333333333333,
              "#9c179e"
             ],
             [
              0.4444444444444444,
              "#bd3786"
             ],
             [
              0.5555555555555556,
              "#d8576b"
             ],
             [
              0.6666666666666666,
              "#ed7953"
             ],
             [
              0.7777777777777778,
              "#fb9f3a"
             ],
             [
              0.8888888888888888,
              "#fdca26"
             ],
             [
              1,
              "#f0f921"
             ]
            ],
            "type": "heatmapgl"
           }
          ],
          "histogram": [
           {
            "marker": {
             "pattern": {
              "fillmode": "overlay",
              "size": 10,
              "solidity": 0.2
             }
            },
            "type": "histogram"
           }
          ],
          "histogram2d": [
           {
            "colorbar": {
             "outlinewidth": 0,
             "ticks": ""
            },
            "colorscale": [
             [
              0,
              "#0d0887"
             ],
             [
              0.1111111111111111,
              "#46039f"
             ],
             [
              0.2222222222222222,
              "#7201a8"
             ],
             [
              0.3333333333333333,
              "#9c179e"
             ],
             [
              0.4444444444444444,
              "#bd3786"
             ],
             [
              0.5555555555555556,
              "#d8576b"
             ],
             [
              0.6666666666666666,
              "#ed7953"
             ],
             [
              0.7777777777777778,
              "#fb9f3a"
             ],
             [
              0.8888888888888888,
              "#fdca26"
             ],
             [
              1,
              "#f0f921"
             ]
            ],
            "type": "histogram2d"
           }
          ],
          "histogram2dcontour": [
           {
            "colorbar": {
             "outlinewidth": 0,
             "ticks": ""
            },
            "colorscale": [
             [
              0,
              "#0d0887"
             ],
             [
              0.1111111111111111,
              "#46039f"
             ],
             [
              0.2222222222222222,
              "#7201a8"
             ],
             [
              0.3333333333333333,
              "#9c179e"
             ],
             [
              0.4444444444444444,
              "#bd3786"
             ],
             [
              0.5555555555555556,
              "#d8576b"
             ],
             [
              0.6666666666666666,
              "#ed7953"
             ],
             [
              0.7777777777777778,
              "#fb9f3a"
             ],
             [
              0.8888888888888888,
              "#fdca26"
             ],
             [
              1,
              "#f0f921"
             ]
            ],
            "type": "histogram2dcontour"
           }
          ],
          "mesh3d": [
           {
            "colorbar": {
             "outlinewidth": 0,
             "ticks": ""
            },
            "type": "mesh3d"
           }
          ],
          "parcoords": [
           {
            "line": {
             "colorbar": {
              "outlinewidth": 0,
              "ticks": ""
             }
            },
            "type": "parcoords"
           }
          ],
          "pie": [
           {
            "automargin": true,
            "type": "pie"
           }
          ],
          "scatter": [
           {
            "fillpattern": {
             "fillmode": "overlay",
             "size": 10,
             "solidity": 0.2
            },
            "type": "scatter"
           }
          ],
          "scatter3d": [
           {
            "line": {
             "colorbar": {
              "outlinewidth": 0,
              "ticks": ""
             }
            },
            "marker": {
             "colorbar": {
              "outlinewidth": 0,
              "ticks": ""
             }
            },
            "type": "scatter3d"
           }
          ],
          "scattercarpet": [
           {
            "marker": {
             "colorbar": {
              "outlinewidth": 0,
              "ticks": ""
             }
            },
            "type": "scattercarpet"
           }
          ],
          "scattergeo": [
           {
            "marker": {
             "colorbar": {
              "outlinewidth": 0,
              "ticks": ""
             }
            },
            "type": "scattergeo"
           }
          ],
          "scattergl": [
           {
            "marker": {
             "colorbar": {
              "outlinewidth": 0,
              "ticks": ""
             }
            },
            "type": "scattergl"
           }
          ],
          "scattermapbox": [
           {
            "marker": {
             "colorbar": {
              "outlinewidth": 0,
              "ticks": ""
             }
            },
            "type": "scattermapbox"
           }
          ],
          "scatterpolar": [
           {
            "marker": {
             "colorbar": {
              "outlinewidth": 0,
              "ticks": ""
             }
            },
            "type": "scatterpolar"
           }
          ],
          "scatterpolargl": [
           {
            "marker": {
             "colorbar": {
              "outlinewidth": 0,
              "ticks": ""
             }
            },
            "type": "scatterpolargl"
           }
          ],
          "scatterternary": [
           {
            "marker": {
             "colorbar": {
              "outlinewidth": 0,
              "ticks": ""
             }
            },
            "type": "scatterternary"
           }
          ],
          "surface": [
           {
            "colorbar": {
             "outlinewidth": 0,
             "ticks": ""
            },
            "colorscale": [
             [
              0,
              "#0d0887"
             ],
             [
              0.1111111111111111,
              "#46039f"
             ],
             [
              0.2222222222222222,
              "#7201a8"
             ],
             [
              0.3333333333333333,
              "#9c179e"
             ],
             [
              0.4444444444444444,
              "#bd3786"
             ],
             [
              0.5555555555555556,
              "#d8576b"
             ],
             [
              0.6666666666666666,
              "#ed7953"
             ],
             [
              0.7777777777777778,
              "#fb9f3a"
             ],
             [
              0.8888888888888888,
              "#fdca26"
             ],
             [
              1,
              "#f0f921"
             ]
            ],
            "type": "surface"
           }
          ],
          "table": [
           {
            "cells": {
             "fill": {
              "color": "#EBF0F8"
             },
             "line": {
              "color": "white"
             }
            },
            "header": {
             "fill": {
              "color": "#C8D4E3"
             },
             "line": {
              "color": "white"
             }
            },
            "type": "table"
           }
          ]
         },
         "layout": {
          "annotationdefaults": {
           "arrowcolor": "#2a3f5f",
           "arrowhead": 0,
           "arrowwidth": 1
          },
          "autotypenumbers": "strict",
          "coloraxis": {
           "colorbar": {
            "outlinewidth": 0,
            "ticks": ""
           }
          },
          "colorscale": {
           "diverging": [
            [
             0,
             "#8e0152"
            ],
            [
             0.1,
             "#c51b7d"
            ],
            [
             0.2,
             "#de77ae"
            ],
            [
             0.3,
             "#f1b6da"
            ],
            [
             0.4,
             "#fde0ef"
            ],
            [
             0.5,
             "#f7f7f7"
            ],
            [
             0.6,
             "#e6f5d0"
            ],
            [
             0.7,
             "#b8e186"
            ],
            [
             0.8,
             "#7fbc41"
            ],
            [
             0.9,
             "#4d9221"
            ],
            [
             1,
             "#276419"
            ]
           ],
           "sequential": [
            [
             0,
             "#0d0887"
            ],
            [
             0.1111111111111111,
             "#46039f"
            ],
            [
             0.2222222222222222,
             "#7201a8"
            ],
            [
             0.3333333333333333,
             "#9c179e"
            ],
            [
             0.4444444444444444,
             "#bd3786"
            ],
            [
             0.5555555555555556,
             "#d8576b"
            ],
            [
             0.6666666666666666,
             "#ed7953"
            ],
            [
             0.7777777777777778,
             "#fb9f3a"
            ],
            [
             0.8888888888888888,
             "#fdca26"
            ],
            [
             1,
             "#f0f921"
            ]
           ],
           "sequentialminus": [
            [
             0,
             "#0d0887"
            ],
            [
             0.1111111111111111,
             "#46039f"
            ],
            [
             0.2222222222222222,
             "#7201a8"
            ],
            [
             0.3333333333333333,
             "#9c179e"
            ],
            [
             0.4444444444444444,
             "#bd3786"
            ],
            [
             0.5555555555555556,
             "#d8576b"
            ],
            [
             0.6666666666666666,
             "#ed7953"
            ],
            [
             0.7777777777777778,
             "#fb9f3a"
            ],
            [
             0.8888888888888888,
             "#fdca26"
            ],
            [
             1,
             "#f0f921"
            ]
           ]
          },
          "colorway": [
           "#636efa",
           "#EF553B",
           "#00cc96",
           "#ab63fa",
           "#FFA15A",
           "#19d3f3",
           "#FF6692",
           "#B6E880",
           "#FF97FF",
           "#FECB52"
          ],
          "font": {
           "color": "#2a3f5f"
          },
          "geo": {
           "bgcolor": "white",
           "lakecolor": "white",
           "landcolor": "#E5ECF6",
           "showlakes": true,
           "showland": true,
           "subunitcolor": "white"
          },
          "hoverlabel": {
           "align": "left"
          },
          "hovermode": "closest",
          "mapbox": {
           "style": "light"
          },
          "paper_bgcolor": "white",
          "plot_bgcolor": "#E5ECF6",
          "polar": {
           "angularaxis": {
            "gridcolor": "white",
            "linecolor": "white",
            "ticks": ""
           },
           "bgcolor": "#E5ECF6",
           "radialaxis": {
            "gridcolor": "white",
            "linecolor": "white",
            "ticks": ""
           }
          },
          "scene": {
           "xaxis": {
            "backgroundcolor": "#E5ECF6",
            "gridcolor": "white",
            "gridwidth": 2,
            "linecolor": "white",
            "showbackground": true,
            "ticks": "",
            "zerolinecolor": "white"
           },
           "yaxis": {
            "backgroundcolor": "#E5ECF6",
            "gridcolor": "white",
            "gridwidth": 2,
            "linecolor": "white",
            "showbackground": true,
            "ticks": "",
            "zerolinecolor": "white"
           },
           "zaxis": {
            "backgroundcolor": "#E5ECF6",
            "gridcolor": "white",
            "gridwidth": 2,
            "linecolor": "white",
            "showbackground": true,
            "ticks": "",
            "zerolinecolor": "white"
           }
          },
          "shapedefaults": {
           "line": {
            "color": "#2a3f5f"
           }
          },
          "ternary": {
           "aaxis": {
            "gridcolor": "white",
            "linecolor": "white",
            "ticks": ""
           },
           "baxis": {
            "gridcolor": "white",
            "linecolor": "white",
            "ticks": ""
           },
           "bgcolor": "#E5ECF6",
           "caxis": {
            "gridcolor": "white",
            "linecolor": "white",
            "ticks": ""
           }
          },
          "title": {
           "x": 0.05
          },
          "xaxis": {
           "automargin": true,
           "gridcolor": "white",
           "linecolor": "white",
           "ticks": "",
           "title": {
            "standoff": 15
           },
           "zerolinecolor": "white",
           "zerolinewidth": 2
          },
          "yaxis": {
           "automargin": true,
           "gridcolor": "white",
           "linecolor": "white",
           "ticks": "",
           "title": {
            "standoff": 15
           },
           "zerolinecolor": "white",
           "zerolinewidth": 2
          }
         }
        },
        "title": {
         "font": {
          "color": "#4D5663"
         }
        },
        "xaxis": {
         "gridcolor": "#E1E5ED",
         "showgrid": true,
         "tickfont": {
          "color": "#4D5663"
         },
         "title": {
          "font": {
           "color": "#4D5663"
          },
          "text": ""
         },
         "zerolinecolor": "#E1E5ED"
        },
        "yaxis": {
         "gridcolor": "#E1E5ED",
         "showgrid": true,
         "tickfont": {
          "color": "#4D5663"
         },
         "title": {
          "font": {
           "color": "#4D5663"
          },
          "text": ""
         },
         "zerolinecolor": "#E1E5ED"
        }
       }
      },
      "text/html": [
       "<div>                            <div id=\"a03e4f1e-e5ee-4e9b-8be3-4570c928d968\" class=\"plotly-graph-div\" style=\"height:525px; width:100%;\"></div>            <script type=\"text/javascript\">                require([\"plotly\"], function(Plotly) {                    window.PLOTLYENV=window.PLOTLYENV || {};\n",
       "                    window.PLOTLYENV.BASE_URL='https://plot.ly';                                    if (document.getElementById(\"a03e4f1e-e5ee-4e9b-8be3-4570c928d968\")) {                    Plotly.newPlot(                        \"a03e4f1e-e5ee-4e9b-8be3-4570c928d968\",                        [{\"boxpoints\":false,\"line\":{\"width\":1.3},\"marker\":{\"color\":\"rgba(255, 153, 51, 1.0)\"},\"name\":\"A\",\"orientation\":\"v\",\"y\":[1.8243129259995166,0.19608475400175768,-0.6053188770897872,0.8911968956639813,1.0070855293069285,-0.8014471338364257,-0.9924125538103235,0.6589442869722124,-0.014050001002884725,0.07518373531629381,-0.36474810809089014,1.3213713674994056,-1.3390868001532397,2.0157661712051587,0.702026132198567,-0.980743213672751,-1.290183167745645,-0.034866885767344466,1.3244596009270821,0.46914853441326737,1.811113937836261,-0.31191244635793713,-0.44645210590499096,-0.47723670876074775,-0.7041383254890567,-1.0201756035449587,1.3557072710334452,-0.6307039403442191,-1.0790513559403063,1.5061983883651782,-1.1546177021329875,1.2553753887543317,0.15018352623167674,-0.5988057076920157,0.5380983515180622,0.9759791860363404,-0.7833975692914159,-0.9189649613532611,-0.0974760456801578,0.3429586783883424,-0.6191550076924058,-2.1039659473643173,0.8350223435673302,0.6318776376503721,0.06918376203837928,-0.9540441738215512,1.0623602869959006,-0.04214282767279125,1.0236001005414836,2.768834106807123,-0.34962680392505013,-1.9587267869592255,0.21487117500607636,-0.7195032292037042,0.20890306000942607,-0.6473154003389758,0.7544595643203549,0.4697360100064573,0.11029082781862608,-0.09295678672354084,-0.7844564187290143,1.22551840597947,0.1733457984754417,-1.5674530556863537,-0.12719427915234527,1.2969218378364398,-0.47955826843769805,-1.0917495191808468,0.22136705963048148,-0.9351966540884519,1.019493096539831,2.516073211595525,1.5376854720253375,-1.3831508907611931,-1.9191831893194957,0.44359556475430645,-0.8246593181297605,-0.2100864028503051,0.9547760587601132,-0.2653278159042679,0.8362410698154421,-1.206447309739462,1.3929084051796088,1.6164208225232148,0.33581060384052197,-1.2146714988178433,0.45484819640518204,1.1003564183064294,-0.0545126540500522,-1.6473224078317383,1.0928108115908042,-0.16389643281667396,-0.6544788103037372,-1.3716173109397398,0.3395650647243976,-1.147263981725478,1.2174640192307618,-0.21249306896884895,-1.096053716026816,2.3900037580866145],\"type\":\"box\"},{\"boxpoints\":false,\"line\":{\"width\":1.3},\"marker\":{\"color\":\"rgba(55, 128, 191, 1.0)\"},\"name\":\"B\",\"orientation\":\"v\",\"y\":[0.583131544660661,-0.13361300439365476,-0.04123704831597834,0.0014680131745039354,1.438466824959959,0.5541476788726151,-1.1310893635390038,-0.5623452390437628,-0.670234518530269,0.545812634382133,-0.3624818654591015,0.1701678549417786,0.3581879479821975,-2.887380914691166,-0.13478783996064245,-0.8588668905175264,-0.8938984223234923,0.19181727804293225,-0.028983423455619165,-0.019052996185692665,-1.1602446579879755,0.08121421004235378,1.3352220481800035,0.35807277726483344,-0.9409924776717753,-1.8503080091673934,-0.6870106893491648,0.8314233325875332,0.02274811954883968,0.9194055377055831,-0.7740446909882256,-0.22978997934892423,0.17286979761015278,-1.8144485916502244,0.10019030223493725,0.6543032593357595,0.002882968517779104,-0.614448403963407,1.4894537976884068,-0.5184176501024136,0.8510492801098789,1.6907679823457193,-0.7252403229757054,-1.8548965808613855,-0.9279085762381253,-0.19262867996165262,0.26506477791439476,2.149363109679803,1.551901938062469,0.9498725527680408,-0.5798412074414184,-1.8392247543767455,-0.3001332641170957,-0.8038995410085215,-0.8356561490437464,0.7841323972572954,-0.30929122537950327,1.0137109697249589,1.3640708249499136,0.14797119237972522,-1.5140703332552574,-0.37335951646331544,0.06906016347182198,0.0071806358751329985,-0.3287712644324699,0.9244322653350652,-2.065891711445297,0.5545434773856838,-0.1155953279380719,1.2903641107677892,0.8844881302921291,-0.7085242639802346,-1.1299614703443237,-1.7164506836065332,0.31064937293329015,1.365766364043925,-0.7735412746528428,0.10817543607704204,0.4800268444616799,1.4983655949771244,0.5891832919635394,0.15306708133909158,1.1592892480331136,-0.14279951141742664,0.018543837761865134,-1.4673943968795782,-0.6694224768413874,-0.41465428943287297,-0.17348747003891735,1.1353060114559579,-0.33408295386952674,1.7553588384503196,-0.2110048275984787,0.42849832241419883,-1.429062493144599,0.9951538223316054,0.8098824701408762,0.3884108342548283,-0.1558889174937159,-0.11031426067805795],\"type\":\"box\"},{\"boxpoints\":false,\"line\":{\"width\":1.3},\"marker\":{\"color\":\"rgba(50, 171, 96, 1.0)\"},\"name\":\"C\",\"orientation\":\"v\",\"y\":[-1.693048144015689,-1.3820659539304376,-0.26186400911819513,-1.0943028842204392,-0.1533319254439035,-0.8289270580708209,-0.71611152238171,0.6544385185656098,0.3377575632481237,-0.03094272558223115,1.8010033601804232,-0.10727422285068922,0.566144777915916,-0.13710599455104144,-0.2449345581601094,-0.11600157203091759,-0.14629718409137737,-1.7329882960528853,1.2319909113435485,-0.13369819930571536,1.609863283277939,1.7449939659444273,0.8399343156048075,0.37731061895592993,-0.7282714727916014,0.8860341534062506,-1.253411398579617,0.11633332913520288,-0.632981440630921,-1.0692585180057435,0.1538169387080856,0.355039612407412,0.7509673565058888,-0.8982063906590393,-0.11783310183402967,-0.8798347290637953,0.3213739063860632,0.7818389362640916,-1.0938405254290327,-1.0980291355236236,-0.37168031024514525,0.5441216652049065,-0.14918498663229482,1.1914548974584076,-0.8774363463518473,1.6443018312374444,0.8759261916149548,0.5468738581037398,-1.3125834674129604,-0.2924070273968226,2.3520661756263728,1.9305197417893065,-0.7595991589728462,0.28241038892889364,1.2494497552930661,0.8735381398826013,-0.670934797445289,0.46858679660223523,-0.07647238236764087,0.45407368586428287,-1.92237084263108,-0.8681506658075451,0.6871096311729753,0.07549454003141241,1.13433043875947,1.670257948790717,-0.41713617912010337,0.601607936166473,0.29337914616140837,-1.6752928345799873,-0.03762707724466671,-0.26748171433033263,-2.0328761820275876,0.6239303517626071,-0.037989095688061185,0.11732456565129386,0.8229516489326429,1.1587071278694778,0.8166241399492339,0.5551856219587835,1.6541208711771906,-1.360612379808308,0.41000439813595485,-0.8135001608549873,-0.3374398086999169,0.9448560947900039,-0.8427325029537508,-0.977731272333857,1.0796168156279038,-0.17676871507325598,-0.9414533043378169,0.3333553678156752,-0.8212125542345594,-0.06698328081807278,0.990027435975039,-1.0842557843861187,-0.6558631811726069,0.29956295333194977,-0.6429554088690916,0.8000929639274643],\"type\":\"box\"},{\"boxpoints\":false,\"line\":{\"width\":1.3},\"marker\":{\"color\":\"rgba(128, 0, 128, 1.0)\"},\"name\":\"D\",\"orientation\":\"v\",\"y\":[0.05364048207260595,-1.6415014900014182,0.1560446938057477,1.0642370745611147,-0.5027503734044894,-0.16847600244086813,0.03769768649841975,0.4404443029957614,-1.6579050752815891,1.8601987778014237,-0.15265903655033689,0.37129316680948793,-0.08803610612264272,-0.012170020280144352,-0.031754703520787894,0.12040845468606767,0.6661817596237033,0.4351590541521421,0.3874501304536663,0.6506182333957212,-0.3543112673939216,0.07133346409774055,-0.4563271241235071,0.3067131713241251,-0.1825980303133153,0.5193130694959607,-1.793604809992783,-1.6337123268288474,-0.11194926057402858,-0.6206104376633367,0.42743206030208597,-1.4192078676325863,-0.952313115078617,0.28624040037662163,0.19143852583850562,0.11552415341179897,-0.7528536232121964,-0.6732879417286711,-0.8522197068472054,-0.7859007817991804,0.5963342736675762,1.6184674307529368,0.7014689277608404,1.283323978524507,0.7830464604043736,-0.6654174297433695,0.931850500204895,-0.35402395153670324,-0.602258800736354,0.7244485868398755,-0.6649938025189891,0.21018636499470508,-0.19685471819127484,-0.19916017586044676,2.1644487557138286,-0.6866260230014049,1.1163078640078368,-0.04046594753613875,-0.25670197406150547,1.1012493039101279,0.9509449169491229,-0.22197875278076207,-0.3034821972704745,-0.5463023263958524,-0.01885680378734175,-0.55143885727557,1.841061816977951,-1.8084991267664081,-0.39628794946808954,-0.782202772473188,-0.6545173575747144,0.49449191900543366,-0.8211223688970272,-0.33147197435657905,0.8529223538238252,-1.4402138964755826,0.3148874254607986,-0.2935572438480311,0.29863149749985335,0.07113287972824318,-0.5189069614956773,-0.12131866130997336,-0.7913412375343849,0.0380089568679243,0.30793067750781017,-0.39077610071231206,-0.812864552609696,-0.39397551873666986,0.165632610091109,0.8852436831944863,1.1550648442438702,-1.4633524427846236,-1.6009707857029245,-1.1434752903692167,-0.5733830053143328,0.9072694529724188,0.034483048803851675,0.9406194945585669,2.051609120582376,0.17819939883882124],\"type\":\"box\"}],                        {\"legend\":{\"bgcolor\":\"#F5F6F9\",\"font\":{\"color\":\"#4D5663\"}},\"paper_bgcolor\":\"#F5F6F9\",\"plot_bgcolor\":\"#F5F6F9\",\"template\":{\"data\":{\"barpolar\":[{\"marker\":{\"line\":{\"color\":\"#E5ECF6\",\"width\":0.5},\"pattern\":{\"fillmode\":\"overlay\",\"size\":10,\"solidity\":0.2}},\"type\":\"barpolar\"}],\"bar\":[{\"error_x\":{\"color\":\"#2a3f5f\"},\"error_y\":{\"color\":\"#2a3f5f\"},\"marker\":{\"line\":{\"color\":\"#E5ECF6\",\"width\":0.5},\"pattern\":{\"fillmode\":\"overlay\",\"size\":10,\"solidity\":0.2}},\"type\":\"bar\"}],\"carpet\":[{\"aaxis\":{\"endlinecolor\":\"#2a3f5f\",\"gridcolor\":\"white\",\"linecolor\":\"white\",\"minorgridcolor\":\"white\",\"startlinecolor\":\"#2a3f5f\"},\"baxis\":{\"endlinecolor\":\"#2a3f5f\",\"gridcolor\":\"white\",\"linecolor\":\"white\",\"minorgridcolor\":\"white\",\"startlinecolor\":\"#2a3f5f\"},\"type\":\"carpet\"}],\"choropleth\":[{\"colorbar\":{\"outlinewidth\":0,\"ticks\":\"\"},\"type\":\"choropleth\"}],\"contourcarpet\":[{\"colorbar\":{\"outlinewidth\":0,\"ticks\":\"\"},\"type\":\"contourcarpet\"}],\"contour\":[{\"colorbar\":{\"outlinewidth\":0,\"ticks\":\"\"},\"colorscale\":[[0.0,\"#0d0887\"],[0.1111111111111111,\"#46039f\"],[0.2222222222222222,\"#7201a8\"],[0.3333333333333333,\"#9c179e\"],[0.4444444444444444,\"#bd3786\"],[0.5555555555555556,\"#d8576b\"],[0.6666666666666666,\"#ed7953\"],[0.7777777777777778,\"#fb9f3a\"],[0.8888888888888888,\"#fdca26\"],[1.0,\"#f0f921\"]],\"type\":\"contour\"}],\"heatmapgl\":[{\"colorbar\":{\"outlinewidth\":0,\"ticks\":\"\"},\"colorscale\":[[0.0,\"#0d0887\"],[0.1111111111111111,\"#46039f\"],[0.2222222222222222,\"#7201a8\"],[0.3333333333333333,\"#9c179e\"],[0.4444444444444444,\"#bd3786\"],[0.5555555555555556,\"#d8576b\"],[0.6666666666666666,\"#ed7953\"],[0.7777777777777778,\"#fb9f3a\"],[0.8888888888888888,\"#fdca26\"],[1.0,\"#f0f921\"]],\"type\":\"heatmapgl\"}],\"heatmap\":[{\"colorbar\":{\"outlinewidth\":0,\"ticks\":\"\"},\"colorscale\":[[0.0,\"#0d0887\"],[0.1111111111111111,\"#46039f\"],[0.2222222222222222,\"#7201a8\"],[0.3333333333333333,\"#9c179e\"],[0.4444444444444444,\"#bd3786\"],[0.5555555555555556,\"#d8576b\"],[0.6666666666666666,\"#ed7953\"],[0.7777777777777778,\"#fb9f3a\"],[0.8888888888888888,\"#fdca26\"],[1.0,\"#f0f921\"]],\"type\":\"heatmap\"}],\"histogram2dcontour\":[{\"colorbar\":{\"outlinewidth\":0,\"ticks\":\"\"},\"colorscale\":[[0.0,\"#0d0887\"],[0.1111111111111111,\"#46039f\"],[0.2222222222222222,\"#7201a8\"],[0.3333333333333333,\"#9c179e\"],[0.4444444444444444,\"#bd3786\"],[0.5555555555555556,\"#d8576b\"],[0.6666666666666666,\"#ed7953\"],[0.7777777777777778,\"#fb9f3a\"],[0.8888888888888888,\"#fdca26\"],[1.0,\"#f0f921\"]],\"type\":\"histogram2dcontour\"}],\"histogram2d\":[{\"colorbar\":{\"outlinewidth\":0,\"ticks\":\"\"},\"colorscale\":[[0.0,\"#0d0887\"],[0.1111111111111111,\"#46039f\"],[0.2222222222222222,\"#7201a8\"],[0.3333333333333333,\"#9c179e\"],[0.4444444444444444,\"#bd3786\"],[0.5555555555555556,\"#d8576b\"],[0.6666666666666666,\"#ed7953\"],[0.7777777777777778,\"#fb9f3a\"],[0.8888888888888888,\"#fdca26\"],[1.0,\"#f0f921\"]],\"type\":\"histogram2d\"}],\"histogram\":[{\"marker\":{\"pattern\":{\"fillmode\":\"overlay\",\"size\":10,\"solidity\":0.2}},\"type\":\"histogram\"}],\"mesh3d\":[{\"colorbar\":{\"outlinewidth\":0,\"ticks\":\"\"},\"type\":\"mesh3d\"}],\"parcoords\":[{\"line\":{\"colorbar\":{\"outlinewidth\":0,\"ticks\":\"\"}},\"type\":\"parcoords\"}],\"pie\":[{\"automargin\":true,\"type\":\"pie\"}],\"scatter3d\":[{\"line\":{\"colorbar\":{\"outlinewidth\":0,\"ticks\":\"\"}},\"marker\":{\"colorbar\":{\"outlinewidth\":0,\"ticks\":\"\"}},\"type\":\"scatter3d\"}],\"scattercarpet\":[{\"marker\":{\"colorbar\":{\"outlinewidth\":0,\"ticks\":\"\"}},\"type\":\"scattercarpet\"}],\"scattergeo\":[{\"marker\":{\"colorbar\":{\"outlinewidth\":0,\"ticks\":\"\"}},\"type\":\"scattergeo\"}],\"scattergl\":[{\"marker\":{\"colorbar\":{\"outlinewidth\":0,\"ticks\":\"\"}},\"type\":\"scattergl\"}],\"scattermapbox\":[{\"marker\":{\"colorbar\":{\"outlinewidth\":0,\"ticks\":\"\"}},\"type\":\"scattermapbox\"}],\"scatterpolargl\":[{\"marker\":{\"colorbar\":{\"outlinewidth\":0,\"ticks\":\"\"}},\"type\":\"scatterpolargl\"}],\"scatterpolar\":[{\"marker\":{\"colorbar\":{\"outlinewidth\":0,\"ticks\":\"\"}},\"type\":\"scatterpolar\"}],\"scatter\":[{\"fillpattern\":{\"fillmode\":\"overlay\",\"size\":10,\"solidity\":0.2},\"type\":\"scatter\"}],\"scatterternary\":[{\"marker\":{\"colorbar\":{\"outlinewidth\":0,\"ticks\":\"\"}},\"type\":\"scatterternary\"}],\"surface\":[{\"colorbar\":{\"outlinewidth\":0,\"ticks\":\"\"},\"colorscale\":[[0.0,\"#0d0887\"],[0.1111111111111111,\"#46039f\"],[0.2222222222222222,\"#7201a8\"],[0.3333333333333333,\"#9c179e\"],[0.4444444444444444,\"#bd3786\"],[0.5555555555555556,\"#d8576b\"],[0.6666666666666666,\"#ed7953\"],[0.7777777777777778,\"#fb9f3a\"],[0.8888888888888888,\"#fdca26\"],[1.0,\"#f0f921\"]],\"type\":\"surface\"}],\"table\":[{\"cells\":{\"fill\":{\"color\":\"#EBF0F8\"},\"line\":{\"color\":\"white\"}},\"header\":{\"fill\":{\"color\":\"#C8D4E3\"},\"line\":{\"color\":\"white\"}},\"type\":\"table\"}]},\"layout\":{\"annotationdefaults\":{\"arrowcolor\":\"#2a3f5f\",\"arrowhead\":0,\"arrowwidth\":1},\"autotypenumbers\":\"strict\",\"coloraxis\":{\"colorbar\":{\"outlinewidth\":0,\"ticks\":\"\"}},\"colorscale\":{\"diverging\":[[0,\"#8e0152\"],[0.1,\"#c51b7d\"],[0.2,\"#de77ae\"],[0.3,\"#f1b6da\"],[0.4,\"#fde0ef\"],[0.5,\"#f7f7f7\"],[0.6,\"#e6f5d0\"],[0.7,\"#b8e186\"],[0.8,\"#7fbc41\"],[0.9,\"#4d9221\"],[1,\"#276419\"]],\"sequential\":[[0.0,\"#0d0887\"],[0.1111111111111111,\"#46039f\"],[0.2222222222222222,\"#7201a8\"],[0.3333333333333333,\"#9c179e\"],[0.4444444444444444,\"#bd3786\"],[0.5555555555555556,\"#d8576b\"],[0.6666666666666666,\"#ed7953\"],[0.7777777777777778,\"#fb9f3a\"],[0.8888888888888888,\"#fdca26\"],[1.0,\"#f0f921\"]],\"sequentialminus\":[[0.0,\"#0d0887\"],[0.1111111111111111,\"#46039f\"],[0.2222222222222222,\"#7201a8\"],[0.3333333333333333,\"#9c179e\"],[0.4444444444444444,\"#bd3786\"],[0.5555555555555556,\"#d8576b\"],[0.6666666666666666,\"#ed7953\"],[0.7777777777777778,\"#fb9f3a\"],[0.8888888888888888,\"#fdca26\"],[1.0,\"#f0f921\"]]},\"colorway\":[\"#636efa\",\"#EF553B\",\"#00cc96\",\"#ab63fa\",\"#FFA15A\",\"#19d3f3\",\"#FF6692\",\"#B6E880\",\"#FF97FF\",\"#FECB52\"],\"font\":{\"color\":\"#2a3f5f\"},\"geo\":{\"bgcolor\":\"white\",\"lakecolor\":\"white\",\"landcolor\":\"#E5ECF6\",\"showlakes\":true,\"showland\":true,\"subunitcolor\":\"white\"},\"hoverlabel\":{\"align\":\"left\"},\"hovermode\":\"closest\",\"mapbox\":{\"style\":\"light\"},\"paper_bgcolor\":\"white\",\"plot_bgcolor\":\"#E5ECF6\",\"polar\":{\"angularaxis\":{\"gridcolor\":\"white\",\"linecolor\":\"white\",\"ticks\":\"\"},\"bgcolor\":\"#E5ECF6\",\"radialaxis\":{\"gridcolor\":\"white\",\"linecolor\":\"white\",\"ticks\":\"\"}},\"scene\":{\"xaxis\":{\"backgroundcolor\":\"#E5ECF6\",\"gridcolor\":\"white\",\"gridwidth\":2,\"linecolor\":\"white\",\"showbackground\":true,\"ticks\":\"\",\"zerolinecolor\":\"white\"},\"yaxis\":{\"backgroundcolor\":\"#E5ECF6\",\"gridcolor\":\"white\",\"gridwidth\":2,\"linecolor\":\"white\",\"showbackground\":true,\"ticks\":\"\",\"zerolinecolor\":\"white\"},\"zaxis\":{\"backgroundcolor\":\"#E5ECF6\",\"gridcolor\":\"white\",\"gridwidth\":2,\"linecolor\":\"white\",\"showbackground\":true,\"ticks\":\"\",\"zerolinecolor\":\"white\"}},\"shapedefaults\":{\"line\":{\"color\":\"#2a3f5f\"}},\"ternary\":{\"aaxis\":{\"gridcolor\":\"white\",\"linecolor\":\"white\",\"ticks\":\"\"},\"baxis\":{\"gridcolor\":\"white\",\"linecolor\":\"white\",\"ticks\":\"\"},\"bgcolor\":\"#E5ECF6\",\"caxis\":{\"gridcolor\":\"white\",\"linecolor\":\"white\",\"ticks\":\"\"}},\"title\":{\"x\":0.05},\"xaxis\":{\"automargin\":true,\"gridcolor\":\"white\",\"linecolor\":\"white\",\"ticks\":\"\",\"title\":{\"standoff\":15},\"zerolinecolor\":\"white\",\"zerolinewidth\":2},\"yaxis\":{\"automargin\":true,\"gridcolor\":\"white\",\"linecolor\":\"white\",\"ticks\":\"\",\"title\":{\"standoff\":15},\"zerolinecolor\":\"white\",\"zerolinewidth\":2}}},\"title\":{\"font\":{\"color\":\"#4D5663\"}},\"xaxis\":{\"gridcolor\":\"#E1E5ED\",\"showgrid\":true,\"tickfont\":{\"color\":\"#4D5663\"},\"title\":{\"font\":{\"color\":\"#4D5663\"},\"text\":\"\"},\"zerolinecolor\":\"#E1E5ED\"},\"yaxis\":{\"gridcolor\":\"#E1E5ED\",\"showgrid\":true,\"tickfont\":{\"color\":\"#4D5663\"},\"title\":{\"font\":{\"color\":\"#4D5663\"},\"text\":\"\"},\"zerolinecolor\":\"#E1E5ED\"}},                        {\"showLink\": true, \"linkText\": \"Export to plot.ly\", \"plotlyServerURL\": \"https://plot.ly\", \"responsive\": true}                    ).then(function(){\n",
       "                            \n",
       "var gd = document.getElementById('a03e4f1e-e5ee-4e9b-8be3-4570c928d968');\n",
       "var x = new MutationObserver(function (mutations, observer) {{\n",
       "        var display = window.getComputedStyle(gd).display;\n",
       "        if (!display || display === 'none') {{\n",
       "            console.log([gd, 'removed!']);\n",
       "            Plotly.purge(gd);\n",
       "            observer.disconnect();\n",
       "        }}\n",
       "}});\n",
       "\n",
       "// Listen for the removal of the full notebook cells\n",
       "var notebookContainer = gd.closest('#notebook-container');\n",
       "if (notebookContainer) {{\n",
       "    x.observe(notebookContainer, {childList: true});\n",
       "}}\n",
       "\n",
       "// Listen for the clearing of the current output cell\n",
       "var outputEl = gd.closest('.output');\n",
       "if (outputEl) {{\n",
       "    x.observe(outputEl, {childList: true});\n",
       "}}\n",
       "\n",
       "                        })                };                });            </script>        </div>"
      ]
     },
     "metadata": {},
     "output_type": "display_data"
    }
   ],
   "source": [
    "df.iplot(kind='box')"
   ]
  },
  {
   "cell_type": "markdown",
   "metadata": {},
   "source": [
    "## 3D Surface"
   ]
  },
  {
   "cell_type": "code",
   "execution_count": 16,
   "metadata": {},
   "outputs": [
    {
     "data": {
      "application/vnd.plotly.v1+json": {
       "config": {
        "linkText": "Export to plot.ly",
        "plotlyServerURL": "https://plot.ly",
        "showLink": true
       },
       "data": [
        {
         "colorscale": [
          [
           0,
           "rgb(165,0,38)"
          ],
          [
           0.1,
           "rgb(215,48,39)"
          ],
          [
           0.2,
           "rgb(244,109,67)"
          ],
          [
           0.3,
           "rgb(253,174,97)"
          ],
          [
           0.4,
           "rgb(254,224,144)"
          ],
          [
           0.5,
           "rgb(255,255,191)"
          ],
          [
           0.6,
           "rgb(224,243,248)"
          ],
          [
           0.7,
           "rgb(171,217,233)"
          ],
          [
           0.8,
           "rgb(116,173,209)"
          ],
          [
           0.9,
           "rgb(69,117,180)"
          ],
          [
           1,
           "rgb(49,54,149)"
          ]
         ],
         "type": "surface",
         "x": [
          0,
          1,
          2,
          3,
          4
         ],
         "y": [
          "x",
          "y",
          "z"
         ],
         "z": [
          [
           1,
           2,
           3,
           4,
           5
          ],
          [
           10,
           20,
           30,
           20,
           10
          ],
          [
           5,
           4,
           3,
           2,
           1
          ]
         ]
        }
       ],
       "layout": {
        "legend": {
         "bgcolor": "#F5F6F9",
         "font": {
          "color": "#4D5663"
         }
        },
        "paper_bgcolor": "#F5F6F9",
        "plot_bgcolor": "#F5F6F9",
        "template": {
         "data": {
          "bar": [
           {
            "error_x": {
             "color": "#2a3f5f"
            },
            "error_y": {
             "color": "#2a3f5f"
            },
            "marker": {
             "line": {
              "color": "#E5ECF6",
              "width": 0.5
             },
             "pattern": {
              "fillmode": "overlay",
              "size": 10,
              "solidity": 0.2
             }
            },
            "type": "bar"
           }
          ],
          "barpolar": [
           {
            "marker": {
             "line": {
              "color": "#E5ECF6",
              "width": 0.5
             },
             "pattern": {
              "fillmode": "overlay",
              "size": 10,
              "solidity": 0.2
             }
            },
            "type": "barpolar"
           }
          ],
          "carpet": [
           {
            "aaxis": {
             "endlinecolor": "#2a3f5f",
             "gridcolor": "white",
             "linecolor": "white",
             "minorgridcolor": "white",
             "startlinecolor": "#2a3f5f"
            },
            "baxis": {
             "endlinecolor": "#2a3f5f",
             "gridcolor": "white",
             "linecolor": "white",
             "minorgridcolor": "white",
             "startlinecolor": "#2a3f5f"
            },
            "type": "carpet"
           }
          ],
          "choropleth": [
           {
            "colorbar": {
             "outlinewidth": 0,
             "ticks": ""
            },
            "type": "choropleth"
           }
          ],
          "contour": [
           {
            "colorbar": {
             "outlinewidth": 0,
             "ticks": ""
            },
            "colorscale": [
             [
              0,
              "#0d0887"
             ],
             [
              0.1111111111111111,
              "#46039f"
             ],
             [
              0.2222222222222222,
              "#7201a8"
             ],
             [
              0.3333333333333333,
              "#9c179e"
             ],
             [
              0.4444444444444444,
              "#bd3786"
             ],
             [
              0.5555555555555556,
              "#d8576b"
             ],
             [
              0.6666666666666666,
              "#ed7953"
             ],
             [
              0.7777777777777778,
              "#fb9f3a"
             ],
             [
              0.8888888888888888,
              "#fdca26"
             ],
             [
              1,
              "#f0f921"
             ]
            ],
            "type": "contour"
           }
          ],
          "contourcarpet": [
           {
            "colorbar": {
             "outlinewidth": 0,
             "ticks": ""
            },
            "type": "contourcarpet"
           }
          ],
          "heatmap": [
           {
            "colorbar": {
             "outlinewidth": 0,
             "ticks": ""
            },
            "colorscale": [
             [
              0,
              "#0d0887"
             ],
             [
              0.1111111111111111,
              "#46039f"
             ],
             [
              0.2222222222222222,
              "#7201a8"
             ],
             [
              0.3333333333333333,
              "#9c179e"
             ],
             [
              0.4444444444444444,
              "#bd3786"
             ],
             [
              0.5555555555555556,
              "#d8576b"
             ],
             [
              0.6666666666666666,
              "#ed7953"
             ],
             [
              0.7777777777777778,
              "#fb9f3a"
             ],
             [
              0.8888888888888888,
              "#fdca26"
             ],
             [
              1,
              "#f0f921"
             ]
            ],
            "type": "heatmap"
           }
          ],
          "heatmapgl": [
           {
            "colorbar": {
             "outlinewidth": 0,
             "ticks": ""
            },
            "colorscale": [
             [
              0,
              "#0d0887"
             ],
             [
              0.1111111111111111,
              "#46039f"
             ],
             [
              0.2222222222222222,
              "#7201a8"
             ],
             [
              0.3333333333333333,
              "#9c179e"
             ],
             [
              0.4444444444444444,
              "#bd3786"
             ],
             [
              0.5555555555555556,
              "#d8576b"
             ],
             [
              0.6666666666666666,
              "#ed7953"
             ],
             [
              0.7777777777777778,
              "#fb9f3a"
             ],
             [
              0.8888888888888888,
              "#fdca26"
             ],
             [
              1,
              "#f0f921"
             ]
            ],
            "type": "heatmapgl"
           }
          ],
          "histogram": [
           {
            "marker": {
             "pattern": {
              "fillmode": "overlay",
              "size": 10,
              "solidity": 0.2
             }
            },
            "type": "histogram"
           }
          ],
          "histogram2d": [
           {
            "colorbar": {
             "outlinewidth": 0,
             "ticks": ""
            },
            "colorscale": [
             [
              0,
              "#0d0887"
             ],
             [
              0.1111111111111111,
              "#46039f"
             ],
             [
              0.2222222222222222,
              "#7201a8"
             ],
             [
              0.3333333333333333,
              "#9c179e"
             ],
             [
              0.4444444444444444,
              "#bd3786"
             ],
             [
              0.5555555555555556,
              "#d8576b"
             ],
             [
              0.6666666666666666,
              "#ed7953"
             ],
             [
              0.7777777777777778,
              "#fb9f3a"
             ],
             [
              0.8888888888888888,
              "#fdca26"
             ],
             [
              1,
              "#f0f921"
             ]
            ],
            "type": "histogram2d"
           }
          ],
          "histogram2dcontour": [
           {
            "colorbar": {
             "outlinewidth": 0,
             "ticks": ""
            },
            "colorscale": [
             [
              0,
              "#0d0887"
             ],
             [
              0.1111111111111111,
              "#46039f"
             ],
             [
              0.2222222222222222,
              "#7201a8"
             ],
             [
              0.3333333333333333,
              "#9c179e"
             ],
             [
              0.4444444444444444,
              "#bd3786"
             ],
             [
              0.5555555555555556,
              "#d8576b"
             ],
             [
              0.6666666666666666,
              "#ed7953"
             ],
             [
              0.7777777777777778,
              "#fb9f3a"
             ],
             [
              0.8888888888888888,
              "#fdca26"
             ],
             [
              1,
              "#f0f921"
             ]
            ],
            "type": "histogram2dcontour"
           }
          ],
          "mesh3d": [
           {
            "colorbar": {
             "outlinewidth": 0,
             "ticks": ""
            },
            "type": "mesh3d"
           }
          ],
          "parcoords": [
           {
            "line": {
             "colorbar": {
              "outlinewidth": 0,
              "ticks": ""
             }
            },
            "type": "parcoords"
           }
          ],
          "pie": [
           {
            "automargin": true,
            "type": "pie"
           }
          ],
          "scatter": [
           {
            "fillpattern": {
             "fillmode": "overlay",
             "size": 10,
             "solidity": 0.2
            },
            "type": "scatter"
           }
          ],
          "scatter3d": [
           {
            "line": {
             "colorbar": {
              "outlinewidth": 0,
              "ticks": ""
             }
            },
            "marker": {
             "colorbar": {
              "outlinewidth": 0,
              "ticks": ""
             }
            },
            "type": "scatter3d"
           }
          ],
          "scattercarpet": [
           {
            "marker": {
             "colorbar": {
              "outlinewidth": 0,
              "ticks": ""
             }
            },
            "type": "scattercarpet"
           }
          ],
          "scattergeo": [
           {
            "marker": {
             "colorbar": {
              "outlinewidth": 0,
              "ticks": ""
             }
            },
            "type": "scattergeo"
           }
          ],
          "scattergl": [
           {
            "marker": {
             "colorbar": {
              "outlinewidth": 0,
              "ticks": ""
             }
            },
            "type": "scattergl"
           }
          ],
          "scattermapbox": [
           {
            "marker": {
             "colorbar": {
              "outlinewidth": 0,
              "ticks": ""
             }
            },
            "type": "scattermapbox"
           }
          ],
          "scatterpolar": [
           {
            "marker": {
             "colorbar": {
              "outlinewidth": 0,
              "ticks": ""
             }
            },
            "type": "scatterpolar"
           }
          ],
          "scatterpolargl": [
           {
            "marker": {
             "colorbar": {
              "outlinewidth": 0,
              "ticks": ""
             }
            },
            "type": "scatterpolargl"
           }
          ],
          "scatterternary": [
           {
            "marker": {
             "colorbar": {
              "outlinewidth": 0,
              "ticks": ""
             }
            },
            "type": "scatterternary"
           }
          ],
          "surface": [
           {
            "colorbar": {
             "outlinewidth": 0,
             "ticks": ""
            },
            "colorscale": [
             [
              0,
              "#0d0887"
             ],
             [
              0.1111111111111111,
              "#46039f"
             ],
             [
              0.2222222222222222,
              "#7201a8"
             ],
             [
              0.3333333333333333,
              "#9c179e"
             ],
             [
              0.4444444444444444,
              "#bd3786"
             ],
             [
              0.5555555555555556,
              "#d8576b"
             ],
             [
              0.6666666666666666,
              "#ed7953"
             ],
             [
              0.7777777777777778,
              "#fb9f3a"
             ],
             [
              0.8888888888888888,
              "#fdca26"
             ],
             [
              1,
              "#f0f921"
             ]
            ],
            "type": "surface"
           }
          ],
          "table": [
           {
            "cells": {
             "fill": {
              "color": "#EBF0F8"
             },
             "line": {
              "color": "white"
             }
            },
            "header": {
             "fill": {
              "color": "#C8D4E3"
             },
             "line": {
              "color": "white"
             }
            },
            "type": "table"
           }
          ]
         },
         "layout": {
          "annotationdefaults": {
           "arrowcolor": "#2a3f5f",
           "arrowhead": 0,
           "arrowwidth": 1
          },
          "autotypenumbers": "strict",
          "coloraxis": {
           "colorbar": {
            "outlinewidth": 0,
            "ticks": ""
           }
          },
          "colorscale": {
           "diverging": [
            [
             0,
             "#8e0152"
            ],
            [
             0.1,
             "#c51b7d"
            ],
            [
             0.2,
             "#de77ae"
            ],
            [
             0.3,
             "#f1b6da"
            ],
            [
             0.4,
             "#fde0ef"
            ],
            [
             0.5,
             "#f7f7f7"
            ],
            [
             0.6,
             "#e6f5d0"
            ],
            [
             0.7,
             "#b8e186"
            ],
            [
             0.8,
             "#7fbc41"
            ],
            [
             0.9,
             "#4d9221"
            ],
            [
             1,
             "#276419"
            ]
           ],
           "sequential": [
            [
             0,
             "#0d0887"
            ],
            [
             0.1111111111111111,
             "#46039f"
            ],
            [
             0.2222222222222222,
             "#7201a8"
            ],
            [
             0.3333333333333333,
             "#9c179e"
            ],
            [
             0.4444444444444444,
             "#bd3786"
            ],
            [
             0.5555555555555556,
             "#d8576b"
            ],
            [
             0.6666666666666666,
             "#ed7953"
            ],
            [
             0.7777777777777778,
             "#fb9f3a"
            ],
            [
             0.8888888888888888,
             "#fdca26"
            ],
            [
             1,
             "#f0f921"
            ]
           ],
           "sequentialminus": [
            [
             0,
             "#0d0887"
            ],
            [
             0.1111111111111111,
             "#46039f"
            ],
            [
             0.2222222222222222,
             "#7201a8"
            ],
            [
             0.3333333333333333,
             "#9c179e"
            ],
            [
             0.4444444444444444,
             "#bd3786"
            ],
            [
             0.5555555555555556,
             "#d8576b"
            ],
            [
             0.6666666666666666,
             "#ed7953"
            ],
            [
             0.7777777777777778,
             "#fb9f3a"
            ],
            [
             0.8888888888888888,
             "#fdca26"
            ],
            [
             1,
             "#f0f921"
            ]
           ]
          },
          "colorway": [
           "#636efa",
           "#EF553B",
           "#00cc96",
           "#ab63fa",
           "#FFA15A",
           "#19d3f3",
           "#FF6692",
           "#B6E880",
           "#FF97FF",
           "#FECB52"
          ],
          "font": {
           "color": "#2a3f5f"
          },
          "geo": {
           "bgcolor": "white",
           "lakecolor": "white",
           "landcolor": "#E5ECF6",
           "showlakes": true,
           "showland": true,
           "subunitcolor": "white"
          },
          "hoverlabel": {
           "align": "left"
          },
          "hovermode": "closest",
          "mapbox": {
           "style": "light"
          },
          "paper_bgcolor": "white",
          "plot_bgcolor": "#E5ECF6",
          "polar": {
           "angularaxis": {
            "gridcolor": "white",
            "linecolor": "white",
            "ticks": ""
           },
           "bgcolor": "#E5ECF6",
           "radialaxis": {
            "gridcolor": "white",
            "linecolor": "white",
            "ticks": ""
           }
          },
          "scene": {
           "xaxis": {
            "backgroundcolor": "#E5ECF6",
            "gridcolor": "white",
            "gridwidth": 2,
            "linecolor": "white",
            "showbackground": true,
            "ticks": "",
            "zerolinecolor": "white"
           },
           "yaxis": {
            "backgroundcolor": "#E5ECF6",
            "gridcolor": "white",
            "gridwidth": 2,
            "linecolor": "white",
            "showbackground": true,
            "ticks": "",
            "zerolinecolor": "white"
           },
           "zaxis": {
            "backgroundcolor": "#E5ECF6",
            "gridcolor": "white",
            "gridwidth": 2,
            "linecolor": "white",
            "showbackground": true,
            "ticks": "",
            "zerolinecolor": "white"
           }
          },
          "shapedefaults": {
           "line": {
            "color": "#2a3f5f"
           }
          },
          "ternary": {
           "aaxis": {
            "gridcolor": "white",
            "linecolor": "white",
            "ticks": ""
           },
           "baxis": {
            "gridcolor": "white",
            "linecolor": "white",
            "ticks": ""
           },
           "bgcolor": "#E5ECF6",
           "caxis": {
            "gridcolor": "white",
            "linecolor": "white",
            "ticks": ""
           }
          },
          "title": {
           "x": 0.05
          },
          "xaxis": {
           "automargin": true,
           "gridcolor": "white",
           "linecolor": "white",
           "ticks": "",
           "title": {
            "standoff": 15
           },
           "zerolinecolor": "white",
           "zerolinewidth": 2
          },
          "yaxis": {
           "automargin": true,
           "gridcolor": "white",
           "linecolor": "white",
           "ticks": "",
           "title": {
            "standoff": 15
           },
           "zerolinecolor": "white",
           "zerolinewidth": 2
          }
         }
        },
        "title": {
         "font": {
          "color": "#4D5663"
         }
        },
        "xaxis": {
         "gridcolor": "#E1E5ED",
         "showgrid": true,
         "tickfont": {
          "color": "#4D5663"
         },
         "title": {
          "font": {
           "color": "#4D5663"
          },
          "text": ""
         },
         "zerolinecolor": "#E1E5ED"
        },
        "yaxis": {
         "gridcolor": "#E1E5ED",
         "showgrid": true,
         "tickfont": {
          "color": "#4D5663"
         },
         "title": {
          "font": {
           "color": "#4D5663"
          },
          "text": ""
         },
         "zerolinecolor": "#E1E5ED"
        }
       }
      },
      "text/html": [
       "<div>                            <div id=\"ad7f6e2f-d005-44e4-93d3-61e432b09198\" class=\"plotly-graph-div\" style=\"height:525px; width:100%;\"></div>            <script type=\"text/javascript\">                require([\"plotly\"], function(Plotly) {                    window.PLOTLYENV=window.PLOTLYENV || {};\n",
       "                    window.PLOTLYENV.BASE_URL='https://plot.ly';                                    if (document.getElementById(\"ad7f6e2f-d005-44e4-93d3-61e432b09198\")) {                    Plotly.newPlot(                        \"ad7f6e2f-d005-44e4-93d3-61e432b09198\",                        [{\"colorscale\":[[0.0,\"rgb(165,0,38)\"],[0.1,\"rgb(215,48,39)\"],[0.2,\"rgb(244,109,67)\"],[0.3,\"rgb(253,174,97)\"],[0.4,\"rgb(254,224,144)\"],[0.5,\"rgb(255,255,191)\"],[0.6,\"rgb(224,243,248)\"],[0.7,\"rgb(171,217,233)\"],[0.8,\"rgb(116,173,209)\"],[0.9,\"rgb(69,117,180)\"],[1.0,\"rgb(49,54,149)\"]],\"x\":[0,1,2,3,4],\"y\":[\"x\",\"y\",\"z\"],\"z\":[[1,2,3,4,5],[10,20,30,20,10],[5,4,3,2,1]],\"type\":\"surface\"}],                        {\"legend\":{\"bgcolor\":\"#F5F6F9\",\"font\":{\"color\":\"#4D5663\"}},\"paper_bgcolor\":\"#F5F6F9\",\"plot_bgcolor\":\"#F5F6F9\",\"template\":{\"data\":{\"barpolar\":[{\"marker\":{\"line\":{\"color\":\"#E5ECF6\",\"width\":0.5},\"pattern\":{\"fillmode\":\"overlay\",\"size\":10,\"solidity\":0.2}},\"type\":\"barpolar\"}],\"bar\":[{\"error_x\":{\"color\":\"#2a3f5f\"},\"error_y\":{\"color\":\"#2a3f5f\"},\"marker\":{\"line\":{\"color\":\"#E5ECF6\",\"width\":0.5},\"pattern\":{\"fillmode\":\"overlay\",\"size\":10,\"solidity\":0.2}},\"type\":\"bar\"}],\"carpet\":[{\"aaxis\":{\"endlinecolor\":\"#2a3f5f\",\"gridcolor\":\"white\",\"linecolor\":\"white\",\"minorgridcolor\":\"white\",\"startlinecolor\":\"#2a3f5f\"},\"baxis\":{\"endlinecolor\":\"#2a3f5f\",\"gridcolor\":\"white\",\"linecolor\":\"white\",\"minorgridcolor\":\"white\",\"startlinecolor\":\"#2a3f5f\"},\"type\":\"carpet\"}],\"choropleth\":[{\"colorbar\":{\"outlinewidth\":0,\"ticks\":\"\"},\"type\":\"choropleth\"}],\"contourcarpet\":[{\"colorbar\":{\"outlinewidth\":0,\"ticks\":\"\"},\"type\":\"contourcarpet\"}],\"contour\":[{\"colorbar\":{\"outlinewidth\":0,\"ticks\":\"\"},\"colorscale\":[[0.0,\"#0d0887\"],[0.1111111111111111,\"#46039f\"],[0.2222222222222222,\"#7201a8\"],[0.3333333333333333,\"#9c179e\"],[0.4444444444444444,\"#bd3786\"],[0.5555555555555556,\"#d8576b\"],[0.6666666666666666,\"#ed7953\"],[0.7777777777777778,\"#fb9f3a\"],[0.8888888888888888,\"#fdca26\"],[1.0,\"#f0f921\"]],\"type\":\"contour\"}],\"heatmapgl\":[{\"colorbar\":{\"outlinewidth\":0,\"ticks\":\"\"},\"colorscale\":[[0.0,\"#0d0887\"],[0.1111111111111111,\"#46039f\"],[0.2222222222222222,\"#7201a8\"],[0.3333333333333333,\"#9c179e\"],[0.4444444444444444,\"#bd3786\"],[0.5555555555555556,\"#d8576b\"],[0.6666666666666666,\"#ed7953\"],[0.7777777777777778,\"#fb9f3a\"],[0.8888888888888888,\"#fdca26\"],[1.0,\"#f0f921\"]],\"type\":\"heatmapgl\"}],\"heatmap\":[{\"colorbar\":{\"outlinewidth\":0,\"ticks\":\"\"},\"colorscale\":[[0.0,\"#0d0887\"],[0.1111111111111111,\"#46039f\"],[0.2222222222222222,\"#7201a8\"],[0.3333333333333333,\"#9c179e\"],[0.4444444444444444,\"#bd3786\"],[0.5555555555555556,\"#d8576b\"],[0.6666666666666666,\"#ed7953\"],[0.7777777777777778,\"#fb9f3a\"],[0.8888888888888888,\"#fdca26\"],[1.0,\"#f0f921\"]],\"type\":\"heatmap\"}],\"histogram2dcontour\":[{\"colorbar\":{\"outlinewidth\":0,\"ticks\":\"\"},\"colorscale\":[[0.0,\"#0d0887\"],[0.1111111111111111,\"#46039f\"],[0.2222222222222222,\"#7201a8\"],[0.3333333333333333,\"#9c179e\"],[0.4444444444444444,\"#bd3786\"],[0.5555555555555556,\"#d8576b\"],[0.6666666666666666,\"#ed7953\"],[0.7777777777777778,\"#fb9f3a\"],[0.8888888888888888,\"#fdca26\"],[1.0,\"#f0f921\"]],\"type\":\"histogram2dcontour\"}],\"histogram2d\":[{\"colorbar\":{\"outlinewidth\":0,\"ticks\":\"\"},\"colorscale\":[[0.0,\"#0d0887\"],[0.1111111111111111,\"#46039f\"],[0.2222222222222222,\"#7201a8\"],[0.3333333333333333,\"#9c179e\"],[0.4444444444444444,\"#bd3786\"],[0.5555555555555556,\"#d8576b\"],[0.6666666666666666,\"#ed7953\"],[0.7777777777777778,\"#fb9f3a\"],[0.8888888888888888,\"#fdca26\"],[1.0,\"#f0f921\"]],\"type\":\"histogram2d\"}],\"histogram\":[{\"marker\":{\"pattern\":{\"fillmode\":\"overlay\",\"size\":10,\"solidity\":0.2}},\"type\":\"histogram\"}],\"mesh3d\":[{\"colorbar\":{\"outlinewidth\":0,\"ticks\":\"\"},\"type\":\"mesh3d\"}],\"parcoords\":[{\"line\":{\"colorbar\":{\"outlinewidth\":0,\"ticks\":\"\"}},\"type\":\"parcoords\"}],\"pie\":[{\"automargin\":true,\"type\":\"pie\"}],\"scatter3d\":[{\"line\":{\"colorbar\":{\"outlinewidth\":0,\"ticks\":\"\"}},\"marker\":{\"colorbar\":{\"outlinewidth\":0,\"ticks\":\"\"}},\"type\":\"scatter3d\"}],\"scattercarpet\":[{\"marker\":{\"colorbar\":{\"outlinewidth\":0,\"ticks\":\"\"}},\"type\":\"scattercarpet\"}],\"scattergeo\":[{\"marker\":{\"colorbar\":{\"outlinewidth\":0,\"ticks\":\"\"}},\"type\":\"scattergeo\"}],\"scattergl\":[{\"marker\":{\"colorbar\":{\"outlinewidth\":0,\"ticks\":\"\"}},\"type\":\"scattergl\"}],\"scattermapbox\":[{\"marker\":{\"colorbar\":{\"outlinewidth\":0,\"ticks\":\"\"}},\"type\":\"scattermapbox\"}],\"scatterpolargl\":[{\"marker\":{\"colorbar\":{\"outlinewidth\":0,\"ticks\":\"\"}},\"type\":\"scatterpolargl\"}],\"scatterpolar\":[{\"marker\":{\"colorbar\":{\"outlinewidth\":0,\"ticks\":\"\"}},\"type\":\"scatterpolar\"}],\"scatter\":[{\"fillpattern\":{\"fillmode\":\"overlay\",\"size\":10,\"solidity\":0.2},\"type\":\"scatter\"}],\"scatterternary\":[{\"marker\":{\"colorbar\":{\"outlinewidth\":0,\"ticks\":\"\"}},\"type\":\"scatterternary\"}],\"surface\":[{\"colorbar\":{\"outlinewidth\":0,\"ticks\":\"\"},\"colorscale\":[[0.0,\"#0d0887\"],[0.1111111111111111,\"#46039f\"],[0.2222222222222222,\"#7201a8\"],[0.3333333333333333,\"#9c179e\"],[0.4444444444444444,\"#bd3786\"],[0.5555555555555556,\"#d8576b\"],[0.6666666666666666,\"#ed7953\"],[0.7777777777777778,\"#fb9f3a\"],[0.8888888888888888,\"#fdca26\"],[1.0,\"#f0f921\"]],\"type\":\"surface\"}],\"table\":[{\"cells\":{\"fill\":{\"color\":\"#EBF0F8\"},\"line\":{\"color\":\"white\"}},\"header\":{\"fill\":{\"color\":\"#C8D4E3\"},\"line\":{\"color\":\"white\"}},\"type\":\"table\"}]},\"layout\":{\"annotationdefaults\":{\"arrowcolor\":\"#2a3f5f\",\"arrowhead\":0,\"arrowwidth\":1},\"autotypenumbers\":\"strict\",\"coloraxis\":{\"colorbar\":{\"outlinewidth\":0,\"ticks\":\"\"}},\"colorscale\":{\"diverging\":[[0,\"#8e0152\"],[0.1,\"#c51b7d\"],[0.2,\"#de77ae\"],[0.3,\"#f1b6da\"],[0.4,\"#fde0ef\"],[0.5,\"#f7f7f7\"],[0.6,\"#e6f5d0\"],[0.7,\"#b8e186\"],[0.8,\"#7fbc41\"],[0.9,\"#4d9221\"],[1,\"#276419\"]],\"sequential\":[[0.0,\"#0d0887\"],[0.1111111111111111,\"#46039f\"],[0.2222222222222222,\"#7201a8\"],[0.3333333333333333,\"#9c179e\"],[0.4444444444444444,\"#bd3786\"],[0.5555555555555556,\"#d8576b\"],[0.6666666666666666,\"#ed7953\"],[0.7777777777777778,\"#fb9f3a\"],[0.8888888888888888,\"#fdca26\"],[1.0,\"#f0f921\"]],\"sequentialminus\":[[0.0,\"#0d0887\"],[0.1111111111111111,\"#46039f\"],[0.2222222222222222,\"#7201a8\"],[0.3333333333333333,\"#9c179e\"],[0.4444444444444444,\"#bd3786\"],[0.5555555555555556,\"#d8576b\"],[0.6666666666666666,\"#ed7953\"],[0.7777777777777778,\"#fb9f3a\"],[0.8888888888888888,\"#fdca26\"],[1.0,\"#f0f921\"]]},\"colorway\":[\"#636efa\",\"#EF553B\",\"#00cc96\",\"#ab63fa\",\"#FFA15A\",\"#19d3f3\",\"#FF6692\",\"#B6E880\",\"#FF97FF\",\"#FECB52\"],\"font\":{\"color\":\"#2a3f5f\"},\"geo\":{\"bgcolor\":\"white\",\"lakecolor\":\"white\",\"landcolor\":\"#E5ECF6\",\"showlakes\":true,\"showland\":true,\"subunitcolor\":\"white\"},\"hoverlabel\":{\"align\":\"left\"},\"hovermode\":\"closest\",\"mapbox\":{\"style\":\"light\"},\"paper_bgcolor\":\"white\",\"plot_bgcolor\":\"#E5ECF6\",\"polar\":{\"angularaxis\":{\"gridcolor\":\"white\",\"linecolor\":\"white\",\"ticks\":\"\"},\"bgcolor\":\"#E5ECF6\",\"radialaxis\":{\"gridcolor\":\"white\",\"linecolor\":\"white\",\"ticks\":\"\"}},\"scene\":{\"xaxis\":{\"backgroundcolor\":\"#E5ECF6\",\"gridcolor\":\"white\",\"gridwidth\":2,\"linecolor\":\"white\",\"showbackground\":true,\"ticks\":\"\",\"zerolinecolor\":\"white\"},\"yaxis\":{\"backgroundcolor\":\"#E5ECF6\",\"gridcolor\":\"white\",\"gridwidth\":2,\"linecolor\":\"white\",\"showbackground\":true,\"ticks\":\"\",\"zerolinecolor\":\"white\"},\"zaxis\":{\"backgroundcolor\":\"#E5ECF6\",\"gridcolor\":\"white\",\"gridwidth\":2,\"linecolor\":\"white\",\"showbackground\":true,\"ticks\":\"\",\"zerolinecolor\":\"white\"}},\"shapedefaults\":{\"line\":{\"color\":\"#2a3f5f\"}},\"ternary\":{\"aaxis\":{\"gridcolor\":\"white\",\"linecolor\":\"white\",\"ticks\":\"\"},\"baxis\":{\"gridcolor\":\"white\",\"linecolor\":\"white\",\"ticks\":\"\"},\"bgcolor\":\"#E5ECF6\",\"caxis\":{\"gridcolor\":\"white\",\"linecolor\":\"white\",\"ticks\":\"\"}},\"title\":{\"x\":0.05},\"xaxis\":{\"automargin\":true,\"gridcolor\":\"white\",\"linecolor\":\"white\",\"ticks\":\"\",\"title\":{\"standoff\":15},\"zerolinecolor\":\"white\",\"zerolinewidth\":2},\"yaxis\":{\"automargin\":true,\"gridcolor\":\"white\",\"linecolor\":\"white\",\"ticks\":\"\",\"title\":{\"standoff\":15},\"zerolinecolor\":\"white\",\"zerolinewidth\":2}}},\"title\":{\"font\":{\"color\":\"#4D5663\"}},\"xaxis\":{\"gridcolor\":\"#E1E5ED\",\"showgrid\":true,\"tickfont\":{\"color\":\"#4D5663\"},\"title\":{\"font\":{\"color\":\"#4D5663\"},\"text\":\"\"},\"zerolinecolor\":\"#E1E5ED\"},\"yaxis\":{\"gridcolor\":\"#E1E5ED\",\"showgrid\":true,\"tickfont\":{\"color\":\"#4D5663\"},\"title\":{\"font\":{\"color\":\"#4D5663\"},\"text\":\"\"},\"zerolinecolor\":\"#E1E5ED\"}},                        {\"showLink\": true, \"linkText\": \"Export to plot.ly\", \"plotlyServerURL\": \"https://plot.ly\", \"responsive\": true}                    ).then(function(){\n",
       "                            \n",
       "var gd = document.getElementById('ad7f6e2f-d005-44e4-93d3-61e432b09198');\n",
       "var x = new MutationObserver(function (mutations, observer) {{\n",
       "        var display = window.getComputedStyle(gd).display;\n",
       "        if (!display || display === 'none') {{\n",
       "            console.log([gd, 'removed!']);\n",
       "            Plotly.purge(gd);\n",
       "            observer.disconnect();\n",
       "        }}\n",
       "}});\n",
       "\n",
       "// Listen for the removal of the full notebook cells\n",
       "var notebookContainer = gd.closest('#notebook-container');\n",
       "if (notebookContainer) {{\n",
       "    x.observe(notebookContainer, {childList: true});\n",
       "}}\n",
       "\n",
       "// Listen for the clearing of the current output cell\n",
       "var outputEl = gd.closest('.output');\n",
       "if (outputEl) {{\n",
       "    x.observe(outputEl, {childList: true});\n",
       "}}\n",
       "\n",
       "                        })                };                });            </script>        </div>"
      ]
     },
     "metadata": {},
     "output_type": "display_data"
    }
   ],
   "source": [
    "df3 = pd.DataFrame({'x':[1,2,3,4,5],'y':[10,20,30,20,10],'z':[5,4,3,2,1]})\n",
    "df3.iplot(kind='surface',colorscale='rdylbu')"
   ]
  },
  {
   "cell_type": "markdown",
   "metadata": {},
   "source": [
    "## Histogram"
   ]
  },
  {
   "cell_type": "code",
   "execution_count": 18,
   "metadata": {},
   "outputs": [
    {
     "data": {
      "application/vnd.plotly.v1+json": {
       "config": {
        "linkText": "Export to plot.ly",
        "plotlyServerURL": "https://plot.ly",
        "showLink": true
       },
       "data": [
        {
         "histfunc": "count",
         "histnorm": "",
         "marker": {
          "color": "rgba(255, 153, 51, 1.0)",
          "line": {
           "color": "#4D5663",
           "width": 1.3
          }
         },
         "name": "A",
         "nbinsx": 25,
         "opacity": 0.8,
         "orientation": "v",
         "type": "histogram",
         "x": [
          1.8243129259995166,
          0.19608475400175768,
          -0.6053188770897872,
          0.8911968956639813,
          1.0070855293069285,
          -0.8014471338364257,
          -0.9924125538103235,
          0.6589442869722124,
          -0.014050001002884725,
          0.07518373531629381,
          -0.36474810809089014,
          1.3213713674994056,
          -1.3390868001532397,
          2.0157661712051587,
          0.702026132198567,
          -0.980743213672751,
          -1.290183167745645,
          -0.034866885767344466,
          1.3244596009270821,
          0.46914853441326737,
          1.811113937836261,
          -0.31191244635793713,
          -0.44645210590499096,
          -0.47723670876074775,
          -0.7041383254890567,
          -1.0201756035449587,
          1.3557072710334452,
          -0.6307039403442191,
          -1.0790513559403063,
          1.5061983883651782,
          -1.1546177021329875,
          1.2553753887543317,
          0.15018352623167674,
          -0.5988057076920157,
          0.5380983515180622,
          0.9759791860363404,
          -0.7833975692914159,
          -0.9189649613532611,
          -0.0974760456801578,
          0.3429586783883424,
          -0.6191550076924058,
          -2.1039659473643173,
          0.8350223435673302,
          0.6318776376503721,
          0.06918376203837928,
          -0.9540441738215512,
          1.0623602869959006,
          -0.04214282767279125,
          1.0236001005414836,
          2.768834106807123,
          -0.34962680392505013,
          -1.9587267869592255,
          0.21487117500607636,
          -0.7195032292037042,
          0.20890306000942607,
          -0.6473154003389758,
          0.7544595643203549,
          0.4697360100064573,
          0.11029082781862608,
          -0.09295678672354084,
          -0.7844564187290143,
          1.22551840597947,
          0.1733457984754417,
          -1.5674530556863537,
          -0.12719427915234527,
          1.2969218378364398,
          -0.47955826843769805,
          -1.0917495191808468,
          0.22136705963048148,
          -0.9351966540884519,
          1.019493096539831,
          2.516073211595525,
          1.5376854720253375,
          -1.3831508907611931,
          -1.9191831893194957,
          0.44359556475430645,
          -0.8246593181297605,
          -0.2100864028503051,
          0.9547760587601132,
          -0.2653278159042679,
          0.8362410698154421,
          -1.206447309739462,
          1.3929084051796088,
          1.6164208225232148,
          0.33581060384052197,
          -1.2146714988178433,
          0.45484819640518204,
          1.1003564183064294,
          -0.0545126540500522,
          -1.6473224078317383,
          1.0928108115908042,
          -0.16389643281667396,
          -0.6544788103037372,
          -1.3716173109397398,
          0.3395650647243976,
          -1.147263981725478,
          1.2174640192307618,
          -0.21249306896884895,
          -1.096053716026816,
          2.3900037580866145
         ]
        }
       ],
       "layout": {
        "barmode": "overlay",
        "legend": {
         "bgcolor": "#F5F6F9",
         "font": {
          "color": "#4D5663"
         }
        },
        "paper_bgcolor": "#F5F6F9",
        "plot_bgcolor": "#F5F6F9",
        "template": {
         "data": {
          "bar": [
           {
            "error_x": {
             "color": "#2a3f5f"
            },
            "error_y": {
             "color": "#2a3f5f"
            },
            "marker": {
             "line": {
              "color": "#E5ECF6",
              "width": 0.5
             },
             "pattern": {
              "fillmode": "overlay",
              "size": 10,
              "solidity": 0.2
             }
            },
            "type": "bar"
           }
          ],
          "barpolar": [
           {
            "marker": {
             "line": {
              "color": "#E5ECF6",
              "width": 0.5
             },
             "pattern": {
              "fillmode": "overlay",
              "size": 10,
              "solidity": 0.2
             }
            },
            "type": "barpolar"
           }
          ],
          "carpet": [
           {
            "aaxis": {
             "endlinecolor": "#2a3f5f",
             "gridcolor": "white",
             "linecolor": "white",
             "minorgridcolor": "white",
             "startlinecolor": "#2a3f5f"
            },
            "baxis": {
             "endlinecolor": "#2a3f5f",
             "gridcolor": "white",
             "linecolor": "white",
             "minorgridcolor": "white",
             "startlinecolor": "#2a3f5f"
            },
            "type": "carpet"
           }
          ],
          "choropleth": [
           {
            "colorbar": {
             "outlinewidth": 0,
             "ticks": ""
            },
            "type": "choropleth"
           }
          ],
          "contour": [
           {
            "colorbar": {
             "outlinewidth": 0,
             "ticks": ""
            },
            "colorscale": [
             [
              0,
              "#0d0887"
             ],
             [
              0.1111111111111111,
              "#46039f"
             ],
             [
              0.2222222222222222,
              "#7201a8"
             ],
             [
              0.3333333333333333,
              "#9c179e"
             ],
             [
              0.4444444444444444,
              "#bd3786"
             ],
             [
              0.5555555555555556,
              "#d8576b"
             ],
             [
              0.6666666666666666,
              "#ed7953"
             ],
             [
              0.7777777777777778,
              "#fb9f3a"
             ],
             [
              0.8888888888888888,
              "#fdca26"
             ],
             [
              1,
              "#f0f921"
             ]
            ],
            "type": "contour"
           }
          ],
          "contourcarpet": [
           {
            "colorbar": {
             "outlinewidth": 0,
             "ticks": ""
            },
            "type": "contourcarpet"
           }
          ],
          "heatmap": [
           {
            "colorbar": {
             "outlinewidth": 0,
             "ticks": ""
            },
            "colorscale": [
             [
              0,
              "#0d0887"
             ],
             [
              0.1111111111111111,
              "#46039f"
             ],
             [
              0.2222222222222222,
              "#7201a8"
             ],
             [
              0.3333333333333333,
              "#9c179e"
             ],
             [
              0.4444444444444444,
              "#bd3786"
             ],
             [
              0.5555555555555556,
              "#d8576b"
             ],
             [
              0.6666666666666666,
              "#ed7953"
             ],
             [
              0.7777777777777778,
              "#fb9f3a"
             ],
             [
              0.8888888888888888,
              "#fdca26"
             ],
             [
              1,
              "#f0f921"
             ]
            ],
            "type": "heatmap"
           }
          ],
          "heatmapgl": [
           {
            "colorbar": {
             "outlinewidth": 0,
             "ticks": ""
            },
            "colorscale": [
             [
              0,
              "#0d0887"
             ],
             [
              0.1111111111111111,
              "#46039f"
             ],
             [
              0.2222222222222222,
              "#7201a8"
             ],
             [
              0.3333333333333333,
              "#9c179e"
             ],
             [
              0.4444444444444444,
              "#bd3786"
             ],
             [
              0.5555555555555556,
              "#d8576b"
             ],
             [
              0.6666666666666666,
              "#ed7953"
             ],
             [
              0.7777777777777778,
              "#fb9f3a"
             ],
             [
              0.8888888888888888,
              "#fdca26"
             ],
             [
              1,
              "#f0f921"
             ]
            ],
            "type": "heatmapgl"
           }
          ],
          "histogram": [
           {
            "marker": {
             "pattern": {
              "fillmode": "overlay",
              "size": 10,
              "solidity": 0.2
             }
            },
            "type": "histogram"
           }
          ],
          "histogram2d": [
           {
            "colorbar": {
             "outlinewidth": 0,
             "ticks": ""
            },
            "colorscale": [
             [
              0,
              "#0d0887"
             ],
             [
              0.1111111111111111,
              "#46039f"
             ],
             [
              0.2222222222222222,
              "#7201a8"
             ],
             [
              0.3333333333333333,
              "#9c179e"
             ],
             [
              0.4444444444444444,
              "#bd3786"
             ],
             [
              0.5555555555555556,
              "#d8576b"
             ],
             [
              0.6666666666666666,
              "#ed7953"
             ],
             [
              0.7777777777777778,
              "#fb9f3a"
             ],
             [
              0.8888888888888888,
              "#fdca26"
             ],
             [
              1,
              "#f0f921"
             ]
            ],
            "type": "histogram2d"
           }
          ],
          "histogram2dcontour": [
           {
            "colorbar": {
             "outlinewidth": 0,
             "ticks": ""
            },
            "colorscale": [
             [
              0,
              "#0d0887"
             ],
             [
              0.1111111111111111,
              "#46039f"
             ],
             [
              0.2222222222222222,
              "#7201a8"
             ],
             [
              0.3333333333333333,
              "#9c179e"
             ],
             [
              0.4444444444444444,
              "#bd3786"
             ],
             [
              0.5555555555555556,
              "#d8576b"
             ],
             [
              0.6666666666666666,
              "#ed7953"
             ],
             [
              0.7777777777777778,
              "#fb9f3a"
             ],
             [
              0.8888888888888888,
              "#fdca26"
             ],
             [
              1,
              "#f0f921"
             ]
            ],
            "type": "histogram2dcontour"
           }
          ],
          "mesh3d": [
           {
            "colorbar": {
             "outlinewidth": 0,
             "ticks": ""
            },
            "type": "mesh3d"
           }
          ],
          "parcoords": [
           {
            "line": {
             "colorbar": {
              "outlinewidth": 0,
              "ticks": ""
             }
            },
            "type": "parcoords"
           }
          ],
          "pie": [
           {
            "automargin": true,
            "type": "pie"
           }
          ],
          "scatter": [
           {
            "fillpattern": {
             "fillmode": "overlay",
             "size": 10,
             "solidity": 0.2
            },
            "type": "scatter"
           }
          ],
          "scatter3d": [
           {
            "line": {
             "colorbar": {
              "outlinewidth": 0,
              "ticks": ""
             }
            },
            "marker": {
             "colorbar": {
              "outlinewidth": 0,
              "ticks": ""
             }
            },
            "type": "scatter3d"
           }
          ],
          "scattercarpet": [
           {
            "marker": {
             "colorbar": {
              "outlinewidth": 0,
              "ticks": ""
             }
            },
            "type": "scattercarpet"
           }
          ],
          "scattergeo": [
           {
            "marker": {
             "colorbar": {
              "outlinewidth": 0,
              "ticks": ""
             }
            },
            "type": "scattergeo"
           }
          ],
          "scattergl": [
           {
            "marker": {
             "colorbar": {
              "outlinewidth": 0,
              "ticks": ""
             }
            },
            "type": "scattergl"
           }
          ],
          "scattermapbox": [
           {
            "marker": {
             "colorbar": {
              "outlinewidth": 0,
              "ticks": ""
             }
            },
            "type": "scattermapbox"
           }
          ],
          "scatterpolar": [
           {
            "marker": {
             "colorbar": {
              "outlinewidth": 0,
              "ticks": ""
             }
            },
            "type": "scatterpolar"
           }
          ],
          "scatterpolargl": [
           {
            "marker": {
             "colorbar": {
              "outlinewidth": 0,
              "ticks": ""
             }
            },
            "type": "scatterpolargl"
           }
          ],
          "scatterternary": [
           {
            "marker": {
             "colorbar": {
              "outlinewidth": 0,
              "ticks": ""
             }
            },
            "type": "scatterternary"
           }
          ],
          "surface": [
           {
            "colorbar": {
             "outlinewidth": 0,
             "ticks": ""
            },
            "colorscale": [
             [
              0,
              "#0d0887"
             ],
             [
              0.1111111111111111,
              "#46039f"
             ],
             [
              0.2222222222222222,
              "#7201a8"
             ],
             [
              0.3333333333333333,
              "#9c179e"
             ],
             [
              0.4444444444444444,
              "#bd3786"
             ],
             [
              0.5555555555555556,
              "#d8576b"
             ],
             [
              0.6666666666666666,
              "#ed7953"
             ],
             [
              0.7777777777777778,
              "#fb9f3a"
             ],
             [
              0.8888888888888888,
              "#fdca26"
             ],
             [
              1,
              "#f0f921"
             ]
            ],
            "type": "surface"
           }
          ],
          "table": [
           {
            "cells": {
             "fill": {
              "color": "#EBF0F8"
             },
             "line": {
              "color": "white"
             }
            },
            "header": {
             "fill": {
              "color": "#C8D4E3"
             },
             "line": {
              "color": "white"
             }
            },
            "type": "table"
           }
          ]
         },
         "layout": {
          "annotationdefaults": {
           "arrowcolor": "#2a3f5f",
           "arrowhead": 0,
           "arrowwidth": 1
          },
          "autotypenumbers": "strict",
          "coloraxis": {
           "colorbar": {
            "outlinewidth": 0,
            "ticks": ""
           }
          },
          "colorscale": {
           "diverging": [
            [
             0,
             "#8e0152"
            ],
            [
             0.1,
             "#c51b7d"
            ],
            [
             0.2,
             "#de77ae"
            ],
            [
             0.3,
             "#f1b6da"
            ],
            [
             0.4,
             "#fde0ef"
            ],
            [
             0.5,
             "#f7f7f7"
            ],
            [
             0.6,
             "#e6f5d0"
            ],
            [
             0.7,
             "#b8e186"
            ],
            [
             0.8,
             "#7fbc41"
            ],
            [
             0.9,
             "#4d9221"
            ],
            [
             1,
             "#276419"
            ]
           ],
           "sequential": [
            [
             0,
             "#0d0887"
            ],
            [
             0.1111111111111111,
             "#46039f"
            ],
            [
             0.2222222222222222,
             "#7201a8"
            ],
            [
             0.3333333333333333,
             "#9c179e"
            ],
            [
             0.4444444444444444,
             "#bd3786"
            ],
            [
             0.5555555555555556,
             "#d8576b"
            ],
            [
             0.6666666666666666,
             "#ed7953"
            ],
            [
             0.7777777777777778,
             "#fb9f3a"
            ],
            [
             0.8888888888888888,
             "#fdca26"
            ],
            [
             1,
             "#f0f921"
            ]
           ],
           "sequentialminus": [
            [
             0,
             "#0d0887"
            ],
            [
             0.1111111111111111,
             "#46039f"
            ],
            [
             0.2222222222222222,
             "#7201a8"
            ],
            [
             0.3333333333333333,
             "#9c179e"
            ],
            [
             0.4444444444444444,
             "#bd3786"
            ],
            [
             0.5555555555555556,
             "#d8576b"
            ],
            [
             0.6666666666666666,
             "#ed7953"
            ],
            [
             0.7777777777777778,
             "#fb9f3a"
            ],
            [
             0.8888888888888888,
             "#fdca26"
            ],
            [
             1,
             "#f0f921"
            ]
           ]
          },
          "colorway": [
           "#636efa",
           "#EF553B",
           "#00cc96",
           "#ab63fa",
           "#FFA15A",
           "#19d3f3",
           "#FF6692",
           "#B6E880",
           "#FF97FF",
           "#FECB52"
          ],
          "font": {
           "color": "#2a3f5f"
          },
          "geo": {
           "bgcolor": "white",
           "lakecolor": "white",
           "landcolor": "#E5ECF6",
           "showlakes": true,
           "showland": true,
           "subunitcolor": "white"
          },
          "hoverlabel": {
           "align": "left"
          },
          "hovermode": "closest",
          "mapbox": {
           "style": "light"
          },
          "paper_bgcolor": "white",
          "plot_bgcolor": "#E5ECF6",
          "polar": {
           "angularaxis": {
            "gridcolor": "white",
            "linecolor": "white",
            "ticks": ""
           },
           "bgcolor": "#E5ECF6",
           "radialaxis": {
            "gridcolor": "white",
            "linecolor": "white",
            "ticks": ""
           }
          },
          "scene": {
           "xaxis": {
            "backgroundcolor": "#E5ECF6",
            "gridcolor": "white",
            "gridwidth": 2,
            "linecolor": "white",
            "showbackground": true,
            "ticks": "",
            "zerolinecolor": "white"
           },
           "yaxis": {
            "backgroundcolor": "#E5ECF6",
            "gridcolor": "white",
            "gridwidth": 2,
            "linecolor": "white",
            "showbackground": true,
            "ticks": "",
            "zerolinecolor": "white"
           },
           "zaxis": {
            "backgroundcolor": "#E5ECF6",
            "gridcolor": "white",
            "gridwidth": 2,
            "linecolor": "white",
            "showbackground": true,
            "ticks": "",
            "zerolinecolor": "white"
           }
          },
          "shapedefaults": {
           "line": {
            "color": "#2a3f5f"
           }
          },
          "ternary": {
           "aaxis": {
            "gridcolor": "white",
            "linecolor": "white",
            "ticks": ""
           },
           "baxis": {
            "gridcolor": "white",
            "linecolor": "white",
            "ticks": ""
           },
           "bgcolor": "#E5ECF6",
           "caxis": {
            "gridcolor": "white",
            "linecolor": "white",
            "ticks": ""
           }
          },
          "title": {
           "x": 0.05
          },
          "xaxis": {
           "automargin": true,
           "gridcolor": "white",
           "linecolor": "white",
           "ticks": "",
           "title": {
            "standoff": 15
           },
           "zerolinecolor": "white",
           "zerolinewidth": 2
          },
          "yaxis": {
           "automargin": true,
           "gridcolor": "white",
           "linecolor": "white",
           "ticks": "",
           "title": {
            "standoff": 15
           },
           "zerolinecolor": "white",
           "zerolinewidth": 2
          }
         }
        },
        "title": {
         "font": {
          "color": "#4D5663"
         }
        },
        "xaxis": {
         "gridcolor": "#E1E5ED",
         "showgrid": true,
         "tickfont": {
          "color": "#4D5663"
         },
         "title": {
          "font": {
           "color": "#4D5663"
          },
          "text": ""
         },
         "zerolinecolor": "#E1E5ED"
        },
        "yaxis": {
         "gridcolor": "#E1E5ED",
         "showgrid": true,
         "tickfont": {
          "color": "#4D5663"
         },
         "title": {
          "font": {
           "color": "#4D5663"
          },
          "text": ""
         },
         "zerolinecolor": "#E1E5ED"
        }
       }
      },
      "text/html": [
       "<div>                            <div id=\"6a2f320b-30fd-41ba-a409-090c85667028\" class=\"plotly-graph-div\" style=\"height:525px; width:100%;\"></div>            <script type=\"text/javascript\">                require([\"plotly\"], function(Plotly) {                    window.PLOTLYENV=window.PLOTLYENV || {};\n",
       "                    window.PLOTLYENV.BASE_URL='https://plot.ly';                                    if (document.getElementById(\"6a2f320b-30fd-41ba-a409-090c85667028\")) {                    Plotly.newPlot(                        \"6a2f320b-30fd-41ba-a409-090c85667028\",                        [{\"histfunc\":\"count\",\"histnorm\":\"\",\"marker\":{\"color\":\"rgba(255, 153, 51, 1.0)\",\"line\":{\"color\":\"#4D5663\",\"width\":1.3}},\"name\":\"A\",\"nbinsx\":25,\"opacity\":0.8,\"orientation\":\"v\",\"x\":[1.8243129259995166,0.19608475400175768,-0.6053188770897872,0.8911968956639813,1.0070855293069285,-0.8014471338364257,-0.9924125538103235,0.6589442869722124,-0.014050001002884725,0.07518373531629381,-0.36474810809089014,1.3213713674994056,-1.3390868001532397,2.0157661712051587,0.702026132198567,-0.980743213672751,-1.290183167745645,-0.034866885767344466,1.3244596009270821,0.46914853441326737,1.811113937836261,-0.31191244635793713,-0.44645210590499096,-0.47723670876074775,-0.7041383254890567,-1.0201756035449587,1.3557072710334452,-0.6307039403442191,-1.0790513559403063,1.5061983883651782,-1.1546177021329875,1.2553753887543317,0.15018352623167674,-0.5988057076920157,0.5380983515180622,0.9759791860363404,-0.7833975692914159,-0.9189649613532611,-0.0974760456801578,0.3429586783883424,-0.6191550076924058,-2.1039659473643173,0.8350223435673302,0.6318776376503721,0.06918376203837928,-0.9540441738215512,1.0623602869959006,-0.04214282767279125,1.0236001005414836,2.768834106807123,-0.34962680392505013,-1.9587267869592255,0.21487117500607636,-0.7195032292037042,0.20890306000942607,-0.6473154003389758,0.7544595643203549,0.4697360100064573,0.11029082781862608,-0.09295678672354084,-0.7844564187290143,1.22551840597947,0.1733457984754417,-1.5674530556863537,-0.12719427915234527,1.2969218378364398,-0.47955826843769805,-1.0917495191808468,0.22136705963048148,-0.9351966540884519,1.019493096539831,2.516073211595525,1.5376854720253375,-1.3831508907611931,-1.9191831893194957,0.44359556475430645,-0.8246593181297605,-0.2100864028503051,0.9547760587601132,-0.2653278159042679,0.8362410698154421,-1.206447309739462,1.3929084051796088,1.6164208225232148,0.33581060384052197,-1.2146714988178433,0.45484819640518204,1.1003564183064294,-0.0545126540500522,-1.6473224078317383,1.0928108115908042,-0.16389643281667396,-0.6544788103037372,-1.3716173109397398,0.3395650647243976,-1.147263981725478,1.2174640192307618,-0.21249306896884895,-1.096053716026816,2.3900037580866145],\"type\":\"histogram\"}],                        {\"barmode\":\"overlay\",\"legend\":{\"bgcolor\":\"#F5F6F9\",\"font\":{\"color\":\"#4D5663\"}},\"paper_bgcolor\":\"#F5F6F9\",\"plot_bgcolor\":\"#F5F6F9\",\"template\":{\"data\":{\"barpolar\":[{\"marker\":{\"line\":{\"color\":\"#E5ECF6\",\"width\":0.5},\"pattern\":{\"fillmode\":\"overlay\",\"size\":10,\"solidity\":0.2}},\"type\":\"barpolar\"}],\"bar\":[{\"error_x\":{\"color\":\"#2a3f5f\"},\"error_y\":{\"color\":\"#2a3f5f\"},\"marker\":{\"line\":{\"color\":\"#E5ECF6\",\"width\":0.5},\"pattern\":{\"fillmode\":\"overlay\",\"size\":10,\"solidity\":0.2}},\"type\":\"bar\"}],\"carpet\":[{\"aaxis\":{\"endlinecolor\":\"#2a3f5f\",\"gridcolor\":\"white\",\"linecolor\":\"white\",\"minorgridcolor\":\"white\",\"startlinecolor\":\"#2a3f5f\"},\"baxis\":{\"endlinecolor\":\"#2a3f5f\",\"gridcolor\":\"white\",\"linecolor\":\"white\",\"minorgridcolor\":\"white\",\"startlinecolor\":\"#2a3f5f\"},\"type\":\"carpet\"}],\"choropleth\":[{\"colorbar\":{\"outlinewidth\":0,\"ticks\":\"\"},\"type\":\"choropleth\"}],\"contourcarpet\":[{\"colorbar\":{\"outlinewidth\":0,\"ticks\":\"\"},\"type\":\"contourcarpet\"}],\"contour\":[{\"colorbar\":{\"outlinewidth\":0,\"ticks\":\"\"},\"colorscale\":[[0.0,\"#0d0887\"],[0.1111111111111111,\"#46039f\"],[0.2222222222222222,\"#7201a8\"],[0.3333333333333333,\"#9c179e\"],[0.4444444444444444,\"#bd3786\"],[0.5555555555555556,\"#d8576b\"],[0.6666666666666666,\"#ed7953\"],[0.7777777777777778,\"#fb9f3a\"],[0.8888888888888888,\"#fdca26\"],[1.0,\"#f0f921\"]],\"type\":\"contour\"}],\"heatmapgl\":[{\"colorbar\":{\"outlinewidth\":0,\"ticks\":\"\"},\"colorscale\":[[0.0,\"#0d0887\"],[0.1111111111111111,\"#46039f\"],[0.2222222222222222,\"#7201a8\"],[0.3333333333333333,\"#9c179e\"],[0.4444444444444444,\"#bd3786\"],[0.5555555555555556,\"#d8576b\"],[0.6666666666666666,\"#ed7953\"],[0.7777777777777778,\"#fb9f3a\"],[0.8888888888888888,\"#fdca26\"],[1.0,\"#f0f921\"]],\"type\":\"heatmapgl\"}],\"heatmap\":[{\"colorbar\":{\"outlinewidth\":0,\"ticks\":\"\"},\"colorscale\":[[0.0,\"#0d0887\"],[0.1111111111111111,\"#46039f\"],[0.2222222222222222,\"#7201a8\"],[0.3333333333333333,\"#9c179e\"],[0.4444444444444444,\"#bd3786\"],[0.5555555555555556,\"#d8576b\"],[0.6666666666666666,\"#ed7953\"],[0.7777777777777778,\"#fb9f3a\"],[0.8888888888888888,\"#fdca26\"],[1.0,\"#f0f921\"]],\"type\":\"heatmap\"}],\"histogram2dcontour\":[{\"colorbar\":{\"outlinewidth\":0,\"ticks\":\"\"},\"colorscale\":[[0.0,\"#0d0887\"],[0.1111111111111111,\"#46039f\"],[0.2222222222222222,\"#7201a8\"],[0.3333333333333333,\"#9c179e\"],[0.4444444444444444,\"#bd3786\"],[0.5555555555555556,\"#d8576b\"],[0.6666666666666666,\"#ed7953\"],[0.7777777777777778,\"#fb9f3a\"],[0.8888888888888888,\"#fdca26\"],[1.0,\"#f0f921\"]],\"type\":\"histogram2dcontour\"}],\"histogram2d\":[{\"colorbar\":{\"outlinewidth\":0,\"ticks\":\"\"},\"colorscale\":[[0.0,\"#0d0887\"],[0.1111111111111111,\"#46039f\"],[0.2222222222222222,\"#7201a8\"],[0.3333333333333333,\"#9c179e\"],[0.4444444444444444,\"#bd3786\"],[0.5555555555555556,\"#d8576b\"],[0.6666666666666666,\"#ed7953\"],[0.7777777777777778,\"#fb9f3a\"],[0.8888888888888888,\"#fdca26\"],[1.0,\"#f0f921\"]],\"type\":\"histogram2d\"}],\"histogram\":[{\"marker\":{\"pattern\":{\"fillmode\":\"overlay\",\"size\":10,\"solidity\":0.2}},\"type\":\"histogram\"}],\"mesh3d\":[{\"colorbar\":{\"outlinewidth\":0,\"ticks\":\"\"},\"type\":\"mesh3d\"}],\"parcoords\":[{\"line\":{\"colorbar\":{\"outlinewidth\":0,\"ticks\":\"\"}},\"type\":\"parcoords\"}],\"pie\":[{\"automargin\":true,\"type\":\"pie\"}],\"scatter3d\":[{\"line\":{\"colorbar\":{\"outlinewidth\":0,\"ticks\":\"\"}},\"marker\":{\"colorbar\":{\"outlinewidth\":0,\"ticks\":\"\"}},\"type\":\"scatter3d\"}],\"scattercarpet\":[{\"marker\":{\"colorbar\":{\"outlinewidth\":0,\"ticks\":\"\"}},\"type\":\"scattercarpet\"}],\"scattergeo\":[{\"marker\":{\"colorbar\":{\"outlinewidth\":0,\"ticks\":\"\"}},\"type\":\"scattergeo\"}],\"scattergl\":[{\"marker\":{\"colorbar\":{\"outlinewidth\":0,\"ticks\":\"\"}},\"type\":\"scattergl\"}],\"scattermapbox\":[{\"marker\":{\"colorbar\":{\"outlinewidth\":0,\"ticks\":\"\"}},\"type\":\"scattermapbox\"}],\"scatterpolargl\":[{\"marker\":{\"colorbar\":{\"outlinewidth\":0,\"ticks\":\"\"}},\"type\":\"scatterpolargl\"}],\"scatterpolar\":[{\"marker\":{\"colorbar\":{\"outlinewidth\":0,\"ticks\":\"\"}},\"type\":\"scatterpolar\"}],\"scatter\":[{\"fillpattern\":{\"fillmode\":\"overlay\",\"size\":10,\"solidity\":0.2},\"type\":\"scatter\"}],\"scatterternary\":[{\"marker\":{\"colorbar\":{\"outlinewidth\":0,\"ticks\":\"\"}},\"type\":\"scatterternary\"}],\"surface\":[{\"colorbar\":{\"outlinewidth\":0,\"ticks\":\"\"},\"colorscale\":[[0.0,\"#0d0887\"],[0.1111111111111111,\"#46039f\"],[0.2222222222222222,\"#7201a8\"],[0.3333333333333333,\"#9c179e\"],[0.4444444444444444,\"#bd3786\"],[0.5555555555555556,\"#d8576b\"],[0.6666666666666666,\"#ed7953\"],[0.7777777777777778,\"#fb9f3a\"],[0.8888888888888888,\"#fdca26\"],[1.0,\"#f0f921\"]],\"type\":\"surface\"}],\"table\":[{\"cells\":{\"fill\":{\"color\":\"#EBF0F8\"},\"line\":{\"color\":\"white\"}},\"header\":{\"fill\":{\"color\":\"#C8D4E3\"},\"line\":{\"color\":\"white\"}},\"type\":\"table\"}]},\"layout\":{\"annotationdefaults\":{\"arrowcolor\":\"#2a3f5f\",\"arrowhead\":0,\"arrowwidth\":1},\"autotypenumbers\":\"strict\",\"coloraxis\":{\"colorbar\":{\"outlinewidth\":0,\"ticks\":\"\"}},\"colorscale\":{\"diverging\":[[0,\"#8e0152\"],[0.1,\"#c51b7d\"],[0.2,\"#de77ae\"],[0.3,\"#f1b6da\"],[0.4,\"#fde0ef\"],[0.5,\"#f7f7f7\"],[0.6,\"#e6f5d0\"],[0.7,\"#b8e186\"],[0.8,\"#7fbc41\"],[0.9,\"#4d9221\"],[1,\"#276419\"]],\"sequential\":[[0.0,\"#0d0887\"],[0.1111111111111111,\"#46039f\"],[0.2222222222222222,\"#7201a8\"],[0.3333333333333333,\"#9c179e\"],[0.4444444444444444,\"#bd3786\"],[0.5555555555555556,\"#d8576b\"],[0.6666666666666666,\"#ed7953\"],[0.7777777777777778,\"#fb9f3a\"],[0.8888888888888888,\"#fdca26\"],[1.0,\"#f0f921\"]],\"sequentialminus\":[[0.0,\"#0d0887\"],[0.1111111111111111,\"#46039f\"],[0.2222222222222222,\"#7201a8\"],[0.3333333333333333,\"#9c179e\"],[0.4444444444444444,\"#bd3786\"],[0.5555555555555556,\"#d8576b\"],[0.6666666666666666,\"#ed7953\"],[0.7777777777777778,\"#fb9f3a\"],[0.8888888888888888,\"#fdca26\"],[1.0,\"#f0f921\"]]},\"colorway\":[\"#636efa\",\"#EF553B\",\"#00cc96\",\"#ab63fa\",\"#FFA15A\",\"#19d3f3\",\"#FF6692\",\"#B6E880\",\"#FF97FF\",\"#FECB52\"],\"font\":{\"color\":\"#2a3f5f\"},\"geo\":{\"bgcolor\":\"white\",\"lakecolor\":\"white\",\"landcolor\":\"#E5ECF6\",\"showlakes\":true,\"showland\":true,\"subunitcolor\":\"white\"},\"hoverlabel\":{\"align\":\"left\"},\"hovermode\":\"closest\",\"mapbox\":{\"style\":\"light\"},\"paper_bgcolor\":\"white\",\"plot_bgcolor\":\"#E5ECF6\",\"polar\":{\"angularaxis\":{\"gridcolor\":\"white\",\"linecolor\":\"white\",\"ticks\":\"\"},\"bgcolor\":\"#E5ECF6\",\"radialaxis\":{\"gridcolor\":\"white\",\"linecolor\":\"white\",\"ticks\":\"\"}},\"scene\":{\"xaxis\":{\"backgroundcolor\":\"#E5ECF6\",\"gridcolor\":\"white\",\"gridwidth\":2,\"linecolor\":\"white\",\"showbackground\":true,\"ticks\":\"\",\"zerolinecolor\":\"white\"},\"yaxis\":{\"backgroundcolor\":\"#E5ECF6\",\"gridcolor\":\"white\",\"gridwidth\":2,\"linecolor\":\"white\",\"showbackground\":true,\"ticks\":\"\",\"zerolinecolor\":\"white\"},\"zaxis\":{\"backgroundcolor\":\"#E5ECF6\",\"gridcolor\":\"white\",\"gridwidth\":2,\"linecolor\":\"white\",\"showbackground\":true,\"ticks\":\"\",\"zerolinecolor\":\"white\"}},\"shapedefaults\":{\"line\":{\"color\":\"#2a3f5f\"}},\"ternary\":{\"aaxis\":{\"gridcolor\":\"white\",\"linecolor\":\"white\",\"ticks\":\"\"},\"baxis\":{\"gridcolor\":\"white\",\"linecolor\":\"white\",\"ticks\":\"\"},\"bgcolor\":\"#E5ECF6\",\"caxis\":{\"gridcolor\":\"white\",\"linecolor\":\"white\",\"ticks\":\"\"}},\"title\":{\"x\":0.05},\"xaxis\":{\"automargin\":true,\"gridcolor\":\"white\",\"linecolor\":\"white\",\"ticks\":\"\",\"title\":{\"standoff\":15},\"zerolinecolor\":\"white\",\"zerolinewidth\":2},\"yaxis\":{\"automargin\":true,\"gridcolor\":\"white\",\"linecolor\":\"white\",\"ticks\":\"\",\"title\":{\"standoff\":15},\"zerolinecolor\":\"white\",\"zerolinewidth\":2}}},\"title\":{\"font\":{\"color\":\"#4D5663\"}},\"xaxis\":{\"gridcolor\":\"#E1E5ED\",\"showgrid\":true,\"tickfont\":{\"color\":\"#4D5663\"},\"title\":{\"font\":{\"color\":\"#4D5663\"},\"text\":\"\"},\"zerolinecolor\":\"#E1E5ED\"},\"yaxis\":{\"gridcolor\":\"#E1E5ED\",\"showgrid\":true,\"tickfont\":{\"color\":\"#4D5663\"},\"title\":{\"font\":{\"color\":\"#4D5663\"},\"text\":\"\"},\"zerolinecolor\":\"#E1E5ED\"}},                        {\"showLink\": true, \"linkText\": \"Export to plot.ly\", \"plotlyServerURL\": \"https://plot.ly\", \"responsive\": true}                    ).then(function(){\n",
       "                            \n",
       "var gd = document.getElementById('6a2f320b-30fd-41ba-a409-090c85667028');\n",
       "var x = new MutationObserver(function (mutations, observer) {{\n",
       "        var display = window.getComputedStyle(gd).display;\n",
       "        if (!display || display === 'none') {{\n",
       "            console.log([gd, 'removed!']);\n",
       "            Plotly.purge(gd);\n",
       "            observer.disconnect();\n",
       "        }}\n",
       "}});\n",
       "\n",
       "// Listen for the removal of the full notebook cells\n",
       "var notebookContainer = gd.closest('#notebook-container');\n",
       "if (notebookContainer) {{\n",
       "    x.observe(notebookContainer, {childList: true});\n",
       "}}\n",
       "\n",
       "// Listen for the clearing of the current output cell\n",
       "var outputEl = gd.closest('.output');\n",
       "if (outputEl) {{\n",
       "    x.observe(outputEl, {childList: true});\n",
       "}}\n",
       "\n",
       "                        })                };                });            </script>        </div>"
      ]
     },
     "metadata": {},
     "output_type": "display_data"
    }
   ],
   "source": [
    "df['A'].iplot(kind='hist',bins=25)"
   ]
  },
  {
   "cell_type": "code",
   "execution_count": 19,
   "metadata": {},
   "outputs": [
    {
     "data": {
      "application/vnd.plotly.v1+json": {
       "config": {
        "linkText": "Export to plot.ly",
        "plotlyServerURL": "https://plot.ly",
        "showLink": true
       },
       "data": [
        {
         "marker": {
          "color": [
           "rgb(255, 153, 51)",
           "rgb(55, 128, 191)",
           "rgb(50, 171, 96)",
           "rgb(128, 0, 128)",
           "rgb(219, 64, 82)",
           "rgb(0, 128, 128)",
           "rgb(255, 255, 51)",
           "rgb(128, 128, 0)",
           "rgb(251, 128, 114)",
           "rgb(128, 177, 211)"
          ],
          "line": {
           "width": 1.3
          },
          "size": [
           19,
           26,
           52,
           33,
           54,
           39,
           42,
           73,
           66,
           57,
           99,
           55,
           71,
           55,
           52,
           55,
           55,
           18,
           86,
           55,
           95,
           98,
           77,
           66,
           41,
           78,
           29,
           61,
           43,
           33,
           61,
           66,
           75,
           37,
           55,
           38,
           65,
           76,
           33,
           33,
           49,
           70,
           54,
           85,
           38,
           95,
           78,
           70,
           28,
           51,
           112,
           102,
           41,
           64,
           86,
           78,
           43,
           69,
           56,
           68,
           14,
           38,
           74,
           60,
           84,
           96,
           48,
           72,
           65,
           20,
           57,
           52,
           12,
           72,
           57,
           61,
           77,
           84,
           76,
           71,
           96,
           27,
           67,
           39,
           50,
           79,
           39,
           36,
           82,
           54,
           36,
           65,
           39,
           56,
           80,
           33,
           43,
           65,
           43,
           76
          ],
          "symbol": "circle"
         },
         "mode": "markers",
         "text": "",
         "type": "scatter",
         "x": [
          1.8243129259995166,
          0.19608475400175768,
          -0.6053188770897872,
          0.8911968956639813,
          1.0070855293069285,
          -0.8014471338364257,
          -0.9924125538103235,
          0.6589442869722124,
          -0.014050001002884725,
          0.07518373531629381,
          -0.36474810809089014,
          1.3213713674994056,
          -1.3390868001532397,
          2.0157661712051587,
          0.702026132198567,
          -0.980743213672751,
          -1.290183167745645,
          -0.034866885767344466,
          1.3244596009270821,
          0.46914853441326737,
          1.811113937836261,
          -0.31191244635793713,
          -0.44645210590499096,
          -0.47723670876074775,
          -0.7041383254890567,
          -1.0201756035449587,
          1.3557072710334452,
          -0.6307039403442191,
          -1.0790513559403063,
          1.5061983883651782,
          -1.1546177021329875,
          1.2553753887543317,
          0.15018352623167674,
          -0.5988057076920157,
          0.5380983515180622,
          0.9759791860363404,
          -0.7833975692914159,
          -0.9189649613532611,
          -0.0974760456801578,
          0.3429586783883424,
          -0.6191550076924058,
          -2.1039659473643173,
          0.8350223435673302,
          0.6318776376503721,
          0.06918376203837928,
          -0.9540441738215512,
          1.0623602869959006,
          -0.04214282767279125,
          1.0236001005414836,
          2.768834106807123,
          -0.34962680392505013,
          -1.9587267869592255,
          0.21487117500607636,
          -0.7195032292037042,
          0.20890306000942607,
          -0.6473154003389758,
          0.7544595643203549,
          0.4697360100064573,
          0.11029082781862608,
          -0.09295678672354084,
          -0.7844564187290143,
          1.22551840597947,
          0.1733457984754417,
          -1.5674530556863537,
          -0.12719427915234527,
          1.2969218378364398,
          -0.47955826843769805,
          -1.0917495191808468,
          0.22136705963048148,
          -0.9351966540884519,
          1.019493096539831,
          2.516073211595525,
          1.5376854720253375,
          -1.3831508907611931,
          -1.9191831893194957,
          0.44359556475430645,
          -0.8246593181297605,
          -0.2100864028503051,
          0.9547760587601132,
          -0.2653278159042679,
          0.8362410698154421,
          -1.206447309739462,
          1.3929084051796088,
          1.6164208225232148,
          0.33581060384052197,
          -1.2146714988178433,
          0.45484819640518204,
          1.1003564183064294,
          -0.0545126540500522,
          -1.6473224078317383,
          1.0928108115908042,
          -0.16389643281667396,
          -0.6544788103037372,
          -1.3716173109397398,
          0.3395650647243976,
          -1.147263981725478,
          1.2174640192307618,
          -0.21249306896884895,
          -1.096053716026816,
          2.3900037580866145
         ],
         "y": [
          0.583131544660661,
          -0.13361300439365476,
          -0.04123704831597834,
          0.0014680131745039354,
          1.438466824959959,
          0.5541476788726151,
          -1.1310893635390038,
          -0.5623452390437628,
          -0.670234518530269,
          0.545812634382133,
          -0.3624818654591015,
          0.1701678549417786,
          0.3581879479821975,
          -2.887380914691166,
          -0.13478783996064245,
          -0.8588668905175264,
          -0.8938984223234923,
          0.19181727804293225,
          -0.028983423455619165,
          -0.019052996185692665,
          -1.1602446579879755,
          0.08121421004235378,
          1.3352220481800035,
          0.35807277726483344,
          -0.9409924776717753,
          -1.8503080091673934,
          -0.6870106893491648,
          0.8314233325875332,
          0.02274811954883968,
          0.9194055377055831,
          -0.7740446909882256,
          -0.22978997934892423,
          0.17286979761015278,
          -1.8144485916502244,
          0.10019030223493725,
          0.6543032593357595,
          0.002882968517779104,
          -0.614448403963407,
          1.4894537976884068,
          -0.5184176501024136,
          0.8510492801098789,
          1.6907679823457193,
          -0.7252403229757054,
          -1.8548965808613855,
          -0.9279085762381253,
          -0.19262867996165262,
          0.26506477791439476,
          2.149363109679803,
          1.551901938062469,
          0.9498725527680408,
          -0.5798412074414184,
          -1.8392247543767455,
          -0.3001332641170957,
          -0.8038995410085215,
          -0.8356561490437464,
          0.7841323972572954,
          -0.30929122537950327,
          1.0137109697249589,
          1.3640708249499136,
          0.14797119237972522,
          -1.5140703332552574,
          -0.37335951646331544,
          0.06906016347182198,
          0.0071806358751329985,
          -0.3287712644324699,
          0.9244322653350652,
          -2.065891711445297,
          0.5545434773856838,
          -0.1155953279380719,
          1.2903641107677892,
          0.8844881302921291,
          -0.7085242639802346,
          -1.1299614703443237,
          -1.7164506836065332,
          0.31064937293329015,
          1.365766364043925,
          -0.7735412746528428,
          0.10817543607704204,
          0.4800268444616799,
          1.4983655949771244,
          0.5891832919635394,
          0.15306708133909158,
          1.1592892480331136,
          -0.14279951141742664,
          0.018543837761865134,
          -1.4673943968795782,
          -0.6694224768413874,
          -0.41465428943287297,
          -0.17348747003891735,
          1.1353060114559579,
          -0.33408295386952674,
          1.7553588384503196,
          -0.2110048275984787,
          0.42849832241419883,
          -1.429062493144599,
          0.9951538223316054,
          0.8098824701408762,
          0.3884108342548283,
          -0.1558889174937159,
          -0.11031426067805795
         ]
        }
       ],
       "layout": {
        "legend": {
         "bgcolor": "#F5F6F9",
         "font": {
          "color": "#4D5663"
         }
        },
        "paper_bgcolor": "#F5F6F9",
        "plot_bgcolor": "#F5F6F9",
        "template": {
         "data": {
          "bar": [
           {
            "error_x": {
             "color": "#2a3f5f"
            },
            "error_y": {
             "color": "#2a3f5f"
            },
            "marker": {
             "line": {
              "color": "#E5ECF6",
              "width": 0.5
             },
             "pattern": {
              "fillmode": "overlay",
              "size": 10,
              "solidity": 0.2
             }
            },
            "type": "bar"
           }
          ],
          "barpolar": [
           {
            "marker": {
             "line": {
              "color": "#E5ECF6",
              "width": 0.5
             },
             "pattern": {
              "fillmode": "overlay",
              "size": 10,
              "solidity": 0.2
             }
            },
            "type": "barpolar"
           }
          ],
          "carpet": [
           {
            "aaxis": {
             "endlinecolor": "#2a3f5f",
             "gridcolor": "white",
             "linecolor": "white",
             "minorgridcolor": "white",
             "startlinecolor": "#2a3f5f"
            },
            "baxis": {
             "endlinecolor": "#2a3f5f",
             "gridcolor": "white",
             "linecolor": "white",
             "minorgridcolor": "white",
             "startlinecolor": "#2a3f5f"
            },
            "type": "carpet"
           }
          ],
          "choropleth": [
           {
            "colorbar": {
             "outlinewidth": 0,
             "ticks": ""
            },
            "type": "choropleth"
           }
          ],
          "contour": [
           {
            "colorbar": {
             "outlinewidth": 0,
             "ticks": ""
            },
            "colorscale": [
             [
              0,
              "#0d0887"
             ],
             [
              0.1111111111111111,
              "#46039f"
             ],
             [
              0.2222222222222222,
              "#7201a8"
             ],
             [
              0.3333333333333333,
              "#9c179e"
             ],
             [
              0.4444444444444444,
              "#bd3786"
             ],
             [
              0.5555555555555556,
              "#d8576b"
             ],
             [
              0.6666666666666666,
              "#ed7953"
             ],
             [
              0.7777777777777778,
              "#fb9f3a"
             ],
             [
              0.8888888888888888,
              "#fdca26"
             ],
             [
              1,
              "#f0f921"
             ]
            ],
            "type": "contour"
           }
          ],
          "contourcarpet": [
           {
            "colorbar": {
             "outlinewidth": 0,
             "ticks": ""
            },
            "type": "contourcarpet"
           }
          ],
          "heatmap": [
           {
            "colorbar": {
             "outlinewidth": 0,
             "ticks": ""
            },
            "colorscale": [
             [
              0,
              "#0d0887"
             ],
             [
              0.1111111111111111,
              "#46039f"
             ],
             [
              0.2222222222222222,
              "#7201a8"
             ],
             [
              0.3333333333333333,
              "#9c179e"
             ],
             [
              0.4444444444444444,
              "#bd3786"
             ],
             [
              0.5555555555555556,
              "#d8576b"
             ],
             [
              0.6666666666666666,
              "#ed7953"
             ],
             [
              0.7777777777777778,
              "#fb9f3a"
             ],
             [
              0.8888888888888888,
              "#fdca26"
             ],
             [
              1,
              "#f0f921"
             ]
            ],
            "type": "heatmap"
           }
          ],
          "heatmapgl": [
           {
            "colorbar": {
             "outlinewidth": 0,
             "ticks": ""
            },
            "colorscale": [
             [
              0,
              "#0d0887"
             ],
             [
              0.1111111111111111,
              "#46039f"
             ],
             [
              0.2222222222222222,
              "#7201a8"
             ],
             [
              0.3333333333333333,
              "#9c179e"
             ],
             [
              0.4444444444444444,
              "#bd3786"
             ],
             [
              0.5555555555555556,
              "#d8576b"
             ],
             [
              0.6666666666666666,
              "#ed7953"
             ],
             [
              0.7777777777777778,
              "#fb9f3a"
             ],
             [
              0.8888888888888888,
              "#fdca26"
             ],
             [
              1,
              "#f0f921"
             ]
            ],
            "type": "heatmapgl"
           }
          ],
          "histogram": [
           {
            "marker": {
             "pattern": {
              "fillmode": "overlay",
              "size": 10,
              "solidity": 0.2
             }
            },
            "type": "histogram"
           }
          ],
          "histogram2d": [
           {
            "colorbar": {
             "outlinewidth": 0,
             "ticks": ""
            },
            "colorscale": [
             [
              0,
              "#0d0887"
             ],
             [
              0.1111111111111111,
              "#46039f"
             ],
             [
              0.2222222222222222,
              "#7201a8"
             ],
             [
              0.3333333333333333,
              "#9c179e"
             ],
             [
              0.4444444444444444,
              "#bd3786"
             ],
             [
              0.5555555555555556,
              "#d8576b"
             ],
             [
              0.6666666666666666,
              "#ed7953"
             ],
             [
              0.7777777777777778,
              "#fb9f3a"
             ],
             [
              0.8888888888888888,
              "#fdca26"
             ],
             [
              1,
              "#f0f921"
             ]
            ],
            "type": "histogram2d"
           }
          ],
          "histogram2dcontour": [
           {
            "colorbar": {
             "outlinewidth": 0,
             "ticks": ""
            },
            "colorscale": [
             [
              0,
              "#0d0887"
             ],
             [
              0.1111111111111111,
              "#46039f"
             ],
             [
              0.2222222222222222,
              "#7201a8"
             ],
             [
              0.3333333333333333,
              "#9c179e"
             ],
             [
              0.4444444444444444,
              "#bd3786"
             ],
             [
              0.5555555555555556,
              "#d8576b"
             ],
             [
              0.6666666666666666,
              "#ed7953"
             ],
             [
              0.7777777777777778,
              "#fb9f3a"
             ],
             [
              0.8888888888888888,
              "#fdca26"
             ],
             [
              1,
              "#f0f921"
             ]
            ],
            "type": "histogram2dcontour"
           }
          ],
          "mesh3d": [
           {
            "colorbar": {
             "outlinewidth": 0,
             "ticks": ""
            },
            "type": "mesh3d"
           }
          ],
          "parcoords": [
           {
            "line": {
             "colorbar": {
              "outlinewidth": 0,
              "ticks": ""
             }
            },
            "type": "parcoords"
           }
          ],
          "pie": [
           {
            "automargin": true,
            "type": "pie"
           }
          ],
          "scatter": [
           {
            "fillpattern": {
             "fillmode": "overlay",
             "size": 10,
             "solidity": 0.2
            },
            "type": "scatter"
           }
          ],
          "scatter3d": [
           {
            "line": {
             "colorbar": {
              "outlinewidth": 0,
              "ticks": ""
             }
            },
            "marker": {
             "colorbar": {
              "outlinewidth": 0,
              "ticks": ""
             }
            },
            "type": "scatter3d"
           }
          ],
          "scattercarpet": [
           {
            "marker": {
             "colorbar": {
              "outlinewidth": 0,
              "ticks": ""
             }
            },
            "type": "scattercarpet"
           }
          ],
          "scattergeo": [
           {
            "marker": {
             "colorbar": {
              "outlinewidth": 0,
              "ticks": ""
             }
            },
            "type": "scattergeo"
           }
          ],
          "scattergl": [
           {
            "marker": {
             "colorbar": {
              "outlinewidth": 0,
              "ticks": ""
             }
            },
            "type": "scattergl"
           }
          ],
          "scattermapbox": [
           {
            "marker": {
             "colorbar": {
              "outlinewidth": 0,
              "ticks": ""
             }
            },
            "type": "scattermapbox"
           }
          ],
          "scatterpolar": [
           {
            "marker": {
             "colorbar": {
              "outlinewidth": 0,
              "ticks": ""
             }
            },
            "type": "scatterpolar"
           }
          ],
          "scatterpolargl": [
           {
            "marker": {
             "colorbar": {
              "outlinewidth": 0,
              "ticks": ""
             }
            },
            "type": "scatterpolargl"
           }
          ],
          "scatterternary": [
           {
            "marker": {
             "colorbar": {
              "outlinewidth": 0,
              "ticks": ""
             }
            },
            "type": "scatterternary"
           }
          ],
          "surface": [
           {
            "colorbar": {
             "outlinewidth": 0,
             "ticks": ""
            },
            "colorscale": [
             [
              0,
              "#0d0887"
             ],
             [
              0.1111111111111111,
              "#46039f"
             ],
             [
              0.2222222222222222,
              "#7201a8"
             ],
             [
              0.3333333333333333,
              "#9c179e"
             ],
             [
              0.4444444444444444,
              "#bd3786"
             ],
             [
              0.5555555555555556,
              "#d8576b"
             ],
             [
              0.6666666666666666,
              "#ed7953"
             ],
             [
              0.7777777777777778,
              "#fb9f3a"
             ],
             [
              0.8888888888888888,
              "#fdca26"
             ],
             [
              1,
              "#f0f921"
             ]
            ],
            "type": "surface"
           }
          ],
          "table": [
           {
            "cells": {
             "fill": {
              "color": "#EBF0F8"
             },
             "line": {
              "color": "white"
             }
            },
            "header": {
             "fill": {
              "color": "#C8D4E3"
             },
             "line": {
              "color": "white"
             }
            },
            "type": "table"
           }
          ]
         },
         "layout": {
          "annotationdefaults": {
           "arrowcolor": "#2a3f5f",
           "arrowhead": 0,
           "arrowwidth": 1
          },
          "autotypenumbers": "strict",
          "coloraxis": {
           "colorbar": {
            "outlinewidth": 0,
            "ticks": ""
           }
          },
          "colorscale": {
           "diverging": [
            [
             0,
             "#8e0152"
            ],
            [
             0.1,
             "#c51b7d"
            ],
            [
             0.2,
             "#de77ae"
            ],
            [
             0.3,
             "#f1b6da"
            ],
            [
             0.4,
             "#fde0ef"
            ],
            [
             0.5,
             "#f7f7f7"
            ],
            [
             0.6,
             "#e6f5d0"
            ],
            [
             0.7,
             "#b8e186"
            ],
            [
             0.8,
             "#7fbc41"
            ],
            [
             0.9,
             "#4d9221"
            ],
            [
             1,
             "#276419"
            ]
           ],
           "sequential": [
            [
             0,
             "#0d0887"
            ],
            [
             0.1111111111111111,
             "#46039f"
            ],
            [
             0.2222222222222222,
             "#7201a8"
            ],
            [
             0.3333333333333333,
             "#9c179e"
            ],
            [
             0.4444444444444444,
             "#bd3786"
            ],
            [
             0.5555555555555556,
             "#d8576b"
            ],
            [
             0.6666666666666666,
             "#ed7953"
            ],
            [
             0.7777777777777778,
             "#fb9f3a"
            ],
            [
             0.8888888888888888,
             "#fdca26"
            ],
            [
             1,
             "#f0f921"
            ]
           ],
           "sequentialminus": [
            [
             0,
             "#0d0887"
            ],
            [
             0.1111111111111111,
             "#46039f"
            ],
            [
             0.2222222222222222,
             "#7201a8"
            ],
            [
             0.3333333333333333,
             "#9c179e"
            ],
            [
             0.4444444444444444,
             "#bd3786"
            ],
            [
             0.5555555555555556,
             "#d8576b"
            ],
            [
             0.6666666666666666,
             "#ed7953"
            ],
            [
             0.7777777777777778,
             "#fb9f3a"
            ],
            [
             0.8888888888888888,
             "#fdca26"
            ],
            [
             1,
             "#f0f921"
            ]
           ]
          },
          "colorway": [
           "#636efa",
           "#EF553B",
           "#00cc96",
           "#ab63fa",
           "#FFA15A",
           "#19d3f3",
           "#FF6692",
           "#B6E880",
           "#FF97FF",
           "#FECB52"
          ],
          "font": {
           "color": "#2a3f5f"
          },
          "geo": {
           "bgcolor": "white",
           "lakecolor": "white",
           "landcolor": "#E5ECF6",
           "showlakes": true,
           "showland": true,
           "subunitcolor": "white"
          },
          "hoverlabel": {
           "align": "left"
          },
          "hovermode": "closest",
          "mapbox": {
           "style": "light"
          },
          "paper_bgcolor": "white",
          "plot_bgcolor": "#E5ECF6",
          "polar": {
           "angularaxis": {
            "gridcolor": "white",
            "linecolor": "white",
            "ticks": ""
           },
           "bgcolor": "#E5ECF6",
           "radialaxis": {
            "gridcolor": "white",
            "linecolor": "white",
            "ticks": ""
           }
          },
          "scene": {
           "xaxis": {
            "backgroundcolor": "#E5ECF6",
            "gridcolor": "white",
            "gridwidth": 2,
            "linecolor": "white",
            "showbackground": true,
            "ticks": "",
            "zerolinecolor": "white"
           },
           "yaxis": {
            "backgroundcolor": "#E5ECF6",
            "gridcolor": "white",
            "gridwidth": 2,
            "linecolor": "white",
            "showbackground": true,
            "ticks": "",
            "zerolinecolor": "white"
           },
           "zaxis": {
            "backgroundcolor": "#E5ECF6",
            "gridcolor": "white",
            "gridwidth": 2,
            "linecolor": "white",
            "showbackground": true,
            "ticks": "",
            "zerolinecolor": "white"
           }
          },
          "shapedefaults": {
           "line": {
            "color": "#2a3f5f"
           }
          },
          "ternary": {
           "aaxis": {
            "gridcolor": "white",
            "linecolor": "white",
            "ticks": ""
           },
           "baxis": {
            "gridcolor": "white",
            "linecolor": "white",
            "ticks": ""
           },
           "bgcolor": "#E5ECF6",
           "caxis": {
            "gridcolor": "white",
            "linecolor": "white",
            "ticks": ""
           }
          },
          "title": {
           "x": 0.05
          },
          "xaxis": {
           "automargin": true,
           "gridcolor": "white",
           "linecolor": "white",
           "ticks": "",
           "title": {
            "standoff": 15
           },
           "zerolinecolor": "white",
           "zerolinewidth": 2
          },
          "yaxis": {
           "automargin": true,
           "gridcolor": "white",
           "linecolor": "white",
           "ticks": "",
           "title": {
            "standoff": 15
           },
           "zerolinecolor": "white",
           "zerolinewidth": 2
          }
         }
        },
        "title": {
         "font": {
          "color": "#4D5663"
         }
        },
        "xaxis": {
         "gridcolor": "#E1E5ED",
         "showgrid": true,
         "tickfont": {
          "color": "#4D5663"
         },
         "title": {
          "font": {
           "color": "#4D5663"
          },
          "text": ""
         },
         "zerolinecolor": "#E1E5ED"
        },
        "yaxis": {
         "gridcolor": "#E1E5ED",
         "showgrid": true,
         "tickfont": {
          "color": "#4D5663"
         },
         "title": {
          "font": {
           "color": "#4D5663"
          },
          "text": ""
         },
         "zerolinecolor": "#E1E5ED"
        }
       }
      },
      "text/html": [
       "<div>                            <div id=\"6e4a920d-c4e2-4725-9d52-146569ec9633\" class=\"plotly-graph-div\" style=\"height:525px; width:100%;\"></div>            <script type=\"text/javascript\">                require([\"plotly\"], function(Plotly) {                    window.PLOTLYENV=window.PLOTLYENV || {};\n",
       "                    window.PLOTLYENV.BASE_URL='https://plot.ly';                                    if (document.getElementById(\"6e4a920d-c4e2-4725-9d52-146569ec9633\")) {                    Plotly.newPlot(                        \"6e4a920d-c4e2-4725-9d52-146569ec9633\",                        [{\"marker\":{\"color\":[\"rgb(255, 153, 51)\",\"rgb(55, 128, 191)\",\"rgb(50, 171, 96)\",\"rgb(128, 0, 128)\",\"rgb(219, 64, 82)\",\"rgb(0, 128, 128)\",\"rgb(255, 255, 51)\",\"rgb(128, 128, 0)\",\"rgb(251, 128, 114)\",\"rgb(128, 177, 211)\"],\"line\":{\"width\":1.3},\"size\":[19,26,52,33,54,39,42,73,66,57,99,55,71,55,52,55,55,18,86,55,95,98,77,66,41,78,29,61,43,33,61,66,75,37,55,38,65,76,33,33,49,70,54,85,38,95,78,70,28,51,112,102,41,64,86,78,43,69,56,68,14,38,74,60,84,96,48,72,65,20,57,52,12,72,57,61,77,84,76,71,96,27,67,39,50,79,39,36,82,54,36,65,39,56,80,33,43,65,43,76],\"symbol\":\"circle\"},\"mode\":\"markers\",\"text\":\"\",\"x\":[1.8243129259995166,0.19608475400175768,-0.6053188770897872,0.8911968956639813,1.0070855293069285,-0.8014471338364257,-0.9924125538103235,0.6589442869722124,-0.014050001002884725,0.07518373531629381,-0.36474810809089014,1.3213713674994056,-1.3390868001532397,2.0157661712051587,0.702026132198567,-0.980743213672751,-1.290183167745645,-0.034866885767344466,1.3244596009270821,0.46914853441326737,1.811113937836261,-0.31191244635793713,-0.44645210590499096,-0.47723670876074775,-0.7041383254890567,-1.0201756035449587,1.3557072710334452,-0.6307039403442191,-1.0790513559403063,1.5061983883651782,-1.1546177021329875,1.2553753887543317,0.15018352623167674,-0.5988057076920157,0.5380983515180622,0.9759791860363404,-0.7833975692914159,-0.9189649613532611,-0.0974760456801578,0.3429586783883424,-0.6191550076924058,-2.1039659473643173,0.8350223435673302,0.6318776376503721,0.06918376203837928,-0.9540441738215512,1.0623602869959006,-0.04214282767279125,1.0236001005414836,2.768834106807123,-0.34962680392505013,-1.9587267869592255,0.21487117500607636,-0.7195032292037042,0.20890306000942607,-0.6473154003389758,0.7544595643203549,0.4697360100064573,0.11029082781862608,-0.09295678672354084,-0.7844564187290143,1.22551840597947,0.1733457984754417,-1.5674530556863537,-0.12719427915234527,1.2969218378364398,-0.47955826843769805,-1.0917495191808468,0.22136705963048148,-0.9351966540884519,1.019493096539831,2.516073211595525,1.5376854720253375,-1.3831508907611931,-1.9191831893194957,0.44359556475430645,-0.8246593181297605,-0.2100864028503051,0.9547760587601132,-0.2653278159042679,0.8362410698154421,-1.206447309739462,1.3929084051796088,1.6164208225232148,0.33581060384052197,-1.2146714988178433,0.45484819640518204,1.1003564183064294,-0.0545126540500522,-1.6473224078317383,1.0928108115908042,-0.16389643281667396,-0.6544788103037372,-1.3716173109397398,0.3395650647243976,-1.147263981725478,1.2174640192307618,-0.21249306896884895,-1.096053716026816,2.3900037580866145],\"y\":[0.583131544660661,-0.13361300439365476,-0.04123704831597834,0.0014680131745039354,1.438466824959959,0.5541476788726151,-1.1310893635390038,-0.5623452390437628,-0.670234518530269,0.545812634382133,-0.3624818654591015,0.1701678549417786,0.3581879479821975,-2.887380914691166,-0.13478783996064245,-0.8588668905175264,-0.8938984223234923,0.19181727804293225,-0.028983423455619165,-0.019052996185692665,-1.1602446579879755,0.08121421004235378,1.3352220481800035,0.35807277726483344,-0.9409924776717753,-1.8503080091673934,-0.6870106893491648,0.8314233325875332,0.02274811954883968,0.9194055377055831,-0.7740446909882256,-0.22978997934892423,0.17286979761015278,-1.8144485916502244,0.10019030223493725,0.6543032593357595,0.002882968517779104,-0.614448403963407,1.4894537976884068,-0.5184176501024136,0.8510492801098789,1.6907679823457193,-0.7252403229757054,-1.8548965808613855,-0.9279085762381253,-0.19262867996165262,0.26506477791439476,2.149363109679803,1.551901938062469,0.9498725527680408,-0.5798412074414184,-1.8392247543767455,-0.3001332641170957,-0.8038995410085215,-0.8356561490437464,0.7841323972572954,-0.30929122537950327,1.0137109697249589,1.3640708249499136,0.14797119237972522,-1.5140703332552574,-0.37335951646331544,0.06906016347182198,0.0071806358751329985,-0.3287712644324699,0.9244322653350652,-2.065891711445297,0.5545434773856838,-0.1155953279380719,1.2903641107677892,0.8844881302921291,-0.7085242639802346,-1.1299614703443237,-1.7164506836065332,0.31064937293329015,1.365766364043925,-0.7735412746528428,0.10817543607704204,0.4800268444616799,1.4983655949771244,0.5891832919635394,0.15306708133909158,1.1592892480331136,-0.14279951141742664,0.018543837761865134,-1.4673943968795782,-0.6694224768413874,-0.41465428943287297,-0.17348747003891735,1.1353060114559579,-0.33408295386952674,1.7553588384503196,-0.2110048275984787,0.42849832241419883,-1.429062493144599,0.9951538223316054,0.8098824701408762,0.3884108342548283,-0.1558889174937159,-0.11031426067805795],\"type\":\"scatter\"}],                        {\"legend\":{\"bgcolor\":\"#F5F6F9\",\"font\":{\"color\":\"#4D5663\"}},\"paper_bgcolor\":\"#F5F6F9\",\"plot_bgcolor\":\"#F5F6F9\",\"template\":{\"data\":{\"barpolar\":[{\"marker\":{\"line\":{\"color\":\"#E5ECF6\",\"width\":0.5},\"pattern\":{\"fillmode\":\"overlay\",\"size\":10,\"solidity\":0.2}},\"type\":\"barpolar\"}],\"bar\":[{\"error_x\":{\"color\":\"#2a3f5f\"},\"error_y\":{\"color\":\"#2a3f5f\"},\"marker\":{\"line\":{\"color\":\"#E5ECF6\",\"width\":0.5},\"pattern\":{\"fillmode\":\"overlay\",\"size\":10,\"solidity\":0.2}},\"type\":\"bar\"}],\"carpet\":[{\"aaxis\":{\"endlinecolor\":\"#2a3f5f\",\"gridcolor\":\"white\",\"linecolor\":\"white\",\"minorgridcolor\":\"white\",\"startlinecolor\":\"#2a3f5f\"},\"baxis\":{\"endlinecolor\":\"#2a3f5f\",\"gridcolor\":\"white\",\"linecolor\":\"white\",\"minorgridcolor\":\"white\",\"startlinecolor\":\"#2a3f5f\"},\"type\":\"carpet\"}],\"choropleth\":[{\"colorbar\":{\"outlinewidth\":0,\"ticks\":\"\"},\"type\":\"choropleth\"}],\"contourcarpet\":[{\"colorbar\":{\"outlinewidth\":0,\"ticks\":\"\"},\"type\":\"contourcarpet\"}],\"contour\":[{\"colorbar\":{\"outlinewidth\":0,\"ticks\":\"\"},\"colorscale\":[[0.0,\"#0d0887\"],[0.1111111111111111,\"#46039f\"],[0.2222222222222222,\"#7201a8\"],[0.3333333333333333,\"#9c179e\"],[0.4444444444444444,\"#bd3786\"],[0.5555555555555556,\"#d8576b\"],[0.6666666666666666,\"#ed7953\"],[0.7777777777777778,\"#fb9f3a\"],[0.8888888888888888,\"#fdca26\"],[1.0,\"#f0f921\"]],\"type\":\"contour\"}],\"heatmapgl\":[{\"colorbar\":{\"outlinewidth\":0,\"ticks\":\"\"},\"colorscale\":[[0.0,\"#0d0887\"],[0.1111111111111111,\"#46039f\"],[0.2222222222222222,\"#7201a8\"],[0.3333333333333333,\"#9c179e\"],[0.4444444444444444,\"#bd3786\"],[0.5555555555555556,\"#d8576b\"],[0.6666666666666666,\"#ed7953\"],[0.7777777777777778,\"#fb9f3a\"],[0.8888888888888888,\"#fdca26\"],[1.0,\"#f0f921\"]],\"type\":\"heatmapgl\"}],\"heatmap\":[{\"colorbar\":{\"outlinewidth\":0,\"ticks\":\"\"},\"colorscale\":[[0.0,\"#0d0887\"],[0.1111111111111111,\"#46039f\"],[0.2222222222222222,\"#7201a8\"],[0.3333333333333333,\"#9c179e\"],[0.4444444444444444,\"#bd3786\"],[0.5555555555555556,\"#d8576b\"],[0.6666666666666666,\"#ed7953\"],[0.7777777777777778,\"#fb9f3a\"],[0.8888888888888888,\"#fdca26\"],[1.0,\"#f0f921\"]],\"type\":\"heatmap\"}],\"histogram2dcontour\":[{\"colorbar\":{\"outlinewidth\":0,\"ticks\":\"\"},\"colorscale\":[[0.0,\"#0d0887\"],[0.1111111111111111,\"#46039f\"],[0.2222222222222222,\"#7201a8\"],[0.3333333333333333,\"#9c179e\"],[0.4444444444444444,\"#bd3786\"],[0.5555555555555556,\"#d8576b\"],[0.6666666666666666,\"#ed7953\"],[0.7777777777777778,\"#fb9f3a\"],[0.8888888888888888,\"#fdca26\"],[1.0,\"#f0f921\"]],\"type\":\"histogram2dcontour\"}],\"histogram2d\":[{\"colorbar\":{\"outlinewidth\":0,\"ticks\":\"\"},\"colorscale\":[[0.0,\"#0d0887\"],[0.1111111111111111,\"#46039f\"],[0.2222222222222222,\"#7201a8\"],[0.3333333333333333,\"#9c179e\"],[0.4444444444444444,\"#bd3786\"],[0.5555555555555556,\"#d8576b\"],[0.6666666666666666,\"#ed7953\"],[0.7777777777777778,\"#fb9f3a\"],[0.8888888888888888,\"#fdca26\"],[1.0,\"#f0f921\"]],\"type\":\"histogram2d\"}],\"histogram\":[{\"marker\":{\"pattern\":{\"fillmode\":\"overlay\",\"size\":10,\"solidity\":0.2}},\"type\":\"histogram\"}],\"mesh3d\":[{\"colorbar\":{\"outlinewidth\":0,\"ticks\":\"\"},\"type\":\"mesh3d\"}],\"parcoords\":[{\"line\":{\"colorbar\":{\"outlinewidth\":0,\"ticks\":\"\"}},\"type\":\"parcoords\"}],\"pie\":[{\"automargin\":true,\"type\":\"pie\"}],\"scatter3d\":[{\"line\":{\"colorbar\":{\"outlinewidth\":0,\"ticks\":\"\"}},\"marker\":{\"colorbar\":{\"outlinewidth\":0,\"ticks\":\"\"}},\"type\":\"scatter3d\"}],\"scattercarpet\":[{\"marker\":{\"colorbar\":{\"outlinewidth\":0,\"ticks\":\"\"}},\"type\":\"scattercarpet\"}],\"scattergeo\":[{\"marker\":{\"colorbar\":{\"outlinewidth\":0,\"ticks\":\"\"}},\"type\":\"scattergeo\"}],\"scattergl\":[{\"marker\":{\"colorbar\":{\"outlinewidth\":0,\"ticks\":\"\"}},\"type\":\"scattergl\"}],\"scattermapbox\":[{\"marker\":{\"colorbar\":{\"outlinewidth\":0,\"ticks\":\"\"}},\"type\":\"scattermapbox\"}],\"scatterpolargl\":[{\"marker\":{\"colorbar\":{\"outlinewidth\":0,\"ticks\":\"\"}},\"type\":\"scatterpolargl\"}],\"scatterpolar\":[{\"marker\":{\"colorbar\":{\"outlinewidth\":0,\"ticks\":\"\"}},\"type\":\"scatterpolar\"}],\"scatter\":[{\"fillpattern\":{\"fillmode\":\"overlay\",\"size\":10,\"solidity\":0.2},\"type\":\"scatter\"}],\"scatterternary\":[{\"marker\":{\"colorbar\":{\"outlinewidth\":0,\"ticks\":\"\"}},\"type\":\"scatterternary\"}],\"surface\":[{\"colorbar\":{\"outlinewidth\":0,\"ticks\":\"\"},\"colorscale\":[[0.0,\"#0d0887\"],[0.1111111111111111,\"#46039f\"],[0.2222222222222222,\"#7201a8\"],[0.3333333333333333,\"#9c179e\"],[0.4444444444444444,\"#bd3786\"],[0.5555555555555556,\"#d8576b\"],[0.6666666666666666,\"#ed7953\"],[0.7777777777777778,\"#fb9f3a\"],[0.8888888888888888,\"#fdca26\"],[1.0,\"#f0f921\"]],\"type\":\"surface\"}],\"table\":[{\"cells\":{\"fill\":{\"color\":\"#EBF0F8\"},\"line\":{\"color\":\"white\"}},\"header\":{\"fill\":{\"color\":\"#C8D4E3\"},\"line\":{\"color\":\"white\"}},\"type\":\"table\"}]},\"layout\":{\"annotationdefaults\":{\"arrowcolor\":\"#2a3f5f\",\"arrowhead\":0,\"arrowwidth\":1},\"autotypenumbers\":\"strict\",\"coloraxis\":{\"colorbar\":{\"outlinewidth\":0,\"ticks\":\"\"}},\"colorscale\":{\"diverging\":[[0,\"#8e0152\"],[0.1,\"#c51b7d\"],[0.2,\"#de77ae\"],[0.3,\"#f1b6da\"],[0.4,\"#fde0ef\"],[0.5,\"#f7f7f7\"],[0.6,\"#e6f5d0\"],[0.7,\"#b8e186\"],[0.8,\"#7fbc41\"],[0.9,\"#4d9221\"],[1,\"#276419\"]],\"sequential\":[[0.0,\"#0d0887\"],[0.1111111111111111,\"#46039f\"],[0.2222222222222222,\"#7201a8\"],[0.3333333333333333,\"#9c179e\"],[0.4444444444444444,\"#bd3786\"],[0.5555555555555556,\"#d8576b\"],[0.6666666666666666,\"#ed7953\"],[0.7777777777777778,\"#fb9f3a\"],[0.8888888888888888,\"#fdca26\"],[1.0,\"#f0f921\"]],\"sequentialminus\":[[0.0,\"#0d0887\"],[0.1111111111111111,\"#46039f\"],[0.2222222222222222,\"#7201a8\"],[0.3333333333333333,\"#9c179e\"],[0.4444444444444444,\"#bd3786\"],[0.5555555555555556,\"#d8576b\"],[0.6666666666666666,\"#ed7953\"],[0.7777777777777778,\"#fb9f3a\"],[0.8888888888888888,\"#fdca26\"],[1.0,\"#f0f921\"]]},\"colorway\":[\"#636efa\",\"#EF553B\",\"#00cc96\",\"#ab63fa\",\"#FFA15A\",\"#19d3f3\",\"#FF6692\",\"#B6E880\",\"#FF97FF\",\"#FECB52\"],\"font\":{\"color\":\"#2a3f5f\"},\"geo\":{\"bgcolor\":\"white\",\"lakecolor\":\"white\",\"landcolor\":\"#E5ECF6\",\"showlakes\":true,\"showland\":true,\"subunitcolor\":\"white\"},\"hoverlabel\":{\"align\":\"left\"},\"hovermode\":\"closest\",\"mapbox\":{\"style\":\"light\"},\"paper_bgcolor\":\"white\",\"plot_bgcolor\":\"#E5ECF6\",\"polar\":{\"angularaxis\":{\"gridcolor\":\"white\",\"linecolor\":\"white\",\"ticks\":\"\"},\"bgcolor\":\"#E5ECF6\",\"radialaxis\":{\"gridcolor\":\"white\",\"linecolor\":\"white\",\"ticks\":\"\"}},\"scene\":{\"xaxis\":{\"backgroundcolor\":\"#E5ECF6\",\"gridcolor\":\"white\",\"gridwidth\":2,\"linecolor\":\"white\",\"showbackground\":true,\"ticks\":\"\",\"zerolinecolor\":\"white\"},\"yaxis\":{\"backgroundcolor\":\"#E5ECF6\",\"gridcolor\":\"white\",\"gridwidth\":2,\"linecolor\":\"white\",\"showbackground\":true,\"ticks\":\"\",\"zerolinecolor\":\"white\"},\"zaxis\":{\"backgroundcolor\":\"#E5ECF6\",\"gridcolor\":\"white\",\"gridwidth\":2,\"linecolor\":\"white\",\"showbackground\":true,\"ticks\":\"\",\"zerolinecolor\":\"white\"}},\"shapedefaults\":{\"line\":{\"color\":\"#2a3f5f\"}},\"ternary\":{\"aaxis\":{\"gridcolor\":\"white\",\"linecolor\":\"white\",\"ticks\":\"\"},\"baxis\":{\"gridcolor\":\"white\",\"linecolor\":\"white\",\"ticks\":\"\"},\"bgcolor\":\"#E5ECF6\",\"caxis\":{\"gridcolor\":\"white\",\"linecolor\":\"white\",\"ticks\":\"\"}},\"title\":{\"x\":0.05},\"xaxis\":{\"automargin\":true,\"gridcolor\":\"white\",\"linecolor\":\"white\",\"ticks\":\"\",\"title\":{\"standoff\":15},\"zerolinecolor\":\"white\",\"zerolinewidth\":2},\"yaxis\":{\"automargin\":true,\"gridcolor\":\"white\",\"linecolor\":\"white\",\"ticks\":\"\",\"title\":{\"standoff\":15},\"zerolinecolor\":\"white\",\"zerolinewidth\":2}}},\"title\":{\"font\":{\"color\":\"#4D5663\"}},\"xaxis\":{\"gridcolor\":\"#E1E5ED\",\"showgrid\":true,\"tickfont\":{\"color\":\"#4D5663\"},\"title\":{\"font\":{\"color\":\"#4D5663\"},\"text\":\"\"},\"zerolinecolor\":\"#E1E5ED\"},\"yaxis\":{\"gridcolor\":\"#E1E5ED\",\"showgrid\":true,\"tickfont\":{\"color\":\"#4D5663\"},\"title\":{\"font\":{\"color\":\"#4D5663\"},\"text\":\"\"},\"zerolinecolor\":\"#E1E5ED\"}},                        {\"showLink\": true, \"linkText\": \"Export to plot.ly\", \"plotlyServerURL\": \"https://plot.ly\", \"responsive\": true}                    ).then(function(){\n",
       "                            \n",
       "var gd = document.getElementById('6e4a920d-c4e2-4725-9d52-146569ec9633');\n",
       "var x = new MutationObserver(function (mutations, observer) {{\n",
       "        var display = window.getComputedStyle(gd).display;\n",
       "        if (!display || display === 'none') {{\n",
       "            console.log([gd, 'removed!']);\n",
       "            Plotly.purge(gd);\n",
       "            observer.disconnect();\n",
       "        }}\n",
       "}});\n",
       "\n",
       "// Listen for the removal of the full notebook cells\n",
       "var notebookContainer = gd.closest('#notebook-container');\n",
       "if (notebookContainer) {{\n",
       "    x.observe(notebookContainer, {childList: true});\n",
       "}}\n",
       "\n",
       "// Listen for the clearing of the current output cell\n",
       "var outputEl = gd.closest('.output');\n",
       "if (outputEl) {{\n",
       "    x.observe(outputEl, {childList: true});\n",
       "}}\n",
       "\n",
       "                        })                };                });            </script>        </div>"
      ]
     },
     "metadata": {},
     "output_type": "display_data"
    }
   ],
   "source": [
    "df.iplot(kind='bubble',x='A',y='B',size='C')"
   ]
  },
  {
   "cell_type": "markdown",
   "metadata": {},
   "source": [
    "## scatter_matrix()\n",
    "\n",
    "Similar to sns.pairplot()"
   ]
  },
  {
   "cell_type": "code",
   "execution_count": 20,
   "metadata": {},
   "outputs": [
    {
     "data": {
      "application/vnd.plotly.v1+json": {
       "config": {
        "linkText": "Export to plot.ly",
        "plotlyServerURL": "https://plot.ly",
        "showLink": true
       },
       "data": [
        {
         "histfunc": "count",
         "histnorm": "",
         "marker": {
          "color": "rgba(255, 153, 51, 1.0)",
          "line": {
           "color": "#4D5663",
           "width": 1.3
          }
         },
         "name": "A",
         "nbinsx": 10,
         "opacity": 0.8,
         "orientation": "v",
         "type": "histogram",
         "x": [
          1.8243129259995166,
          0.19608475400175768,
          -0.6053188770897872,
          0.8911968956639813,
          1.0070855293069285,
          -0.8014471338364257,
          -0.9924125538103235,
          0.6589442869722124,
          -0.014050001002884725,
          0.07518373531629381,
          -0.36474810809089014,
          1.3213713674994056,
          -1.3390868001532397,
          2.0157661712051587,
          0.702026132198567,
          -0.980743213672751,
          -1.290183167745645,
          -0.034866885767344466,
          1.3244596009270821,
          0.46914853441326737,
          1.811113937836261,
          -0.31191244635793713,
          -0.44645210590499096,
          -0.47723670876074775,
          -0.7041383254890567,
          -1.0201756035449587,
          1.3557072710334452,
          -0.6307039403442191,
          -1.0790513559403063,
          1.5061983883651782,
          -1.1546177021329875,
          1.2553753887543317,
          0.15018352623167674,
          -0.5988057076920157,
          0.5380983515180622,
          0.9759791860363404,
          -0.7833975692914159,
          -0.9189649613532611,
          -0.0974760456801578,
          0.3429586783883424,
          -0.6191550076924058,
          -2.1039659473643173,
          0.8350223435673302,
          0.6318776376503721,
          0.06918376203837928,
          -0.9540441738215512,
          1.0623602869959006,
          -0.04214282767279125,
          1.0236001005414836,
          2.768834106807123,
          -0.34962680392505013,
          -1.9587267869592255,
          0.21487117500607636,
          -0.7195032292037042,
          0.20890306000942607,
          -0.6473154003389758,
          0.7544595643203549,
          0.4697360100064573,
          0.11029082781862608,
          -0.09295678672354084,
          -0.7844564187290143,
          1.22551840597947,
          0.1733457984754417,
          -1.5674530556863537,
          -0.12719427915234527,
          1.2969218378364398,
          -0.47955826843769805,
          -1.0917495191808468,
          0.22136705963048148,
          -0.9351966540884519,
          1.019493096539831,
          2.516073211595525,
          1.5376854720253375,
          -1.3831508907611931,
          -1.9191831893194957,
          0.44359556475430645,
          -0.8246593181297605,
          -0.2100864028503051,
          0.9547760587601132,
          -0.2653278159042679,
          0.8362410698154421,
          -1.206447309739462,
          1.3929084051796088,
          1.6164208225232148,
          0.33581060384052197,
          -1.2146714988178433,
          0.45484819640518204,
          1.1003564183064294,
          -0.0545126540500522,
          -1.6473224078317383,
          1.0928108115908042,
          -0.16389643281667396,
          -0.6544788103037372,
          -1.3716173109397398,
          0.3395650647243976,
          -1.147263981725478,
          1.2174640192307618,
          -0.21249306896884895,
          -1.096053716026816,
          2.3900037580866145
         ],
         "xaxis": "x",
         "yaxis": "y"
        },
        {
         "line": {
          "color": "rgba(128, 128, 128, 1.0)",
          "dash": "solid",
          "shape": "linear",
          "width": 1.3
         },
         "marker": {
          "size": 2,
          "symbol": "circle"
         },
         "mode": "markers",
         "name": "A",
         "text": "",
         "type": "scatter",
         "x": [
          0.583131544660661,
          -0.13361300439365476,
          -0.04123704831597834,
          0.0014680131745039354,
          1.438466824959959,
          0.5541476788726151,
          -1.1310893635390038,
          -0.5623452390437628,
          -0.670234518530269,
          0.545812634382133,
          -0.3624818654591015,
          0.1701678549417786,
          0.3581879479821975,
          -2.887380914691166,
          -0.13478783996064245,
          -0.8588668905175264,
          -0.8938984223234923,
          0.19181727804293225,
          -0.028983423455619165,
          -0.019052996185692665,
          -1.1602446579879755,
          0.08121421004235378,
          1.3352220481800035,
          0.35807277726483344,
          -0.9409924776717753,
          -1.8503080091673934,
          -0.6870106893491648,
          0.8314233325875332,
          0.02274811954883968,
          0.9194055377055831,
          -0.7740446909882256,
          -0.22978997934892423,
          0.17286979761015278,
          -1.8144485916502244,
          0.10019030223493725,
          0.6543032593357595,
          0.002882968517779104,
          -0.614448403963407,
          1.4894537976884068,
          -0.5184176501024136,
          0.8510492801098789,
          1.6907679823457193,
          -0.7252403229757054,
          -1.8548965808613855,
          -0.9279085762381253,
          -0.19262867996165262,
          0.26506477791439476,
          2.149363109679803,
          1.551901938062469,
          0.9498725527680408,
          -0.5798412074414184,
          -1.8392247543767455,
          -0.3001332641170957,
          -0.8038995410085215,
          -0.8356561490437464,
          0.7841323972572954,
          -0.30929122537950327,
          1.0137109697249589,
          1.3640708249499136,
          0.14797119237972522,
          -1.5140703332552574,
          -0.37335951646331544,
          0.06906016347182198,
          0.0071806358751329985,
          -0.3287712644324699,
          0.9244322653350652,
          -2.065891711445297,
          0.5545434773856838,
          -0.1155953279380719,
          1.2903641107677892,
          0.8844881302921291,
          -0.7085242639802346,
          -1.1299614703443237,
          -1.7164506836065332,
          0.31064937293329015,
          1.365766364043925,
          -0.7735412746528428,
          0.10817543607704204,
          0.4800268444616799,
          1.4983655949771244,
          0.5891832919635394,
          0.15306708133909158,
          1.1592892480331136,
          -0.14279951141742664,
          0.018543837761865134,
          -1.4673943968795782,
          -0.6694224768413874,
          -0.41465428943287297,
          -0.17348747003891735,
          1.1353060114559579,
          -0.33408295386952674,
          1.7553588384503196,
          -0.2110048275984787,
          0.42849832241419883,
          -1.429062493144599,
          0.9951538223316054,
          0.8098824701408762,
          0.3884108342548283,
          -0.1558889174937159,
          -0.11031426067805795
         ],
         "xaxis": "x2",
         "y": [
          1.8243129259995166,
          0.19608475400175768,
          -0.6053188770897872,
          0.8911968956639813,
          1.0070855293069285,
          -0.8014471338364257,
          -0.9924125538103235,
          0.6589442869722124,
          -0.014050001002884725,
          0.07518373531629381,
          -0.36474810809089014,
          1.3213713674994056,
          -1.3390868001532397,
          2.0157661712051587,
          0.702026132198567,
          -0.980743213672751,
          -1.290183167745645,
          -0.034866885767344466,
          1.3244596009270821,
          0.46914853441326737,
          1.811113937836261,
          -0.31191244635793713,
          -0.44645210590499096,
          -0.47723670876074775,
          -0.7041383254890567,
          -1.0201756035449587,
          1.3557072710334452,
          -0.6307039403442191,
          -1.0790513559403063,
          1.5061983883651782,
          -1.1546177021329875,
          1.2553753887543317,
          0.15018352623167674,
          -0.5988057076920157,
          0.5380983515180622,
          0.9759791860363404,
          -0.7833975692914159,
          -0.9189649613532611,
          -0.0974760456801578,
          0.3429586783883424,
          -0.6191550076924058,
          -2.1039659473643173,
          0.8350223435673302,
          0.6318776376503721,
          0.06918376203837928,
          -0.9540441738215512,
          1.0623602869959006,
          -0.04214282767279125,
          1.0236001005414836,
          2.768834106807123,
          -0.34962680392505013,
          -1.9587267869592255,
          0.21487117500607636,
          -0.7195032292037042,
          0.20890306000942607,
          -0.6473154003389758,
          0.7544595643203549,
          0.4697360100064573,
          0.11029082781862608,
          -0.09295678672354084,
          -0.7844564187290143,
          1.22551840597947,
          0.1733457984754417,
          -1.5674530556863537,
          -0.12719427915234527,
          1.2969218378364398,
          -0.47955826843769805,
          -1.0917495191808468,
          0.22136705963048148,
          -0.9351966540884519,
          1.019493096539831,
          2.516073211595525,
          1.5376854720253375,
          -1.3831508907611931,
          -1.9191831893194957,
          0.44359556475430645,
          -0.8246593181297605,
          -0.2100864028503051,
          0.9547760587601132,
          -0.2653278159042679,
          0.8362410698154421,
          -1.206447309739462,
          1.3929084051796088,
          1.6164208225232148,
          0.33581060384052197,
          -1.2146714988178433,
          0.45484819640518204,
          1.1003564183064294,
          -0.0545126540500522,
          -1.6473224078317383,
          1.0928108115908042,
          -0.16389643281667396,
          -0.6544788103037372,
          -1.3716173109397398,
          0.3395650647243976,
          -1.147263981725478,
          1.2174640192307618,
          -0.21249306896884895,
          -1.096053716026816,
          2.3900037580866145
         ],
         "yaxis": "y2"
        },
        {
         "line": {
          "color": "rgba(128, 128, 128, 1.0)",
          "dash": "solid",
          "shape": "linear",
          "width": 1.3
         },
         "marker": {
          "size": 2,
          "symbol": "circle"
         },
         "mode": "markers",
         "name": "A",
         "text": "",
         "type": "scatter",
         "x": [
          -1.693048144015689,
          -1.3820659539304376,
          -0.26186400911819513,
          -1.0943028842204392,
          -0.1533319254439035,
          -0.8289270580708209,
          -0.71611152238171,
          0.6544385185656098,
          0.3377575632481237,
          -0.03094272558223115,
          1.8010033601804232,
          -0.10727422285068922,
          0.566144777915916,
          -0.13710599455104144,
          -0.2449345581601094,
          -0.11600157203091759,
          -0.14629718409137737,
          -1.7329882960528853,
          1.2319909113435485,
          -0.13369819930571536,
          1.609863283277939,
          1.7449939659444273,
          0.8399343156048075,
          0.37731061895592993,
          -0.7282714727916014,
          0.8860341534062506,
          -1.253411398579617,
          0.11633332913520288,
          -0.632981440630921,
          -1.0692585180057435,
          0.1538169387080856,
          0.355039612407412,
          0.7509673565058888,
          -0.8982063906590393,
          -0.11783310183402967,
          -0.8798347290637953,
          0.3213739063860632,
          0.7818389362640916,
          -1.0938405254290327,
          -1.0980291355236236,
          -0.37168031024514525,
          0.5441216652049065,
          -0.14918498663229482,
          1.1914548974584076,
          -0.8774363463518473,
          1.6443018312374444,
          0.8759261916149548,
          0.5468738581037398,
          -1.3125834674129604,
          -0.2924070273968226,
          2.3520661756263728,
          1.9305197417893065,
          -0.7595991589728462,
          0.28241038892889364,
          1.2494497552930661,
          0.8735381398826013,
          -0.670934797445289,
          0.46858679660223523,
          -0.07647238236764087,
          0.45407368586428287,
          -1.92237084263108,
          -0.8681506658075451,
          0.6871096311729753,
          0.07549454003141241,
          1.13433043875947,
          1.670257948790717,
          -0.41713617912010337,
          0.601607936166473,
          0.29337914616140837,
          -1.6752928345799873,
          -0.03762707724466671,
          -0.26748171433033263,
          -2.0328761820275876,
          0.6239303517626071,
          -0.037989095688061185,
          0.11732456565129386,
          0.8229516489326429,
          1.1587071278694778,
          0.8166241399492339,
          0.5551856219587835,
          1.6541208711771906,
          -1.360612379808308,
          0.41000439813595485,
          -0.8135001608549873,
          -0.3374398086999169,
          0.9448560947900039,
          -0.8427325029537508,
          -0.977731272333857,
          1.0796168156279038,
          -0.17676871507325598,
          -0.9414533043378169,
          0.3333553678156752,
          -0.8212125542345594,
          -0.06698328081807278,
          0.990027435975039,
          -1.0842557843861187,
          -0.6558631811726069,
          0.29956295333194977,
          -0.6429554088690916,
          0.8000929639274643
         ],
         "xaxis": "x3",
         "y": [
          1.8243129259995166,
          0.19608475400175768,
          -0.6053188770897872,
          0.8911968956639813,
          1.0070855293069285,
          -0.8014471338364257,
          -0.9924125538103235,
          0.6589442869722124,
          -0.014050001002884725,
          0.07518373531629381,
          -0.36474810809089014,
          1.3213713674994056,
          -1.3390868001532397,
          2.0157661712051587,
          0.702026132198567,
          -0.980743213672751,
          -1.290183167745645,
          -0.034866885767344466,
          1.3244596009270821,
          0.46914853441326737,
          1.811113937836261,
          -0.31191244635793713,
          -0.44645210590499096,
          -0.47723670876074775,
          -0.7041383254890567,
          -1.0201756035449587,
          1.3557072710334452,
          -0.6307039403442191,
          -1.0790513559403063,
          1.5061983883651782,
          -1.1546177021329875,
          1.2553753887543317,
          0.15018352623167674,
          -0.5988057076920157,
          0.5380983515180622,
          0.9759791860363404,
          -0.7833975692914159,
          -0.9189649613532611,
          -0.0974760456801578,
          0.3429586783883424,
          -0.6191550076924058,
          -2.1039659473643173,
          0.8350223435673302,
          0.6318776376503721,
          0.06918376203837928,
          -0.9540441738215512,
          1.0623602869959006,
          -0.04214282767279125,
          1.0236001005414836,
          2.768834106807123,
          -0.34962680392505013,
          -1.9587267869592255,
          0.21487117500607636,
          -0.7195032292037042,
          0.20890306000942607,
          -0.6473154003389758,
          0.7544595643203549,
          0.4697360100064573,
          0.11029082781862608,
          -0.09295678672354084,
          -0.7844564187290143,
          1.22551840597947,
          0.1733457984754417,
          -1.5674530556863537,
          -0.12719427915234527,
          1.2969218378364398,
          -0.47955826843769805,
          -1.0917495191808468,
          0.22136705963048148,
          -0.9351966540884519,
          1.019493096539831,
          2.516073211595525,
          1.5376854720253375,
          -1.3831508907611931,
          -1.9191831893194957,
          0.44359556475430645,
          -0.8246593181297605,
          -0.2100864028503051,
          0.9547760587601132,
          -0.2653278159042679,
          0.8362410698154421,
          -1.206447309739462,
          1.3929084051796088,
          1.6164208225232148,
          0.33581060384052197,
          -1.2146714988178433,
          0.45484819640518204,
          1.1003564183064294,
          -0.0545126540500522,
          -1.6473224078317383,
          1.0928108115908042,
          -0.16389643281667396,
          -0.6544788103037372,
          -1.3716173109397398,
          0.3395650647243976,
          -1.147263981725478,
          1.2174640192307618,
          -0.21249306896884895,
          -1.096053716026816,
          2.3900037580866145
         ],
         "yaxis": "y3"
        },
        {
         "line": {
          "color": "rgba(128, 128, 128, 1.0)",
          "dash": "solid",
          "shape": "linear",
          "width": 1.3
         },
         "marker": {
          "size": 2,
          "symbol": "circle"
         },
         "mode": "markers",
         "name": "A",
         "text": "",
         "type": "scatter",
         "x": [
          0.05364048207260595,
          -1.6415014900014182,
          0.1560446938057477,
          1.0642370745611147,
          -0.5027503734044894,
          -0.16847600244086813,
          0.03769768649841975,
          0.4404443029957614,
          -1.6579050752815891,
          1.8601987778014237,
          -0.15265903655033689,
          0.37129316680948793,
          -0.08803610612264272,
          -0.012170020280144352,
          -0.031754703520787894,
          0.12040845468606767,
          0.6661817596237033,
          0.4351590541521421,
          0.3874501304536663,
          0.6506182333957212,
          -0.3543112673939216,
          0.07133346409774055,
          -0.4563271241235071,
          0.3067131713241251,
          -0.1825980303133153,
          0.5193130694959607,
          -1.793604809992783,
          -1.6337123268288474,
          -0.11194926057402858,
          -0.6206104376633367,
          0.42743206030208597,
          -1.4192078676325863,
          -0.952313115078617,
          0.28624040037662163,
          0.19143852583850562,
          0.11552415341179897,
          -0.7528536232121964,
          -0.6732879417286711,
          -0.8522197068472054,
          -0.7859007817991804,
          0.5963342736675762,
          1.6184674307529368,
          0.7014689277608404,
          1.283323978524507,
          0.7830464604043736,
          -0.6654174297433695,
          0.931850500204895,
          -0.35402395153670324,
          -0.602258800736354,
          0.7244485868398755,
          -0.6649938025189891,
          0.21018636499470508,
          -0.19685471819127484,
          -0.19916017586044676,
          2.1644487557138286,
          -0.6866260230014049,
          1.1163078640078368,
          -0.04046594753613875,
          -0.25670197406150547,
          1.1012493039101279,
          0.9509449169491229,
          -0.22197875278076207,
          -0.3034821972704745,
          -0.5463023263958524,
          -0.01885680378734175,
          -0.55143885727557,
          1.841061816977951,
          -1.8084991267664081,
          -0.39628794946808954,
          -0.782202772473188,
          -0.6545173575747144,
          0.49449191900543366,
          -0.8211223688970272,
          -0.33147197435657905,
          0.8529223538238252,
          -1.4402138964755826,
          0.3148874254607986,
          -0.2935572438480311,
          0.29863149749985335,
          0.07113287972824318,
          -0.5189069614956773,
          -0.12131866130997336,
          -0.7913412375343849,
          0.0380089568679243,
          0.30793067750781017,
          -0.39077610071231206,
          -0.812864552609696,
          -0.39397551873666986,
          0.165632610091109,
          0.8852436831944863,
          1.1550648442438702,
          -1.4633524427846236,
          -1.6009707857029245,
          -1.1434752903692167,
          -0.5733830053143328,
          0.9072694529724188,
          0.034483048803851675,
          0.9406194945585669,
          2.051609120582376,
          0.17819939883882124
         ],
         "xaxis": "x4",
         "y": [
          1.8243129259995166,
          0.19608475400175768,
          -0.6053188770897872,
          0.8911968956639813,
          1.0070855293069285,
          -0.8014471338364257,
          -0.9924125538103235,
          0.6589442869722124,
          -0.014050001002884725,
          0.07518373531629381,
          -0.36474810809089014,
          1.3213713674994056,
          -1.3390868001532397,
          2.0157661712051587,
          0.702026132198567,
          -0.980743213672751,
          -1.290183167745645,
          -0.034866885767344466,
          1.3244596009270821,
          0.46914853441326737,
          1.811113937836261,
          -0.31191244635793713,
          -0.44645210590499096,
          -0.47723670876074775,
          -0.7041383254890567,
          -1.0201756035449587,
          1.3557072710334452,
          -0.6307039403442191,
          -1.0790513559403063,
          1.5061983883651782,
          -1.1546177021329875,
          1.2553753887543317,
          0.15018352623167674,
          -0.5988057076920157,
          0.5380983515180622,
          0.9759791860363404,
          -0.7833975692914159,
          -0.9189649613532611,
          -0.0974760456801578,
          0.3429586783883424,
          -0.6191550076924058,
          -2.1039659473643173,
          0.8350223435673302,
          0.6318776376503721,
          0.06918376203837928,
          -0.9540441738215512,
          1.0623602869959006,
          -0.04214282767279125,
          1.0236001005414836,
          2.768834106807123,
          -0.34962680392505013,
          -1.9587267869592255,
          0.21487117500607636,
          -0.7195032292037042,
          0.20890306000942607,
          -0.6473154003389758,
          0.7544595643203549,
          0.4697360100064573,
          0.11029082781862608,
          -0.09295678672354084,
          -0.7844564187290143,
          1.22551840597947,
          0.1733457984754417,
          -1.5674530556863537,
          -0.12719427915234527,
          1.2969218378364398,
          -0.47955826843769805,
          -1.0917495191808468,
          0.22136705963048148,
          -0.9351966540884519,
          1.019493096539831,
          2.516073211595525,
          1.5376854720253375,
          -1.3831508907611931,
          -1.9191831893194957,
          0.44359556475430645,
          -0.8246593181297605,
          -0.2100864028503051,
          0.9547760587601132,
          -0.2653278159042679,
          0.8362410698154421,
          -1.206447309739462,
          1.3929084051796088,
          1.6164208225232148,
          0.33581060384052197,
          -1.2146714988178433,
          0.45484819640518204,
          1.1003564183064294,
          -0.0545126540500522,
          -1.6473224078317383,
          1.0928108115908042,
          -0.16389643281667396,
          -0.6544788103037372,
          -1.3716173109397398,
          0.3395650647243976,
          -1.147263981725478,
          1.2174640192307618,
          -0.21249306896884895,
          -1.096053716026816,
          2.3900037580866145
         ],
         "yaxis": "y4"
        },
        {
         "line": {
          "color": "rgba(128, 128, 128, 1.0)",
          "dash": "solid",
          "shape": "linear",
          "width": 1.3
         },
         "marker": {
          "size": 2,
          "symbol": "circle"
         },
         "mode": "markers",
         "name": "B",
         "text": "",
         "type": "scatter",
         "x": [
          1.8243129259995166,
          0.19608475400175768,
          -0.6053188770897872,
          0.8911968956639813,
          1.0070855293069285,
          -0.8014471338364257,
          -0.9924125538103235,
          0.6589442869722124,
          -0.014050001002884725,
          0.07518373531629381,
          -0.36474810809089014,
          1.3213713674994056,
          -1.3390868001532397,
          2.0157661712051587,
          0.702026132198567,
          -0.980743213672751,
          -1.290183167745645,
          -0.034866885767344466,
          1.3244596009270821,
          0.46914853441326737,
          1.811113937836261,
          -0.31191244635793713,
          -0.44645210590499096,
          -0.47723670876074775,
          -0.7041383254890567,
          -1.0201756035449587,
          1.3557072710334452,
          -0.6307039403442191,
          -1.0790513559403063,
          1.5061983883651782,
          -1.1546177021329875,
          1.2553753887543317,
          0.15018352623167674,
          -0.5988057076920157,
          0.5380983515180622,
          0.9759791860363404,
          -0.7833975692914159,
          -0.9189649613532611,
          -0.0974760456801578,
          0.3429586783883424,
          -0.6191550076924058,
          -2.1039659473643173,
          0.8350223435673302,
          0.6318776376503721,
          0.06918376203837928,
          -0.9540441738215512,
          1.0623602869959006,
          -0.04214282767279125,
          1.0236001005414836,
          2.768834106807123,
          -0.34962680392505013,
          -1.9587267869592255,
          0.21487117500607636,
          -0.7195032292037042,
          0.20890306000942607,
          -0.6473154003389758,
          0.7544595643203549,
          0.4697360100064573,
          0.11029082781862608,
          -0.09295678672354084,
          -0.7844564187290143,
          1.22551840597947,
          0.1733457984754417,
          -1.5674530556863537,
          -0.12719427915234527,
          1.2969218378364398,
          -0.47955826843769805,
          -1.0917495191808468,
          0.22136705963048148,
          -0.9351966540884519,
          1.019493096539831,
          2.516073211595525,
          1.5376854720253375,
          -1.3831508907611931,
          -1.9191831893194957,
          0.44359556475430645,
          -0.8246593181297605,
          -0.2100864028503051,
          0.9547760587601132,
          -0.2653278159042679,
          0.8362410698154421,
          -1.206447309739462,
          1.3929084051796088,
          1.6164208225232148,
          0.33581060384052197,
          -1.2146714988178433,
          0.45484819640518204,
          1.1003564183064294,
          -0.0545126540500522,
          -1.6473224078317383,
          1.0928108115908042,
          -0.16389643281667396,
          -0.6544788103037372,
          -1.3716173109397398,
          0.3395650647243976,
          -1.147263981725478,
          1.2174640192307618,
          -0.21249306896884895,
          -1.096053716026816,
          2.3900037580866145
         ],
         "xaxis": "x5",
         "y": [
          0.583131544660661,
          -0.13361300439365476,
          -0.04123704831597834,
          0.0014680131745039354,
          1.438466824959959,
          0.5541476788726151,
          -1.1310893635390038,
          -0.5623452390437628,
          -0.670234518530269,
          0.545812634382133,
          -0.3624818654591015,
          0.1701678549417786,
          0.3581879479821975,
          -2.887380914691166,
          -0.13478783996064245,
          -0.8588668905175264,
          -0.8938984223234923,
          0.19181727804293225,
          -0.028983423455619165,
          -0.019052996185692665,
          -1.1602446579879755,
          0.08121421004235378,
          1.3352220481800035,
          0.35807277726483344,
          -0.9409924776717753,
          -1.8503080091673934,
          -0.6870106893491648,
          0.8314233325875332,
          0.02274811954883968,
          0.9194055377055831,
          -0.7740446909882256,
          -0.22978997934892423,
          0.17286979761015278,
          -1.8144485916502244,
          0.10019030223493725,
          0.6543032593357595,
          0.002882968517779104,
          -0.614448403963407,
          1.4894537976884068,
          -0.5184176501024136,
          0.8510492801098789,
          1.6907679823457193,
          -0.7252403229757054,
          -1.8548965808613855,
          -0.9279085762381253,
          -0.19262867996165262,
          0.26506477791439476,
          2.149363109679803,
          1.551901938062469,
          0.9498725527680408,
          -0.5798412074414184,
          -1.8392247543767455,
          -0.3001332641170957,
          -0.8038995410085215,
          -0.8356561490437464,
          0.7841323972572954,
          -0.30929122537950327,
          1.0137109697249589,
          1.3640708249499136,
          0.14797119237972522,
          -1.5140703332552574,
          -0.37335951646331544,
          0.06906016347182198,
          0.0071806358751329985,
          -0.3287712644324699,
          0.9244322653350652,
          -2.065891711445297,
          0.5545434773856838,
          -0.1155953279380719,
          1.2903641107677892,
          0.8844881302921291,
          -0.7085242639802346,
          -1.1299614703443237,
          -1.7164506836065332,
          0.31064937293329015,
          1.365766364043925,
          -0.7735412746528428,
          0.10817543607704204,
          0.4800268444616799,
          1.4983655949771244,
          0.5891832919635394,
          0.15306708133909158,
          1.1592892480331136,
          -0.14279951141742664,
          0.018543837761865134,
          -1.4673943968795782,
          -0.6694224768413874,
          -0.41465428943287297,
          -0.17348747003891735,
          1.1353060114559579,
          -0.33408295386952674,
          1.7553588384503196,
          -0.2110048275984787,
          0.42849832241419883,
          -1.429062493144599,
          0.9951538223316054,
          0.8098824701408762,
          0.3884108342548283,
          -0.1558889174937159,
          -0.11031426067805795
         ],
         "yaxis": "y5"
        },
        {
         "histfunc": "count",
         "histnorm": "",
         "marker": {
          "color": "rgba(55, 128, 191, 1.0)",
          "line": {
           "color": "#4D5663",
           "width": 1.3
          }
         },
         "name": "B",
         "nbinsx": 10,
         "opacity": 0.8,
         "orientation": "v",
         "type": "histogram",
         "x": [
          0.583131544660661,
          -0.13361300439365476,
          -0.04123704831597834,
          0.0014680131745039354,
          1.438466824959959,
          0.5541476788726151,
          -1.1310893635390038,
          -0.5623452390437628,
          -0.670234518530269,
          0.545812634382133,
          -0.3624818654591015,
          0.1701678549417786,
          0.3581879479821975,
          -2.887380914691166,
          -0.13478783996064245,
          -0.8588668905175264,
          -0.8938984223234923,
          0.19181727804293225,
          -0.028983423455619165,
          -0.019052996185692665,
          -1.1602446579879755,
          0.08121421004235378,
          1.3352220481800035,
          0.35807277726483344,
          -0.9409924776717753,
          -1.8503080091673934,
          -0.6870106893491648,
          0.8314233325875332,
          0.02274811954883968,
          0.9194055377055831,
          -0.7740446909882256,
          -0.22978997934892423,
          0.17286979761015278,
          -1.8144485916502244,
          0.10019030223493725,
          0.6543032593357595,
          0.002882968517779104,
          -0.614448403963407,
          1.4894537976884068,
          -0.5184176501024136,
          0.8510492801098789,
          1.6907679823457193,
          -0.7252403229757054,
          -1.8548965808613855,
          -0.9279085762381253,
          -0.19262867996165262,
          0.26506477791439476,
          2.149363109679803,
          1.551901938062469,
          0.9498725527680408,
          -0.5798412074414184,
          -1.8392247543767455,
          -0.3001332641170957,
          -0.8038995410085215,
          -0.8356561490437464,
          0.7841323972572954,
          -0.30929122537950327,
          1.0137109697249589,
          1.3640708249499136,
          0.14797119237972522,
          -1.5140703332552574,
          -0.37335951646331544,
          0.06906016347182198,
          0.0071806358751329985,
          -0.3287712644324699,
          0.9244322653350652,
          -2.065891711445297,
          0.5545434773856838,
          -0.1155953279380719,
          1.2903641107677892,
          0.8844881302921291,
          -0.7085242639802346,
          -1.1299614703443237,
          -1.7164506836065332,
          0.31064937293329015,
          1.365766364043925,
          -0.7735412746528428,
          0.10817543607704204,
          0.4800268444616799,
          1.4983655949771244,
          0.5891832919635394,
          0.15306708133909158,
          1.1592892480331136,
          -0.14279951141742664,
          0.018543837761865134,
          -1.4673943968795782,
          -0.6694224768413874,
          -0.41465428943287297,
          -0.17348747003891735,
          1.1353060114559579,
          -0.33408295386952674,
          1.7553588384503196,
          -0.2110048275984787,
          0.42849832241419883,
          -1.429062493144599,
          0.9951538223316054,
          0.8098824701408762,
          0.3884108342548283,
          -0.1558889174937159,
          -0.11031426067805795
         ],
         "xaxis": "x6",
         "yaxis": "y6"
        },
        {
         "line": {
          "color": "rgba(128, 128, 128, 1.0)",
          "dash": "solid",
          "shape": "linear",
          "width": 1.3
         },
         "marker": {
          "size": 2,
          "symbol": "circle"
         },
         "mode": "markers",
         "name": "B",
         "text": "",
         "type": "scatter",
         "x": [
          -1.693048144015689,
          -1.3820659539304376,
          -0.26186400911819513,
          -1.0943028842204392,
          -0.1533319254439035,
          -0.8289270580708209,
          -0.71611152238171,
          0.6544385185656098,
          0.3377575632481237,
          -0.03094272558223115,
          1.8010033601804232,
          -0.10727422285068922,
          0.566144777915916,
          -0.13710599455104144,
          -0.2449345581601094,
          -0.11600157203091759,
          -0.14629718409137737,
          -1.7329882960528853,
          1.2319909113435485,
          -0.13369819930571536,
          1.609863283277939,
          1.7449939659444273,
          0.8399343156048075,
          0.37731061895592993,
          -0.7282714727916014,
          0.8860341534062506,
          -1.253411398579617,
          0.11633332913520288,
          -0.632981440630921,
          -1.0692585180057435,
          0.1538169387080856,
          0.355039612407412,
          0.7509673565058888,
          -0.8982063906590393,
          -0.11783310183402967,
          -0.8798347290637953,
          0.3213739063860632,
          0.7818389362640916,
          -1.0938405254290327,
          -1.0980291355236236,
          -0.37168031024514525,
          0.5441216652049065,
          -0.14918498663229482,
          1.1914548974584076,
          -0.8774363463518473,
          1.6443018312374444,
          0.8759261916149548,
          0.5468738581037398,
          -1.3125834674129604,
          -0.2924070273968226,
          2.3520661756263728,
          1.9305197417893065,
          -0.7595991589728462,
          0.28241038892889364,
          1.2494497552930661,
          0.8735381398826013,
          -0.670934797445289,
          0.46858679660223523,
          -0.07647238236764087,
          0.45407368586428287,
          -1.92237084263108,
          -0.8681506658075451,
          0.6871096311729753,
          0.07549454003141241,
          1.13433043875947,
          1.670257948790717,
          -0.41713617912010337,
          0.601607936166473,
          0.29337914616140837,
          -1.6752928345799873,
          -0.03762707724466671,
          -0.26748171433033263,
          -2.0328761820275876,
          0.6239303517626071,
          -0.037989095688061185,
          0.11732456565129386,
          0.8229516489326429,
          1.1587071278694778,
          0.8166241399492339,
          0.5551856219587835,
          1.6541208711771906,
          -1.360612379808308,
          0.41000439813595485,
          -0.8135001608549873,
          -0.3374398086999169,
          0.9448560947900039,
          -0.8427325029537508,
          -0.977731272333857,
          1.0796168156279038,
          -0.17676871507325598,
          -0.9414533043378169,
          0.3333553678156752,
          -0.8212125542345594,
          -0.06698328081807278,
          0.990027435975039,
          -1.0842557843861187,
          -0.6558631811726069,
          0.29956295333194977,
          -0.6429554088690916,
          0.8000929639274643
         ],
         "xaxis": "x7",
         "y": [
          0.583131544660661,
          -0.13361300439365476,
          -0.04123704831597834,
          0.0014680131745039354,
          1.438466824959959,
          0.5541476788726151,
          -1.1310893635390038,
          -0.5623452390437628,
          -0.670234518530269,
          0.545812634382133,
          -0.3624818654591015,
          0.1701678549417786,
          0.3581879479821975,
          -2.887380914691166,
          -0.13478783996064245,
          -0.8588668905175264,
          -0.8938984223234923,
          0.19181727804293225,
          -0.028983423455619165,
          -0.019052996185692665,
          -1.1602446579879755,
          0.08121421004235378,
          1.3352220481800035,
          0.35807277726483344,
          -0.9409924776717753,
          -1.8503080091673934,
          -0.6870106893491648,
          0.8314233325875332,
          0.02274811954883968,
          0.9194055377055831,
          -0.7740446909882256,
          -0.22978997934892423,
          0.17286979761015278,
          -1.8144485916502244,
          0.10019030223493725,
          0.6543032593357595,
          0.002882968517779104,
          -0.614448403963407,
          1.4894537976884068,
          -0.5184176501024136,
          0.8510492801098789,
          1.6907679823457193,
          -0.7252403229757054,
          -1.8548965808613855,
          -0.9279085762381253,
          -0.19262867996165262,
          0.26506477791439476,
          2.149363109679803,
          1.551901938062469,
          0.9498725527680408,
          -0.5798412074414184,
          -1.8392247543767455,
          -0.3001332641170957,
          -0.8038995410085215,
          -0.8356561490437464,
          0.7841323972572954,
          -0.30929122537950327,
          1.0137109697249589,
          1.3640708249499136,
          0.14797119237972522,
          -1.5140703332552574,
          -0.37335951646331544,
          0.06906016347182198,
          0.0071806358751329985,
          -0.3287712644324699,
          0.9244322653350652,
          -2.065891711445297,
          0.5545434773856838,
          -0.1155953279380719,
          1.2903641107677892,
          0.8844881302921291,
          -0.7085242639802346,
          -1.1299614703443237,
          -1.7164506836065332,
          0.31064937293329015,
          1.365766364043925,
          -0.7735412746528428,
          0.10817543607704204,
          0.4800268444616799,
          1.4983655949771244,
          0.5891832919635394,
          0.15306708133909158,
          1.1592892480331136,
          -0.14279951141742664,
          0.018543837761865134,
          -1.4673943968795782,
          -0.6694224768413874,
          -0.41465428943287297,
          -0.17348747003891735,
          1.1353060114559579,
          -0.33408295386952674,
          1.7553588384503196,
          -0.2110048275984787,
          0.42849832241419883,
          -1.429062493144599,
          0.9951538223316054,
          0.8098824701408762,
          0.3884108342548283,
          -0.1558889174937159,
          -0.11031426067805795
         ],
         "yaxis": "y7"
        },
        {
         "line": {
          "color": "rgba(128, 128, 128, 1.0)",
          "dash": "solid",
          "shape": "linear",
          "width": 1.3
         },
         "marker": {
          "size": 2,
          "symbol": "circle"
         },
         "mode": "markers",
         "name": "B",
         "text": "",
         "type": "scatter",
         "x": [
          0.05364048207260595,
          -1.6415014900014182,
          0.1560446938057477,
          1.0642370745611147,
          -0.5027503734044894,
          -0.16847600244086813,
          0.03769768649841975,
          0.4404443029957614,
          -1.6579050752815891,
          1.8601987778014237,
          -0.15265903655033689,
          0.37129316680948793,
          -0.08803610612264272,
          -0.012170020280144352,
          -0.031754703520787894,
          0.12040845468606767,
          0.6661817596237033,
          0.4351590541521421,
          0.3874501304536663,
          0.6506182333957212,
          -0.3543112673939216,
          0.07133346409774055,
          -0.4563271241235071,
          0.3067131713241251,
          -0.1825980303133153,
          0.5193130694959607,
          -1.793604809992783,
          -1.6337123268288474,
          -0.11194926057402858,
          -0.6206104376633367,
          0.42743206030208597,
          -1.4192078676325863,
          -0.952313115078617,
          0.28624040037662163,
          0.19143852583850562,
          0.11552415341179897,
          -0.7528536232121964,
          -0.6732879417286711,
          -0.8522197068472054,
          -0.7859007817991804,
          0.5963342736675762,
          1.6184674307529368,
          0.7014689277608404,
          1.283323978524507,
          0.7830464604043736,
          -0.6654174297433695,
          0.931850500204895,
          -0.35402395153670324,
          -0.602258800736354,
          0.7244485868398755,
          -0.6649938025189891,
          0.21018636499470508,
          -0.19685471819127484,
          -0.19916017586044676,
          2.1644487557138286,
          -0.6866260230014049,
          1.1163078640078368,
          -0.04046594753613875,
          -0.25670197406150547,
          1.1012493039101279,
          0.9509449169491229,
          -0.22197875278076207,
          -0.3034821972704745,
          -0.5463023263958524,
          -0.01885680378734175,
          -0.55143885727557,
          1.841061816977951,
          -1.8084991267664081,
          -0.39628794946808954,
          -0.782202772473188,
          -0.6545173575747144,
          0.49449191900543366,
          -0.8211223688970272,
          -0.33147197435657905,
          0.8529223538238252,
          -1.4402138964755826,
          0.3148874254607986,
          -0.2935572438480311,
          0.29863149749985335,
          0.07113287972824318,
          -0.5189069614956773,
          -0.12131866130997336,
          -0.7913412375343849,
          0.0380089568679243,
          0.30793067750781017,
          -0.39077610071231206,
          -0.812864552609696,
          -0.39397551873666986,
          0.165632610091109,
          0.8852436831944863,
          1.1550648442438702,
          -1.4633524427846236,
          -1.6009707857029245,
          -1.1434752903692167,
          -0.5733830053143328,
          0.9072694529724188,
          0.034483048803851675,
          0.9406194945585669,
          2.051609120582376,
          0.17819939883882124
         ],
         "xaxis": "x8",
         "y": [
          0.583131544660661,
          -0.13361300439365476,
          -0.04123704831597834,
          0.0014680131745039354,
          1.438466824959959,
          0.5541476788726151,
          -1.1310893635390038,
          -0.5623452390437628,
          -0.670234518530269,
          0.545812634382133,
          -0.3624818654591015,
          0.1701678549417786,
          0.3581879479821975,
          -2.887380914691166,
          -0.13478783996064245,
          -0.8588668905175264,
          -0.8938984223234923,
          0.19181727804293225,
          -0.028983423455619165,
          -0.019052996185692665,
          -1.1602446579879755,
          0.08121421004235378,
          1.3352220481800035,
          0.35807277726483344,
          -0.9409924776717753,
          -1.8503080091673934,
          -0.6870106893491648,
          0.8314233325875332,
          0.02274811954883968,
          0.9194055377055831,
          -0.7740446909882256,
          -0.22978997934892423,
          0.17286979761015278,
          -1.8144485916502244,
          0.10019030223493725,
          0.6543032593357595,
          0.002882968517779104,
          -0.614448403963407,
          1.4894537976884068,
          -0.5184176501024136,
          0.8510492801098789,
          1.6907679823457193,
          -0.7252403229757054,
          -1.8548965808613855,
          -0.9279085762381253,
          -0.19262867996165262,
          0.26506477791439476,
          2.149363109679803,
          1.551901938062469,
          0.9498725527680408,
          -0.5798412074414184,
          -1.8392247543767455,
          -0.3001332641170957,
          -0.8038995410085215,
          -0.8356561490437464,
          0.7841323972572954,
          -0.30929122537950327,
          1.0137109697249589,
          1.3640708249499136,
          0.14797119237972522,
          -1.5140703332552574,
          -0.37335951646331544,
          0.06906016347182198,
          0.0071806358751329985,
          -0.3287712644324699,
          0.9244322653350652,
          -2.065891711445297,
          0.5545434773856838,
          -0.1155953279380719,
          1.2903641107677892,
          0.8844881302921291,
          -0.7085242639802346,
          -1.1299614703443237,
          -1.7164506836065332,
          0.31064937293329015,
          1.365766364043925,
          -0.7735412746528428,
          0.10817543607704204,
          0.4800268444616799,
          1.4983655949771244,
          0.5891832919635394,
          0.15306708133909158,
          1.1592892480331136,
          -0.14279951141742664,
          0.018543837761865134,
          -1.4673943968795782,
          -0.6694224768413874,
          -0.41465428943287297,
          -0.17348747003891735,
          1.1353060114559579,
          -0.33408295386952674,
          1.7553588384503196,
          -0.2110048275984787,
          0.42849832241419883,
          -1.429062493144599,
          0.9951538223316054,
          0.8098824701408762,
          0.3884108342548283,
          -0.1558889174937159,
          -0.11031426067805795
         ],
         "yaxis": "y8"
        },
        {
         "line": {
          "color": "rgba(128, 128, 128, 1.0)",
          "dash": "solid",
          "shape": "linear",
          "width": 1.3
         },
         "marker": {
          "size": 2,
          "symbol": "circle"
         },
         "mode": "markers",
         "name": "C",
         "text": "",
         "type": "scatter",
         "x": [
          1.8243129259995166,
          0.19608475400175768,
          -0.6053188770897872,
          0.8911968956639813,
          1.0070855293069285,
          -0.8014471338364257,
          -0.9924125538103235,
          0.6589442869722124,
          -0.014050001002884725,
          0.07518373531629381,
          -0.36474810809089014,
          1.3213713674994056,
          -1.3390868001532397,
          2.0157661712051587,
          0.702026132198567,
          -0.980743213672751,
          -1.290183167745645,
          -0.034866885767344466,
          1.3244596009270821,
          0.46914853441326737,
          1.811113937836261,
          -0.31191244635793713,
          -0.44645210590499096,
          -0.47723670876074775,
          -0.7041383254890567,
          -1.0201756035449587,
          1.3557072710334452,
          -0.6307039403442191,
          -1.0790513559403063,
          1.5061983883651782,
          -1.1546177021329875,
          1.2553753887543317,
          0.15018352623167674,
          -0.5988057076920157,
          0.5380983515180622,
          0.9759791860363404,
          -0.7833975692914159,
          -0.9189649613532611,
          -0.0974760456801578,
          0.3429586783883424,
          -0.6191550076924058,
          -2.1039659473643173,
          0.8350223435673302,
          0.6318776376503721,
          0.06918376203837928,
          -0.9540441738215512,
          1.0623602869959006,
          -0.04214282767279125,
          1.0236001005414836,
          2.768834106807123,
          -0.34962680392505013,
          -1.9587267869592255,
          0.21487117500607636,
          -0.7195032292037042,
          0.20890306000942607,
          -0.6473154003389758,
          0.7544595643203549,
          0.4697360100064573,
          0.11029082781862608,
          -0.09295678672354084,
          -0.7844564187290143,
          1.22551840597947,
          0.1733457984754417,
          -1.5674530556863537,
          -0.12719427915234527,
          1.2969218378364398,
          -0.47955826843769805,
          -1.0917495191808468,
          0.22136705963048148,
          -0.9351966540884519,
          1.019493096539831,
          2.516073211595525,
          1.5376854720253375,
          -1.3831508907611931,
          -1.9191831893194957,
          0.44359556475430645,
          -0.8246593181297605,
          -0.2100864028503051,
          0.9547760587601132,
          -0.2653278159042679,
          0.8362410698154421,
          -1.206447309739462,
          1.3929084051796088,
          1.6164208225232148,
          0.33581060384052197,
          -1.2146714988178433,
          0.45484819640518204,
          1.1003564183064294,
          -0.0545126540500522,
          -1.6473224078317383,
          1.0928108115908042,
          -0.16389643281667396,
          -0.6544788103037372,
          -1.3716173109397398,
          0.3395650647243976,
          -1.147263981725478,
          1.2174640192307618,
          -0.21249306896884895,
          -1.096053716026816,
          2.3900037580866145
         ],
         "xaxis": "x9",
         "y": [
          -1.693048144015689,
          -1.3820659539304376,
          -0.26186400911819513,
          -1.0943028842204392,
          -0.1533319254439035,
          -0.8289270580708209,
          -0.71611152238171,
          0.6544385185656098,
          0.3377575632481237,
          -0.03094272558223115,
          1.8010033601804232,
          -0.10727422285068922,
          0.566144777915916,
          -0.13710599455104144,
          -0.2449345581601094,
          -0.11600157203091759,
          -0.14629718409137737,
          -1.7329882960528853,
          1.2319909113435485,
          -0.13369819930571536,
          1.609863283277939,
          1.7449939659444273,
          0.8399343156048075,
          0.37731061895592993,
          -0.7282714727916014,
          0.8860341534062506,
          -1.253411398579617,
          0.11633332913520288,
          -0.632981440630921,
          -1.0692585180057435,
          0.1538169387080856,
          0.355039612407412,
          0.7509673565058888,
          -0.8982063906590393,
          -0.11783310183402967,
          -0.8798347290637953,
          0.3213739063860632,
          0.7818389362640916,
          -1.0938405254290327,
          -1.0980291355236236,
          -0.37168031024514525,
          0.5441216652049065,
          -0.14918498663229482,
          1.1914548974584076,
          -0.8774363463518473,
          1.6443018312374444,
          0.8759261916149548,
          0.5468738581037398,
          -1.3125834674129604,
          -0.2924070273968226,
          2.3520661756263728,
          1.9305197417893065,
          -0.7595991589728462,
          0.28241038892889364,
          1.2494497552930661,
          0.8735381398826013,
          -0.670934797445289,
          0.46858679660223523,
          -0.07647238236764087,
          0.45407368586428287,
          -1.92237084263108,
          -0.8681506658075451,
          0.6871096311729753,
          0.07549454003141241,
          1.13433043875947,
          1.670257948790717,
          -0.41713617912010337,
          0.601607936166473,
          0.29337914616140837,
          -1.6752928345799873,
          -0.03762707724466671,
          -0.26748171433033263,
          -2.0328761820275876,
          0.6239303517626071,
          -0.037989095688061185,
          0.11732456565129386,
          0.8229516489326429,
          1.1587071278694778,
          0.8166241399492339,
          0.5551856219587835,
          1.6541208711771906,
          -1.360612379808308,
          0.41000439813595485,
          -0.8135001608549873,
          -0.3374398086999169,
          0.9448560947900039,
          -0.8427325029537508,
          -0.977731272333857,
          1.0796168156279038,
          -0.17676871507325598,
          -0.9414533043378169,
          0.3333553678156752,
          -0.8212125542345594,
          -0.06698328081807278,
          0.990027435975039,
          -1.0842557843861187,
          -0.6558631811726069,
          0.29956295333194977,
          -0.6429554088690916,
          0.8000929639274643
         ],
         "yaxis": "y9"
        },
        {
         "line": {
          "color": "rgba(128, 128, 128, 1.0)",
          "dash": "solid",
          "shape": "linear",
          "width": 1.3
         },
         "marker": {
          "size": 2,
          "symbol": "circle"
         },
         "mode": "markers",
         "name": "C",
         "text": "",
         "type": "scatter",
         "x": [
          0.583131544660661,
          -0.13361300439365476,
          -0.04123704831597834,
          0.0014680131745039354,
          1.438466824959959,
          0.5541476788726151,
          -1.1310893635390038,
          -0.5623452390437628,
          -0.670234518530269,
          0.545812634382133,
          -0.3624818654591015,
          0.1701678549417786,
          0.3581879479821975,
          -2.887380914691166,
          -0.13478783996064245,
          -0.8588668905175264,
          -0.8938984223234923,
          0.19181727804293225,
          -0.028983423455619165,
          -0.019052996185692665,
          -1.1602446579879755,
          0.08121421004235378,
          1.3352220481800035,
          0.35807277726483344,
          -0.9409924776717753,
          -1.8503080091673934,
          -0.6870106893491648,
          0.8314233325875332,
          0.02274811954883968,
          0.9194055377055831,
          -0.7740446909882256,
          -0.22978997934892423,
          0.17286979761015278,
          -1.8144485916502244,
          0.10019030223493725,
          0.6543032593357595,
          0.002882968517779104,
          -0.614448403963407,
          1.4894537976884068,
          -0.5184176501024136,
          0.8510492801098789,
          1.6907679823457193,
          -0.7252403229757054,
          -1.8548965808613855,
          -0.9279085762381253,
          -0.19262867996165262,
          0.26506477791439476,
          2.149363109679803,
          1.551901938062469,
          0.9498725527680408,
          -0.5798412074414184,
          -1.8392247543767455,
          -0.3001332641170957,
          -0.8038995410085215,
          -0.8356561490437464,
          0.7841323972572954,
          -0.30929122537950327,
          1.0137109697249589,
          1.3640708249499136,
          0.14797119237972522,
          -1.5140703332552574,
          -0.37335951646331544,
          0.06906016347182198,
          0.0071806358751329985,
          -0.3287712644324699,
          0.9244322653350652,
          -2.065891711445297,
          0.5545434773856838,
          -0.1155953279380719,
          1.2903641107677892,
          0.8844881302921291,
          -0.7085242639802346,
          -1.1299614703443237,
          -1.7164506836065332,
          0.31064937293329015,
          1.365766364043925,
          -0.7735412746528428,
          0.10817543607704204,
          0.4800268444616799,
          1.4983655949771244,
          0.5891832919635394,
          0.15306708133909158,
          1.1592892480331136,
          -0.14279951141742664,
          0.018543837761865134,
          -1.4673943968795782,
          -0.6694224768413874,
          -0.41465428943287297,
          -0.17348747003891735,
          1.1353060114559579,
          -0.33408295386952674,
          1.7553588384503196,
          -0.2110048275984787,
          0.42849832241419883,
          -1.429062493144599,
          0.9951538223316054,
          0.8098824701408762,
          0.3884108342548283,
          -0.1558889174937159,
          -0.11031426067805795
         ],
         "xaxis": "x10",
         "y": [
          -1.693048144015689,
          -1.3820659539304376,
          -0.26186400911819513,
          -1.0943028842204392,
          -0.1533319254439035,
          -0.8289270580708209,
          -0.71611152238171,
          0.6544385185656098,
          0.3377575632481237,
          -0.03094272558223115,
          1.8010033601804232,
          -0.10727422285068922,
          0.566144777915916,
          -0.13710599455104144,
          -0.2449345581601094,
          -0.11600157203091759,
          -0.14629718409137737,
          -1.7329882960528853,
          1.2319909113435485,
          -0.13369819930571536,
          1.609863283277939,
          1.7449939659444273,
          0.8399343156048075,
          0.37731061895592993,
          -0.7282714727916014,
          0.8860341534062506,
          -1.253411398579617,
          0.11633332913520288,
          -0.632981440630921,
          -1.0692585180057435,
          0.1538169387080856,
          0.355039612407412,
          0.7509673565058888,
          -0.8982063906590393,
          -0.11783310183402967,
          -0.8798347290637953,
          0.3213739063860632,
          0.7818389362640916,
          -1.0938405254290327,
          -1.0980291355236236,
          -0.37168031024514525,
          0.5441216652049065,
          -0.14918498663229482,
          1.1914548974584076,
          -0.8774363463518473,
          1.6443018312374444,
          0.8759261916149548,
          0.5468738581037398,
          -1.3125834674129604,
          -0.2924070273968226,
          2.3520661756263728,
          1.9305197417893065,
          -0.7595991589728462,
          0.28241038892889364,
          1.2494497552930661,
          0.8735381398826013,
          -0.670934797445289,
          0.46858679660223523,
          -0.07647238236764087,
          0.45407368586428287,
          -1.92237084263108,
          -0.8681506658075451,
          0.6871096311729753,
          0.07549454003141241,
          1.13433043875947,
          1.670257948790717,
          -0.41713617912010337,
          0.601607936166473,
          0.29337914616140837,
          -1.6752928345799873,
          -0.03762707724466671,
          -0.26748171433033263,
          -2.0328761820275876,
          0.6239303517626071,
          -0.037989095688061185,
          0.11732456565129386,
          0.8229516489326429,
          1.1587071278694778,
          0.8166241399492339,
          0.5551856219587835,
          1.6541208711771906,
          -1.360612379808308,
          0.41000439813595485,
          -0.8135001608549873,
          -0.3374398086999169,
          0.9448560947900039,
          -0.8427325029537508,
          -0.977731272333857,
          1.0796168156279038,
          -0.17676871507325598,
          -0.9414533043378169,
          0.3333553678156752,
          -0.8212125542345594,
          -0.06698328081807278,
          0.990027435975039,
          -1.0842557843861187,
          -0.6558631811726069,
          0.29956295333194977,
          -0.6429554088690916,
          0.8000929639274643
         ],
         "yaxis": "y10"
        },
        {
         "histfunc": "count",
         "histnorm": "",
         "marker": {
          "color": "rgba(50, 171, 96, 1.0)",
          "line": {
           "color": "#4D5663",
           "width": 1.3
          }
         },
         "name": "C",
         "nbinsx": 10,
         "opacity": 0.8,
         "orientation": "v",
         "type": "histogram",
         "x": [
          -1.693048144015689,
          -1.3820659539304376,
          -0.26186400911819513,
          -1.0943028842204392,
          -0.1533319254439035,
          -0.8289270580708209,
          -0.71611152238171,
          0.6544385185656098,
          0.3377575632481237,
          -0.03094272558223115,
          1.8010033601804232,
          -0.10727422285068922,
          0.566144777915916,
          -0.13710599455104144,
          -0.2449345581601094,
          -0.11600157203091759,
          -0.14629718409137737,
          -1.7329882960528853,
          1.2319909113435485,
          -0.13369819930571536,
          1.609863283277939,
          1.7449939659444273,
          0.8399343156048075,
          0.37731061895592993,
          -0.7282714727916014,
          0.8860341534062506,
          -1.253411398579617,
          0.11633332913520288,
          -0.632981440630921,
          -1.0692585180057435,
          0.1538169387080856,
          0.355039612407412,
          0.7509673565058888,
          -0.8982063906590393,
          -0.11783310183402967,
          -0.8798347290637953,
          0.3213739063860632,
          0.7818389362640916,
          -1.0938405254290327,
          -1.0980291355236236,
          -0.37168031024514525,
          0.5441216652049065,
          -0.14918498663229482,
          1.1914548974584076,
          -0.8774363463518473,
          1.6443018312374444,
          0.8759261916149548,
          0.5468738581037398,
          -1.3125834674129604,
          -0.2924070273968226,
          2.3520661756263728,
          1.9305197417893065,
          -0.7595991589728462,
          0.28241038892889364,
          1.2494497552930661,
          0.8735381398826013,
          -0.670934797445289,
          0.46858679660223523,
          -0.07647238236764087,
          0.45407368586428287,
          -1.92237084263108,
          -0.8681506658075451,
          0.6871096311729753,
          0.07549454003141241,
          1.13433043875947,
          1.670257948790717,
          -0.41713617912010337,
          0.601607936166473,
          0.29337914616140837,
          -1.6752928345799873,
          -0.03762707724466671,
          -0.26748171433033263,
          -2.0328761820275876,
          0.6239303517626071,
          -0.037989095688061185,
          0.11732456565129386,
          0.8229516489326429,
          1.1587071278694778,
          0.8166241399492339,
          0.5551856219587835,
          1.6541208711771906,
          -1.360612379808308,
          0.41000439813595485,
          -0.8135001608549873,
          -0.3374398086999169,
          0.9448560947900039,
          -0.8427325029537508,
          -0.977731272333857,
          1.0796168156279038,
          -0.17676871507325598,
          -0.9414533043378169,
          0.3333553678156752,
          -0.8212125542345594,
          -0.06698328081807278,
          0.990027435975039,
          -1.0842557843861187,
          -0.6558631811726069,
          0.29956295333194977,
          -0.6429554088690916,
          0.8000929639274643
         ],
         "xaxis": "x11",
         "yaxis": "y11"
        },
        {
         "line": {
          "color": "rgba(128, 128, 128, 1.0)",
          "dash": "solid",
          "shape": "linear",
          "width": 1.3
         },
         "marker": {
          "size": 2,
          "symbol": "circle"
         },
         "mode": "markers",
         "name": "C",
         "text": "",
         "type": "scatter",
         "x": [
          0.05364048207260595,
          -1.6415014900014182,
          0.1560446938057477,
          1.0642370745611147,
          -0.5027503734044894,
          -0.16847600244086813,
          0.03769768649841975,
          0.4404443029957614,
          -1.6579050752815891,
          1.8601987778014237,
          -0.15265903655033689,
          0.37129316680948793,
          -0.08803610612264272,
          -0.012170020280144352,
          -0.031754703520787894,
          0.12040845468606767,
          0.6661817596237033,
          0.4351590541521421,
          0.3874501304536663,
          0.6506182333957212,
          -0.3543112673939216,
          0.07133346409774055,
          -0.4563271241235071,
          0.3067131713241251,
          -0.1825980303133153,
          0.5193130694959607,
          -1.793604809992783,
          -1.6337123268288474,
          -0.11194926057402858,
          -0.6206104376633367,
          0.42743206030208597,
          -1.4192078676325863,
          -0.952313115078617,
          0.28624040037662163,
          0.19143852583850562,
          0.11552415341179897,
          -0.7528536232121964,
          -0.6732879417286711,
          -0.8522197068472054,
          -0.7859007817991804,
          0.5963342736675762,
          1.6184674307529368,
          0.7014689277608404,
          1.283323978524507,
          0.7830464604043736,
          -0.6654174297433695,
          0.931850500204895,
          -0.35402395153670324,
          -0.602258800736354,
          0.7244485868398755,
          -0.6649938025189891,
          0.21018636499470508,
          -0.19685471819127484,
          -0.19916017586044676,
          2.1644487557138286,
          -0.6866260230014049,
          1.1163078640078368,
          -0.04046594753613875,
          -0.25670197406150547,
          1.1012493039101279,
          0.9509449169491229,
          -0.22197875278076207,
          -0.3034821972704745,
          -0.5463023263958524,
          -0.01885680378734175,
          -0.55143885727557,
          1.841061816977951,
          -1.8084991267664081,
          -0.39628794946808954,
          -0.782202772473188,
          -0.6545173575747144,
          0.49449191900543366,
          -0.8211223688970272,
          -0.33147197435657905,
          0.8529223538238252,
          -1.4402138964755826,
          0.3148874254607986,
          -0.2935572438480311,
          0.29863149749985335,
          0.07113287972824318,
          -0.5189069614956773,
          -0.12131866130997336,
          -0.7913412375343849,
          0.0380089568679243,
          0.30793067750781017,
          -0.39077610071231206,
          -0.812864552609696,
          -0.39397551873666986,
          0.165632610091109,
          0.8852436831944863,
          1.1550648442438702,
          -1.4633524427846236,
          -1.6009707857029245,
          -1.1434752903692167,
          -0.5733830053143328,
          0.9072694529724188,
          0.034483048803851675,
          0.9406194945585669,
          2.051609120582376,
          0.17819939883882124
         ],
         "xaxis": "x12",
         "y": [
          -1.693048144015689,
          -1.3820659539304376,
          -0.26186400911819513,
          -1.0943028842204392,
          -0.1533319254439035,
          -0.8289270580708209,
          -0.71611152238171,
          0.6544385185656098,
          0.3377575632481237,
          -0.03094272558223115,
          1.8010033601804232,
          -0.10727422285068922,
          0.566144777915916,
          -0.13710599455104144,
          -0.2449345581601094,
          -0.11600157203091759,
          -0.14629718409137737,
          -1.7329882960528853,
          1.2319909113435485,
          -0.13369819930571536,
          1.609863283277939,
          1.7449939659444273,
          0.8399343156048075,
          0.37731061895592993,
          -0.7282714727916014,
          0.8860341534062506,
          -1.253411398579617,
          0.11633332913520288,
          -0.632981440630921,
          -1.0692585180057435,
          0.1538169387080856,
          0.355039612407412,
          0.7509673565058888,
          -0.8982063906590393,
          -0.11783310183402967,
          -0.8798347290637953,
          0.3213739063860632,
          0.7818389362640916,
          -1.0938405254290327,
          -1.0980291355236236,
          -0.37168031024514525,
          0.5441216652049065,
          -0.14918498663229482,
          1.1914548974584076,
          -0.8774363463518473,
          1.6443018312374444,
          0.8759261916149548,
          0.5468738581037398,
          -1.3125834674129604,
          -0.2924070273968226,
          2.3520661756263728,
          1.9305197417893065,
          -0.7595991589728462,
          0.28241038892889364,
          1.2494497552930661,
          0.8735381398826013,
          -0.670934797445289,
          0.46858679660223523,
          -0.07647238236764087,
          0.45407368586428287,
          -1.92237084263108,
          -0.8681506658075451,
          0.6871096311729753,
          0.07549454003141241,
          1.13433043875947,
          1.670257948790717,
          -0.41713617912010337,
          0.601607936166473,
          0.29337914616140837,
          -1.6752928345799873,
          -0.03762707724466671,
          -0.26748171433033263,
          -2.0328761820275876,
          0.6239303517626071,
          -0.037989095688061185,
          0.11732456565129386,
          0.8229516489326429,
          1.1587071278694778,
          0.8166241399492339,
          0.5551856219587835,
          1.6541208711771906,
          -1.360612379808308,
          0.41000439813595485,
          -0.8135001608549873,
          -0.3374398086999169,
          0.9448560947900039,
          -0.8427325029537508,
          -0.977731272333857,
          1.0796168156279038,
          -0.17676871507325598,
          -0.9414533043378169,
          0.3333553678156752,
          -0.8212125542345594,
          -0.06698328081807278,
          0.990027435975039,
          -1.0842557843861187,
          -0.6558631811726069,
          0.29956295333194977,
          -0.6429554088690916,
          0.8000929639274643
         ],
         "yaxis": "y12"
        },
        {
         "line": {
          "color": "rgba(128, 128, 128, 1.0)",
          "dash": "solid",
          "shape": "linear",
          "width": 1.3
         },
         "marker": {
          "size": 2,
          "symbol": "circle"
         },
         "mode": "markers",
         "name": "D",
         "text": "",
         "type": "scatter",
         "x": [
          1.8243129259995166,
          0.19608475400175768,
          -0.6053188770897872,
          0.8911968956639813,
          1.0070855293069285,
          -0.8014471338364257,
          -0.9924125538103235,
          0.6589442869722124,
          -0.014050001002884725,
          0.07518373531629381,
          -0.36474810809089014,
          1.3213713674994056,
          -1.3390868001532397,
          2.0157661712051587,
          0.702026132198567,
          -0.980743213672751,
          -1.290183167745645,
          -0.034866885767344466,
          1.3244596009270821,
          0.46914853441326737,
          1.811113937836261,
          -0.31191244635793713,
          -0.44645210590499096,
          -0.47723670876074775,
          -0.7041383254890567,
          -1.0201756035449587,
          1.3557072710334452,
          -0.6307039403442191,
          -1.0790513559403063,
          1.5061983883651782,
          -1.1546177021329875,
          1.2553753887543317,
          0.15018352623167674,
          -0.5988057076920157,
          0.5380983515180622,
          0.9759791860363404,
          -0.7833975692914159,
          -0.9189649613532611,
          -0.0974760456801578,
          0.3429586783883424,
          -0.6191550076924058,
          -2.1039659473643173,
          0.8350223435673302,
          0.6318776376503721,
          0.06918376203837928,
          -0.9540441738215512,
          1.0623602869959006,
          -0.04214282767279125,
          1.0236001005414836,
          2.768834106807123,
          -0.34962680392505013,
          -1.9587267869592255,
          0.21487117500607636,
          -0.7195032292037042,
          0.20890306000942607,
          -0.6473154003389758,
          0.7544595643203549,
          0.4697360100064573,
          0.11029082781862608,
          -0.09295678672354084,
          -0.7844564187290143,
          1.22551840597947,
          0.1733457984754417,
          -1.5674530556863537,
          -0.12719427915234527,
          1.2969218378364398,
          -0.47955826843769805,
          -1.0917495191808468,
          0.22136705963048148,
          -0.9351966540884519,
          1.019493096539831,
          2.516073211595525,
          1.5376854720253375,
          -1.3831508907611931,
          -1.9191831893194957,
          0.44359556475430645,
          -0.8246593181297605,
          -0.2100864028503051,
          0.9547760587601132,
          -0.2653278159042679,
          0.8362410698154421,
          -1.206447309739462,
          1.3929084051796088,
          1.6164208225232148,
          0.33581060384052197,
          -1.2146714988178433,
          0.45484819640518204,
          1.1003564183064294,
          -0.0545126540500522,
          -1.6473224078317383,
          1.0928108115908042,
          -0.16389643281667396,
          -0.6544788103037372,
          -1.3716173109397398,
          0.3395650647243976,
          -1.147263981725478,
          1.2174640192307618,
          -0.21249306896884895,
          -1.096053716026816,
          2.3900037580866145
         ],
         "xaxis": "x13",
         "y": [
          0.05364048207260595,
          -1.6415014900014182,
          0.1560446938057477,
          1.0642370745611147,
          -0.5027503734044894,
          -0.16847600244086813,
          0.03769768649841975,
          0.4404443029957614,
          -1.6579050752815891,
          1.8601987778014237,
          -0.15265903655033689,
          0.37129316680948793,
          -0.08803610612264272,
          -0.012170020280144352,
          -0.031754703520787894,
          0.12040845468606767,
          0.6661817596237033,
          0.4351590541521421,
          0.3874501304536663,
          0.6506182333957212,
          -0.3543112673939216,
          0.07133346409774055,
          -0.4563271241235071,
          0.3067131713241251,
          -0.1825980303133153,
          0.5193130694959607,
          -1.793604809992783,
          -1.6337123268288474,
          -0.11194926057402858,
          -0.6206104376633367,
          0.42743206030208597,
          -1.4192078676325863,
          -0.952313115078617,
          0.28624040037662163,
          0.19143852583850562,
          0.11552415341179897,
          -0.7528536232121964,
          -0.6732879417286711,
          -0.8522197068472054,
          -0.7859007817991804,
          0.5963342736675762,
          1.6184674307529368,
          0.7014689277608404,
          1.283323978524507,
          0.7830464604043736,
          -0.6654174297433695,
          0.931850500204895,
          -0.35402395153670324,
          -0.602258800736354,
          0.7244485868398755,
          -0.6649938025189891,
          0.21018636499470508,
          -0.19685471819127484,
          -0.19916017586044676,
          2.1644487557138286,
          -0.6866260230014049,
          1.1163078640078368,
          -0.04046594753613875,
          -0.25670197406150547,
          1.1012493039101279,
          0.9509449169491229,
          -0.22197875278076207,
          -0.3034821972704745,
          -0.5463023263958524,
          -0.01885680378734175,
          -0.55143885727557,
          1.841061816977951,
          -1.8084991267664081,
          -0.39628794946808954,
          -0.782202772473188,
          -0.6545173575747144,
          0.49449191900543366,
          -0.8211223688970272,
          -0.33147197435657905,
          0.8529223538238252,
          -1.4402138964755826,
          0.3148874254607986,
          -0.2935572438480311,
          0.29863149749985335,
          0.07113287972824318,
          -0.5189069614956773,
          -0.12131866130997336,
          -0.7913412375343849,
          0.0380089568679243,
          0.30793067750781017,
          -0.39077610071231206,
          -0.812864552609696,
          -0.39397551873666986,
          0.165632610091109,
          0.8852436831944863,
          1.1550648442438702,
          -1.4633524427846236,
          -1.6009707857029245,
          -1.1434752903692167,
          -0.5733830053143328,
          0.9072694529724188,
          0.034483048803851675,
          0.9406194945585669,
          2.051609120582376,
          0.17819939883882124
         ],
         "yaxis": "y13"
        },
        {
         "line": {
          "color": "rgba(128, 128, 128, 1.0)",
          "dash": "solid",
          "shape": "linear",
          "width": 1.3
         },
         "marker": {
          "size": 2,
          "symbol": "circle"
         },
         "mode": "markers",
         "name": "D",
         "text": "",
         "type": "scatter",
         "x": [
          0.583131544660661,
          -0.13361300439365476,
          -0.04123704831597834,
          0.0014680131745039354,
          1.438466824959959,
          0.5541476788726151,
          -1.1310893635390038,
          -0.5623452390437628,
          -0.670234518530269,
          0.545812634382133,
          -0.3624818654591015,
          0.1701678549417786,
          0.3581879479821975,
          -2.887380914691166,
          -0.13478783996064245,
          -0.8588668905175264,
          -0.8938984223234923,
          0.19181727804293225,
          -0.028983423455619165,
          -0.019052996185692665,
          -1.1602446579879755,
          0.08121421004235378,
          1.3352220481800035,
          0.35807277726483344,
          -0.9409924776717753,
          -1.8503080091673934,
          -0.6870106893491648,
          0.8314233325875332,
          0.02274811954883968,
          0.9194055377055831,
          -0.7740446909882256,
          -0.22978997934892423,
          0.17286979761015278,
          -1.8144485916502244,
          0.10019030223493725,
          0.6543032593357595,
          0.002882968517779104,
          -0.614448403963407,
          1.4894537976884068,
          -0.5184176501024136,
          0.8510492801098789,
          1.6907679823457193,
          -0.7252403229757054,
          -1.8548965808613855,
          -0.9279085762381253,
          -0.19262867996165262,
          0.26506477791439476,
          2.149363109679803,
          1.551901938062469,
          0.9498725527680408,
          -0.5798412074414184,
          -1.8392247543767455,
          -0.3001332641170957,
          -0.8038995410085215,
          -0.8356561490437464,
          0.7841323972572954,
          -0.30929122537950327,
          1.0137109697249589,
          1.3640708249499136,
          0.14797119237972522,
          -1.5140703332552574,
          -0.37335951646331544,
          0.06906016347182198,
          0.0071806358751329985,
          -0.3287712644324699,
          0.9244322653350652,
          -2.065891711445297,
          0.5545434773856838,
          -0.1155953279380719,
          1.2903641107677892,
          0.8844881302921291,
          -0.7085242639802346,
          -1.1299614703443237,
          -1.7164506836065332,
          0.31064937293329015,
          1.365766364043925,
          -0.7735412746528428,
          0.10817543607704204,
          0.4800268444616799,
          1.4983655949771244,
          0.5891832919635394,
          0.15306708133909158,
          1.1592892480331136,
          -0.14279951141742664,
          0.018543837761865134,
          -1.4673943968795782,
          -0.6694224768413874,
          -0.41465428943287297,
          -0.17348747003891735,
          1.1353060114559579,
          -0.33408295386952674,
          1.7553588384503196,
          -0.2110048275984787,
          0.42849832241419883,
          -1.429062493144599,
          0.9951538223316054,
          0.8098824701408762,
          0.3884108342548283,
          -0.1558889174937159,
          -0.11031426067805795
         ],
         "xaxis": "x14",
         "y": [
          0.05364048207260595,
          -1.6415014900014182,
          0.1560446938057477,
          1.0642370745611147,
          -0.5027503734044894,
          -0.16847600244086813,
          0.03769768649841975,
          0.4404443029957614,
          -1.6579050752815891,
          1.8601987778014237,
          -0.15265903655033689,
          0.37129316680948793,
          -0.08803610612264272,
          -0.012170020280144352,
          -0.031754703520787894,
          0.12040845468606767,
          0.6661817596237033,
          0.4351590541521421,
          0.3874501304536663,
          0.6506182333957212,
          -0.3543112673939216,
          0.07133346409774055,
          -0.4563271241235071,
          0.3067131713241251,
          -0.1825980303133153,
          0.5193130694959607,
          -1.793604809992783,
          -1.6337123268288474,
          -0.11194926057402858,
          -0.6206104376633367,
          0.42743206030208597,
          -1.4192078676325863,
          -0.952313115078617,
          0.28624040037662163,
          0.19143852583850562,
          0.11552415341179897,
          -0.7528536232121964,
          -0.6732879417286711,
          -0.8522197068472054,
          -0.7859007817991804,
          0.5963342736675762,
          1.6184674307529368,
          0.7014689277608404,
          1.283323978524507,
          0.7830464604043736,
          -0.6654174297433695,
          0.931850500204895,
          -0.35402395153670324,
          -0.602258800736354,
          0.7244485868398755,
          -0.6649938025189891,
          0.21018636499470508,
          -0.19685471819127484,
          -0.19916017586044676,
          2.1644487557138286,
          -0.6866260230014049,
          1.1163078640078368,
          -0.04046594753613875,
          -0.25670197406150547,
          1.1012493039101279,
          0.9509449169491229,
          -0.22197875278076207,
          -0.3034821972704745,
          -0.5463023263958524,
          -0.01885680378734175,
          -0.55143885727557,
          1.841061816977951,
          -1.8084991267664081,
          -0.39628794946808954,
          -0.782202772473188,
          -0.6545173575747144,
          0.49449191900543366,
          -0.8211223688970272,
          -0.33147197435657905,
          0.8529223538238252,
          -1.4402138964755826,
          0.3148874254607986,
          -0.2935572438480311,
          0.29863149749985335,
          0.07113287972824318,
          -0.5189069614956773,
          -0.12131866130997336,
          -0.7913412375343849,
          0.0380089568679243,
          0.30793067750781017,
          -0.39077610071231206,
          -0.812864552609696,
          -0.39397551873666986,
          0.165632610091109,
          0.8852436831944863,
          1.1550648442438702,
          -1.4633524427846236,
          -1.6009707857029245,
          -1.1434752903692167,
          -0.5733830053143328,
          0.9072694529724188,
          0.034483048803851675,
          0.9406194945585669,
          2.051609120582376,
          0.17819939883882124
         ],
         "yaxis": "y14"
        },
        {
         "line": {
          "color": "rgba(128, 128, 128, 1.0)",
          "dash": "solid",
          "shape": "linear",
          "width": 1.3
         },
         "marker": {
          "size": 2,
          "symbol": "circle"
         },
         "mode": "markers",
         "name": "D",
         "text": "",
         "type": "scatter",
         "x": [
          -1.693048144015689,
          -1.3820659539304376,
          -0.26186400911819513,
          -1.0943028842204392,
          -0.1533319254439035,
          -0.8289270580708209,
          -0.71611152238171,
          0.6544385185656098,
          0.3377575632481237,
          -0.03094272558223115,
          1.8010033601804232,
          -0.10727422285068922,
          0.566144777915916,
          -0.13710599455104144,
          -0.2449345581601094,
          -0.11600157203091759,
          -0.14629718409137737,
          -1.7329882960528853,
          1.2319909113435485,
          -0.13369819930571536,
          1.609863283277939,
          1.7449939659444273,
          0.8399343156048075,
          0.37731061895592993,
          -0.7282714727916014,
          0.8860341534062506,
          -1.253411398579617,
          0.11633332913520288,
          -0.632981440630921,
          -1.0692585180057435,
          0.1538169387080856,
          0.355039612407412,
          0.7509673565058888,
          -0.8982063906590393,
          -0.11783310183402967,
          -0.8798347290637953,
          0.3213739063860632,
          0.7818389362640916,
          -1.0938405254290327,
          -1.0980291355236236,
          -0.37168031024514525,
          0.5441216652049065,
          -0.14918498663229482,
          1.1914548974584076,
          -0.8774363463518473,
          1.6443018312374444,
          0.8759261916149548,
          0.5468738581037398,
          -1.3125834674129604,
          -0.2924070273968226,
          2.3520661756263728,
          1.9305197417893065,
          -0.7595991589728462,
          0.28241038892889364,
          1.2494497552930661,
          0.8735381398826013,
          -0.670934797445289,
          0.46858679660223523,
          -0.07647238236764087,
          0.45407368586428287,
          -1.92237084263108,
          -0.8681506658075451,
          0.6871096311729753,
          0.07549454003141241,
          1.13433043875947,
          1.670257948790717,
          -0.41713617912010337,
          0.601607936166473,
          0.29337914616140837,
          -1.6752928345799873,
          -0.03762707724466671,
          -0.26748171433033263,
          -2.0328761820275876,
          0.6239303517626071,
          -0.037989095688061185,
          0.11732456565129386,
          0.8229516489326429,
          1.1587071278694778,
          0.8166241399492339,
          0.5551856219587835,
          1.6541208711771906,
          -1.360612379808308,
          0.41000439813595485,
          -0.8135001608549873,
          -0.3374398086999169,
          0.9448560947900039,
          -0.8427325029537508,
          -0.977731272333857,
          1.0796168156279038,
          -0.17676871507325598,
          -0.9414533043378169,
          0.3333553678156752,
          -0.8212125542345594,
          -0.06698328081807278,
          0.990027435975039,
          -1.0842557843861187,
          -0.6558631811726069,
          0.29956295333194977,
          -0.6429554088690916,
          0.8000929639274643
         ],
         "xaxis": "x15",
         "y": [
          0.05364048207260595,
          -1.6415014900014182,
          0.1560446938057477,
          1.0642370745611147,
          -0.5027503734044894,
          -0.16847600244086813,
          0.03769768649841975,
          0.4404443029957614,
          -1.6579050752815891,
          1.8601987778014237,
          -0.15265903655033689,
          0.37129316680948793,
          -0.08803610612264272,
          -0.012170020280144352,
          -0.031754703520787894,
          0.12040845468606767,
          0.6661817596237033,
          0.4351590541521421,
          0.3874501304536663,
          0.6506182333957212,
          -0.3543112673939216,
          0.07133346409774055,
          -0.4563271241235071,
          0.3067131713241251,
          -0.1825980303133153,
          0.5193130694959607,
          -1.793604809992783,
          -1.6337123268288474,
          -0.11194926057402858,
          -0.6206104376633367,
          0.42743206030208597,
          -1.4192078676325863,
          -0.952313115078617,
          0.28624040037662163,
          0.19143852583850562,
          0.11552415341179897,
          -0.7528536232121964,
          -0.6732879417286711,
          -0.8522197068472054,
          -0.7859007817991804,
          0.5963342736675762,
          1.6184674307529368,
          0.7014689277608404,
          1.283323978524507,
          0.7830464604043736,
          -0.6654174297433695,
          0.931850500204895,
          -0.35402395153670324,
          -0.602258800736354,
          0.7244485868398755,
          -0.6649938025189891,
          0.21018636499470508,
          -0.19685471819127484,
          -0.19916017586044676,
          2.1644487557138286,
          -0.6866260230014049,
          1.1163078640078368,
          -0.04046594753613875,
          -0.25670197406150547,
          1.1012493039101279,
          0.9509449169491229,
          -0.22197875278076207,
          -0.3034821972704745,
          -0.5463023263958524,
          -0.01885680378734175,
          -0.55143885727557,
          1.841061816977951,
          -1.8084991267664081,
          -0.39628794946808954,
          -0.782202772473188,
          -0.6545173575747144,
          0.49449191900543366,
          -0.8211223688970272,
          -0.33147197435657905,
          0.8529223538238252,
          -1.4402138964755826,
          0.3148874254607986,
          -0.2935572438480311,
          0.29863149749985335,
          0.07113287972824318,
          -0.5189069614956773,
          -0.12131866130997336,
          -0.7913412375343849,
          0.0380089568679243,
          0.30793067750781017,
          -0.39077610071231206,
          -0.812864552609696,
          -0.39397551873666986,
          0.165632610091109,
          0.8852436831944863,
          1.1550648442438702,
          -1.4633524427846236,
          -1.6009707857029245,
          -1.1434752903692167,
          -0.5733830053143328,
          0.9072694529724188,
          0.034483048803851675,
          0.9406194945585669,
          2.051609120582376,
          0.17819939883882124
         ],
         "yaxis": "y15"
        },
        {
         "histfunc": "count",
         "histnorm": "",
         "marker": {
          "color": "rgba(128, 0, 128, 1.0)",
          "line": {
           "color": "#4D5663",
           "width": 1.3
          }
         },
         "name": "D",
         "nbinsx": 10,
         "opacity": 0.8,
         "orientation": "v",
         "type": "histogram",
         "x": [
          0.05364048207260595,
          -1.6415014900014182,
          0.1560446938057477,
          1.0642370745611147,
          -0.5027503734044894,
          -0.16847600244086813,
          0.03769768649841975,
          0.4404443029957614,
          -1.6579050752815891,
          1.8601987778014237,
          -0.15265903655033689,
          0.37129316680948793,
          -0.08803610612264272,
          -0.012170020280144352,
          -0.031754703520787894,
          0.12040845468606767,
          0.6661817596237033,
          0.4351590541521421,
          0.3874501304536663,
          0.6506182333957212,
          -0.3543112673939216,
          0.07133346409774055,
          -0.4563271241235071,
          0.3067131713241251,
          -0.1825980303133153,
          0.5193130694959607,
          -1.793604809992783,
          -1.6337123268288474,
          -0.11194926057402858,
          -0.6206104376633367,
          0.42743206030208597,
          -1.4192078676325863,
          -0.952313115078617,
          0.28624040037662163,
          0.19143852583850562,
          0.11552415341179897,
          -0.7528536232121964,
          -0.6732879417286711,
          -0.8522197068472054,
          -0.7859007817991804,
          0.5963342736675762,
          1.6184674307529368,
          0.7014689277608404,
          1.283323978524507,
          0.7830464604043736,
          -0.6654174297433695,
          0.931850500204895,
          -0.35402395153670324,
          -0.602258800736354,
          0.7244485868398755,
          -0.6649938025189891,
          0.21018636499470508,
          -0.19685471819127484,
          -0.19916017586044676,
          2.1644487557138286,
          -0.6866260230014049,
          1.1163078640078368,
          -0.04046594753613875,
          -0.25670197406150547,
          1.1012493039101279,
          0.9509449169491229,
          -0.22197875278076207,
          -0.3034821972704745,
          -0.5463023263958524,
          -0.01885680378734175,
          -0.55143885727557,
          1.841061816977951,
          -1.8084991267664081,
          -0.39628794946808954,
          -0.782202772473188,
          -0.6545173575747144,
          0.49449191900543366,
          -0.8211223688970272,
          -0.33147197435657905,
          0.8529223538238252,
          -1.4402138964755826,
          0.3148874254607986,
          -0.2935572438480311,
          0.29863149749985335,
          0.07113287972824318,
          -0.5189069614956773,
          -0.12131866130997336,
          -0.7913412375343849,
          0.0380089568679243,
          0.30793067750781017,
          -0.39077610071231206,
          -0.812864552609696,
          -0.39397551873666986,
          0.165632610091109,
          0.8852436831944863,
          1.1550648442438702,
          -1.4633524427846236,
          -1.6009707857029245,
          -1.1434752903692167,
          -0.5733830053143328,
          0.9072694529724188,
          0.034483048803851675,
          0.9406194945585669,
          2.051609120582376,
          0.17819939883882124
         ],
         "xaxis": "x16",
         "yaxis": "y16"
        }
       ],
       "layout": {
        "bargap": 0.02,
        "legend": {
         "bgcolor": "#F5F6F9",
         "font": {
          "color": "#4D5663"
         }
        },
        "paper_bgcolor": "#F5F6F9",
        "plot_bgcolor": "#F5F6F9",
        "showlegend": false,
        "template": {
         "data": {
          "bar": [
           {
            "error_x": {
             "color": "#2a3f5f"
            },
            "error_y": {
             "color": "#2a3f5f"
            },
            "marker": {
             "line": {
              "color": "#E5ECF6",
              "width": 0.5
             },
             "pattern": {
              "fillmode": "overlay",
              "size": 10,
              "solidity": 0.2
             }
            },
            "type": "bar"
           }
          ],
          "barpolar": [
           {
            "marker": {
             "line": {
              "color": "#E5ECF6",
              "width": 0.5
             },
             "pattern": {
              "fillmode": "overlay",
              "size": 10,
              "solidity": 0.2
             }
            },
            "type": "barpolar"
           }
          ],
          "carpet": [
           {
            "aaxis": {
             "endlinecolor": "#2a3f5f",
             "gridcolor": "white",
             "linecolor": "white",
             "minorgridcolor": "white",
             "startlinecolor": "#2a3f5f"
            },
            "baxis": {
             "endlinecolor": "#2a3f5f",
             "gridcolor": "white",
             "linecolor": "white",
             "minorgridcolor": "white",
             "startlinecolor": "#2a3f5f"
            },
            "type": "carpet"
           }
          ],
          "choropleth": [
           {
            "colorbar": {
             "outlinewidth": 0,
             "ticks": ""
            },
            "type": "choropleth"
           }
          ],
          "contour": [
           {
            "colorbar": {
             "outlinewidth": 0,
             "ticks": ""
            },
            "colorscale": [
             [
              0,
              "#0d0887"
             ],
             [
              0.1111111111111111,
              "#46039f"
             ],
             [
              0.2222222222222222,
              "#7201a8"
             ],
             [
              0.3333333333333333,
              "#9c179e"
             ],
             [
              0.4444444444444444,
              "#bd3786"
             ],
             [
              0.5555555555555556,
              "#d8576b"
             ],
             [
              0.6666666666666666,
              "#ed7953"
             ],
             [
              0.7777777777777778,
              "#fb9f3a"
             ],
             [
              0.8888888888888888,
              "#fdca26"
             ],
             [
              1,
              "#f0f921"
             ]
            ],
            "type": "contour"
           }
          ],
          "contourcarpet": [
           {
            "colorbar": {
             "outlinewidth": 0,
             "ticks": ""
            },
            "type": "contourcarpet"
           }
          ],
          "heatmap": [
           {
            "colorbar": {
             "outlinewidth": 0,
             "ticks": ""
            },
            "colorscale": [
             [
              0,
              "#0d0887"
             ],
             [
              0.1111111111111111,
              "#46039f"
             ],
             [
              0.2222222222222222,
              "#7201a8"
             ],
             [
              0.3333333333333333,
              "#9c179e"
             ],
             [
              0.4444444444444444,
              "#bd3786"
             ],
             [
              0.5555555555555556,
              "#d8576b"
             ],
             [
              0.6666666666666666,
              "#ed7953"
             ],
             [
              0.7777777777777778,
              "#fb9f3a"
             ],
             [
              0.8888888888888888,
              "#fdca26"
             ],
             [
              1,
              "#f0f921"
             ]
            ],
            "type": "heatmap"
           }
          ],
          "heatmapgl": [
           {
            "colorbar": {
             "outlinewidth": 0,
             "ticks": ""
            },
            "colorscale": [
             [
              0,
              "#0d0887"
             ],
             [
              0.1111111111111111,
              "#46039f"
             ],
             [
              0.2222222222222222,
              "#7201a8"
             ],
             [
              0.3333333333333333,
              "#9c179e"
             ],
             [
              0.4444444444444444,
              "#bd3786"
             ],
             [
              0.5555555555555556,
              "#d8576b"
             ],
             [
              0.6666666666666666,
              "#ed7953"
             ],
             [
              0.7777777777777778,
              "#fb9f3a"
             ],
             [
              0.8888888888888888,
              "#fdca26"
             ],
             [
              1,
              "#f0f921"
             ]
            ],
            "type": "heatmapgl"
           }
          ],
          "histogram": [
           {
            "marker": {
             "pattern": {
              "fillmode": "overlay",
              "size": 10,
              "solidity": 0.2
             }
            },
            "type": "histogram"
           }
          ],
          "histogram2d": [
           {
            "colorbar": {
             "outlinewidth": 0,
             "ticks": ""
            },
            "colorscale": [
             [
              0,
              "#0d0887"
             ],
             [
              0.1111111111111111,
              "#46039f"
             ],
             [
              0.2222222222222222,
              "#7201a8"
             ],
             [
              0.3333333333333333,
              "#9c179e"
             ],
             [
              0.4444444444444444,
              "#bd3786"
             ],
             [
              0.5555555555555556,
              "#d8576b"
             ],
             [
              0.6666666666666666,
              "#ed7953"
             ],
             [
              0.7777777777777778,
              "#fb9f3a"
             ],
             [
              0.8888888888888888,
              "#fdca26"
             ],
             [
              1,
              "#f0f921"
             ]
            ],
            "type": "histogram2d"
           }
          ],
          "histogram2dcontour": [
           {
            "colorbar": {
             "outlinewidth": 0,
             "ticks": ""
            },
            "colorscale": [
             [
              0,
              "#0d0887"
             ],
             [
              0.1111111111111111,
              "#46039f"
             ],
             [
              0.2222222222222222,
              "#7201a8"
             ],
             [
              0.3333333333333333,
              "#9c179e"
             ],
             [
              0.4444444444444444,
              "#bd3786"
             ],
             [
              0.5555555555555556,
              "#d8576b"
             ],
             [
              0.6666666666666666,
              "#ed7953"
             ],
             [
              0.7777777777777778,
              "#fb9f3a"
             ],
             [
              0.8888888888888888,
              "#fdca26"
             ],
             [
              1,
              "#f0f921"
             ]
            ],
            "type": "histogram2dcontour"
           }
          ],
          "mesh3d": [
           {
            "colorbar": {
             "outlinewidth": 0,
             "ticks": ""
            },
            "type": "mesh3d"
           }
          ],
          "parcoords": [
           {
            "line": {
             "colorbar": {
              "outlinewidth": 0,
              "ticks": ""
             }
            },
            "type": "parcoords"
           }
          ],
          "pie": [
           {
            "automargin": true,
            "type": "pie"
           }
          ],
          "scatter": [
           {
            "fillpattern": {
             "fillmode": "overlay",
             "size": 10,
             "solidity": 0.2
            },
            "type": "scatter"
           }
          ],
          "scatter3d": [
           {
            "line": {
             "colorbar": {
              "outlinewidth": 0,
              "ticks": ""
             }
            },
            "marker": {
             "colorbar": {
              "outlinewidth": 0,
              "ticks": ""
             }
            },
            "type": "scatter3d"
           }
          ],
          "scattercarpet": [
           {
            "marker": {
             "colorbar": {
              "outlinewidth": 0,
              "ticks": ""
             }
            },
            "type": "scattercarpet"
           }
          ],
          "scattergeo": [
           {
            "marker": {
             "colorbar": {
              "outlinewidth": 0,
              "ticks": ""
             }
            },
            "type": "scattergeo"
           }
          ],
          "scattergl": [
           {
            "marker": {
             "colorbar": {
              "outlinewidth": 0,
              "ticks": ""
             }
            },
            "type": "scattergl"
           }
          ],
          "scattermapbox": [
           {
            "marker": {
             "colorbar": {
              "outlinewidth": 0,
              "ticks": ""
             }
            },
            "type": "scattermapbox"
           }
          ],
          "scatterpolar": [
           {
            "marker": {
             "colorbar": {
              "outlinewidth": 0,
              "ticks": ""
             }
            },
            "type": "scatterpolar"
           }
          ],
          "scatterpolargl": [
           {
            "marker": {
             "colorbar": {
              "outlinewidth": 0,
              "ticks": ""
             }
            },
            "type": "scatterpolargl"
           }
          ],
          "scatterternary": [
           {
            "marker": {
             "colorbar": {
              "outlinewidth": 0,
              "ticks": ""
             }
            },
            "type": "scatterternary"
           }
          ],
          "surface": [
           {
            "colorbar": {
             "outlinewidth": 0,
             "ticks": ""
            },
            "colorscale": [
             [
              0,
              "#0d0887"
             ],
             [
              0.1111111111111111,
              "#46039f"
             ],
             [
              0.2222222222222222,
              "#7201a8"
             ],
             [
              0.3333333333333333,
              "#9c179e"
             ],
             [
              0.4444444444444444,
              "#bd3786"
             ],
             [
              0.5555555555555556,
              "#d8576b"
             ],
             [
              0.6666666666666666,
              "#ed7953"
             ],
             [
              0.7777777777777778,
              "#fb9f3a"
             ],
             [
              0.8888888888888888,
              "#fdca26"
             ],
             [
              1,
              "#f0f921"
             ]
            ],
            "type": "surface"
           }
          ],
          "table": [
           {
            "cells": {
             "fill": {
              "color": "#EBF0F8"
             },
             "line": {
              "color": "white"
             }
            },
            "header": {
             "fill": {
              "color": "#C8D4E3"
             },
             "line": {
              "color": "white"
             }
            },
            "type": "table"
           }
          ]
         },
         "layout": {
          "annotationdefaults": {
           "arrowcolor": "#2a3f5f",
           "arrowhead": 0,
           "arrowwidth": 1
          },
          "autotypenumbers": "strict",
          "coloraxis": {
           "colorbar": {
            "outlinewidth": 0,
            "ticks": ""
           }
          },
          "colorscale": {
           "diverging": [
            [
             0,
             "#8e0152"
            ],
            [
             0.1,
             "#c51b7d"
            ],
            [
             0.2,
             "#de77ae"
            ],
            [
             0.3,
             "#f1b6da"
            ],
            [
             0.4,
             "#fde0ef"
            ],
            [
             0.5,
             "#f7f7f7"
            ],
            [
             0.6,
             "#e6f5d0"
            ],
            [
             0.7,
             "#b8e186"
            ],
            [
             0.8,
             "#7fbc41"
            ],
            [
             0.9,
             "#4d9221"
            ],
            [
             1,
             "#276419"
            ]
           ],
           "sequential": [
            [
             0,
             "#0d0887"
            ],
            [
             0.1111111111111111,
             "#46039f"
            ],
            [
             0.2222222222222222,
             "#7201a8"
            ],
            [
             0.3333333333333333,
             "#9c179e"
            ],
            [
             0.4444444444444444,
             "#bd3786"
            ],
            [
             0.5555555555555556,
             "#d8576b"
            ],
            [
             0.6666666666666666,
             "#ed7953"
            ],
            [
             0.7777777777777778,
             "#fb9f3a"
            ],
            [
             0.8888888888888888,
             "#fdca26"
            ],
            [
             1,
             "#f0f921"
            ]
           ],
           "sequentialminus": [
            [
             0,
             "#0d0887"
            ],
            [
             0.1111111111111111,
             "#46039f"
            ],
            [
             0.2222222222222222,
             "#7201a8"
            ],
            [
             0.3333333333333333,
             "#9c179e"
            ],
            [
             0.4444444444444444,
             "#bd3786"
            ],
            [
             0.5555555555555556,
             "#d8576b"
            ],
            [
             0.6666666666666666,
             "#ed7953"
            ],
            [
             0.7777777777777778,
             "#fb9f3a"
            ],
            [
             0.8888888888888888,
             "#fdca26"
            ],
            [
             1,
             "#f0f921"
            ]
           ]
          },
          "colorway": [
           "#636efa",
           "#EF553B",
           "#00cc96",
           "#ab63fa",
           "#FFA15A",
           "#19d3f3",
           "#FF6692",
           "#B6E880",
           "#FF97FF",
           "#FECB52"
          ],
          "font": {
           "color": "#2a3f5f"
          },
          "geo": {
           "bgcolor": "white",
           "lakecolor": "white",
           "landcolor": "#E5ECF6",
           "showlakes": true,
           "showland": true,
           "subunitcolor": "white"
          },
          "hoverlabel": {
           "align": "left"
          },
          "hovermode": "closest",
          "mapbox": {
           "style": "light"
          },
          "paper_bgcolor": "white",
          "plot_bgcolor": "#E5ECF6",
          "polar": {
           "angularaxis": {
            "gridcolor": "white",
            "linecolor": "white",
            "ticks": ""
           },
           "bgcolor": "#E5ECF6",
           "radialaxis": {
            "gridcolor": "white",
            "linecolor": "white",
            "ticks": ""
           }
          },
          "scene": {
           "xaxis": {
            "backgroundcolor": "#E5ECF6",
            "gridcolor": "white",
            "gridwidth": 2,
            "linecolor": "white",
            "showbackground": true,
            "ticks": "",
            "zerolinecolor": "white"
           },
           "yaxis": {
            "backgroundcolor": "#E5ECF6",
            "gridcolor": "white",
            "gridwidth": 2,
            "linecolor": "white",
            "showbackground": true,
            "ticks": "",
            "zerolinecolor": "white"
           },
           "zaxis": {
            "backgroundcolor": "#E5ECF6",
            "gridcolor": "white",
            "gridwidth": 2,
            "linecolor": "white",
            "showbackground": true,
            "ticks": "",
            "zerolinecolor": "white"
           }
          },
          "shapedefaults": {
           "line": {
            "color": "#2a3f5f"
           }
          },
          "ternary": {
           "aaxis": {
            "gridcolor": "white",
            "linecolor": "white",
            "ticks": ""
           },
           "baxis": {
            "gridcolor": "white",
            "linecolor": "white",
            "ticks": ""
           },
           "bgcolor": "#E5ECF6",
           "caxis": {
            "gridcolor": "white",
            "linecolor": "white",
            "ticks": ""
           }
          },
          "title": {
           "x": 0.05
          },
          "xaxis": {
           "automargin": true,
           "gridcolor": "white",
           "linecolor": "white",
           "ticks": "",
           "title": {
            "standoff": 15
           },
           "zerolinecolor": "white",
           "zerolinewidth": 2
          },
          "yaxis": {
           "automargin": true,
           "gridcolor": "white",
           "linecolor": "white",
           "ticks": "",
           "title": {
            "standoff": 15
           },
           "zerolinecolor": "white",
           "zerolinewidth": 2
          }
         }
        },
        "title": {
         "font": {
          "color": "#4D5663"
         }
        },
        "xaxis": {
         "anchor": "y",
         "domain": [
          0,
          0.2125
         ],
         "gridcolor": "#E1E5ED",
         "showgrid": false,
         "tickfont": {
          "color": "#4D5663"
         },
         "title": {
          "font": {
           "color": "#4D5663"
          },
          "text": ""
         },
         "zerolinecolor": "#E1E5ED"
        },
        "xaxis10": {
         "anchor": "y10",
         "domain": [
          0.2625,
          0.475
         ],
         "gridcolor": "#E1E5ED",
         "showgrid": false,
         "tickfont": {
          "color": "#4D5663"
         },
         "title": {
          "font": {
           "color": "#4D5663"
          },
          "text": ""
         },
         "zerolinecolor": "#E1E5ED"
        },
        "xaxis11": {
         "anchor": "y11",
         "domain": [
          0.525,
          0.7375
         ],
         "gridcolor": "#E1E5ED",
         "showgrid": false,
         "tickfont": {
          "color": "#4D5663"
         },
         "title": {
          "font": {
           "color": "#4D5663"
          },
          "text": ""
         },
         "zerolinecolor": "#E1E5ED"
        },
        "xaxis12": {
         "anchor": "y12",
         "domain": [
          0.7875,
          1
         ],
         "gridcolor": "#E1E5ED",
         "showgrid": false,
         "tickfont": {
          "color": "#4D5663"
         },
         "title": {
          "font": {
           "color": "#4D5663"
          },
          "text": ""
         },
         "zerolinecolor": "#E1E5ED"
        },
        "xaxis13": {
         "anchor": "y13",
         "domain": [
          0,
          0.2125
         ],
         "gridcolor": "#E1E5ED",
         "showgrid": false,
         "tickfont": {
          "color": "#4D5663"
         },
         "title": {
          "font": {
           "color": "#4D5663"
          },
          "text": ""
         },
         "zerolinecolor": "#E1E5ED"
        },
        "xaxis14": {
         "anchor": "y14",
         "domain": [
          0.2625,
          0.475
         ],
         "gridcolor": "#E1E5ED",
         "showgrid": false,
         "tickfont": {
          "color": "#4D5663"
         },
         "title": {
          "font": {
           "color": "#4D5663"
          },
          "text": ""
         },
         "zerolinecolor": "#E1E5ED"
        },
        "xaxis15": {
         "anchor": "y15",
         "domain": [
          0.525,
          0.7375
         ],
         "gridcolor": "#E1E5ED",
         "showgrid": false,
         "tickfont": {
          "color": "#4D5663"
         },
         "title": {
          "font": {
           "color": "#4D5663"
          },
          "text": ""
         },
         "zerolinecolor": "#E1E5ED"
        },
        "xaxis16": {
         "anchor": "y16",
         "domain": [
          0.7875,
          1
         ],
         "gridcolor": "#E1E5ED",
         "showgrid": false,
         "tickfont": {
          "color": "#4D5663"
         },
         "title": {
          "font": {
           "color": "#4D5663"
          },
          "text": ""
         },
         "zerolinecolor": "#E1E5ED"
        },
        "xaxis2": {
         "anchor": "y2",
         "domain": [
          0.2625,
          0.475
         ],
         "gridcolor": "#E1E5ED",
         "showgrid": false,
         "tickfont": {
          "color": "#4D5663"
         },
         "title": {
          "font": {
           "color": "#4D5663"
          },
          "text": ""
         },
         "zerolinecolor": "#E1E5ED"
        },
        "xaxis3": {
         "anchor": "y3",
         "domain": [
          0.525,
          0.7375
         ],
         "gridcolor": "#E1E5ED",
         "showgrid": false,
         "tickfont": {
          "color": "#4D5663"
         },
         "title": {
          "font": {
           "color": "#4D5663"
          },
          "text": ""
         },
         "zerolinecolor": "#E1E5ED"
        },
        "xaxis4": {
         "anchor": "y4",
         "domain": [
          0.7875,
          1
         ],
         "gridcolor": "#E1E5ED",
         "showgrid": false,
         "tickfont": {
          "color": "#4D5663"
         },
         "title": {
          "font": {
           "color": "#4D5663"
          },
          "text": ""
         },
         "zerolinecolor": "#E1E5ED"
        },
        "xaxis5": {
         "anchor": "y5",
         "domain": [
          0,
          0.2125
         ],
         "gridcolor": "#E1E5ED",
         "showgrid": false,
         "tickfont": {
          "color": "#4D5663"
         },
         "title": {
          "font": {
           "color": "#4D5663"
          },
          "text": ""
         },
         "zerolinecolor": "#E1E5ED"
        },
        "xaxis6": {
         "anchor": "y6",
         "domain": [
          0.2625,
          0.475
         ],
         "gridcolor": "#E1E5ED",
         "showgrid": false,
         "tickfont": {
          "color": "#4D5663"
         },
         "title": {
          "font": {
           "color": "#4D5663"
          },
          "text": ""
         },
         "zerolinecolor": "#E1E5ED"
        },
        "xaxis7": {
         "anchor": "y7",
         "domain": [
          0.525,
          0.7375
         ],
         "gridcolor": "#E1E5ED",
         "showgrid": false,
         "tickfont": {
          "color": "#4D5663"
         },
         "title": {
          "font": {
           "color": "#4D5663"
          },
          "text": ""
         },
         "zerolinecolor": "#E1E5ED"
        },
        "xaxis8": {
         "anchor": "y8",
         "domain": [
          0.7875,
          1
         ],
         "gridcolor": "#E1E5ED",
         "showgrid": false,
         "tickfont": {
          "color": "#4D5663"
         },
         "title": {
          "font": {
           "color": "#4D5663"
          },
          "text": ""
         },
         "zerolinecolor": "#E1E5ED"
        },
        "xaxis9": {
         "anchor": "y9",
         "domain": [
          0,
          0.2125
         ],
         "gridcolor": "#E1E5ED",
         "showgrid": false,
         "tickfont": {
          "color": "#4D5663"
         },
         "title": {
          "font": {
           "color": "#4D5663"
          },
          "text": ""
         },
         "zerolinecolor": "#E1E5ED"
        },
        "yaxis": {
         "anchor": "x",
         "domain": [
          0.8025,
          1
         ],
         "gridcolor": "#E1E5ED",
         "showgrid": false,
         "tickfont": {
          "color": "#4D5663"
         },
         "title": {
          "font": {
           "color": "#4D5663"
          },
          "text": ""
         },
         "zerolinecolor": "#E1E5ED"
        },
        "yaxis10": {
         "anchor": "x10",
         "domain": [
          0.2675,
          0.465
         ],
         "gridcolor": "#E1E5ED",
         "showgrid": false,
         "tickfont": {
          "color": "#4D5663"
         },
         "title": {
          "font": {
           "color": "#4D5663"
          },
          "text": ""
         },
         "zerolinecolor": "#E1E5ED"
        },
        "yaxis11": {
         "anchor": "x11",
         "domain": [
          0.2675,
          0.465
         ],
         "gridcolor": "#E1E5ED",
         "showgrid": false,
         "tickfont": {
          "color": "#4D5663"
         },
         "title": {
          "font": {
           "color": "#4D5663"
          },
          "text": ""
         },
         "zerolinecolor": "#E1E5ED"
        },
        "yaxis12": {
         "anchor": "x12",
         "domain": [
          0.2675,
          0.465
         ],
         "gridcolor": "#E1E5ED",
         "showgrid": false,
         "tickfont": {
          "color": "#4D5663"
         },
         "title": {
          "font": {
           "color": "#4D5663"
          },
          "text": ""
         },
         "zerolinecolor": "#E1E5ED"
        },
        "yaxis13": {
         "anchor": "x13",
         "domain": [
          0,
          0.1975
         ],
         "gridcolor": "#E1E5ED",
         "showgrid": false,
         "tickfont": {
          "color": "#4D5663"
         },
         "title": {
          "font": {
           "color": "#4D5663"
          },
          "text": ""
         },
         "zerolinecolor": "#E1E5ED"
        },
        "yaxis14": {
         "anchor": "x14",
         "domain": [
          0,
          0.1975
         ],
         "gridcolor": "#E1E5ED",
         "showgrid": false,
         "tickfont": {
          "color": "#4D5663"
         },
         "title": {
          "font": {
           "color": "#4D5663"
          },
          "text": ""
         },
         "zerolinecolor": "#E1E5ED"
        },
        "yaxis15": {
         "anchor": "x15",
         "domain": [
          0,
          0.1975
         ],
         "gridcolor": "#E1E5ED",
         "showgrid": false,
         "tickfont": {
          "color": "#4D5663"
         },
         "title": {
          "font": {
           "color": "#4D5663"
          },
          "text": ""
         },
         "zerolinecolor": "#E1E5ED"
        },
        "yaxis16": {
         "anchor": "x16",
         "domain": [
          0,
          0.1975
         ],
         "gridcolor": "#E1E5ED",
         "showgrid": false,
         "tickfont": {
          "color": "#4D5663"
         },
         "title": {
          "font": {
           "color": "#4D5663"
          },
          "text": ""
         },
         "zerolinecolor": "#E1E5ED"
        },
        "yaxis2": {
         "anchor": "x2",
         "domain": [
          0.8025,
          1
         ],
         "gridcolor": "#E1E5ED",
         "showgrid": false,
         "tickfont": {
          "color": "#4D5663"
         },
         "title": {
          "font": {
           "color": "#4D5663"
          },
          "text": ""
         },
         "zerolinecolor": "#E1E5ED"
        },
        "yaxis3": {
         "anchor": "x3",
         "domain": [
          0.8025,
          1
         ],
         "gridcolor": "#E1E5ED",
         "showgrid": false,
         "tickfont": {
          "color": "#4D5663"
         },
         "title": {
          "font": {
           "color": "#4D5663"
          },
          "text": ""
         },
         "zerolinecolor": "#E1E5ED"
        },
        "yaxis4": {
         "anchor": "x4",
         "domain": [
          0.8025,
          1
         ],
         "gridcolor": "#E1E5ED",
         "showgrid": false,
         "tickfont": {
          "color": "#4D5663"
         },
         "title": {
          "font": {
           "color": "#4D5663"
          },
          "text": ""
         },
         "zerolinecolor": "#E1E5ED"
        },
        "yaxis5": {
         "anchor": "x5",
         "domain": [
          0.535,
          0.7325
         ],
         "gridcolor": "#E1E5ED",
         "showgrid": false,
         "tickfont": {
          "color": "#4D5663"
         },
         "title": {
          "font": {
           "color": "#4D5663"
          },
          "text": ""
         },
         "zerolinecolor": "#E1E5ED"
        },
        "yaxis6": {
         "anchor": "x6",
         "domain": [
          0.535,
          0.7325
         ],
         "gridcolor": "#E1E5ED",
         "showgrid": false,
         "tickfont": {
          "color": "#4D5663"
         },
         "title": {
          "font": {
           "color": "#4D5663"
          },
          "text": ""
         },
         "zerolinecolor": "#E1E5ED"
        },
        "yaxis7": {
         "anchor": "x7",
         "domain": [
          0.535,
          0.7325
         ],
         "gridcolor": "#E1E5ED",
         "showgrid": false,
         "tickfont": {
          "color": "#4D5663"
         },
         "title": {
          "font": {
           "color": "#4D5663"
          },
          "text": ""
         },
         "zerolinecolor": "#E1E5ED"
        },
        "yaxis8": {
         "anchor": "x8",
         "domain": [
          0.535,
          0.7325
         ],
         "gridcolor": "#E1E5ED",
         "showgrid": false,
         "tickfont": {
          "color": "#4D5663"
         },
         "title": {
          "font": {
           "color": "#4D5663"
          },
          "text": ""
         },
         "zerolinecolor": "#E1E5ED"
        },
        "yaxis9": {
         "anchor": "x9",
         "domain": [
          0.2675,
          0.465
         ],
         "gridcolor": "#E1E5ED",
         "showgrid": false,
         "tickfont": {
          "color": "#4D5663"
         },
         "title": {
          "font": {
           "color": "#4D5663"
          },
          "text": ""
         },
         "zerolinecolor": "#E1E5ED"
        }
       }
      },
      "text/html": [
       "<div>                            <div id=\"59d0caa4-e92d-46de-9ee0-15d90d435053\" class=\"plotly-graph-div\" style=\"height:525px; width:100%;\"></div>            <script type=\"text/javascript\">                require([\"plotly\"], function(Plotly) {                    window.PLOTLYENV=window.PLOTLYENV || {};\n",
       "                    window.PLOTLYENV.BASE_URL='https://plot.ly';                                    if (document.getElementById(\"59d0caa4-e92d-46de-9ee0-15d90d435053\")) {                    Plotly.newPlot(                        \"59d0caa4-e92d-46de-9ee0-15d90d435053\",                        [{\"histfunc\":\"count\",\"histnorm\":\"\",\"marker\":{\"color\":\"rgba(255, 153, 51, 1.0)\",\"line\":{\"color\":\"#4D5663\",\"width\":1.3}},\"name\":\"A\",\"nbinsx\":10,\"opacity\":0.8,\"orientation\":\"v\",\"x\":[1.8243129259995166,0.19608475400175768,-0.6053188770897872,0.8911968956639813,1.0070855293069285,-0.8014471338364257,-0.9924125538103235,0.6589442869722124,-0.014050001002884725,0.07518373531629381,-0.36474810809089014,1.3213713674994056,-1.3390868001532397,2.0157661712051587,0.702026132198567,-0.980743213672751,-1.290183167745645,-0.034866885767344466,1.3244596009270821,0.46914853441326737,1.811113937836261,-0.31191244635793713,-0.44645210590499096,-0.47723670876074775,-0.7041383254890567,-1.0201756035449587,1.3557072710334452,-0.6307039403442191,-1.0790513559403063,1.5061983883651782,-1.1546177021329875,1.2553753887543317,0.15018352623167674,-0.5988057076920157,0.5380983515180622,0.9759791860363404,-0.7833975692914159,-0.9189649613532611,-0.0974760456801578,0.3429586783883424,-0.6191550076924058,-2.1039659473643173,0.8350223435673302,0.6318776376503721,0.06918376203837928,-0.9540441738215512,1.0623602869959006,-0.04214282767279125,1.0236001005414836,2.768834106807123,-0.34962680392505013,-1.9587267869592255,0.21487117500607636,-0.7195032292037042,0.20890306000942607,-0.6473154003389758,0.7544595643203549,0.4697360100064573,0.11029082781862608,-0.09295678672354084,-0.7844564187290143,1.22551840597947,0.1733457984754417,-1.5674530556863537,-0.12719427915234527,1.2969218378364398,-0.47955826843769805,-1.0917495191808468,0.22136705963048148,-0.9351966540884519,1.019493096539831,2.516073211595525,1.5376854720253375,-1.3831508907611931,-1.9191831893194957,0.44359556475430645,-0.8246593181297605,-0.2100864028503051,0.9547760587601132,-0.2653278159042679,0.8362410698154421,-1.206447309739462,1.3929084051796088,1.6164208225232148,0.33581060384052197,-1.2146714988178433,0.45484819640518204,1.1003564183064294,-0.0545126540500522,-1.6473224078317383,1.0928108115908042,-0.16389643281667396,-0.6544788103037372,-1.3716173109397398,0.3395650647243976,-1.147263981725478,1.2174640192307618,-0.21249306896884895,-1.096053716026816,2.3900037580866145],\"xaxis\":\"x\",\"yaxis\":\"y\",\"type\":\"histogram\"},{\"line\":{\"color\":\"rgba(128, 128, 128, 1.0)\",\"dash\":\"solid\",\"shape\":\"linear\",\"width\":1.3},\"marker\":{\"size\":2,\"symbol\":\"circle\"},\"mode\":\"markers\",\"name\":\"A\",\"text\":\"\",\"x\":[0.583131544660661,-0.13361300439365476,-0.04123704831597834,0.0014680131745039354,1.438466824959959,0.5541476788726151,-1.1310893635390038,-0.5623452390437628,-0.670234518530269,0.545812634382133,-0.3624818654591015,0.1701678549417786,0.3581879479821975,-2.887380914691166,-0.13478783996064245,-0.8588668905175264,-0.8938984223234923,0.19181727804293225,-0.028983423455619165,-0.019052996185692665,-1.1602446579879755,0.08121421004235378,1.3352220481800035,0.35807277726483344,-0.9409924776717753,-1.8503080091673934,-0.6870106893491648,0.8314233325875332,0.02274811954883968,0.9194055377055831,-0.7740446909882256,-0.22978997934892423,0.17286979761015278,-1.8144485916502244,0.10019030223493725,0.6543032593357595,0.002882968517779104,-0.614448403963407,1.4894537976884068,-0.5184176501024136,0.8510492801098789,1.6907679823457193,-0.7252403229757054,-1.8548965808613855,-0.9279085762381253,-0.19262867996165262,0.26506477791439476,2.149363109679803,1.551901938062469,0.9498725527680408,-0.5798412074414184,-1.8392247543767455,-0.3001332641170957,-0.8038995410085215,-0.8356561490437464,0.7841323972572954,-0.30929122537950327,1.0137109697249589,1.3640708249499136,0.14797119237972522,-1.5140703332552574,-0.37335951646331544,0.06906016347182198,0.0071806358751329985,-0.3287712644324699,0.9244322653350652,-2.065891711445297,0.5545434773856838,-0.1155953279380719,1.2903641107677892,0.8844881302921291,-0.7085242639802346,-1.1299614703443237,-1.7164506836065332,0.31064937293329015,1.365766364043925,-0.7735412746528428,0.10817543607704204,0.4800268444616799,1.4983655949771244,0.5891832919635394,0.15306708133909158,1.1592892480331136,-0.14279951141742664,0.018543837761865134,-1.4673943968795782,-0.6694224768413874,-0.41465428943287297,-0.17348747003891735,1.1353060114559579,-0.33408295386952674,1.7553588384503196,-0.2110048275984787,0.42849832241419883,-1.429062493144599,0.9951538223316054,0.8098824701408762,0.3884108342548283,-0.1558889174937159,-0.11031426067805795],\"xaxis\":\"x2\",\"y\":[1.8243129259995166,0.19608475400175768,-0.6053188770897872,0.8911968956639813,1.0070855293069285,-0.8014471338364257,-0.9924125538103235,0.6589442869722124,-0.014050001002884725,0.07518373531629381,-0.36474810809089014,1.3213713674994056,-1.3390868001532397,2.0157661712051587,0.702026132198567,-0.980743213672751,-1.290183167745645,-0.034866885767344466,1.3244596009270821,0.46914853441326737,1.811113937836261,-0.31191244635793713,-0.44645210590499096,-0.47723670876074775,-0.7041383254890567,-1.0201756035449587,1.3557072710334452,-0.6307039403442191,-1.0790513559403063,1.5061983883651782,-1.1546177021329875,1.2553753887543317,0.15018352623167674,-0.5988057076920157,0.5380983515180622,0.9759791860363404,-0.7833975692914159,-0.9189649613532611,-0.0974760456801578,0.3429586783883424,-0.6191550076924058,-2.1039659473643173,0.8350223435673302,0.6318776376503721,0.06918376203837928,-0.9540441738215512,1.0623602869959006,-0.04214282767279125,1.0236001005414836,2.768834106807123,-0.34962680392505013,-1.9587267869592255,0.21487117500607636,-0.7195032292037042,0.20890306000942607,-0.6473154003389758,0.7544595643203549,0.4697360100064573,0.11029082781862608,-0.09295678672354084,-0.7844564187290143,1.22551840597947,0.1733457984754417,-1.5674530556863537,-0.12719427915234527,1.2969218378364398,-0.47955826843769805,-1.0917495191808468,0.22136705963048148,-0.9351966540884519,1.019493096539831,2.516073211595525,1.5376854720253375,-1.3831508907611931,-1.9191831893194957,0.44359556475430645,-0.8246593181297605,-0.2100864028503051,0.9547760587601132,-0.2653278159042679,0.8362410698154421,-1.206447309739462,1.3929084051796088,1.6164208225232148,0.33581060384052197,-1.2146714988178433,0.45484819640518204,1.1003564183064294,-0.0545126540500522,-1.6473224078317383,1.0928108115908042,-0.16389643281667396,-0.6544788103037372,-1.3716173109397398,0.3395650647243976,-1.147263981725478,1.2174640192307618,-0.21249306896884895,-1.096053716026816,2.3900037580866145],\"yaxis\":\"y2\",\"type\":\"scatter\"},{\"line\":{\"color\":\"rgba(128, 128, 128, 1.0)\",\"dash\":\"solid\",\"shape\":\"linear\",\"width\":1.3},\"marker\":{\"size\":2,\"symbol\":\"circle\"},\"mode\":\"markers\",\"name\":\"A\",\"text\":\"\",\"x\":[-1.693048144015689,-1.3820659539304376,-0.26186400911819513,-1.0943028842204392,-0.1533319254439035,-0.8289270580708209,-0.71611152238171,0.6544385185656098,0.3377575632481237,-0.03094272558223115,1.8010033601804232,-0.10727422285068922,0.566144777915916,-0.13710599455104144,-0.2449345581601094,-0.11600157203091759,-0.14629718409137737,-1.7329882960528853,1.2319909113435485,-0.13369819930571536,1.609863283277939,1.7449939659444273,0.8399343156048075,0.37731061895592993,-0.7282714727916014,0.8860341534062506,-1.253411398579617,0.11633332913520288,-0.632981440630921,-1.0692585180057435,0.1538169387080856,0.355039612407412,0.7509673565058888,-0.8982063906590393,-0.11783310183402967,-0.8798347290637953,0.3213739063860632,0.7818389362640916,-1.0938405254290327,-1.0980291355236236,-0.37168031024514525,0.5441216652049065,-0.14918498663229482,1.1914548974584076,-0.8774363463518473,1.6443018312374444,0.8759261916149548,0.5468738581037398,-1.3125834674129604,-0.2924070273968226,2.3520661756263728,1.9305197417893065,-0.7595991589728462,0.28241038892889364,1.2494497552930661,0.8735381398826013,-0.670934797445289,0.46858679660223523,-0.07647238236764087,0.45407368586428287,-1.92237084263108,-0.8681506658075451,0.6871096311729753,0.07549454003141241,1.13433043875947,1.670257948790717,-0.41713617912010337,0.601607936166473,0.29337914616140837,-1.6752928345799873,-0.03762707724466671,-0.26748171433033263,-2.0328761820275876,0.6239303517626071,-0.037989095688061185,0.11732456565129386,0.8229516489326429,1.1587071278694778,0.8166241399492339,0.5551856219587835,1.6541208711771906,-1.360612379808308,0.41000439813595485,-0.8135001608549873,-0.3374398086999169,0.9448560947900039,-0.8427325029537508,-0.977731272333857,1.0796168156279038,-0.17676871507325598,-0.9414533043378169,0.3333553678156752,-0.8212125542345594,-0.06698328081807278,0.990027435975039,-1.0842557843861187,-0.6558631811726069,0.29956295333194977,-0.6429554088690916,0.8000929639274643],\"xaxis\":\"x3\",\"y\":[1.8243129259995166,0.19608475400175768,-0.6053188770897872,0.8911968956639813,1.0070855293069285,-0.8014471338364257,-0.9924125538103235,0.6589442869722124,-0.014050001002884725,0.07518373531629381,-0.36474810809089014,1.3213713674994056,-1.3390868001532397,2.0157661712051587,0.702026132198567,-0.980743213672751,-1.290183167745645,-0.034866885767344466,1.3244596009270821,0.46914853441326737,1.811113937836261,-0.31191244635793713,-0.44645210590499096,-0.47723670876074775,-0.7041383254890567,-1.0201756035449587,1.3557072710334452,-0.6307039403442191,-1.0790513559403063,1.5061983883651782,-1.1546177021329875,1.2553753887543317,0.15018352623167674,-0.5988057076920157,0.5380983515180622,0.9759791860363404,-0.7833975692914159,-0.9189649613532611,-0.0974760456801578,0.3429586783883424,-0.6191550076924058,-2.1039659473643173,0.8350223435673302,0.6318776376503721,0.06918376203837928,-0.9540441738215512,1.0623602869959006,-0.04214282767279125,1.0236001005414836,2.768834106807123,-0.34962680392505013,-1.9587267869592255,0.21487117500607636,-0.7195032292037042,0.20890306000942607,-0.6473154003389758,0.7544595643203549,0.4697360100064573,0.11029082781862608,-0.09295678672354084,-0.7844564187290143,1.22551840597947,0.1733457984754417,-1.5674530556863537,-0.12719427915234527,1.2969218378364398,-0.47955826843769805,-1.0917495191808468,0.22136705963048148,-0.9351966540884519,1.019493096539831,2.516073211595525,1.5376854720253375,-1.3831508907611931,-1.9191831893194957,0.44359556475430645,-0.8246593181297605,-0.2100864028503051,0.9547760587601132,-0.2653278159042679,0.8362410698154421,-1.206447309739462,1.3929084051796088,1.6164208225232148,0.33581060384052197,-1.2146714988178433,0.45484819640518204,1.1003564183064294,-0.0545126540500522,-1.6473224078317383,1.0928108115908042,-0.16389643281667396,-0.6544788103037372,-1.3716173109397398,0.3395650647243976,-1.147263981725478,1.2174640192307618,-0.21249306896884895,-1.096053716026816,2.3900037580866145],\"yaxis\":\"y3\",\"type\":\"scatter\"},{\"line\":{\"color\":\"rgba(128, 128, 128, 1.0)\",\"dash\":\"solid\",\"shape\":\"linear\",\"width\":1.3},\"marker\":{\"size\":2,\"symbol\":\"circle\"},\"mode\":\"markers\",\"name\":\"A\",\"text\":\"\",\"x\":[0.05364048207260595,-1.6415014900014182,0.1560446938057477,1.0642370745611147,-0.5027503734044894,-0.16847600244086813,0.03769768649841975,0.4404443029957614,-1.6579050752815891,1.8601987778014237,-0.15265903655033689,0.37129316680948793,-0.08803610612264272,-0.012170020280144352,-0.031754703520787894,0.12040845468606767,0.6661817596237033,0.4351590541521421,0.3874501304536663,0.6506182333957212,-0.3543112673939216,0.07133346409774055,-0.4563271241235071,0.3067131713241251,-0.1825980303133153,0.5193130694959607,-1.793604809992783,-1.6337123268288474,-0.11194926057402858,-0.6206104376633367,0.42743206030208597,-1.4192078676325863,-0.952313115078617,0.28624040037662163,0.19143852583850562,0.11552415341179897,-0.7528536232121964,-0.6732879417286711,-0.8522197068472054,-0.7859007817991804,0.5963342736675762,1.6184674307529368,0.7014689277608404,1.283323978524507,0.7830464604043736,-0.6654174297433695,0.931850500204895,-0.35402395153670324,-0.602258800736354,0.7244485868398755,-0.6649938025189891,0.21018636499470508,-0.19685471819127484,-0.19916017586044676,2.1644487557138286,-0.6866260230014049,1.1163078640078368,-0.04046594753613875,-0.25670197406150547,1.1012493039101279,0.9509449169491229,-0.22197875278076207,-0.3034821972704745,-0.5463023263958524,-0.01885680378734175,-0.55143885727557,1.841061816977951,-1.8084991267664081,-0.39628794946808954,-0.782202772473188,-0.6545173575747144,0.49449191900543366,-0.8211223688970272,-0.33147197435657905,0.8529223538238252,-1.4402138964755826,0.3148874254607986,-0.2935572438480311,0.29863149749985335,0.07113287972824318,-0.5189069614956773,-0.12131866130997336,-0.7913412375343849,0.0380089568679243,0.30793067750781017,-0.39077610071231206,-0.812864552609696,-0.39397551873666986,0.165632610091109,0.8852436831944863,1.1550648442438702,-1.4633524427846236,-1.6009707857029245,-1.1434752903692167,-0.5733830053143328,0.9072694529724188,0.034483048803851675,0.9406194945585669,2.051609120582376,0.17819939883882124],\"xaxis\":\"x4\",\"y\":[1.8243129259995166,0.19608475400175768,-0.6053188770897872,0.8911968956639813,1.0070855293069285,-0.8014471338364257,-0.9924125538103235,0.6589442869722124,-0.014050001002884725,0.07518373531629381,-0.36474810809089014,1.3213713674994056,-1.3390868001532397,2.0157661712051587,0.702026132198567,-0.980743213672751,-1.290183167745645,-0.034866885767344466,1.3244596009270821,0.46914853441326737,1.811113937836261,-0.31191244635793713,-0.44645210590499096,-0.47723670876074775,-0.7041383254890567,-1.0201756035449587,1.3557072710334452,-0.6307039403442191,-1.0790513559403063,1.5061983883651782,-1.1546177021329875,1.2553753887543317,0.15018352623167674,-0.5988057076920157,0.5380983515180622,0.9759791860363404,-0.7833975692914159,-0.9189649613532611,-0.0974760456801578,0.3429586783883424,-0.6191550076924058,-2.1039659473643173,0.8350223435673302,0.6318776376503721,0.06918376203837928,-0.9540441738215512,1.0623602869959006,-0.04214282767279125,1.0236001005414836,2.768834106807123,-0.34962680392505013,-1.9587267869592255,0.21487117500607636,-0.7195032292037042,0.20890306000942607,-0.6473154003389758,0.7544595643203549,0.4697360100064573,0.11029082781862608,-0.09295678672354084,-0.7844564187290143,1.22551840597947,0.1733457984754417,-1.5674530556863537,-0.12719427915234527,1.2969218378364398,-0.47955826843769805,-1.0917495191808468,0.22136705963048148,-0.9351966540884519,1.019493096539831,2.516073211595525,1.5376854720253375,-1.3831508907611931,-1.9191831893194957,0.44359556475430645,-0.8246593181297605,-0.2100864028503051,0.9547760587601132,-0.2653278159042679,0.8362410698154421,-1.206447309739462,1.3929084051796088,1.6164208225232148,0.33581060384052197,-1.2146714988178433,0.45484819640518204,1.1003564183064294,-0.0545126540500522,-1.6473224078317383,1.0928108115908042,-0.16389643281667396,-0.6544788103037372,-1.3716173109397398,0.3395650647243976,-1.147263981725478,1.2174640192307618,-0.21249306896884895,-1.096053716026816,2.3900037580866145],\"yaxis\":\"y4\",\"type\":\"scatter\"},{\"line\":{\"color\":\"rgba(128, 128, 128, 1.0)\",\"dash\":\"solid\",\"shape\":\"linear\",\"width\":1.3},\"marker\":{\"size\":2,\"symbol\":\"circle\"},\"mode\":\"markers\",\"name\":\"B\",\"text\":\"\",\"x\":[1.8243129259995166,0.19608475400175768,-0.6053188770897872,0.8911968956639813,1.0070855293069285,-0.8014471338364257,-0.9924125538103235,0.6589442869722124,-0.014050001002884725,0.07518373531629381,-0.36474810809089014,1.3213713674994056,-1.3390868001532397,2.0157661712051587,0.702026132198567,-0.980743213672751,-1.290183167745645,-0.034866885767344466,1.3244596009270821,0.46914853441326737,1.811113937836261,-0.31191244635793713,-0.44645210590499096,-0.47723670876074775,-0.7041383254890567,-1.0201756035449587,1.3557072710334452,-0.6307039403442191,-1.0790513559403063,1.5061983883651782,-1.1546177021329875,1.2553753887543317,0.15018352623167674,-0.5988057076920157,0.5380983515180622,0.9759791860363404,-0.7833975692914159,-0.9189649613532611,-0.0974760456801578,0.3429586783883424,-0.6191550076924058,-2.1039659473643173,0.8350223435673302,0.6318776376503721,0.06918376203837928,-0.9540441738215512,1.0623602869959006,-0.04214282767279125,1.0236001005414836,2.768834106807123,-0.34962680392505013,-1.9587267869592255,0.21487117500607636,-0.7195032292037042,0.20890306000942607,-0.6473154003389758,0.7544595643203549,0.4697360100064573,0.11029082781862608,-0.09295678672354084,-0.7844564187290143,1.22551840597947,0.1733457984754417,-1.5674530556863537,-0.12719427915234527,1.2969218378364398,-0.47955826843769805,-1.0917495191808468,0.22136705963048148,-0.9351966540884519,1.019493096539831,2.516073211595525,1.5376854720253375,-1.3831508907611931,-1.9191831893194957,0.44359556475430645,-0.8246593181297605,-0.2100864028503051,0.9547760587601132,-0.2653278159042679,0.8362410698154421,-1.206447309739462,1.3929084051796088,1.6164208225232148,0.33581060384052197,-1.2146714988178433,0.45484819640518204,1.1003564183064294,-0.0545126540500522,-1.6473224078317383,1.0928108115908042,-0.16389643281667396,-0.6544788103037372,-1.3716173109397398,0.3395650647243976,-1.147263981725478,1.2174640192307618,-0.21249306896884895,-1.096053716026816,2.3900037580866145],\"xaxis\":\"x5\",\"y\":[0.583131544660661,-0.13361300439365476,-0.04123704831597834,0.0014680131745039354,1.438466824959959,0.5541476788726151,-1.1310893635390038,-0.5623452390437628,-0.670234518530269,0.545812634382133,-0.3624818654591015,0.1701678549417786,0.3581879479821975,-2.887380914691166,-0.13478783996064245,-0.8588668905175264,-0.8938984223234923,0.19181727804293225,-0.028983423455619165,-0.019052996185692665,-1.1602446579879755,0.08121421004235378,1.3352220481800035,0.35807277726483344,-0.9409924776717753,-1.8503080091673934,-0.6870106893491648,0.8314233325875332,0.02274811954883968,0.9194055377055831,-0.7740446909882256,-0.22978997934892423,0.17286979761015278,-1.8144485916502244,0.10019030223493725,0.6543032593357595,0.002882968517779104,-0.614448403963407,1.4894537976884068,-0.5184176501024136,0.8510492801098789,1.6907679823457193,-0.7252403229757054,-1.8548965808613855,-0.9279085762381253,-0.19262867996165262,0.26506477791439476,2.149363109679803,1.551901938062469,0.9498725527680408,-0.5798412074414184,-1.8392247543767455,-0.3001332641170957,-0.8038995410085215,-0.8356561490437464,0.7841323972572954,-0.30929122537950327,1.0137109697249589,1.3640708249499136,0.14797119237972522,-1.5140703332552574,-0.37335951646331544,0.06906016347182198,0.0071806358751329985,-0.3287712644324699,0.9244322653350652,-2.065891711445297,0.5545434773856838,-0.1155953279380719,1.2903641107677892,0.8844881302921291,-0.7085242639802346,-1.1299614703443237,-1.7164506836065332,0.31064937293329015,1.365766364043925,-0.7735412746528428,0.10817543607704204,0.4800268444616799,1.4983655949771244,0.5891832919635394,0.15306708133909158,1.1592892480331136,-0.14279951141742664,0.018543837761865134,-1.4673943968795782,-0.6694224768413874,-0.41465428943287297,-0.17348747003891735,1.1353060114559579,-0.33408295386952674,1.7553588384503196,-0.2110048275984787,0.42849832241419883,-1.429062493144599,0.9951538223316054,0.8098824701408762,0.3884108342548283,-0.1558889174937159,-0.11031426067805795],\"yaxis\":\"y5\",\"type\":\"scatter\"},{\"histfunc\":\"count\",\"histnorm\":\"\",\"marker\":{\"color\":\"rgba(55, 128, 191, 1.0)\",\"line\":{\"color\":\"#4D5663\",\"width\":1.3}},\"name\":\"B\",\"nbinsx\":10,\"opacity\":0.8,\"orientation\":\"v\",\"x\":[0.583131544660661,-0.13361300439365476,-0.04123704831597834,0.0014680131745039354,1.438466824959959,0.5541476788726151,-1.1310893635390038,-0.5623452390437628,-0.670234518530269,0.545812634382133,-0.3624818654591015,0.1701678549417786,0.3581879479821975,-2.887380914691166,-0.13478783996064245,-0.8588668905175264,-0.8938984223234923,0.19181727804293225,-0.028983423455619165,-0.019052996185692665,-1.1602446579879755,0.08121421004235378,1.3352220481800035,0.35807277726483344,-0.9409924776717753,-1.8503080091673934,-0.6870106893491648,0.8314233325875332,0.02274811954883968,0.9194055377055831,-0.7740446909882256,-0.22978997934892423,0.17286979761015278,-1.8144485916502244,0.10019030223493725,0.6543032593357595,0.002882968517779104,-0.614448403963407,1.4894537976884068,-0.5184176501024136,0.8510492801098789,1.6907679823457193,-0.7252403229757054,-1.8548965808613855,-0.9279085762381253,-0.19262867996165262,0.26506477791439476,2.149363109679803,1.551901938062469,0.9498725527680408,-0.5798412074414184,-1.8392247543767455,-0.3001332641170957,-0.8038995410085215,-0.8356561490437464,0.7841323972572954,-0.30929122537950327,1.0137109697249589,1.3640708249499136,0.14797119237972522,-1.5140703332552574,-0.37335951646331544,0.06906016347182198,0.0071806358751329985,-0.3287712644324699,0.9244322653350652,-2.065891711445297,0.5545434773856838,-0.1155953279380719,1.2903641107677892,0.8844881302921291,-0.7085242639802346,-1.1299614703443237,-1.7164506836065332,0.31064937293329015,1.365766364043925,-0.7735412746528428,0.10817543607704204,0.4800268444616799,1.4983655949771244,0.5891832919635394,0.15306708133909158,1.1592892480331136,-0.14279951141742664,0.018543837761865134,-1.4673943968795782,-0.6694224768413874,-0.41465428943287297,-0.17348747003891735,1.1353060114559579,-0.33408295386952674,1.7553588384503196,-0.2110048275984787,0.42849832241419883,-1.429062493144599,0.9951538223316054,0.8098824701408762,0.3884108342548283,-0.1558889174937159,-0.11031426067805795],\"xaxis\":\"x6\",\"yaxis\":\"y6\",\"type\":\"histogram\"},{\"line\":{\"color\":\"rgba(128, 128, 128, 1.0)\",\"dash\":\"solid\",\"shape\":\"linear\",\"width\":1.3},\"marker\":{\"size\":2,\"symbol\":\"circle\"},\"mode\":\"markers\",\"name\":\"B\",\"text\":\"\",\"x\":[-1.693048144015689,-1.3820659539304376,-0.26186400911819513,-1.0943028842204392,-0.1533319254439035,-0.8289270580708209,-0.71611152238171,0.6544385185656098,0.3377575632481237,-0.03094272558223115,1.8010033601804232,-0.10727422285068922,0.566144777915916,-0.13710599455104144,-0.2449345581601094,-0.11600157203091759,-0.14629718409137737,-1.7329882960528853,1.2319909113435485,-0.13369819930571536,1.609863283277939,1.7449939659444273,0.8399343156048075,0.37731061895592993,-0.7282714727916014,0.8860341534062506,-1.253411398579617,0.11633332913520288,-0.632981440630921,-1.0692585180057435,0.1538169387080856,0.355039612407412,0.7509673565058888,-0.8982063906590393,-0.11783310183402967,-0.8798347290637953,0.3213739063860632,0.7818389362640916,-1.0938405254290327,-1.0980291355236236,-0.37168031024514525,0.5441216652049065,-0.14918498663229482,1.1914548974584076,-0.8774363463518473,1.6443018312374444,0.8759261916149548,0.5468738581037398,-1.3125834674129604,-0.2924070273968226,2.3520661756263728,1.9305197417893065,-0.7595991589728462,0.28241038892889364,1.2494497552930661,0.8735381398826013,-0.670934797445289,0.46858679660223523,-0.07647238236764087,0.45407368586428287,-1.92237084263108,-0.8681506658075451,0.6871096311729753,0.07549454003141241,1.13433043875947,1.670257948790717,-0.41713617912010337,0.601607936166473,0.29337914616140837,-1.6752928345799873,-0.03762707724466671,-0.26748171433033263,-2.0328761820275876,0.6239303517626071,-0.037989095688061185,0.11732456565129386,0.8229516489326429,1.1587071278694778,0.8166241399492339,0.5551856219587835,1.6541208711771906,-1.360612379808308,0.41000439813595485,-0.8135001608549873,-0.3374398086999169,0.9448560947900039,-0.8427325029537508,-0.977731272333857,1.0796168156279038,-0.17676871507325598,-0.9414533043378169,0.3333553678156752,-0.8212125542345594,-0.06698328081807278,0.990027435975039,-1.0842557843861187,-0.6558631811726069,0.29956295333194977,-0.6429554088690916,0.8000929639274643],\"xaxis\":\"x7\",\"y\":[0.583131544660661,-0.13361300439365476,-0.04123704831597834,0.0014680131745039354,1.438466824959959,0.5541476788726151,-1.1310893635390038,-0.5623452390437628,-0.670234518530269,0.545812634382133,-0.3624818654591015,0.1701678549417786,0.3581879479821975,-2.887380914691166,-0.13478783996064245,-0.8588668905175264,-0.8938984223234923,0.19181727804293225,-0.028983423455619165,-0.019052996185692665,-1.1602446579879755,0.08121421004235378,1.3352220481800035,0.35807277726483344,-0.9409924776717753,-1.8503080091673934,-0.6870106893491648,0.8314233325875332,0.02274811954883968,0.9194055377055831,-0.7740446909882256,-0.22978997934892423,0.17286979761015278,-1.8144485916502244,0.10019030223493725,0.6543032593357595,0.002882968517779104,-0.614448403963407,1.4894537976884068,-0.5184176501024136,0.8510492801098789,1.6907679823457193,-0.7252403229757054,-1.8548965808613855,-0.9279085762381253,-0.19262867996165262,0.26506477791439476,2.149363109679803,1.551901938062469,0.9498725527680408,-0.5798412074414184,-1.8392247543767455,-0.3001332641170957,-0.8038995410085215,-0.8356561490437464,0.7841323972572954,-0.30929122537950327,1.0137109697249589,1.3640708249499136,0.14797119237972522,-1.5140703332552574,-0.37335951646331544,0.06906016347182198,0.0071806358751329985,-0.3287712644324699,0.9244322653350652,-2.065891711445297,0.5545434773856838,-0.1155953279380719,1.2903641107677892,0.8844881302921291,-0.7085242639802346,-1.1299614703443237,-1.7164506836065332,0.31064937293329015,1.365766364043925,-0.7735412746528428,0.10817543607704204,0.4800268444616799,1.4983655949771244,0.5891832919635394,0.15306708133909158,1.1592892480331136,-0.14279951141742664,0.018543837761865134,-1.4673943968795782,-0.6694224768413874,-0.41465428943287297,-0.17348747003891735,1.1353060114559579,-0.33408295386952674,1.7553588384503196,-0.2110048275984787,0.42849832241419883,-1.429062493144599,0.9951538223316054,0.8098824701408762,0.3884108342548283,-0.1558889174937159,-0.11031426067805795],\"yaxis\":\"y7\",\"type\":\"scatter\"},{\"line\":{\"color\":\"rgba(128, 128, 128, 1.0)\",\"dash\":\"solid\",\"shape\":\"linear\",\"width\":1.3},\"marker\":{\"size\":2,\"symbol\":\"circle\"},\"mode\":\"markers\",\"name\":\"B\",\"text\":\"\",\"x\":[0.05364048207260595,-1.6415014900014182,0.1560446938057477,1.0642370745611147,-0.5027503734044894,-0.16847600244086813,0.03769768649841975,0.4404443029957614,-1.6579050752815891,1.8601987778014237,-0.15265903655033689,0.37129316680948793,-0.08803610612264272,-0.012170020280144352,-0.031754703520787894,0.12040845468606767,0.6661817596237033,0.4351590541521421,0.3874501304536663,0.6506182333957212,-0.3543112673939216,0.07133346409774055,-0.4563271241235071,0.3067131713241251,-0.1825980303133153,0.5193130694959607,-1.793604809992783,-1.6337123268288474,-0.11194926057402858,-0.6206104376633367,0.42743206030208597,-1.4192078676325863,-0.952313115078617,0.28624040037662163,0.19143852583850562,0.11552415341179897,-0.7528536232121964,-0.6732879417286711,-0.8522197068472054,-0.7859007817991804,0.5963342736675762,1.6184674307529368,0.7014689277608404,1.283323978524507,0.7830464604043736,-0.6654174297433695,0.931850500204895,-0.35402395153670324,-0.602258800736354,0.7244485868398755,-0.6649938025189891,0.21018636499470508,-0.19685471819127484,-0.19916017586044676,2.1644487557138286,-0.6866260230014049,1.1163078640078368,-0.04046594753613875,-0.25670197406150547,1.1012493039101279,0.9509449169491229,-0.22197875278076207,-0.3034821972704745,-0.5463023263958524,-0.01885680378734175,-0.55143885727557,1.841061816977951,-1.8084991267664081,-0.39628794946808954,-0.782202772473188,-0.6545173575747144,0.49449191900543366,-0.8211223688970272,-0.33147197435657905,0.8529223538238252,-1.4402138964755826,0.3148874254607986,-0.2935572438480311,0.29863149749985335,0.07113287972824318,-0.5189069614956773,-0.12131866130997336,-0.7913412375343849,0.0380089568679243,0.30793067750781017,-0.39077610071231206,-0.812864552609696,-0.39397551873666986,0.165632610091109,0.8852436831944863,1.1550648442438702,-1.4633524427846236,-1.6009707857029245,-1.1434752903692167,-0.5733830053143328,0.9072694529724188,0.034483048803851675,0.9406194945585669,2.051609120582376,0.17819939883882124],\"xaxis\":\"x8\",\"y\":[0.583131544660661,-0.13361300439365476,-0.04123704831597834,0.0014680131745039354,1.438466824959959,0.5541476788726151,-1.1310893635390038,-0.5623452390437628,-0.670234518530269,0.545812634382133,-0.3624818654591015,0.1701678549417786,0.3581879479821975,-2.887380914691166,-0.13478783996064245,-0.8588668905175264,-0.8938984223234923,0.19181727804293225,-0.028983423455619165,-0.019052996185692665,-1.1602446579879755,0.08121421004235378,1.3352220481800035,0.35807277726483344,-0.9409924776717753,-1.8503080091673934,-0.6870106893491648,0.8314233325875332,0.02274811954883968,0.9194055377055831,-0.7740446909882256,-0.22978997934892423,0.17286979761015278,-1.8144485916502244,0.10019030223493725,0.6543032593357595,0.002882968517779104,-0.614448403963407,1.4894537976884068,-0.5184176501024136,0.8510492801098789,1.6907679823457193,-0.7252403229757054,-1.8548965808613855,-0.9279085762381253,-0.19262867996165262,0.26506477791439476,2.149363109679803,1.551901938062469,0.9498725527680408,-0.5798412074414184,-1.8392247543767455,-0.3001332641170957,-0.8038995410085215,-0.8356561490437464,0.7841323972572954,-0.30929122537950327,1.0137109697249589,1.3640708249499136,0.14797119237972522,-1.5140703332552574,-0.37335951646331544,0.06906016347182198,0.0071806358751329985,-0.3287712644324699,0.9244322653350652,-2.065891711445297,0.5545434773856838,-0.1155953279380719,1.2903641107677892,0.8844881302921291,-0.7085242639802346,-1.1299614703443237,-1.7164506836065332,0.31064937293329015,1.365766364043925,-0.7735412746528428,0.10817543607704204,0.4800268444616799,1.4983655949771244,0.5891832919635394,0.15306708133909158,1.1592892480331136,-0.14279951141742664,0.018543837761865134,-1.4673943968795782,-0.6694224768413874,-0.41465428943287297,-0.17348747003891735,1.1353060114559579,-0.33408295386952674,1.7553588384503196,-0.2110048275984787,0.42849832241419883,-1.429062493144599,0.9951538223316054,0.8098824701408762,0.3884108342548283,-0.1558889174937159,-0.11031426067805795],\"yaxis\":\"y8\",\"type\":\"scatter\"},{\"line\":{\"color\":\"rgba(128, 128, 128, 1.0)\",\"dash\":\"solid\",\"shape\":\"linear\",\"width\":1.3},\"marker\":{\"size\":2,\"symbol\":\"circle\"},\"mode\":\"markers\",\"name\":\"C\",\"text\":\"\",\"x\":[1.8243129259995166,0.19608475400175768,-0.6053188770897872,0.8911968956639813,1.0070855293069285,-0.8014471338364257,-0.9924125538103235,0.6589442869722124,-0.014050001002884725,0.07518373531629381,-0.36474810809089014,1.3213713674994056,-1.3390868001532397,2.0157661712051587,0.702026132198567,-0.980743213672751,-1.290183167745645,-0.034866885767344466,1.3244596009270821,0.46914853441326737,1.811113937836261,-0.31191244635793713,-0.44645210590499096,-0.47723670876074775,-0.7041383254890567,-1.0201756035449587,1.3557072710334452,-0.6307039403442191,-1.0790513559403063,1.5061983883651782,-1.1546177021329875,1.2553753887543317,0.15018352623167674,-0.5988057076920157,0.5380983515180622,0.9759791860363404,-0.7833975692914159,-0.9189649613532611,-0.0974760456801578,0.3429586783883424,-0.6191550076924058,-2.1039659473643173,0.8350223435673302,0.6318776376503721,0.06918376203837928,-0.9540441738215512,1.0623602869959006,-0.04214282767279125,1.0236001005414836,2.768834106807123,-0.34962680392505013,-1.9587267869592255,0.21487117500607636,-0.7195032292037042,0.20890306000942607,-0.6473154003389758,0.7544595643203549,0.4697360100064573,0.11029082781862608,-0.09295678672354084,-0.7844564187290143,1.22551840597947,0.1733457984754417,-1.5674530556863537,-0.12719427915234527,1.2969218378364398,-0.47955826843769805,-1.0917495191808468,0.22136705963048148,-0.9351966540884519,1.019493096539831,2.516073211595525,1.5376854720253375,-1.3831508907611931,-1.9191831893194957,0.44359556475430645,-0.8246593181297605,-0.2100864028503051,0.9547760587601132,-0.2653278159042679,0.8362410698154421,-1.206447309739462,1.3929084051796088,1.6164208225232148,0.33581060384052197,-1.2146714988178433,0.45484819640518204,1.1003564183064294,-0.0545126540500522,-1.6473224078317383,1.0928108115908042,-0.16389643281667396,-0.6544788103037372,-1.3716173109397398,0.3395650647243976,-1.147263981725478,1.2174640192307618,-0.21249306896884895,-1.096053716026816,2.3900037580866145],\"xaxis\":\"x9\",\"y\":[-1.693048144015689,-1.3820659539304376,-0.26186400911819513,-1.0943028842204392,-0.1533319254439035,-0.8289270580708209,-0.71611152238171,0.6544385185656098,0.3377575632481237,-0.03094272558223115,1.8010033601804232,-0.10727422285068922,0.566144777915916,-0.13710599455104144,-0.2449345581601094,-0.11600157203091759,-0.14629718409137737,-1.7329882960528853,1.2319909113435485,-0.13369819930571536,1.609863283277939,1.7449939659444273,0.8399343156048075,0.37731061895592993,-0.7282714727916014,0.8860341534062506,-1.253411398579617,0.11633332913520288,-0.632981440630921,-1.0692585180057435,0.1538169387080856,0.355039612407412,0.7509673565058888,-0.8982063906590393,-0.11783310183402967,-0.8798347290637953,0.3213739063860632,0.7818389362640916,-1.0938405254290327,-1.0980291355236236,-0.37168031024514525,0.5441216652049065,-0.14918498663229482,1.1914548974584076,-0.8774363463518473,1.6443018312374444,0.8759261916149548,0.5468738581037398,-1.3125834674129604,-0.2924070273968226,2.3520661756263728,1.9305197417893065,-0.7595991589728462,0.28241038892889364,1.2494497552930661,0.8735381398826013,-0.670934797445289,0.46858679660223523,-0.07647238236764087,0.45407368586428287,-1.92237084263108,-0.8681506658075451,0.6871096311729753,0.07549454003141241,1.13433043875947,1.670257948790717,-0.41713617912010337,0.601607936166473,0.29337914616140837,-1.6752928345799873,-0.03762707724466671,-0.26748171433033263,-2.0328761820275876,0.6239303517626071,-0.037989095688061185,0.11732456565129386,0.8229516489326429,1.1587071278694778,0.8166241399492339,0.5551856219587835,1.6541208711771906,-1.360612379808308,0.41000439813595485,-0.8135001608549873,-0.3374398086999169,0.9448560947900039,-0.8427325029537508,-0.977731272333857,1.0796168156279038,-0.17676871507325598,-0.9414533043378169,0.3333553678156752,-0.8212125542345594,-0.06698328081807278,0.990027435975039,-1.0842557843861187,-0.6558631811726069,0.29956295333194977,-0.6429554088690916,0.8000929639274643],\"yaxis\":\"y9\",\"type\":\"scatter\"},{\"line\":{\"color\":\"rgba(128, 128, 128, 1.0)\",\"dash\":\"solid\",\"shape\":\"linear\",\"width\":1.3},\"marker\":{\"size\":2,\"symbol\":\"circle\"},\"mode\":\"markers\",\"name\":\"C\",\"text\":\"\",\"x\":[0.583131544660661,-0.13361300439365476,-0.04123704831597834,0.0014680131745039354,1.438466824959959,0.5541476788726151,-1.1310893635390038,-0.5623452390437628,-0.670234518530269,0.545812634382133,-0.3624818654591015,0.1701678549417786,0.3581879479821975,-2.887380914691166,-0.13478783996064245,-0.8588668905175264,-0.8938984223234923,0.19181727804293225,-0.028983423455619165,-0.019052996185692665,-1.1602446579879755,0.08121421004235378,1.3352220481800035,0.35807277726483344,-0.9409924776717753,-1.8503080091673934,-0.6870106893491648,0.8314233325875332,0.02274811954883968,0.9194055377055831,-0.7740446909882256,-0.22978997934892423,0.17286979761015278,-1.8144485916502244,0.10019030223493725,0.6543032593357595,0.002882968517779104,-0.614448403963407,1.4894537976884068,-0.5184176501024136,0.8510492801098789,1.6907679823457193,-0.7252403229757054,-1.8548965808613855,-0.9279085762381253,-0.19262867996165262,0.26506477791439476,2.149363109679803,1.551901938062469,0.9498725527680408,-0.5798412074414184,-1.8392247543767455,-0.3001332641170957,-0.8038995410085215,-0.8356561490437464,0.7841323972572954,-0.30929122537950327,1.0137109697249589,1.3640708249499136,0.14797119237972522,-1.5140703332552574,-0.37335951646331544,0.06906016347182198,0.0071806358751329985,-0.3287712644324699,0.9244322653350652,-2.065891711445297,0.5545434773856838,-0.1155953279380719,1.2903641107677892,0.8844881302921291,-0.7085242639802346,-1.1299614703443237,-1.7164506836065332,0.31064937293329015,1.365766364043925,-0.7735412746528428,0.10817543607704204,0.4800268444616799,1.4983655949771244,0.5891832919635394,0.15306708133909158,1.1592892480331136,-0.14279951141742664,0.018543837761865134,-1.4673943968795782,-0.6694224768413874,-0.41465428943287297,-0.17348747003891735,1.1353060114559579,-0.33408295386952674,1.7553588384503196,-0.2110048275984787,0.42849832241419883,-1.429062493144599,0.9951538223316054,0.8098824701408762,0.3884108342548283,-0.1558889174937159,-0.11031426067805795],\"xaxis\":\"x10\",\"y\":[-1.693048144015689,-1.3820659539304376,-0.26186400911819513,-1.0943028842204392,-0.1533319254439035,-0.8289270580708209,-0.71611152238171,0.6544385185656098,0.3377575632481237,-0.03094272558223115,1.8010033601804232,-0.10727422285068922,0.566144777915916,-0.13710599455104144,-0.2449345581601094,-0.11600157203091759,-0.14629718409137737,-1.7329882960528853,1.2319909113435485,-0.13369819930571536,1.609863283277939,1.7449939659444273,0.8399343156048075,0.37731061895592993,-0.7282714727916014,0.8860341534062506,-1.253411398579617,0.11633332913520288,-0.632981440630921,-1.0692585180057435,0.1538169387080856,0.355039612407412,0.7509673565058888,-0.8982063906590393,-0.11783310183402967,-0.8798347290637953,0.3213739063860632,0.7818389362640916,-1.0938405254290327,-1.0980291355236236,-0.37168031024514525,0.5441216652049065,-0.14918498663229482,1.1914548974584076,-0.8774363463518473,1.6443018312374444,0.8759261916149548,0.5468738581037398,-1.3125834674129604,-0.2924070273968226,2.3520661756263728,1.9305197417893065,-0.7595991589728462,0.28241038892889364,1.2494497552930661,0.8735381398826013,-0.670934797445289,0.46858679660223523,-0.07647238236764087,0.45407368586428287,-1.92237084263108,-0.8681506658075451,0.6871096311729753,0.07549454003141241,1.13433043875947,1.670257948790717,-0.41713617912010337,0.601607936166473,0.29337914616140837,-1.6752928345799873,-0.03762707724466671,-0.26748171433033263,-2.0328761820275876,0.6239303517626071,-0.037989095688061185,0.11732456565129386,0.8229516489326429,1.1587071278694778,0.8166241399492339,0.5551856219587835,1.6541208711771906,-1.360612379808308,0.41000439813595485,-0.8135001608549873,-0.3374398086999169,0.9448560947900039,-0.8427325029537508,-0.977731272333857,1.0796168156279038,-0.17676871507325598,-0.9414533043378169,0.3333553678156752,-0.8212125542345594,-0.06698328081807278,0.990027435975039,-1.0842557843861187,-0.6558631811726069,0.29956295333194977,-0.6429554088690916,0.8000929639274643],\"yaxis\":\"y10\",\"type\":\"scatter\"},{\"histfunc\":\"count\",\"histnorm\":\"\",\"marker\":{\"color\":\"rgba(50, 171, 96, 1.0)\",\"line\":{\"color\":\"#4D5663\",\"width\":1.3}},\"name\":\"C\",\"nbinsx\":10,\"opacity\":0.8,\"orientation\":\"v\",\"x\":[-1.693048144015689,-1.3820659539304376,-0.26186400911819513,-1.0943028842204392,-0.1533319254439035,-0.8289270580708209,-0.71611152238171,0.6544385185656098,0.3377575632481237,-0.03094272558223115,1.8010033601804232,-0.10727422285068922,0.566144777915916,-0.13710599455104144,-0.2449345581601094,-0.11600157203091759,-0.14629718409137737,-1.7329882960528853,1.2319909113435485,-0.13369819930571536,1.609863283277939,1.7449939659444273,0.8399343156048075,0.37731061895592993,-0.7282714727916014,0.8860341534062506,-1.253411398579617,0.11633332913520288,-0.632981440630921,-1.0692585180057435,0.1538169387080856,0.355039612407412,0.7509673565058888,-0.8982063906590393,-0.11783310183402967,-0.8798347290637953,0.3213739063860632,0.7818389362640916,-1.0938405254290327,-1.0980291355236236,-0.37168031024514525,0.5441216652049065,-0.14918498663229482,1.1914548974584076,-0.8774363463518473,1.6443018312374444,0.8759261916149548,0.5468738581037398,-1.3125834674129604,-0.2924070273968226,2.3520661756263728,1.9305197417893065,-0.7595991589728462,0.28241038892889364,1.2494497552930661,0.8735381398826013,-0.670934797445289,0.46858679660223523,-0.07647238236764087,0.45407368586428287,-1.92237084263108,-0.8681506658075451,0.6871096311729753,0.07549454003141241,1.13433043875947,1.670257948790717,-0.41713617912010337,0.601607936166473,0.29337914616140837,-1.6752928345799873,-0.03762707724466671,-0.26748171433033263,-2.0328761820275876,0.6239303517626071,-0.037989095688061185,0.11732456565129386,0.8229516489326429,1.1587071278694778,0.8166241399492339,0.5551856219587835,1.6541208711771906,-1.360612379808308,0.41000439813595485,-0.8135001608549873,-0.3374398086999169,0.9448560947900039,-0.8427325029537508,-0.977731272333857,1.0796168156279038,-0.17676871507325598,-0.9414533043378169,0.3333553678156752,-0.8212125542345594,-0.06698328081807278,0.990027435975039,-1.0842557843861187,-0.6558631811726069,0.29956295333194977,-0.6429554088690916,0.8000929639274643],\"xaxis\":\"x11\",\"yaxis\":\"y11\",\"type\":\"histogram\"},{\"line\":{\"color\":\"rgba(128, 128, 128, 1.0)\",\"dash\":\"solid\",\"shape\":\"linear\",\"width\":1.3},\"marker\":{\"size\":2,\"symbol\":\"circle\"},\"mode\":\"markers\",\"name\":\"C\",\"text\":\"\",\"x\":[0.05364048207260595,-1.6415014900014182,0.1560446938057477,1.0642370745611147,-0.5027503734044894,-0.16847600244086813,0.03769768649841975,0.4404443029957614,-1.6579050752815891,1.8601987778014237,-0.15265903655033689,0.37129316680948793,-0.08803610612264272,-0.012170020280144352,-0.031754703520787894,0.12040845468606767,0.6661817596237033,0.4351590541521421,0.3874501304536663,0.6506182333957212,-0.3543112673939216,0.07133346409774055,-0.4563271241235071,0.3067131713241251,-0.1825980303133153,0.5193130694959607,-1.793604809992783,-1.6337123268288474,-0.11194926057402858,-0.6206104376633367,0.42743206030208597,-1.4192078676325863,-0.952313115078617,0.28624040037662163,0.19143852583850562,0.11552415341179897,-0.7528536232121964,-0.6732879417286711,-0.8522197068472054,-0.7859007817991804,0.5963342736675762,1.6184674307529368,0.7014689277608404,1.283323978524507,0.7830464604043736,-0.6654174297433695,0.931850500204895,-0.35402395153670324,-0.602258800736354,0.7244485868398755,-0.6649938025189891,0.21018636499470508,-0.19685471819127484,-0.19916017586044676,2.1644487557138286,-0.6866260230014049,1.1163078640078368,-0.04046594753613875,-0.25670197406150547,1.1012493039101279,0.9509449169491229,-0.22197875278076207,-0.3034821972704745,-0.5463023263958524,-0.01885680378734175,-0.55143885727557,1.841061816977951,-1.8084991267664081,-0.39628794946808954,-0.782202772473188,-0.6545173575747144,0.49449191900543366,-0.8211223688970272,-0.33147197435657905,0.8529223538238252,-1.4402138964755826,0.3148874254607986,-0.2935572438480311,0.29863149749985335,0.07113287972824318,-0.5189069614956773,-0.12131866130997336,-0.7913412375343849,0.0380089568679243,0.30793067750781017,-0.39077610071231206,-0.812864552609696,-0.39397551873666986,0.165632610091109,0.8852436831944863,1.1550648442438702,-1.4633524427846236,-1.6009707857029245,-1.1434752903692167,-0.5733830053143328,0.9072694529724188,0.034483048803851675,0.9406194945585669,2.051609120582376,0.17819939883882124],\"xaxis\":\"x12\",\"y\":[-1.693048144015689,-1.3820659539304376,-0.26186400911819513,-1.0943028842204392,-0.1533319254439035,-0.8289270580708209,-0.71611152238171,0.6544385185656098,0.3377575632481237,-0.03094272558223115,1.8010033601804232,-0.10727422285068922,0.566144777915916,-0.13710599455104144,-0.2449345581601094,-0.11600157203091759,-0.14629718409137737,-1.7329882960528853,1.2319909113435485,-0.13369819930571536,1.609863283277939,1.7449939659444273,0.8399343156048075,0.37731061895592993,-0.7282714727916014,0.8860341534062506,-1.253411398579617,0.11633332913520288,-0.632981440630921,-1.0692585180057435,0.1538169387080856,0.355039612407412,0.7509673565058888,-0.8982063906590393,-0.11783310183402967,-0.8798347290637953,0.3213739063860632,0.7818389362640916,-1.0938405254290327,-1.0980291355236236,-0.37168031024514525,0.5441216652049065,-0.14918498663229482,1.1914548974584076,-0.8774363463518473,1.6443018312374444,0.8759261916149548,0.5468738581037398,-1.3125834674129604,-0.2924070273968226,2.3520661756263728,1.9305197417893065,-0.7595991589728462,0.28241038892889364,1.2494497552930661,0.8735381398826013,-0.670934797445289,0.46858679660223523,-0.07647238236764087,0.45407368586428287,-1.92237084263108,-0.8681506658075451,0.6871096311729753,0.07549454003141241,1.13433043875947,1.670257948790717,-0.41713617912010337,0.601607936166473,0.29337914616140837,-1.6752928345799873,-0.03762707724466671,-0.26748171433033263,-2.0328761820275876,0.6239303517626071,-0.037989095688061185,0.11732456565129386,0.8229516489326429,1.1587071278694778,0.8166241399492339,0.5551856219587835,1.6541208711771906,-1.360612379808308,0.41000439813595485,-0.8135001608549873,-0.3374398086999169,0.9448560947900039,-0.8427325029537508,-0.977731272333857,1.0796168156279038,-0.17676871507325598,-0.9414533043378169,0.3333553678156752,-0.8212125542345594,-0.06698328081807278,0.990027435975039,-1.0842557843861187,-0.6558631811726069,0.29956295333194977,-0.6429554088690916,0.8000929639274643],\"yaxis\":\"y12\",\"type\":\"scatter\"},{\"line\":{\"color\":\"rgba(128, 128, 128, 1.0)\",\"dash\":\"solid\",\"shape\":\"linear\",\"width\":1.3},\"marker\":{\"size\":2,\"symbol\":\"circle\"},\"mode\":\"markers\",\"name\":\"D\",\"text\":\"\",\"x\":[1.8243129259995166,0.19608475400175768,-0.6053188770897872,0.8911968956639813,1.0070855293069285,-0.8014471338364257,-0.9924125538103235,0.6589442869722124,-0.014050001002884725,0.07518373531629381,-0.36474810809089014,1.3213713674994056,-1.3390868001532397,2.0157661712051587,0.702026132198567,-0.980743213672751,-1.290183167745645,-0.034866885767344466,1.3244596009270821,0.46914853441326737,1.811113937836261,-0.31191244635793713,-0.44645210590499096,-0.47723670876074775,-0.7041383254890567,-1.0201756035449587,1.3557072710334452,-0.6307039403442191,-1.0790513559403063,1.5061983883651782,-1.1546177021329875,1.2553753887543317,0.15018352623167674,-0.5988057076920157,0.5380983515180622,0.9759791860363404,-0.7833975692914159,-0.9189649613532611,-0.0974760456801578,0.3429586783883424,-0.6191550076924058,-2.1039659473643173,0.8350223435673302,0.6318776376503721,0.06918376203837928,-0.9540441738215512,1.0623602869959006,-0.04214282767279125,1.0236001005414836,2.768834106807123,-0.34962680392505013,-1.9587267869592255,0.21487117500607636,-0.7195032292037042,0.20890306000942607,-0.6473154003389758,0.7544595643203549,0.4697360100064573,0.11029082781862608,-0.09295678672354084,-0.7844564187290143,1.22551840597947,0.1733457984754417,-1.5674530556863537,-0.12719427915234527,1.2969218378364398,-0.47955826843769805,-1.0917495191808468,0.22136705963048148,-0.9351966540884519,1.019493096539831,2.516073211595525,1.5376854720253375,-1.3831508907611931,-1.9191831893194957,0.44359556475430645,-0.8246593181297605,-0.2100864028503051,0.9547760587601132,-0.2653278159042679,0.8362410698154421,-1.206447309739462,1.3929084051796088,1.6164208225232148,0.33581060384052197,-1.2146714988178433,0.45484819640518204,1.1003564183064294,-0.0545126540500522,-1.6473224078317383,1.0928108115908042,-0.16389643281667396,-0.6544788103037372,-1.3716173109397398,0.3395650647243976,-1.147263981725478,1.2174640192307618,-0.21249306896884895,-1.096053716026816,2.3900037580866145],\"xaxis\":\"x13\",\"y\":[0.05364048207260595,-1.6415014900014182,0.1560446938057477,1.0642370745611147,-0.5027503734044894,-0.16847600244086813,0.03769768649841975,0.4404443029957614,-1.6579050752815891,1.8601987778014237,-0.15265903655033689,0.37129316680948793,-0.08803610612264272,-0.012170020280144352,-0.031754703520787894,0.12040845468606767,0.6661817596237033,0.4351590541521421,0.3874501304536663,0.6506182333957212,-0.3543112673939216,0.07133346409774055,-0.4563271241235071,0.3067131713241251,-0.1825980303133153,0.5193130694959607,-1.793604809992783,-1.6337123268288474,-0.11194926057402858,-0.6206104376633367,0.42743206030208597,-1.4192078676325863,-0.952313115078617,0.28624040037662163,0.19143852583850562,0.11552415341179897,-0.7528536232121964,-0.6732879417286711,-0.8522197068472054,-0.7859007817991804,0.5963342736675762,1.6184674307529368,0.7014689277608404,1.283323978524507,0.7830464604043736,-0.6654174297433695,0.931850500204895,-0.35402395153670324,-0.602258800736354,0.7244485868398755,-0.6649938025189891,0.21018636499470508,-0.19685471819127484,-0.19916017586044676,2.1644487557138286,-0.6866260230014049,1.1163078640078368,-0.04046594753613875,-0.25670197406150547,1.1012493039101279,0.9509449169491229,-0.22197875278076207,-0.3034821972704745,-0.5463023263958524,-0.01885680378734175,-0.55143885727557,1.841061816977951,-1.8084991267664081,-0.39628794946808954,-0.782202772473188,-0.6545173575747144,0.49449191900543366,-0.8211223688970272,-0.33147197435657905,0.8529223538238252,-1.4402138964755826,0.3148874254607986,-0.2935572438480311,0.29863149749985335,0.07113287972824318,-0.5189069614956773,-0.12131866130997336,-0.7913412375343849,0.0380089568679243,0.30793067750781017,-0.39077610071231206,-0.812864552609696,-0.39397551873666986,0.165632610091109,0.8852436831944863,1.1550648442438702,-1.4633524427846236,-1.6009707857029245,-1.1434752903692167,-0.5733830053143328,0.9072694529724188,0.034483048803851675,0.9406194945585669,2.051609120582376,0.17819939883882124],\"yaxis\":\"y13\",\"type\":\"scatter\"},{\"line\":{\"color\":\"rgba(128, 128, 128, 1.0)\",\"dash\":\"solid\",\"shape\":\"linear\",\"width\":1.3},\"marker\":{\"size\":2,\"symbol\":\"circle\"},\"mode\":\"markers\",\"name\":\"D\",\"text\":\"\",\"x\":[0.583131544660661,-0.13361300439365476,-0.04123704831597834,0.0014680131745039354,1.438466824959959,0.5541476788726151,-1.1310893635390038,-0.5623452390437628,-0.670234518530269,0.545812634382133,-0.3624818654591015,0.1701678549417786,0.3581879479821975,-2.887380914691166,-0.13478783996064245,-0.8588668905175264,-0.8938984223234923,0.19181727804293225,-0.028983423455619165,-0.019052996185692665,-1.1602446579879755,0.08121421004235378,1.3352220481800035,0.35807277726483344,-0.9409924776717753,-1.8503080091673934,-0.6870106893491648,0.8314233325875332,0.02274811954883968,0.9194055377055831,-0.7740446909882256,-0.22978997934892423,0.17286979761015278,-1.8144485916502244,0.10019030223493725,0.6543032593357595,0.002882968517779104,-0.614448403963407,1.4894537976884068,-0.5184176501024136,0.8510492801098789,1.6907679823457193,-0.7252403229757054,-1.8548965808613855,-0.9279085762381253,-0.19262867996165262,0.26506477791439476,2.149363109679803,1.551901938062469,0.9498725527680408,-0.5798412074414184,-1.8392247543767455,-0.3001332641170957,-0.8038995410085215,-0.8356561490437464,0.7841323972572954,-0.30929122537950327,1.0137109697249589,1.3640708249499136,0.14797119237972522,-1.5140703332552574,-0.37335951646331544,0.06906016347182198,0.0071806358751329985,-0.3287712644324699,0.9244322653350652,-2.065891711445297,0.5545434773856838,-0.1155953279380719,1.2903641107677892,0.8844881302921291,-0.7085242639802346,-1.1299614703443237,-1.7164506836065332,0.31064937293329015,1.365766364043925,-0.7735412746528428,0.10817543607704204,0.4800268444616799,1.4983655949771244,0.5891832919635394,0.15306708133909158,1.1592892480331136,-0.14279951141742664,0.018543837761865134,-1.4673943968795782,-0.6694224768413874,-0.41465428943287297,-0.17348747003891735,1.1353060114559579,-0.33408295386952674,1.7553588384503196,-0.2110048275984787,0.42849832241419883,-1.429062493144599,0.9951538223316054,0.8098824701408762,0.3884108342548283,-0.1558889174937159,-0.11031426067805795],\"xaxis\":\"x14\",\"y\":[0.05364048207260595,-1.6415014900014182,0.1560446938057477,1.0642370745611147,-0.5027503734044894,-0.16847600244086813,0.03769768649841975,0.4404443029957614,-1.6579050752815891,1.8601987778014237,-0.15265903655033689,0.37129316680948793,-0.08803610612264272,-0.012170020280144352,-0.031754703520787894,0.12040845468606767,0.6661817596237033,0.4351590541521421,0.3874501304536663,0.6506182333957212,-0.3543112673939216,0.07133346409774055,-0.4563271241235071,0.3067131713241251,-0.1825980303133153,0.5193130694959607,-1.793604809992783,-1.6337123268288474,-0.11194926057402858,-0.6206104376633367,0.42743206030208597,-1.4192078676325863,-0.952313115078617,0.28624040037662163,0.19143852583850562,0.11552415341179897,-0.7528536232121964,-0.6732879417286711,-0.8522197068472054,-0.7859007817991804,0.5963342736675762,1.6184674307529368,0.7014689277608404,1.283323978524507,0.7830464604043736,-0.6654174297433695,0.931850500204895,-0.35402395153670324,-0.602258800736354,0.7244485868398755,-0.6649938025189891,0.21018636499470508,-0.19685471819127484,-0.19916017586044676,2.1644487557138286,-0.6866260230014049,1.1163078640078368,-0.04046594753613875,-0.25670197406150547,1.1012493039101279,0.9509449169491229,-0.22197875278076207,-0.3034821972704745,-0.5463023263958524,-0.01885680378734175,-0.55143885727557,1.841061816977951,-1.8084991267664081,-0.39628794946808954,-0.782202772473188,-0.6545173575747144,0.49449191900543366,-0.8211223688970272,-0.33147197435657905,0.8529223538238252,-1.4402138964755826,0.3148874254607986,-0.2935572438480311,0.29863149749985335,0.07113287972824318,-0.5189069614956773,-0.12131866130997336,-0.7913412375343849,0.0380089568679243,0.30793067750781017,-0.39077610071231206,-0.812864552609696,-0.39397551873666986,0.165632610091109,0.8852436831944863,1.1550648442438702,-1.4633524427846236,-1.6009707857029245,-1.1434752903692167,-0.5733830053143328,0.9072694529724188,0.034483048803851675,0.9406194945585669,2.051609120582376,0.17819939883882124],\"yaxis\":\"y14\",\"type\":\"scatter\"},{\"line\":{\"color\":\"rgba(128, 128, 128, 1.0)\",\"dash\":\"solid\",\"shape\":\"linear\",\"width\":1.3},\"marker\":{\"size\":2,\"symbol\":\"circle\"},\"mode\":\"markers\",\"name\":\"D\",\"text\":\"\",\"x\":[-1.693048144015689,-1.3820659539304376,-0.26186400911819513,-1.0943028842204392,-0.1533319254439035,-0.8289270580708209,-0.71611152238171,0.6544385185656098,0.3377575632481237,-0.03094272558223115,1.8010033601804232,-0.10727422285068922,0.566144777915916,-0.13710599455104144,-0.2449345581601094,-0.11600157203091759,-0.14629718409137737,-1.7329882960528853,1.2319909113435485,-0.13369819930571536,1.609863283277939,1.7449939659444273,0.8399343156048075,0.37731061895592993,-0.7282714727916014,0.8860341534062506,-1.253411398579617,0.11633332913520288,-0.632981440630921,-1.0692585180057435,0.1538169387080856,0.355039612407412,0.7509673565058888,-0.8982063906590393,-0.11783310183402967,-0.8798347290637953,0.3213739063860632,0.7818389362640916,-1.0938405254290327,-1.0980291355236236,-0.37168031024514525,0.5441216652049065,-0.14918498663229482,1.1914548974584076,-0.8774363463518473,1.6443018312374444,0.8759261916149548,0.5468738581037398,-1.3125834674129604,-0.2924070273968226,2.3520661756263728,1.9305197417893065,-0.7595991589728462,0.28241038892889364,1.2494497552930661,0.8735381398826013,-0.670934797445289,0.46858679660223523,-0.07647238236764087,0.45407368586428287,-1.92237084263108,-0.8681506658075451,0.6871096311729753,0.07549454003141241,1.13433043875947,1.670257948790717,-0.41713617912010337,0.601607936166473,0.29337914616140837,-1.6752928345799873,-0.03762707724466671,-0.26748171433033263,-2.0328761820275876,0.6239303517626071,-0.037989095688061185,0.11732456565129386,0.8229516489326429,1.1587071278694778,0.8166241399492339,0.5551856219587835,1.6541208711771906,-1.360612379808308,0.41000439813595485,-0.8135001608549873,-0.3374398086999169,0.9448560947900039,-0.8427325029537508,-0.977731272333857,1.0796168156279038,-0.17676871507325598,-0.9414533043378169,0.3333553678156752,-0.8212125542345594,-0.06698328081807278,0.990027435975039,-1.0842557843861187,-0.6558631811726069,0.29956295333194977,-0.6429554088690916,0.8000929639274643],\"xaxis\":\"x15\",\"y\":[0.05364048207260595,-1.6415014900014182,0.1560446938057477,1.0642370745611147,-0.5027503734044894,-0.16847600244086813,0.03769768649841975,0.4404443029957614,-1.6579050752815891,1.8601987778014237,-0.15265903655033689,0.37129316680948793,-0.08803610612264272,-0.012170020280144352,-0.031754703520787894,0.12040845468606767,0.6661817596237033,0.4351590541521421,0.3874501304536663,0.6506182333957212,-0.3543112673939216,0.07133346409774055,-0.4563271241235071,0.3067131713241251,-0.1825980303133153,0.5193130694959607,-1.793604809992783,-1.6337123268288474,-0.11194926057402858,-0.6206104376633367,0.42743206030208597,-1.4192078676325863,-0.952313115078617,0.28624040037662163,0.19143852583850562,0.11552415341179897,-0.7528536232121964,-0.6732879417286711,-0.8522197068472054,-0.7859007817991804,0.5963342736675762,1.6184674307529368,0.7014689277608404,1.283323978524507,0.7830464604043736,-0.6654174297433695,0.931850500204895,-0.35402395153670324,-0.602258800736354,0.7244485868398755,-0.6649938025189891,0.21018636499470508,-0.19685471819127484,-0.19916017586044676,2.1644487557138286,-0.6866260230014049,1.1163078640078368,-0.04046594753613875,-0.25670197406150547,1.1012493039101279,0.9509449169491229,-0.22197875278076207,-0.3034821972704745,-0.5463023263958524,-0.01885680378734175,-0.55143885727557,1.841061816977951,-1.8084991267664081,-0.39628794946808954,-0.782202772473188,-0.6545173575747144,0.49449191900543366,-0.8211223688970272,-0.33147197435657905,0.8529223538238252,-1.4402138964755826,0.3148874254607986,-0.2935572438480311,0.29863149749985335,0.07113287972824318,-0.5189069614956773,-0.12131866130997336,-0.7913412375343849,0.0380089568679243,0.30793067750781017,-0.39077610071231206,-0.812864552609696,-0.39397551873666986,0.165632610091109,0.8852436831944863,1.1550648442438702,-1.4633524427846236,-1.6009707857029245,-1.1434752903692167,-0.5733830053143328,0.9072694529724188,0.034483048803851675,0.9406194945585669,2.051609120582376,0.17819939883882124],\"yaxis\":\"y15\",\"type\":\"scatter\"},{\"histfunc\":\"count\",\"histnorm\":\"\",\"marker\":{\"color\":\"rgba(128, 0, 128, 1.0)\",\"line\":{\"color\":\"#4D5663\",\"width\":1.3}},\"name\":\"D\",\"nbinsx\":10,\"opacity\":0.8,\"orientation\":\"v\",\"x\":[0.05364048207260595,-1.6415014900014182,0.1560446938057477,1.0642370745611147,-0.5027503734044894,-0.16847600244086813,0.03769768649841975,0.4404443029957614,-1.6579050752815891,1.8601987778014237,-0.15265903655033689,0.37129316680948793,-0.08803610612264272,-0.012170020280144352,-0.031754703520787894,0.12040845468606767,0.6661817596237033,0.4351590541521421,0.3874501304536663,0.6506182333957212,-0.3543112673939216,0.07133346409774055,-0.4563271241235071,0.3067131713241251,-0.1825980303133153,0.5193130694959607,-1.793604809992783,-1.6337123268288474,-0.11194926057402858,-0.6206104376633367,0.42743206030208597,-1.4192078676325863,-0.952313115078617,0.28624040037662163,0.19143852583850562,0.11552415341179897,-0.7528536232121964,-0.6732879417286711,-0.8522197068472054,-0.7859007817991804,0.5963342736675762,1.6184674307529368,0.7014689277608404,1.283323978524507,0.7830464604043736,-0.6654174297433695,0.931850500204895,-0.35402395153670324,-0.602258800736354,0.7244485868398755,-0.6649938025189891,0.21018636499470508,-0.19685471819127484,-0.19916017586044676,2.1644487557138286,-0.6866260230014049,1.1163078640078368,-0.04046594753613875,-0.25670197406150547,1.1012493039101279,0.9509449169491229,-0.22197875278076207,-0.3034821972704745,-0.5463023263958524,-0.01885680378734175,-0.55143885727557,1.841061816977951,-1.8084991267664081,-0.39628794946808954,-0.782202772473188,-0.6545173575747144,0.49449191900543366,-0.8211223688970272,-0.33147197435657905,0.8529223538238252,-1.4402138964755826,0.3148874254607986,-0.2935572438480311,0.29863149749985335,0.07113287972824318,-0.5189069614956773,-0.12131866130997336,-0.7913412375343849,0.0380089568679243,0.30793067750781017,-0.39077610071231206,-0.812864552609696,-0.39397551873666986,0.165632610091109,0.8852436831944863,1.1550648442438702,-1.4633524427846236,-1.6009707857029245,-1.1434752903692167,-0.5733830053143328,0.9072694529724188,0.034483048803851675,0.9406194945585669,2.051609120582376,0.17819939883882124],\"xaxis\":\"x16\",\"yaxis\":\"y16\",\"type\":\"histogram\"}],                        {\"bargap\":0.02,\"legend\":{\"bgcolor\":\"#F5F6F9\",\"font\":{\"color\":\"#4D5663\"}},\"paper_bgcolor\":\"#F5F6F9\",\"plot_bgcolor\":\"#F5F6F9\",\"showlegend\":false,\"template\":{\"data\":{\"barpolar\":[{\"marker\":{\"line\":{\"color\":\"#E5ECF6\",\"width\":0.5},\"pattern\":{\"fillmode\":\"overlay\",\"size\":10,\"solidity\":0.2}},\"type\":\"barpolar\"}],\"bar\":[{\"error_x\":{\"color\":\"#2a3f5f\"},\"error_y\":{\"color\":\"#2a3f5f\"},\"marker\":{\"line\":{\"color\":\"#E5ECF6\",\"width\":0.5},\"pattern\":{\"fillmode\":\"overlay\",\"size\":10,\"solidity\":0.2}},\"type\":\"bar\"}],\"carpet\":[{\"aaxis\":{\"endlinecolor\":\"#2a3f5f\",\"gridcolor\":\"white\",\"linecolor\":\"white\",\"minorgridcolor\":\"white\",\"startlinecolor\":\"#2a3f5f\"},\"baxis\":{\"endlinecolor\":\"#2a3f5f\",\"gridcolor\":\"white\",\"linecolor\":\"white\",\"minorgridcolor\":\"white\",\"startlinecolor\":\"#2a3f5f\"},\"type\":\"carpet\"}],\"choropleth\":[{\"colorbar\":{\"outlinewidth\":0,\"ticks\":\"\"},\"type\":\"choropleth\"}],\"contourcarpet\":[{\"colorbar\":{\"outlinewidth\":0,\"ticks\":\"\"},\"type\":\"contourcarpet\"}],\"contour\":[{\"colorbar\":{\"outlinewidth\":0,\"ticks\":\"\"},\"colorscale\":[[0.0,\"#0d0887\"],[0.1111111111111111,\"#46039f\"],[0.2222222222222222,\"#7201a8\"],[0.3333333333333333,\"#9c179e\"],[0.4444444444444444,\"#bd3786\"],[0.5555555555555556,\"#d8576b\"],[0.6666666666666666,\"#ed7953\"],[0.7777777777777778,\"#fb9f3a\"],[0.8888888888888888,\"#fdca26\"],[1.0,\"#f0f921\"]],\"type\":\"contour\"}],\"heatmapgl\":[{\"colorbar\":{\"outlinewidth\":0,\"ticks\":\"\"},\"colorscale\":[[0.0,\"#0d0887\"],[0.1111111111111111,\"#46039f\"],[0.2222222222222222,\"#7201a8\"],[0.3333333333333333,\"#9c179e\"],[0.4444444444444444,\"#bd3786\"],[0.5555555555555556,\"#d8576b\"],[0.6666666666666666,\"#ed7953\"],[0.7777777777777778,\"#fb9f3a\"],[0.8888888888888888,\"#fdca26\"],[1.0,\"#f0f921\"]],\"type\":\"heatmapgl\"}],\"heatmap\":[{\"colorbar\":{\"outlinewidth\":0,\"ticks\":\"\"},\"colorscale\":[[0.0,\"#0d0887\"],[0.1111111111111111,\"#46039f\"],[0.2222222222222222,\"#7201a8\"],[0.3333333333333333,\"#9c179e\"],[0.4444444444444444,\"#bd3786\"],[0.5555555555555556,\"#d8576b\"],[0.6666666666666666,\"#ed7953\"],[0.7777777777777778,\"#fb9f3a\"],[0.8888888888888888,\"#fdca26\"],[1.0,\"#f0f921\"]],\"type\":\"heatmap\"}],\"histogram2dcontour\":[{\"colorbar\":{\"outlinewidth\":0,\"ticks\":\"\"},\"colorscale\":[[0.0,\"#0d0887\"],[0.1111111111111111,\"#46039f\"],[0.2222222222222222,\"#7201a8\"],[0.3333333333333333,\"#9c179e\"],[0.4444444444444444,\"#bd3786\"],[0.5555555555555556,\"#d8576b\"],[0.6666666666666666,\"#ed7953\"],[0.7777777777777778,\"#fb9f3a\"],[0.8888888888888888,\"#fdca26\"],[1.0,\"#f0f921\"]],\"type\":\"histogram2dcontour\"}],\"histogram2d\":[{\"colorbar\":{\"outlinewidth\":0,\"ticks\":\"\"},\"colorscale\":[[0.0,\"#0d0887\"],[0.1111111111111111,\"#46039f\"],[0.2222222222222222,\"#7201a8\"],[0.3333333333333333,\"#9c179e\"],[0.4444444444444444,\"#bd3786\"],[0.5555555555555556,\"#d8576b\"],[0.6666666666666666,\"#ed7953\"],[0.7777777777777778,\"#fb9f3a\"],[0.8888888888888888,\"#fdca26\"],[1.0,\"#f0f921\"]],\"type\":\"histogram2d\"}],\"histogram\":[{\"marker\":{\"pattern\":{\"fillmode\":\"overlay\",\"size\":10,\"solidity\":0.2}},\"type\":\"histogram\"}],\"mesh3d\":[{\"colorbar\":{\"outlinewidth\":0,\"ticks\":\"\"},\"type\":\"mesh3d\"}],\"parcoords\":[{\"line\":{\"colorbar\":{\"outlinewidth\":0,\"ticks\":\"\"}},\"type\":\"parcoords\"}],\"pie\":[{\"automargin\":true,\"type\":\"pie\"}],\"scatter3d\":[{\"line\":{\"colorbar\":{\"outlinewidth\":0,\"ticks\":\"\"}},\"marker\":{\"colorbar\":{\"outlinewidth\":0,\"ticks\":\"\"}},\"type\":\"scatter3d\"}],\"scattercarpet\":[{\"marker\":{\"colorbar\":{\"outlinewidth\":0,\"ticks\":\"\"}},\"type\":\"scattercarpet\"}],\"scattergeo\":[{\"marker\":{\"colorbar\":{\"outlinewidth\":0,\"ticks\":\"\"}},\"type\":\"scattergeo\"}],\"scattergl\":[{\"marker\":{\"colorbar\":{\"outlinewidth\":0,\"ticks\":\"\"}},\"type\":\"scattergl\"}],\"scattermapbox\":[{\"marker\":{\"colorbar\":{\"outlinewidth\":0,\"ticks\":\"\"}},\"type\":\"scattermapbox\"}],\"scatterpolargl\":[{\"marker\":{\"colorbar\":{\"outlinewidth\":0,\"ticks\":\"\"}},\"type\":\"scatterpolargl\"}],\"scatterpolar\":[{\"marker\":{\"colorbar\":{\"outlinewidth\":0,\"ticks\":\"\"}},\"type\":\"scatterpolar\"}],\"scatter\":[{\"fillpattern\":{\"fillmode\":\"overlay\",\"size\":10,\"solidity\":0.2},\"type\":\"scatter\"}],\"scatterternary\":[{\"marker\":{\"colorbar\":{\"outlinewidth\":0,\"ticks\":\"\"}},\"type\":\"scatterternary\"}],\"surface\":[{\"colorbar\":{\"outlinewidth\":0,\"ticks\":\"\"},\"colorscale\":[[0.0,\"#0d0887\"],[0.1111111111111111,\"#46039f\"],[0.2222222222222222,\"#7201a8\"],[0.3333333333333333,\"#9c179e\"],[0.4444444444444444,\"#bd3786\"],[0.5555555555555556,\"#d8576b\"],[0.6666666666666666,\"#ed7953\"],[0.7777777777777778,\"#fb9f3a\"],[0.8888888888888888,\"#fdca26\"],[1.0,\"#f0f921\"]],\"type\":\"surface\"}],\"table\":[{\"cells\":{\"fill\":{\"color\":\"#EBF0F8\"},\"line\":{\"color\":\"white\"}},\"header\":{\"fill\":{\"color\":\"#C8D4E3\"},\"line\":{\"color\":\"white\"}},\"type\":\"table\"}]},\"layout\":{\"annotationdefaults\":{\"arrowcolor\":\"#2a3f5f\",\"arrowhead\":0,\"arrowwidth\":1},\"autotypenumbers\":\"strict\",\"coloraxis\":{\"colorbar\":{\"outlinewidth\":0,\"ticks\":\"\"}},\"colorscale\":{\"diverging\":[[0,\"#8e0152\"],[0.1,\"#c51b7d\"],[0.2,\"#de77ae\"],[0.3,\"#f1b6da\"],[0.4,\"#fde0ef\"],[0.5,\"#f7f7f7\"],[0.6,\"#e6f5d0\"],[0.7,\"#b8e186\"],[0.8,\"#7fbc41\"],[0.9,\"#4d9221\"],[1,\"#276419\"]],\"sequential\":[[0.0,\"#0d0887\"],[0.1111111111111111,\"#46039f\"],[0.2222222222222222,\"#7201a8\"],[0.3333333333333333,\"#9c179e\"],[0.4444444444444444,\"#bd3786\"],[0.5555555555555556,\"#d8576b\"],[0.6666666666666666,\"#ed7953\"],[0.7777777777777778,\"#fb9f3a\"],[0.8888888888888888,\"#fdca26\"],[1.0,\"#f0f921\"]],\"sequentialminus\":[[0.0,\"#0d0887\"],[0.1111111111111111,\"#46039f\"],[0.2222222222222222,\"#7201a8\"],[0.3333333333333333,\"#9c179e\"],[0.4444444444444444,\"#bd3786\"],[0.5555555555555556,\"#d8576b\"],[0.6666666666666666,\"#ed7953\"],[0.7777777777777778,\"#fb9f3a\"],[0.8888888888888888,\"#fdca26\"],[1.0,\"#f0f921\"]]},\"colorway\":[\"#636efa\",\"#EF553B\",\"#00cc96\",\"#ab63fa\",\"#FFA15A\",\"#19d3f3\",\"#FF6692\",\"#B6E880\",\"#FF97FF\",\"#FECB52\"],\"font\":{\"color\":\"#2a3f5f\"},\"geo\":{\"bgcolor\":\"white\",\"lakecolor\":\"white\",\"landcolor\":\"#E5ECF6\",\"showlakes\":true,\"showland\":true,\"subunitcolor\":\"white\"},\"hoverlabel\":{\"align\":\"left\"},\"hovermode\":\"closest\",\"mapbox\":{\"style\":\"light\"},\"paper_bgcolor\":\"white\",\"plot_bgcolor\":\"#E5ECF6\",\"polar\":{\"angularaxis\":{\"gridcolor\":\"white\",\"linecolor\":\"white\",\"ticks\":\"\"},\"bgcolor\":\"#E5ECF6\",\"radialaxis\":{\"gridcolor\":\"white\",\"linecolor\":\"white\",\"ticks\":\"\"}},\"scene\":{\"xaxis\":{\"backgroundcolor\":\"#E5ECF6\",\"gridcolor\":\"white\",\"gridwidth\":2,\"linecolor\":\"white\",\"showbackground\":true,\"ticks\":\"\",\"zerolinecolor\":\"white\"},\"yaxis\":{\"backgroundcolor\":\"#E5ECF6\",\"gridcolor\":\"white\",\"gridwidth\":2,\"linecolor\":\"white\",\"showbackground\":true,\"ticks\":\"\",\"zerolinecolor\":\"white\"},\"zaxis\":{\"backgroundcolor\":\"#E5ECF6\",\"gridcolor\":\"white\",\"gridwidth\":2,\"linecolor\":\"white\",\"showbackground\":true,\"ticks\":\"\",\"zerolinecolor\":\"white\"}},\"shapedefaults\":{\"line\":{\"color\":\"#2a3f5f\"}},\"ternary\":{\"aaxis\":{\"gridcolor\":\"white\",\"linecolor\":\"white\",\"ticks\":\"\"},\"baxis\":{\"gridcolor\":\"white\",\"linecolor\":\"white\",\"ticks\":\"\"},\"bgcolor\":\"#E5ECF6\",\"caxis\":{\"gridcolor\":\"white\",\"linecolor\":\"white\",\"ticks\":\"\"}},\"title\":{\"x\":0.05},\"xaxis\":{\"automargin\":true,\"gridcolor\":\"white\",\"linecolor\":\"white\",\"ticks\":\"\",\"title\":{\"standoff\":15},\"zerolinecolor\":\"white\",\"zerolinewidth\":2},\"yaxis\":{\"automargin\":true,\"gridcolor\":\"white\",\"linecolor\":\"white\",\"ticks\":\"\",\"title\":{\"standoff\":15},\"zerolinecolor\":\"white\",\"zerolinewidth\":2}}},\"title\":{\"font\":{\"color\":\"#4D5663\"}},\"xaxis\":{\"anchor\":\"y\",\"domain\":[0.0,0.2125],\"gridcolor\":\"#E1E5ED\",\"showgrid\":false,\"tickfont\":{\"color\":\"#4D5663\"},\"title\":{\"font\":{\"color\":\"#4D5663\"},\"text\":\"\"},\"zerolinecolor\":\"#E1E5ED\"},\"yaxis\":{\"anchor\":\"x\",\"domain\":[0.8025,1.0],\"gridcolor\":\"#E1E5ED\",\"showgrid\":false,\"tickfont\":{\"color\":\"#4D5663\"},\"title\":{\"font\":{\"color\":\"#4D5663\"},\"text\":\"\"},\"zerolinecolor\":\"#E1E5ED\"},\"xaxis2\":{\"anchor\":\"y2\",\"domain\":[0.2625,0.475],\"gridcolor\":\"#E1E5ED\",\"showgrid\":false,\"tickfont\":{\"color\":\"#4D5663\"},\"title\":{\"font\":{\"color\":\"#4D5663\"},\"text\":\"\"},\"zerolinecolor\":\"#E1E5ED\"},\"yaxis2\":{\"anchor\":\"x2\",\"domain\":[0.8025,1.0],\"gridcolor\":\"#E1E5ED\",\"showgrid\":false,\"tickfont\":{\"color\":\"#4D5663\"},\"title\":{\"font\":{\"color\":\"#4D5663\"},\"text\":\"\"},\"zerolinecolor\":\"#E1E5ED\"},\"xaxis3\":{\"anchor\":\"y3\",\"domain\":[0.525,0.7375],\"gridcolor\":\"#E1E5ED\",\"showgrid\":false,\"tickfont\":{\"color\":\"#4D5663\"},\"title\":{\"font\":{\"color\":\"#4D5663\"},\"text\":\"\"},\"zerolinecolor\":\"#E1E5ED\"},\"yaxis3\":{\"anchor\":\"x3\",\"domain\":[0.8025,1.0],\"gridcolor\":\"#E1E5ED\",\"showgrid\":false,\"tickfont\":{\"color\":\"#4D5663\"},\"title\":{\"font\":{\"color\":\"#4D5663\"},\"text\":\"\"},\"zerolinecolor\":\"#E1E5ED\"},\"xaxis4\":{\"anchor\":\"y4\",\"domain\":[0.7875,1.0],\"gridcolor\":\"#E1E5ED\",\"showgrid\":false,\"tickfont\":{\"color\":\"#4D5663\"},\"title\":{\"font\":{\"color\":\"#4D5663\"},\"text\":\"\"},\"zerolinecolor\":\"#E1E5ED\"},\"yaxis4\":{\"anchor\":\"x4\",\"domain\":[0.8025,1.0],\"gridcolor\":\"#E1E5ED\",\"showgrid\":false,\"tickfont\":{\"color\":\"#4D5663\"},\"title\":{\"font\":{\"color\":\"#4D5663\"},\"text\":\"\"},\"zerolinecolor\":\"#E1E5ED\"},\"xaxis5\":{\"anchor\":\"y5\",\"domain\":[0.0,0.2125],\"gridcolor\":\"#E1E5ED\",\"showgrid\":false,\"tickfont\":{\"color\":\"#4D5663\"},\"title\":{\"font\":{\"color\":\"#4D5663\"},\"text\":\"\"},\"zerolinecolor\":\"#E1E5ED\"},\"yaxis5\":{\"anchor\":\"x5\",\"domain\":[0.535,0.7325],\"gridcolor\":\"#E1E5ED\",\"showgrid\":false,\"tickfont\":{\"color\":\"#4D5663\"},\"title\":{\"font\":{\"color\":\"#4D5663\"},\"text\":\"\"},\"zerolinecolor\":\"#E1E5ED\"},\"xaxis6\":{\"anchor\":\"y6\",\"domain\":[0.2625,0.475],\"gridcolor\":\"#E1E5ED\",\"showgrid\":false,\"tickfont\":{\"color\":\"#4D5663\"},\"title\":{\"font\":{\"color\":\"#4D5663\"},\"text\":\"\"},\"zerolinecolor\":\"#E1E5ED\"},\"yaxis6\":{\"anchor\":\"x6\",\"domain\":[0.535,0.7325],\"gridcolor\":\"#E1E5ED\",\"showgrid\":false,\"tickfont\":{\"color\":\"#4D5663\"},\"title\":{\"font\":{\"color\":\"#4D5663\"},\"text\":\"\"},\"zerolinecolor\":\"#E1E5ED\"},\"xaxis7\":{\"anchor\":\"y7\",\"domain\":[0.525,0.7375],\"gridcolor\":\"#E1E5ED\",\"showgrid\":false,\"tickfont\":{\"color\":\"#4D5663\"},\"title\":{\"font\":{\"color\":\"#4D5663\"},\"text\":\"\"},\"zerolinecolor\":\"#E1E5ED\"},\"yaxis7\":{\"anchor\":\"x7\",\"domain\":[0.535,0.7325],\"gridcolor\":\"#E1E5ED\",\"showgrid\":false,\"tickfont\":{\"color\":\"#4D5663\"},\"title\":{\"font\":{\"color\":\"#4D5663\"},\"text\":\"\"},\"zerolinecolor\":\"#E1E5ED\"},\"xaxis8\":{\"anchor\":\"y8\",\"domain\":[0.7875,1.0],\"gridcolor\":\"#E1E5ED\",\"showgrid\":false,\"tickfont\":{\"color\":\"#4D5663\"},\"title\":{\"font\":{\"color\":\"#4D5663\"},\"text\":\"\"},\"zerolinecolor\":\"#E1E5ED\"},\"yaxis8\":{\"anchor\":\"x8\",\"domain\":[0.535,0.7325],\"gridcolor\":\"#E1E5ED\",\"showgrid\":false,\"tickfont\":{\"color\":\"#4D5663\"},\"title\":{\"font\":{\"color\":\"#4D5663\"},\"text\":\"\"},\"zerolinecolor\":\"#E1E5ED\"},\"xaxis9\":{\"anchor\":\"y9\",\"domain\":[0.0,0.2125],\"gridcolor\":\"#E1E5ED\",\"showgrid\":false,\"tickfont\":{\"color\":\"#4D5663\"},\"title\":{\"font\":{\"color\":\"#4D5663\"},\"text\":\"\"},\"zerolinecolor\":\"#E1E5ED\"},\"yaxis9\":{\"anchor\":\"x9\",\"domain\":[0.2675,0.465],\"gridcolor\":\"#E1E5ED\",\"showgrid\":false,\"tickfont\":{\"color\":\"#4D5663\"},\"title\":{\"font\":{\"color\":\"#4D5663\"},\"text\":\"\"},\"zerolinecolor\":\"#E1E5ED\"},\"xaxis10\":{\"anchor\":\"y10\",\"domain\":[0.2625,0.475],\"gridcolor\":\"#E1E5ED\",\"showgrid\":false,\"tickfont\":{\"color\":\"#4D5663\"},\"title\":{\"font\":{\"color\":\"#4D5663\"},\"text\":\"\"},\"zerolinecolor\":\"#E1E5ED\"},\"yaxis10\":{\"anchor\":\"x10\",\"domain\":[0.2675,0.465],\"gridcolor\":\"#E1E5ED\",\"showgrid\":false,\"tickfont\":{\"color\":\"#4D5663\"},\"title\":{\"font\":{\"color\":\"#4D5663\"},\"text\":\"\"},\"zerolinecolor\":\"#E1E5ED\"},\"xaxis11\":{\"anchor\":\"y11\",\"domain\":[0.525,0.7375],\"gridcolor\":\"#E1E5ED\",\"showgrid\":false,\"tickfont\":{\"color\":\"#4D5663\"},\"title\":{\"font\":{\"color\":\"#4D5663\"},\"text\":\"\"},\"zerolinecolor\":\"#E1E5ED\"},\"yaxis11\":{\"anchor\":\"x11\",\"domain\":[0.2675,0.465],\"gridcolor\":\"#E1E5ED\",\"showgrid\":false,\"tickfont\":{\"color\":\"#4D5663\"},\"title\":{\"font\":{\"color\":\"#4D5663\"},\"text\":\"\"},\"zerolinecolor\":\"#E1E5ED\"},\"xaxis12\":{\"anchor\":\"y12\",\"domain\":[0.7875,1.0],\"gridcolor\":\"#E1E5ED\",\"showgrid\":false,\"tickfont\":{\"color\":\"#4D5663\"},\"title\":{\"font\":{\"color\":\"#4D5663\"},\"text\":\"\"},\"zerolinecolor\":\"#E1E5ED\"},\"yaxis12\":{\"anchor\":\"x12\",\"domain\":[0.2675,0.465],\"gridcolor\":\"#E1E5ED\",\"showgrid\":false,\"tickfont\":{\"color\":\"#4D5663\"},\"title\":{\"font\":{\"color\":\"#4D5663\"},\"text\":\"\"},\"zerolinecolor\":\"#E1E5ED\"},\"xaxis13\":{\"anchor\":\"y13\",\"domain\":[0.0,0.2125],\"gridcolor\":\"#E1E5ED\",\"showgrid\":false,\"tickfont\":{\"color\":\"#4D5663\"},\"title\":{\"font\":{\"color\":\"#4D5663\"},\"text\":\"\"},\"zerolinecolor\":\"#E1E5ED\"},\"yaxis13\":{\"anchor\":\"x13\",\"domain\":[0.0,0.1975],\"gridcolor\":\"#E1E5ED\",\"showgrid\":false,\"tickfont\":{\"color\":\"#4D5663\"},\"title\":{\"font\":{\"color\":\"#4D5663\"},\"text\":\"\"},\"zerolinecolor\":\"#E1E5ED\"},\"xaxis14\":{\"anchor\":\"y14\",\"domain\":[0.2625,0.475],\"gridcolor\":\"#E1E5ED\",\"showgrid\":false,\"tickfont\":{\"color\":\"#4D5663\"},\"title\":{\"font\":{\"color\":\"#4D5663\"},\"text\":\"\"},\"zerolinecolor\":\"#E1E5ED\"},\"yaxis14\":{\"anchor\":\"x14\",\"domain\":[0.0,0.1975],\"gridcolor\":\"#E1E5ED\",\"showgrid\":false,\"tickfont\":{\"color\":\"#4D5663\"},\"title\":{\"font\":{\"color\":\"#4D5663\"},\"text\":\"\"},\"zerolinecolor\":\"#E1E5ED\"},\"xaxis15\":{\"anchor\":\"y15\",\"domain\":[0.525,0.7375],\"gridcolor\":\"#E1E5ED\",\"showgrid\":false,\"tickfont\":{\"color\":\"#4D5663\"},\"title\":{\"font\":{\"color\":\"#4D5663\"},\"text\":\"\"},\"zerolinecolor\":\"#E1E5ED\"},\"yaxis15\":{\"anchor\":\"x15\",\"domain\":[0.0,0.1975],\"gridcolor\":\"#E1E5ED\",\"showgrid\":false,\"tickfont\":{\"color\":\"#4D5663\"},\"title\":{\"font\":{\"color\":\"#4D5663\"},\"text\":\"\"},\"zerolinecolor\":\"#E1E5ED\"},\"xaxis16\":{\"anchor\":\"y16\",\"domain\":[0.7875,1.0],\"gridcolor\":\"#E1E5ED\",\"showgrid\":false,\"tickfont\":{\"color\":\"#4D5663\"},\"title\":{\"font\":{\"color\":\"#4D5663\"},\"text\":\"\"},\"zerolinecolor\":\"#E1E5ED\"},\"yaxis16\":{\"anchor\":\"x16\",\"domain\":[0.0,0.1975],\"gridcolor\":\"#E1E5ED\",\"showgrid\":false,\"tickfont\":{\"color\":\"#4D5663\"},\"title\":{\"font\":{\"color\":\"#4D5663\"},\"text\":\"\"},\"zerolinecolor\":\"#E1E5ED\"}},                        {\"showLink\": true, \"linkText\": \"Export to plot.ly\", \"plotlyServerURL\": \"https://plot.ly\", \"responsive\": true}                    ).then(function(){\n",
       "                            \n",
       "var gd = document.getElementById('59d0caa4-e92d-46de-9ee0-15d90d435053');\n",
       "var x = new MutationObserver(function (mutations, observer) {{\n",
       "        var display = window.getComputedStyle(gd).display;\n",
       "        if (!display || display === 'none') {{\n",
       "            console.log([gd, 'removed!']);\n",
       "            Plotly.purge(gd);\n",
       "            observer.disconnect();\n",
       "        }}\n",
       "}});\n",
       "\n",
       "// Listen for the removal of the full notebook cells\n",
       "var notebookContainer = gd.closest('#notebook-container');\n",
       "if (notebookContainer) {{\n",
       "    x.observe(notebookContainer, {childList: true});\n",
       "}}\n",
       "\n",
       "// Listen for the clearing of the current output cell\n",
       "var outputEl = gd.closest('.output');\n",
       "if (outputEl) {{\n",
       "    x.observe(outputEl, {childList: true});\n",
       "}}\n",
       "\n",
       "                        })                };                });            </script>        </div>"
      ]
     },
     "metadata": {},
     "output_type": "display_data"
    }
   ],
   "source": [
    "df.scatter_matrix()"
   ]
  }
 ],
 "metadata": {
  "kernelspec": {
   "display_name": "Python 3 (ipykernel)",
   "language": "python",
   "name": "python3"
  },
  "language_info": {
   "codemirror_mode": {
    "name": "ipython",
    "version": 3
   },
   "file_extension": ".py",
   "mimetype": "text/x-python",
   "name": "python",
   "nbconvert_exporter": "python",
   "pygments_lexer": "ipython3",
   "version": "3.11.7"
  }
 },
 "nbformat": 4,
 "nbformat_minor": 1
}
